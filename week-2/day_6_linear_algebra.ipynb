{
 "cells": [
  {
   "cell_type": "markdown",
   "metadata": {},
   "source": [
    "Copyright &copy; of Ajay Tech @ https://ajaytech.co"
   ]
  },
  {
   "cell_type": "markdown",
   "metadata": {},
   "source": [
    "<h1>Linear Algebra for Machine Learning</h1>"
   ]
  },
  {
   "cell_type": "markdown",
   "metadata": {},
   "source": [
    "\n",
    "<li> <b> <a href=\"#intro\">Intro </a> </b></li>\n",
    "<ul> \n",
    "    <li> <em> <a href=\"#what-is-linear-algebra\">What is Linear Algebra ? </a> </em></li>\n",
    "    <li> <em> <a href=\"#why-should-you-learn-linear-algebra\"> Why should you learn Linear Algebra ? </a> </em></li>   \n",
    "    <li> <em> <a href=\"#our-approach-to-linear-algebra\"> Our Approach to Linear Algebra </a></em></li>   \n",
    "</ul>\n",
    "<li> <b> <a href=\"#linear-algebra-basics\"> Linear Algebra Basics </a></b></li> \n",
    "    <ul> \n",
    "        <li>  <em> <a href=\"#vectors\"> Vectors </a> </em> </li>   \n",
    "        <li>  <em> <a href=\"#broadcasting\"> Broadcasting </a> </em> </li>           \n",
    "        <li>  <em> <a href=\"#matrices\"> Matrices </a> </em></li>       \n",
    "        <li>  <em> <a href=\"#operations-on-vectors-and-matrices\"> Operations on Vectors & Matrices </a> </em> </li>     \n",
    "    </ul>\n",
    "<li>  <b> <a href=\"#dot-product\"> Dot Product </a></b></li>    \n",
    "        <ul>\n",
    "              <li>  <em> <a href=\"#projection\"> Projection </a></em></li>  \n",
    "              <li>  <em> <a href=\"#directional-multiplication\"> Directional Multiplication </a></em></li>  \n",
    "              <li>  <em> <a href=\"#geometric-interpretation\"> Geometric Interpretation </a></em></li>  \n",
    "              <li>  <em> <a href=\"#dot-product-of-matrices\"> Dot Product of Matrices </a></em></li>      \n",
    "              <li>  <em> <a href=\"#dot-product-in-machine-learning\"> Dot Product in Machine Learning </a></em></li>               \n",
    "    </ul>\n",
    "<li>  <b> <a href=\"#miscellenous-topics\"> Miscelleneous Topics </a></b></li>\n",
    "<ul>\n",
    "    <li>  <em> <a href=\"#linear-equations\"> Linear Equations </a> </em> </li>     \n",
    "        <li>  <em> <a href=\"#matrix-inverse\"> Matrix Inverse </a> </em> </li>\n",
    "        <li>  <em> <a href=\"#further-topics\"> Further Topics </a> </em> </li>\n",
    "    </ul>\n",
    "\n",
    "\n",
    "    "
   ]
  },
  {
   "cell_type": "markdown",
   "metadata": {},
   "source": [
    "<div id=\"intro\"/> <h2> Intro </h2>"
   ]
  },
  {
   "cell_type": "markdown",
   "metadata": {},
   "source": [
    "<div id=\"what-is-linear-algebra\"/><h3>  What is Linear Algebra </h3>"
   ]
  },
  {
   "cell_type": "markdown",
   "metadata": {},
   "source": [
    "When you want to work with huge volumes of data that is similar in nature, Linear Algebra is helpful. Data Science & Machine Learning just happens to be some of the areas where we need to deal with high volumes of homogeneous data. However, these are not the only areas that use Linear Algebra. Digital Signal Processing, Computer Graphics, structural engineering are some of the other areas in engineering that use Linear Algebra very heavily. "
   ]
  },
  {
   "cell_type": "markdown",
   "metadata": {},
   "source": [
    "<div id=\"why-should-you-learn-linear-algebra\" /><h3> Why should you learn Linear Algebra </h3>"
   ]
  },
  {
   "cell_type": "markdown",
   "metadata": {},
   "source": [
    "Everybody starting off with Machine Learning should have atleast a fair idea of Linear Algebra. In Machine Learning, here are some of the areas where Linear Algebra is used. In addition, Linear Albegra is almost exclusively the run-time math engine behind Deep Learning. \n",
    "\n",
    "For starters, here are some uses cases where Linear Algebra is used in ML. \n",
    "\n",
    "<li> <b>Image Processing</b> </li>\n",
    "An Image is represented in the computer using a sequence of numbers. Each of these numbers in the sequence could represent the intensity of the pixel or the color of the pixel. So, just to represent this kind of data you need matrices. And any further processing of this data ( like transformations, summations etc ) require linear algebra. \n",
    "\n",
    "<li> <b> Linear Regression </b> </li>\n",
    "Linear regression is an ML technique used to fit (approximate) data points on a linear line/plane. For example, if you want to find out how the median price of a house is dependent on parameters like crime rate, pollution, tax rates etc, simple linear algebra techniques like matrix inverse, matrix transpose and dot product can solve the problem. \n",
    "\n",
    "<pre>\n",
    "     crim zn indus chas   nox    rm  age    dis rad tax ptratio      b lstat medv\n",
    "1 0.00632 18  2.31    0 0.538 6.575 65.2 4.0900   1 296    15.3 396.90  4.98 24.0\n",
    "2 0.02731  0  7.07    0 0.469 6.421 78.9 4.9671   2 242    17.8 396.90  9.14 21.6\n",
    "3 0.02729  0  7.07    0 0.469 7.185 61.1 4.9671   2 242    17.8 392.83  4.03 34.7\n",
    "4 0.03237  0  2.18    0 0.458 6.998 45.8 6.0622   3 222    18.7 394.63  2.94 33.4\n",
    "5 0.06905  0  2.18    0 0.458 7.147 54.2 6.0622   3 222    18.7 396.90  5.33 36.2\n",
    "6 0.02985  0  2.18    0 0.458 6.430 58.7 6.0622   3 222    18.7 394.12  5.21 28.7\n",
    "</pre>\n",
    "\n",
    "<li> <b> Language Processing </b> </li>\n",
    "Sparse matrices are extensively used in language processing to represent word count. With the sample along the x-axis and the word count across the y-axis, even for a small data set the size of the sparse matrix could get as big as 10000 x 10000. However, most of the matrix is just zeros ( and hence called sparse matrix ). So, some of the techniques from linear algebra are used to efficient work with these matrices to avoid space/time complexity that might otherwise result from these huge matrices. \n",
    "\n",
    "\n",
    "<img src=\"./pics/sparse_matrix.png\"/>\n",
    "\n",
    "There are many more examples, that we will see later like \n",
    "<li> Principal Component Analyzis ( PCA ) for dimensionality reduction of higher dimensional data</li>\n",
    "<li> Singular Value Decomposition ( SVD ) for processing sparse matrices in recommender systems and NLP</li>\n",
    "<li> One Hot Encoding for encoding categorical data to numeric data.</li>\n",
    "\n",
    "etc. Not to mention deep learning of course. \n"
   ]
  },
  {
   "cell_type": "markdown",
   "metadata": {},
   "source": [
    "<div id=\"our-approach-to-linear-algebra\"/><h3> Our approach to learn Linear Algebra </h3>"
   ]
  },
  {
   "cell_type": "markdown",
   "metadata": {},
   "source": [
    "Linear algebra is a very broad subject that has applications across a wide variety of science and engineering areas. It is generally taken as a formal course in atleast 1 semester to cover it generically. However, we will do a shallow learning of just enough Linear Algebra to cover only those topics that are necessary to understand and solve the particular ML problem. \n",
    "\n",
    "For example, we will not learn about SVD until we come to Naive Bayes or some other Language Processing Algorithms. Similarly, we will lean inverse and transpose of a matrix only when we solve linear regression problems. \n",
    "\n",
    "For now, we will just be learning the basics of Linear Algebra."
   ]
  },
  {
   "cell_type": "markdown",
   "metadata": {},
   "source": [
    "<div id=\"linear-algebra-basics\"/> <h2> Linear Algebra Basics </h2>"
   ]
  },
  {
   "cell_type": "markdown",
   "metadata": {},
   "source": [
    "We will cover the fundamental building blocks of linear algebra, which are vectors and matrices. Higher dimensional data structures like tensors are also important, but for now, we will do with just vectors and matrices."
   ]
  },
  {
   "cell_type": "markdown",
   "metadata": {},
   "source": [
    "<div id=\"vectors\"/> <h3> Vectors </h3>"
   ]
  },
  {
   "cell_type": "markdown",
   "metadata": {},
   "source": [
    "Before we understand a vector, we have to understand what a <em> scalar </em> is. Let's take a simple example. \n",
    "\n",
    "Say a bunch of students are taking home schooling and they are trying to decide which teacher to select. Each teacher has specific skillsets and have proven to boost the performance of students by a certain percentage. Let's take the simplest case here. A single student \"Ajay\" gets an average CGPA of 3.0 . And a teacher t1 can boost the performance by 20 % . \n",
    "\n",
    "What is the expected CGPA of Ajay, after getting coached from teacher 1 ?\n",
    "\n",
    "<img src=\"./pics/scalar-x-scalar.png\"/>\n",
    "\n",
    "That's right - 3.6 . It is a simple multiplication of 2 numbers. How do you program it ?"
   ]
  },
  {
   "cell_type": "code",
   "execution_count": 6,
   "metadata": {},
   "outputs": [
    {
     "data": {
      "text/plain": [
       "3.6"
      ]
     },
     "execution_count": 6,
     "metadata": {},
     "output_type": "execute_result"
    }
   ],
   "source": [
    "student_1 = 3.0\n",
    "teacher_1 = 1.2\n",
    "\n",
    "student_1 = student_1 * teacher_1\n",
    "round( student_1, 2 )"
   ]
  },
  {
   "cell_type": "markdown",
   "metadata": {},
   "source": [
    "Say, the student Ajay has 3 subjects - Math, Physics and Chemistry. What will be the individual performance boost to each of the subjects ?"
   ]
  },
  {
   "cell_type": "markdown",
   "metadata": {},
   "source": [
    "<img src=\"./pics/vector-x-scalar.png\"/>"
   ]
  },
  {
   "cell_type": "markdown",
   "metadata": {},
   "source": [
    "This seems simple enough as well. However, there is a concept called Broadcasting that is happening here. Although the multiplication process seems intuitive enough, we have to understand the way the multiplication is happening here."
   ]
  },
  {
   "cell_type": "markdown",
   "metadata": {},
   "source": [
    "<div id=\"broadcasting\"/> <h3> Broadcasting </h3>"
   ]
  },
  {
   "cell_type": "markdown",
   "metadata": {},
   "source": [
    "Look at the picture below. Check out how the scalar is actually extended ( broadcasted ) to become a vector. "
   ]
  },
  {
   "cell_type": "markdown",
   "metadata": {},
   "source": [
    "<img src=\"./pics/broadcast-scalar-vector.png\"/>"
   ]
  },
  {
   "cell_type": "markdown",
   "metadata": {},
   "source": [
    "A vector can also be multiplied by a vector. For example, if the teacher can be ranked based on their specific boost scores across subjects, then we essentially have a vector x vector multiplication. "
   ]
  },
  {
   "cell_type": "markdown",
   "metadata": {},
   "source": [
    "<img src=\"./pics/vector-multiplication.png\"/>"
   ]
  },
  {
   "cell_type": "code",
   "execution_count": 5,
   "metadata": {},
   "outputs": [
    {
     "data": {
      "text/plain": [
       "array([3.6 , 2.75, 2.6 ])"
      ]
     },
     "execution_count": 5,
     "metadata": {},
     "output_type": "execute_result"
    }
   ],
   "source": [
    "import numpy as np\n",
    "\n",
    "student_1 = np.array([3.0,2.5,2.0])\n",
    "teacher_1 = np.array([1.2,1.1,1.3])\n",
    "\n",
    "result = student_1 * teacher_1\n",
    "result"
   ]
  },
  {
   "cell_type": "markdown",
   "metadata": {},
   "source": [
    "<div id=\"matrix\"/> <h3> Matrix </h3>"
   ]
  },
  {
   "cell_type": "markdown",
   "metadata": {},
   "source": [
    "Matrices extend vectors across another dimension. In our example, say it is not just 1 student, but a bunch of them. How do you represent data now ? "
   ]
  },
  {
   "cell_type": "markdown",
   "metadata": {},
   "source": [
    "<img src=\"./pics/vector_1.png\" />\n",
    "<img src=\"./pics/matrix_1.png\" />"
   ]
  },
  {
   "cell_type": "markdown",
   "metadata": {},
   "source": [
    "Now, let's go back to the simpler case of a teacher boosting the performance of any student in any subject by say 20 % . How do you represent it in linear algebra ?"
   ]
  },
  {
   "cell_type": "markdown",
   "metadata": {},
   "source": [
    "<img src=\"./pics/matrix-scalar.png\"/>"
   ]
  },
  {
   "cell_type": "markdown",
   "metadata": {},
   "source": [
    "Now, how do you do this multiplication ? Same as before - except the broadcasting happens across the entire matrix. "
   ]
  },
  {
   "cell_type": "markdown",
   "metadata": {},
   "source": [
    "<img src=\"./pics/matrix-broadcasting.png\"/>"
   ]
  },
  {
   "cell_type": "code",
   "execution_count": 10,
   "metadata": {},
   "outputs": [
    {
     "data": {
      "text/plain": [
       "array([[3.6 , 3.  , 2.4 ],\n",
       "       [3.72, 2.4 , 3.  ],\n",
       "       [3.  , 3.6 , 3.72]])"
      ]
     },
     "execution_count": 10,
     "metadata": {},
     "output_type": "execute_result"
    }
   ],
   "source": [
    "students = np.array([[3.0,2.5,2.0],\n",
    "                     [3.1,2.0,2.5],\n",
    "                     [2.5,3.0,3.1]])\n",
    "teacher_1 = 1.2\n",
    "\n",
    "results = students * teacher_1\n",
    "results"
   ]
  },
  {
   "cell_type": "markdown",
   "metadata": {},
   "source": [
    "<div id=\"operations-on-vectors-and-matrices\"/> <h3> Operations on vectors and matrices </h3>"
   ]
  },
  {
   "cell_type": "markdown",
   "metadata": {},
   "source": [
    "While we have been doing just multiplications all along, the same logic applies to additions, substractions and divisions. Moving along, let's take some more examples. "
   ]
  },
  {
   "cell_type": "markdown",
   "metadata": {},
   "source": [
    "Say, there are 3 students and the teacher can have separate rating for each subject. In which case, the scenario becomes a matrix x vector multiplication."
   ]
  },
  {
   "cell_type": "markdown",
   "metadata": {},
   "source": [
    "<img align=\"center\" src=\"./pics/matrix-vector-multiplication.png\"/>"
   ]
  },
  {
   "cell_type": "code",
   "execution_count": 12,
   "metadata": {},
   "outputs": [
    {
     "data": {
      "text/plain": [
       "array([[3.6 , 2.75, 2.6 ],\n",
       "       [3.72, 2.2 , 3.25],\n",
       "       [3.  , 3.3 , 4.03]])"
      ]
     },
     "execution_count": 12,
     "metadata": {},
     "output_type": "execute_result"
    }
   ],
   "source": [
    "students = np.array([[3.0,2.5,2.0],\n",
    "                     [3.1,2.0,2.5],\n",
    "                     [2.5,3.0,3.1]])\n",
    "teacher_1 = np.array([1.2,1.1,1.3])\n",
    "\n",
    "results = students * teacher_1\n",
    "results"
   ]
  },
  {
   "cell_type": "markdown",
   "metadata": {},
   "source": [
    "And finally, we can very well multiply a matrix with a matrix. For example, there are 3 students and 3 teachers each with individual subject rating. How do we calculate the net results ?"
   ]
  },
  {
   "cell_type": "markdown",
   "metadata": {},
   "source": [
    "<img src=\"./pics/matrix-matrix-multiplication.png\" />"
   ]
  },
  {
   "cell_type": "code",
   "execution_count": 14,
   "metadata": {},
   "outputs": [
    {
     "data": {
      "text/plain": [
       "array([[3.6 , 2.75, 2.6 ],\n",
       "       [3.72, 2.2 , 3.25],\n",
       "       [3.  , 3.3 , 4.03]])"
      ]
     },
     "execution_count": 14,
     "metadata": {},
     "output_type": "execute_result"
    }
   ],
   "source": [
    "students = np.array([[3.0,2.5,2.0],\n",
    "                     [3.1,2.0,2.5],\n",
    "                     [2.5,3.0,3.1]])\n",
    "teachers = np.array([[1.5,1.1,1.3],\n",
    "                     [1.3,1.1,1.6],\n",
    "                     [1.3,1.1,1.2]])\n",
    "\n",
    "results = students * teacher_1\n",
    "results"
   ]
  },
  {
   "cell_type": "markdown",
   "metadata": {},
   "source": [
    "<div id=\"dot-product\"/> <h3> Dot Product </h3>"
   ]
  },
  {
   "cell_type": "markdown",
   "metadata": {},
   "source": [
    "Dot product is a bit difficult to grasp initially. Let's drop down to a single dimension to understand the concept better. \n",
    "\n",
    "<b> Scenario 1 - </b>\n",
    "For example, think about a tennis ball moving at 30 km/hr and you are applying a force that will increase its speed by 4 times. What will be the speed of the ball, after applying the force ?"
   ]
  },
  {
   "cell_type": "markdown",
   "metadata": {},
   "source": [
    "<img src=\"./pics/dot-product-scalar-multiplication.png\"/>"
   ]
  },
  {
   "cell_type": "markdown",
   "metadata": {},
   "source": [
    "Simple, you multiply the 2. "
   ]
  },
  {
   "cell_type": "code",
   "execution_count": 2,
   "metadata": {},
   "outputs": [
    {
     "data": {
      "text/plain": [
       "120"
      ]
     },
     "execution_count": 2,
     "metadata": {},
     "output_type": "execute_result"
    }
   ],
   "source": [
    "speed = 30\n",
    "mult  = 4\n",
    "\n",
    "net_speed = speed * mult\n",
    "net_speed"
   ]
  },
  {
   "cell_type": "markdown",
   "metadata": {},
   "source": [
    "If we can vectorize this, we can put the same calculation as "
   ]
  },
  {
   "cell_type": "code",
   "execution_count": 6,
   "metadata": {},
   "outputs": [
    {
     "data": {
      "text/plain": [
       "120"
      ]
     },
     "execution_count": 6,
     "metadata": {},
     "output_type": "execute_result"
    }
   ],
   "source": [
    "speed = np.array([30,0])\n",
    "mult  = np.array([4 ,0])\n",
    "\n",
    "net_speed = speed.dot(mult)\n",
    "net_speed"
   ]
  },
  {
   "cell_type": "markdown",
   "metadata": {},
   "source": [
    "Essentially, we are saying that speed is 30 kmph in the x direction and 0 in the y direction. Similarly, force multiplier is 4 times in the x direction and 0 in the y direction. So, a dot product is essentially multiplication, but we are going to see how it is different. "
   ]
  },
  {
   "cell_type": "markdown",
   "metadata": {},
   "source": [
    "<b> Scenario 2 </b> Say the force is being applied on the ball at a 45 <sup> o </sup> angle. What is the net speed of the ball now ? In order to answer this question, we have to look at projections. \n",
    "\n",
    "<div id=\"projection\"/>\n",
    "<b> <em> What is a Projection </em> </b>\n",
    "\n",
    "In simple terms,it is quite literally the projection of a line onto another. "
   ]
  },
  {
   "cell_type": "markdown",
   "metadata": {},
   "source": [
    "<img src=\"./pics/projection.png\"/>"
   ]
  },
  {
   "cell_type": "markdown",
   "metadata": {},
   "source": [
    "So, in this case, a force multiplier of 4 times at a 45 <sup> o </sup> angle to the x-axis, will result in  4 x cos(45) = 4 x 0.707 = 2.828 in the x-axis"
   ]
  },
  {
   "cell_type": "markdown",
   "metadata": {},
   "source": [
    "<div id=\"directional-multiplication\"/>\n",
    "<b> <em> Directional Multiplication</em> </b>"
   ]
  },
  {
   "cell_type": "markdown",
   "metadata": {},
   "source": [
    "When the ball is hit at an angle, you would want to find out the effect of it in a particular direction. Dot Product is essentially this - Directional Multiplication"
   ]
  },
  {
   "cell_type": "markdown",
   "metadata": {},
   "source": [
    "<b> a . b = |a| x |b| x cos(θ) </b>\n",
    "\n",
    "Where \n",
    "\n",
    "<em>a, b </em> are vectors\n",
    "\n",
    "<em>|a|  </em> represents the magnitude of a\n",
    "\n",
    "<em> θ </em> is the angle between a and b"
   ]
  },
  {
   "cell_type": "markdown",
   "metadata": {},
   "source": [
    "<div id=\"geometric-interpretation\"/>\n",
    "<b> <em> Gemoetrically Speaking </em> </b> "
   ]
  },
  {
   "cell_type": "markdown",
   "metadata": {},
   "source": [
    "The same dot product can be defined geometrically using co-ordinates."
   ]
  },
  {
   "cell_type": "markdown",
   "metadata": {},
   "source": [
    "<img src=\"./pics/dot-product-geometrically.png\"/>"
   ]
  },
  {
   "cell_type": "markdown",
   "metadata": {},
   "source": [
    "In this case, the vectors become"
   ]
  },
  {
   "cell_type": "code",
   "execution_count": 10,
   "metadata": {},
   "outputs": [
    {
     "data": {
      "text/plain": [
       "84.83999999999999"
      ]
     },
     "execution_count": 10,
     "metadata": {},
     "output_type": "execute_result"
    }
   ],
   "source": [
    "speed = np.array([30,0])\n",
    "mult  = np.array([2.828 ,2.828])\n",
    "\n",
    "net_speed = speed.dot(mult)\n",
    "net_speed"
   ]
  },
  {
   "cell_type": "markdown",
   "metadata": {},
   "source": [
    "So, the net speed now becomes 84.83 . Whereas, if the force was in the same direction, the net speed is 120. 120 is the full effect of the force. 84.83 is a partial effect of the force. So, the dot product of 2 vectors gives the <b> <em> directional multiplication </em> </b> of one vector with another."
   ]
  },
  {
   "cell_type": "markdown",
   "metadata": {},
   "source": [
    "<b> Scenario 3 </b> \n",
    "What if the ball is moving at an angle - say 30 <sup> o </sup> ? What would be the net speed based on the new vectors ?"
   ]
  },
  {
   "cell_type": "markdown",
   "metadata": {},
   "source": [
    "<img src=\"./pics/dot-product-vectors.png\"/>"
   ]
  },
  {
   "cell_type": "markdown",
   "metadata": {},
   "source": [
    "We can evaluate it in 2 ways.\n",
    "1. Using cosines\n",
    "2. Using co-ordinates"
   ]
  },
  {
   "cell_type": "code",
   "execution_count": 17,
   "metadata": {},
   "outputs": [
    {
     "data": {
      "text/plain": [
       "115.9110991546882"
      ]
     },
     "execution_count": 17,
     "metadata": {},
     "output_type": "execute_result"
    }
   ],
   "source": [
    "import math\n",
    "abs_speed = 30\n",
    "abs_mult  = 4\n",
    "angle     = 15\n",
    "\n",
    "net_speed = abs_speed * abs_mult * math.cos(math.radians(angle))\n",
    "net_speed"
   ]
  },
  {
   "cell_type": "code",
   "execution_count": 18,
   "metadata": {},
   "outputs": [
    {
     "data": {
      "text/plain": [
       "115.89143999999999"
      ]
     },
     "execution_count": 18,
     "metadata": {},
     "output_type": "execute_result"
    }
   ],
   "source": [
    "speed = np.array ( [25.98, 15])\n",
    "mult  = np.array ( [2.828, 2.828])\n",
    "\n",
    "net_speed = speed.dot(mult)\n",
    "net_speed"
   ]
  },
  {
   "cell_type": "markdown",
   "metadata": {},
   "source": [
    "As you can see, both of them should produce the same results. "
   ]
  },
  {
   "cell_type": "markdown",
   "metadata": {},
   "source": [
    "<div id=\"dot-product-of-matrices\"/>\n",
    "<b> <em> Dot Products of Matrices </em> </b>"
   ]
  },
  {
   "cell_type": "markdown",
   "metadata": {},
   "source": [
    "When you evaluate the dot product of multiple vectors together, it is a dot product of matrices. Let's revisit the students and teachers example to see how a dot product of matrices look like. "
   ]
  },
  {
   "cell_type": "markdown",
   "metadata": {},
   "source": [
    "What if you want to evaluate the overall boost ( across all subjects ) by teacher ? This is where dot product comes in. "
   ]
  },
  {
   "cell_type": "markdown",
   "metadata": {},
   "source": [
    "<img src=\"./pics/dot-product-1.png\"/>"
   ]
  },
  {
   "cell_type": "markdown",
   "metadata": {},
   "source": [
    "As you can see, the resulting matrix shows the overall improvement across subjects for each student by teacher. Since, we are looking at the overall performance, the \"subjects\" dimension is gone and we only have 2 dimensions now in the resultant matrix - student and teacher. A better way to represent this is with the following picture. "
   ]
  },
  {
   "cell_type": "markdown",
   "metadata": {},
   "source": [
    "<img src=\"./pics/dot-product.png\"/>"
   ]
  },
  {
   "cell_type": "code",
   "execution_count": 18,
   "metadata": {},
   "outputs": [
    {
     "data": {
      "text/plain": [
       "array([[ 9.85,  9.85],\n",
       "       [10.1 , 10.23],\n",
       "       [11.08, 11.51]])"
      ]
     },
     "execution_count": 18,
     "metadata": {},
     "output_type": "execute_result"
    }
   ],
   "source": [
    "students = np.array([[3.0,2.5,2.0],\n",
    "                     [3.1,2.0,2.5],\n",
    "                     [2.5,3.0,3.1]])\n",
    "teachers = np.array([[1.5,1.3],\n",
    "                     [1.1,1.1],\n",
    "                     [1.3,1.6]])\n",
    "\n",
    "results = np.dot(students,teachers)\n",
    "results"
   ]
  },
  {
   "cell_type": "markdown",
   "metadata": {},
   "source": [
    "You cannot perform dot product across all different matrices. For example, in this case, if you did not have the performance metrics across all the subjects ( say you just had math and physics for each of the teachers), you would not be able to perform the dot product. Numpy would complain that the shapes of the source and target matrices are not aligned"
   ]
  },
  {
   "cell_type": "code",
   "execution_count": 19,
   "metadata": {},
   "outputs": [
    {
     "ename": "ValueError",
     "evalue": "shapes (3,3) and (2,2) not aligned: 3 (dim 1) != 2 (dim 0)",
     "output_type": "error",
     "traceback": [
      "\u001b[1;31m---------------------------------------------------------------------------\u001b[0m",
      "\u001b[1;31mValueError\u001b[0m                                Traceback (most recent call last)",
      "\u001b[1;32m<ipython-input-19-b77490298670>\u001b[0m in \u001b[0;36m<module>\u001b[1;34m\u001b[0m\n\u001b[0;32m      5\u001b[0m                      [1.1,1.1]])\n\u001b[0;32m      6\u001b[0m \u001b[1;33m\u001b[0m\u001b[0m\n\u001b[1;32m----> 7\u001b[1;33m \u001b[0mresults\u001b[0m \u001b[1;33m=\u001b[0m \u001b[0mnp\u001b[0m\u001b[1;33m.\u001b[0m\u001b[0mdot\u001b[0m\u001b[1;33m(\u001b[0m\u001b[0mstudents\u001b[0m\u001b[1;33m,\u001b[0m\u001b[0mteachers\u001b[0m\u001b[1;33m)\u001b[0m\u001b[1;33m\u001b[0m\u001b[1;33m\u001b[0m\u001b[0m\n\u001b[0m\u001b[0;32m      8\u001b[0m \u001b[0mresults\u001b[0m\u001b[1;33m\u001b[0m\u001b[1;33m\u001b[0m\u001b[0m\n",
      "\u001b[1;31mValueError\u001b[0m: shapes (3,3) and (2,2) not aligned: 3 (dim 1) != 2 (dim 0)"
     ]
    }
   ],
   "source": [
    "students = np.array([[3.0,2.5,2.0],\n",
    "                     [3.1,2.0,2.5],\n",
    "                     [2.5,3.0,3.1]])\n",
    "teachers = np.array([[1.5,1.3],\n",
    "                     [1.1,1.1]])\n",
    "\n",
    "results = np.dot(students,teachers)\n",
    "results"
   ]
  },
  {
   "cell_type": "markdown",
   "metadata": {},
   "source": [
    "Dot products are used extensively in machine learning and it makes sense to spend some time understanding the meaning of dot product. There are a couple of ways to interpret dot product in layman terms. Let's see some examples. "
   ]
  },
  {
   "cell_type": "markdown",
   "metadata": {},
   "source": [
    "<div id=\"dot-product-in-machine-learning\"/> <h4> Dot Product in Machine Learning </h4>"
   ]
  },
  {
   "cell_type": "markdown",
   "metadata": {},
   "source": [
    "Imagine the US army, trying to ascertain if an enemy location is in a friendly neighbourhood or a hostile neighbourhood. There would already be a mapping available of the location and the drone identifies the target location sends it back to the HQ. Now, what is the probability that the target is a friendly or a hostile ? \n",
    "\n",
    "Or, say we are mapping urban and sub-urban areas of a city. Given a new set of co-ordinates, can you identify if the location is urban or sub-urban ?"
   ]
  },
  {
   "cell_type": "markdown",
   "metadata": {},
   "source": [
    "<img src=\"./pics/dot-product-importance.png\"/>"
   ]
  },
  {
   "cell_type": "markdown",
   "metadata": {},
   "source": [
    "Finding the dot product between 2 vectors tell us a lot about how similar they are. \n",
    "\n",
    "\\begin{equation*} cos \\phi = \n",
    "\\frac{a.b}{|a| x |b|}\n",
    "\\end{equation*}\n",
    "\n",
    "Smaller the angle, more the similarity."
   ]
  },
  {
   "cell_type": "markdown",
   "metadata": {},
   "source": [
    "<div id=\"linear-equations\"/> <h3> Linear Equations </h3>"
   ]
  },
  {
   "cell_type": "markdown",
   "metadata": {},
   "source": [
    "Linear equations can be very easily represented using matrices. Let's see a couple of examples. Continuing with the same students example above, say they apply to the University and each University has their own system of giving weightage to each of the subjects. For example, a certain University gives 30% weightage to math 40% to Physics and 30% to Chemistry. Finally, they give a consolidated CGPA that determines entry to that university. \n",
    "\n",
    "For example, "
   ]
  },
  {
   "cell_type": "markdown",
   "metadata": {},
   "source": [
    "<img src=\"./pics/cgpa_percentages.png\"/>"
   ]
  },
  {
   "cell_type": "markdown",
   "metadata": {},
   "source": [
    "From this picture it is obvious that this university is giving weightages as follows\n",
    "\n",
    "<ul>\n",
    "    <li>Math - 25 %  </li>\n",
    "    <li>Phys - 35 % </li>\n",
    "    <li> Chem - 50 % </li>\n",
    "</ul>\n",
    "\n",
    "What if we didn't know the weightages, but knew the final cumulative CGPA ? Like so.."
   ]
  },
  {
   "cell_type": "markdown",
   "metadata": {},
   "source": [
    "<img src=\"./pics/linear-equation-setup.png\"/>"
   ]
  },
  {
   "cell_type": "markdown",
   "metadata": {},
   "source": [
    "Our goal is to now calculate the weightages by subject. In terms of linear equations, it can be put as follows. \n",
    "\n",
    "\\begin{align}\n",
    "3.0 x + 2.5 y + 2.0 z & = 2.425 \\\\\n",
    "3.1 x + 2.0 y + 2.5 z & = 2.475 \\\\\n",
    "2.5 x + 3.0 y + 3.1 z & = 2.915 \\\\\n",
    "\\end{align}"
   ]
  },
  {
   "cell_type": "markdown",
   "metadata": {},
   "source": [
    "How do you solve this equation ? Manually, using elimination. Or using matrices. We are more interested in the matrix model because it is more scalable. Let me show you how."
   ]
  },
  {
   "cell_type": "markdown",
   "metadata": {},
   "source": [
    "<img src=\"./pics/cgpa-weightage-dot-product.png\"/>"
   ]
  },
  {
   "cell_type": "markdown",
   "metadata": {},
   "source": [
    "In terms of matrices, this equation can be written as"
   ]
  },
  {
   "cell_type": "markdown",
   "metadata": {},
   "source": [
    "A . X = C\n",
    "\n",
    "where \n",
    "<ul>\n",
    "    <li> A = CGPA matrix </li>\n",
    "    <li> X = Weightage matrix </li>\n",
    "    <li> C = Cumulative matrix     </li>\n",
    "</ul>\n",
    "\n",
    "X = A<sup> -1 </sup> . C"
   ]
  },
  {
   "cell_type": "markdown",
   "metadata": {},
   "source": [
    "<div id=\"matrix-inverse\"/> <h4> Matrix Inverse </h4>"
   ]
  },
  {
   "cell_type": "markdown",
   "metadata": {},
   "source": [
    "If A is a matrix,  A<sup> -1 </sup> is called the inverse of a matrix. Think of matrix inverse , mathematically, as a reciprocal. If you take a number say 7, the reciprocal is 1 divided by that number. \n",
    "\n",
    "\\begin{equation*}\n",
    "reciprocal ( 7 ) = \n",
    "\\frac{1}{7}\n",
    "\\end{equation*}\n",
    "\n",
    "Similarly, in linear algebra, the reciprocal of a matrix is called the <b> <em> inverse </em> </b> of a matrix. Numpy gives you readymade function for this as <b> <em>linalg.inv ( ) </em> </b>\n"
   ]
  },
  {
   "cell_type": "code",
   "execution_count": 9,
   "metadata": {},
   "outputs": [
    {
     "data": {
      "text/plain": [
       "array([0.25, 0.35, 0.4 ])"
      ]
     },
     "execution_count": 9,
     "metadata": {},
     "output_type": "execute_result"
    }
   ],
   "source": [
    "A = np.array([[3.0,2.5,2.0],\n",
    "              [3.1,2.0,2.5],\n",
    "              [2.5,3.0,3.1]])\n",
    "\n",
    "C = np.array([2.425,2.475,2.915])\n",
    "\n",
    "X = np.linalg.inv(A).dot(C)\n",
    "X"
   ]
  },
  {
   "cell_type": "markdown",
   "metadata": {},
   "source": [
    "<div id=\"further-topics\"/> <h4> Further Topics </h4>"
   ]
  },
  {
   "cell_type": "markdown",
   "metadata": {},
   "source": [
    "There are many other matrix operations like \n",
    "-  Transpose\n",
    "-  Trace\n",
    "-  Norm\n",
    "-  Determinant\n",
    "-  Rank\n",
    "-  Extensions\n",
    "\n",
    "and many different types of matrices like\n",
    "- Sparse Matrices\n",
    "- Square and Symmetric Matrices\n",
    "- Triangular, diagonal and Orthogonal Matrices\n",
    "- Identity Matrix\n",
    "\n",
    "We will also look at a couple of factorization methods on matrices like\n",
    "- Matrix Decomposition\n",
    "- Eigen Decomposition\n",
    "- Singular Value Decomposition ( SVD )\n",
    "\n",
    "and some other techniques like\n",
    "- Principal Component Analysis ( PCA )\n",
    "- Solving Linear Regression using\n",
    " - Inverse\n",
    " - QR Decomposition and SVD\n",
    "\n",
    "Since some of the techniques are used specifically in certain machine learning algorithms, we will learn more about each of these in that algorithm's specific context. "
   ]
  },
  {
   "cell_type": "code",
   "execution_count": null,
   "metadata": {},
   "outputs": [],
   "source": []
  }
 ],
 "metadata": {
  "kernelspec": {
   "display_name": "R",
   "language": "R",
   "name": "ir"
  },
  "language_info": {
   "codemirror_mode": "r",
   "file_extension": ".r",
   "mimetype": "text/x-r-source",
   "name": "R",
   "pygments_lexer": "r",
   "version": "3.6.2"
  }
 },
 "nbformat": 4,
 "nbformat_minor": 4
}
