{
 "cells": [
  {
   "cell_type": "markdown",
   "metadata": {},
   "source": [
    "<img src=\"./pics/ajay-tech-logo.png\"/> <br>Notebook is copyright &copy; of [Ajay Tech](https://ajaytech.co). For an online version of this notebook, visit [Regression with R](https://ajaytech.co/regression-in-r)"
   ]
  },
  {
   "cell_type": "markdown",
   "metadata": {},
   "source": [
    "<hr>"
   ]
  },
  {
   "cell_type": "markdown",
   "metadata": {},
   "source": [
    "# [Regression](https://ajaytech.co/regression-in-r)"
   ]
  },
  {
   "cell_type": "markdown",
   "metadata": {},
   "source": [
    "> <b>Summary</b> : Regression is a basic Machine Learning Technique. We will be learning Simple Linear Regression, Multiple Linear Regression and Polynomial Regression in this section. On top of the basic technique itself, we will also be covering many statistical concepts (like _Null Hypothesis_, _p-value_, _r-<sup>2</sup>_, _RMSE_ ) and other key concepts in machine learning like _Feature Selection_, _Training and Test data splits_ that will be useful in evaluating models going forward as well. "
   ]
  },
  {
   "cell_type": "markdown",
   "metadata": {},
   "source": [
    "<hr>"
   ]
  },
  {
   "cell_type": "markdown",
   "metadata": {},
   "source": [
    "## Contents"
   ]
  },
  {
   "cell_type": "markdown",
   "metadata": {},
   "source": [
    "- [What is Regression](#What-is-Regression)\n",
    "- [Why Regression](#Why-Regression)\n",
    "- [Solve a Regression problem in Python](#Solve-Regression-in-Python)\n",
    "- [Simple Linear Regression](#Simple-Linear-Regression)\n",
    "  - [How did we get the straight line ( fit )](#How-did-LinearRegression-fit-the-straight-line)\n",
    "  - [Residuals](#Residuals)\n",
    "  - [Sum of Squares](#Sum-of-Squares)\n",
    "- [Multilinear Regression](#Multilinear-Regression)\n",
    "  - [Boston Housing dataset](#Boston-Housing-dataset)\n",
    "  - [Reponse Variable vs Predictor](#Response-Variable-vs-Predictor)\n",
    "- [Correlation](#Correlation)\n",
    "- [p value](#p-value)\n",
    "  - [Null Hypothesis](#Null-Hypothesis)\n",
    "  - [Optimum p-value](#Optimum-p-value)\n",
    "- [Key Parameters](#Key-Parameters)\n",
    "  - [r-squared - r2](#r-squared-r2)\n",
    "    - [How is r2 calculated](#How-is-r2-calculated)\n",
    "  - [r-squared adjusted](#r-squared-adjusted)\n",
    "  - [RMSE - Root Mean Square error](#RMSE-Root-Mean-Square-error )\n",
    "- [Feature Selection](#Feature-Selection)\n",
    "  - [Stepwise Regression](#Stepwise-Regression)\n",
    "    - [Backward Elimination](#Backward-Elimination)\n",
    "- [Accuracy of the model](#Accuracy-of-the-model)\n",
    "  - [Training & Test datasets](#Training-and-Test-datasets)\n",
    "- [Polynomial Regression](#Polynomial-Regression)\n",
    "- [Overfitting](#Overfitting)\n",
    "  - [Detect Overfitting](#Detect-Overfitting)\n",
    "  - [Prevent Overfitting](#Prevent-Overfitting)\n",
    "- [Linear Regression Assumptions](#Linear-Regression-Assumptions)\n",
    "  - [Homoskedasticity](#Homoskedasticity)\n",
    "  - [Normal Distribution of Residuals](#Normal-Distribution-of-Residuals)\n",
    "  - [No Multicollinearity](#No-Multicollinearity)\n",
    "- [Challenges](#Challenges)\n"
   ]
  },
  {
   "cell_type": "markdown",
   "metadata": {},
   "source": [
    "<hr>"
   ]
  },
  {
   "cell_type": "markdown",
   "metadata": {},
   "source": [
    "### What is Regression"
   ]
  },
  {
   "cell_type": "markdown",
   "metadata": {},
   "source": [
    "In Machine Learning, most problems are classified as supervised vs unsupervised learning. We will first focus on supervised learning algorithms and later work on unsupervised learning algorithms. Supervised learning is once again split into the following 2 groups\n",
    "- Classification\n",
    "- Regression"
   ]
  },
  {
   "cell_type": "markdown",
   "metadata": {},
   "source": [
    "Given a particular height and weight, classify the person as either male or female. This is an example of classification. You are essentially trying to **classify** the person - in this case - as male or female based on certain characteristics."
   ]
  },
  {
   "cell_type": "markdown",
   "metadata": {},
   "source": [
    "In contrast, say you are trying to predict the body fat percentage based on height and weight - this is an example of a regression problem. What is the difference ? Body Fat % is a continuous variable - say it starts at a minimum of 2% (really lean) and can go all the way up to 50 % say (extremely obese) - as opposed to a categorical variable in the example above ( Male or Female )."
   ]
  },
  {
   "cell_type": "markdown",
   "metadata": {},
   "source": [
    "<hr>"
   ]
  },
  {
   "cell_type": "markdown",
   "metadata": {},
   "source": [
    "### Why Regression"
   ]
  },
  {
   "cell_type": "markdown",
   "metadata": {},
   "source": [
    "If you are learning how to solve a regression problem for the first time, you probably need to understand why you need regression to start with. This is probably the simplest of the regression problems. Let's start with a simple data set - Swedish auto insurance claims. You can google it or get it from [kaggle](https://www.kaggle.com/sunmarkil/auto-insurance-in-sweden-small-dataset). It is a very small data set with just 2 variables -\n",
    "- Number of Claims\n",
    "- Total payment for these claims ( in thousands )"
   ]
  },
  {
   "cell_type": "markdown",
   "metadata": {},
   "source": [
    "<img src=\"./pics/swedish_auto_claims.png\"/>"
   ]
  },
  {
   "cell_type": "markdown",
   "metadata": {},
   "source": [
    "Claims come first and the settlement happens much later. Assuming these are claims this company receives per week, is there a way we can predict how much the company will end up paying, just based on the number of claims ?"
   ]
  },
  {
   "cell_type": "markdown",
   "metadata": {},
   "source": [
    "**What value does this bring to the company ?**"
   ]
  },
  {
   "cell_type": "markdown",
   "metadata": {},
   "source": [
    "Being able to predict the payment based on the number of claims gives a very good understanding of the companies expenses very much in advance."
   ]
  },
  {
   "cell_type": "markdown",
   "metadata": {},
   "source": [
    "**Why do you need machine learning for this problem ?**"
   ]
  },
  {
   "cell_type": "markdown",
   "metadata": {},
   "source": [
    "Each claims is different - A fender bender claims costs a thousand dollars and a total could cost 20 grand. The type of claim does make for a good predictor, but let's just assume we don't have that at this point. Even if we had the type of claim, a fender bender can cost anywhere from 300 to 2000 dollars based on the severity of damage, the arbitration and several environmental factors. Essentially, there is no easy way to correlate the claims to the payment. If we tried to do this using some kind of IF, THEN logic, we would be going around in hoops."
   ]
  },
  {
   "cell_type": "markdown",
   "metadata": {},
   "source": [
    "<hr>"
   ]
  },
  {
   "cell_type": "markdown",
   "metadata": {},
   "source": [
    "### Solve Regression in Python"
   ]
  },
  {
   "cell_type": "code",
   "execution_count": 58,
   "metadata": {},
   "outputs": [
    {
     "data": {
      "text/html": [
       "<table>\n",
       "<caption>A data.frame: 6 × 2</caption>\n",
       "<thead>\n",
       "\t<tr><th></th><th scope=col>claims</th><th scope=col>payment</th></tr>\n",
       "\t<tr><th></th><th scope=col>&lt;int&gt;</th><th scope=col>&lt;dbl&gt;</th></tr>\n",
       "</thead>\n",
       "<tbody>\n",
       "\t<tr><th scope=row>1</th><td>108</td><td>392.5</td></tr>\n",
       "\t<tr><th scope=row>2</th><td> 19</td><td> 46.2</td></tr>\n",
       "\t<tr><th scope=row>3</th><td> 13</td><td> 15.7</td></tr>\n",
       "\t<tr><th scope=row>4</th><td>124</td><td>422.2</td></tr>\n",
       "\t<tr><th scope=row>5</th><td> 40</td><td>119.4</td></tr>\n",
       "\t<tr><th scope=row>6</th><td> 57</td><td>170.9</td></tr>\n",
       "</tbody>\n",
       "</table>\n"
      ],
      "text/latex": [
       "A data.frame: 6 × 2\n",
       "\\begin{tabular}{r|ll}\n",
       "  & claims & payment\\\\\n",
       "  & <int> & <dbl>\\\\\n",
       "\\hline\n",
       "\t1 & 108 & 392.5\\\\\n",
       "\t2 &  19 &  46.2\\\\\n",
       "\t3 &  13 &  15.7\\\\\n",
       "\t4 & 124 & 422.2\\\\\n",
       "\t5 &  40 & 119.4\\\\\n",
       "\t6 &  57 & 170.9\\\\\n",
       "\\end{tabular}\n"
      ],
      "text/markdown": [
       "\n",
       "A data.frame: 6 × 2\n",
       "\n",
       "| <!--/--> | claims &lt;int&gt; | payment &lt;dbl&gt; |\n",
       "|---|---|---|\n",
       "| 1 | 108 | 392.5 |\n",
       "| 2 |  19 |  46.2 |\n",
       "| 3 |  13 |  15.7 |\n",
       "| 4 | 124 | 422.2 |\n",
       "| 5 |  40 | 119.4 |\n",
       "| 6 |  57 | 170.9 |\n",
       "\n"
      ],
      "text/plain": [
       "  claims payment\n",
       "1 108    392.5  \n",
       "2  19     46.2  \n",
       "3  13     15.7  \n",
       "4 124    422.2  \n",
       "5  40    119.4  \n",
       "6  57    170.9  "
      ]
     },
     "metadata": {},
     "output_type": "display_data"
    }
   ],
   "source": [
    "data = read.csv(\"./data/insurance.csv\", skip= 5, header=TRUE)\n",
    "head(data)"
   ]
  },
  {
   "cell_type": "markdown",
   "metadata": {},
   "source": [
    "Looking OK - but since we are reading data from file, we have to ensure that Python is not reading integers as strings or other object types. Let's quickly verify if the data types are correct. "
   ]
  },
  {
   "cell_type": "code",
   "execution_count": 15,
   "metadata": {},
   "outputs": [
    {
     "data": {
      "text/html": [
       "'integer'"
      ],
      "text/latex": [
       "'integer'"
      ],
      "text/markdown": [
       "'integer'"
      ],
      "text/plain": [
       "[1] \"integer\""
      ]
     },
     "metadata": {},
     "output_type": "display_data"
    }
   ],
   "source": [
    "class(data$claims)"
   ]
  },
  {
   "cell_type": "code",
   "execution_count": 16,
   "metadata": {},
   "outputs": [
    {
     "data": {
      "text/html": [
       "'numeric'"
      ],
      "text/latex": [
       "'numeric'"
      ],
      "text/markdown": [
       "'numeric'"
      ],
      "text/plain": [
       "[1] \"numeric\""
      ]
     },
     "metadata": {},
     "output_type": "display_data"
    }
   ],
   "source": [
    "class(data$payment)"
   ]
  },
  {
   "cell_type": "markdown",
   "metadata": {},
   "source": [
    "Looking good. Now, onto LinearRegression. We don't have to install any specific packages to do linear regression in R. As part of base R, we have a function called **lm ( )**. "
   ]
  },
  {
   "cell_type": "code",
   "execution_count": 59,
   "metadata": {},
   "outputs": [],
   "source": [
    "model = lm( payment ~ claims, data = data)"
   ]
  },
  {
   "cell_type": "markdown",
   "metadata": {},
   "source": [
    "Our model is ready. Let's start predicting *claims* based on the *count* of claims. We will be using the **predict** method. But before we do that, let's plot this out to understand what we have done so far. "
   ]
  },
  {
   "cell_type": "code",
   "execution_count": 60,
   "metadata": {},
   "outputs": [
    {
     "data": {
      "image/png": "[encoded data removed]",
      "text/plain": [
       "plot without title"
      ]
     },
     "metadata": {
      "image/png": {
       "height": 420,
       "width": 420
      },
      "text/plain": {
       "height": 420,
       "width": 420
      }
     },
     "output_type": "display_data"
    }
   ],
   "source": [
    "# pch stands for plotting characteristics. \n",
    "# A value of 19 means that it is a solid dot (as opposed to a default hollow dot)\n",
    "plot( data$claim,data$payment,pch = 19, col = \"blue\")"
   ]
  },
  {
   "cell_type": "code",
   "execution_count": 61,
   "metadata": {},
   "outputs": [],
   "source": [
    "predict = predict(model, data = data[,1])"
   ]
  },
  {
   "cell_type": "markdown",
   "metadata": {},
   "source": [
    "Linear Regression has already solve this problem for us - we just didn't realize it yet. The parameters ( also called co-efficients )\n",
    "\n",
    "- slope\n",
    "- intercept  \n",
    "\n",
    "are the solution. "
   ]
  },
  {
   "cell_type": "code",
   "execution_count": 62,
   "metadata": {},
   "outputs": [
    {
     "name": "stdout",
     "output_type": "stream",
     "text": [
      "slope =  3.413824 \n",
      "intercept =  19.99449"
     ]
    }
   ],
   "source": [
    "intercept = coef(model)[1]\n",
    "slope     = coef(model)[2]\n",
    "\n",
    "cat (\"slope = \", slope, \"\\n\")\n",
    "cat (\"intercept = \", intercept)"
   ]
  },
  {
   "cell_type": "code",
   "execution_count": 63,
   "metadata": {},
   "outputs": [
    {
     "data": {
      "image/png": "[encoded data removed]",
      "text/plain": [
       "plot without title"
      ]
     },
     "metadata": {
      "image/png": {
       "height": 420,
       "width": 420
      },
      "text/plain": {
       "height": 420,
       "width": 420
      }
     },
     "output_type": "display_data"
    }
   ],
   "source": [
    "plot( data$claim,data$payment,pch = 19, col = \"blue\")\n",
    "lines(data$claim, fitted(model), col=\"red\")"
   ]
  },
  {
   "cell_type": "markdown",
   "metadata": {},
   "source": [
    "In case you are wondering how this line was draw, you can very well use the slope and intercept parameters to draw the same line. "
   ]
  },
  {
   "cell_type": "markdown",
   "metadata": {},
   "source": [
    "How did we get the straight line ?"
   ]
  },
  {
   "cell_type": "markdown",
   "metadata": {},
   "source": [
    "<img src=\"./pics/y_mx_b.png\"/>"
   ]
  },
  {
   "cell_type": "markdown",
   "metadata": {},
   "source": [
    "A straight line can be defined mathematically using"
   ]
  },
  {
   "cell_type": "markdown",
   "metadata": {},
   "source": [
    "# $ y = ax + b$"
   ]
  },
  {
   "cell_type": "markdown",
   "metadata": {},
   "source": [
    "where\n",
    "- a = slope\n",
    "- b = intercept"
   ]
  },
  {
   "cell_type": "markdown",
   "metadata": {},
   "source": [
    "These are also called coefficients. The **fit** function of _LinearRegression_ has already arrived at these numbers ( slope and intercept ). It has done so based on the data"
   ]
  },
  {
   "cell_type": "code",
   "execution_count": 64,
   "metadata": {},
   "outputs": [
    {
     "data": {
      "image/png": "[encoded data removed]",
      "text/plain": [
       "plot without title"
      ]
     },
     "metadata": {
      "image/png": {
       "height": 420,
       "width": 420
      },
      "text/plain": {
       "height": 420,
       "width": 420
      }
     },
     "output_type": "display_data"
    }
   ],
   "source": [
    "plot( data$claim,data$payment,pch = 19, col = \"blue\")\n",
    "\n",
    "# abline defines the equation as \"y = bx + a\" as opposed to our definition as \"y = ax + b\"\n",
    "# that is why, we are setting a = intercept and b = slope in the equation.\n",
    "abline(a=intercept, b=slope, col = \"red\")"
   ]
  },
  {
   "cell_type": "markdown",
   "metadata": {},
   "source": [
    "<hr>"
   ]
  },
  {
   "cell_type": "markdown",
   "metadata": {},
   "source": [
    "#### What did we achieve ?"
   ]
  },
  {
   "cell_type": "markdown",
   "metadata": {},
   "source": [
    "What we have essentially done is predicted a relationship between the number of claims and the total amount paid. For example, what is the total amount expected to be paid when the number of claims is 80 ?"
   ]
  },
  {
   "cell_type": "markdown",
   "metadata": {},
   "source": [
    "<img src=\"./pics/predict_claims_value.png\"/>"
   ]
  },
  {
   "cell_type": "markdown",
   "metadata": {},
   "source": [
    "Easy, right ?"
   ]
  },
  {
   "cell_type": "markdown",
   "metadata": {},
   "source": [
    "<hr>"
   ]
  },
  {
   "cell_type": "markdown",
   "metadata": {},
   "source": [
    "#### Prediction"
   ]
  },
  {
   "cell_type": "markdown",
   "metadata": {},
   "source": [
    "We don't have to draw lines like this every time to predict the value of Y for a value of X. You can use the **predict ( )** function. Let's first predict all the original claim values."
   ]
  },
  {
   "cell_type": "code",
   "execution_count": 65,
   "metadata": {},
   "outputs": [
    {
     "data": {
      "text/html": [
       "<style>\n",
       ".dl-inline {width: auto; margin:0; padding: 0}\n",
       ".dl-inline>dt, .dl-inline>dd {float: none; width: auto; display: inline-block}\n",
       ".dl-inline>dt::after {content: \":\\0020\"; padding-right: .5ex}\n",
       ".dl-inline>dt:not(:first-of-type) {padding-left: .5ex}\n",
       "</style><dl class=dl-inline><dt>1</dt><dd>388.687430246283</dd><dt>2</dt><dd>84.8571334003758</dd><dt>3</dt><dd>64.3741920399776</dd><dt>4</dt><dd>443.308607207344</dd><dt>5</dt><dd>156.54742816177</dd><dt>6</dt><dd>214.582428682898</dd></dl>\n"
      ],
      "text/latex": [
       "\\begin{description*}\n",
       "\\item[1] 388.687430246283\n",
       "\\item[2] 84.8571334003758\n",
       "\\item[3] 64.3741920399776\n",
       "\\item[4] 443.308607207344\n",
       "\\item[5] 156.54742816177\n",
       "\\item[6] 214.582428682898\n",
       "\\end{description*}\n"
      ],
      "text/markdown": [
       "1\n",
       ":   388.6874302462832\n",
       ":   84.85713340037583\n",
       ":   64.37419203997764\n",
       ":   443.3086072073445\n",
       ":   156.547428161776\n",
       ":   214.582428682898\n",
       "\n"
      ],
      "text/plain": [
       "        1         2         3         4         5         6 \n",
       "388.68743  84.85713  64.37419 443.30861 156.54743 214.58243 "
      ]
     },
     "metadata": {},
     "output_type": "display_data"
    }
   ],
   "source": [
    "pred = predict(model, newdata = data.frame(claims=data$claims))\n",
    "head(pred)"
   ]
  },
  {
   "cell_type": "markdown",
   "metadata": {},
   "source": [
    "You don't have to predict all the original values. Normally, we do a train/test split (which, we will see later) and try to predict the accuracy based on the test dataset. However, we can throw any predictor (claims in this case) value to see how the model predicts the payments for. For example, say we pick 5 different claim values (10,20,30,40,50) and want to find out what our model predicts. "
   ]
  },
  {
   "cell_type": "code",
   "execution_count": 40,
   "metadata": {},
   "outputs": [
    {
     "data": {
      "text/html": [
       "<style>\n",
       ".dl-inline {width: auto; margin:0; padding: 0}\n",
       ".dl-inline>dt, .dl-inline>dd {float: none; width: auto; display: inline-block}\n",
       ".dl-inline>dt::after {content: \":\\0020\"; padding-right: .5ex}\n",
       ".dl-inline>dt:not(:first-of-type) {padding-left: .5ex}\n",
       "</style><dl class=dl-inline><dt>1</dt><dd>54.1327213597785</dd><dt>2</dt><dd>88.2709569604422</dd><dt>3</dt><dd>122.409192561106</dd><dt>4</dt><dd>156.54742816177</dd><dt>5</dt><dd>224.823899363097</dd></dl>\n"
      ],
      "text/latex": [
       "\\begin{description*}\n",
       "\\item[1] 54.1327213597785\n",
       "\\item[2] 88.2709569604422\n",
       "\\item[3] 122.409192561106\n",
       "\\item[4] 156.54742816177\n",
       "\\item[5] 224.823899363097\n",
       "\\end{description*}\n"
      ],
      "text/markdown": [
       "1\n",
       ":   54.13272135977852\n",
       ":   88.27095696044223\n",
       ":   122.4091925611064\n",
       ":   156.547428161775\n",
       ":   224.823899363097\n",
       "\n"
      ],
      "text/plain": [
       "        1         2         3         4         5 \n",
       " 54.13272  88.27096 122.40919 156.54743 224.82390 "
      ]
     },
     "metadata": {},
     "output_type": "display_data"
    }
   ],
   "source": [
    "pred = predict(model, newdata = data.frame(claims=c(10,20,30,40,60)))\n",
    "pred"
   ]
  },
  {
   "cell_type": "markdown",
   "metadata": {},
   "source": [
    "Alright, let's see how the predicted values compare against the actual values. "
   ]
  },
  {
   "cell_type": "markdown",
   "metadata": {},
   "source": [
    "What were the original values though ? You can pick them up from the CSV. "
   ]
  },
  {
   "cell_type": "markdown",
   "metadata": {},
   "source": [
    "<img src=\"./pics/insurance_claims_actual_values.png\"/>"
   ]
  },
  {
   "cell_type": "code",
   "execution_count": 32,
   "metadata": {},
   "outputs": [],
   "source": [
    "original_claim_values = c(65.3,98.1,194.5,119.4,202.4)"
   ]
  },
  {
   "cell_type": "markdown",
   "metadata": {},
   "source": [
    "Let's also plot these to compare how well we predicted."
   ]
  },
  {
   "cell_type": "code",
   "execution_count": 44,
   "metadata": {},
   "outputs": [
    {
     "data": {
      "image/png": "[encoded data removed]",
      "text/plain": [
       "plot without title"
      ]
     },
     "metadata": {
      "image/png": {
       "height": 420,
       "width": 420
      },
      "text/plain": {
       "height": 420,
       "width": 420
      }
     },
     "output_type": "display_data"
    }
   ],
   "source": [
    "plot(c(10,20,30,40,60), pred ,pch=19, col=\"blue\")\n",
    "points(c(10,20,30,40,60),original_claim_values, pch=19, col=\"red\"  )\n",
    "\n",
    "# abline defines the equation as \"y = bx + a\" as opposed to our definition as \"y = ax + b\"\n",
    "# that is why, we are setting a = intercept and b = slope in the equation.\n",
    "abline(a=intercept, b=slope, col = \"black\")"
   ]
  },
  {
   "cell_type": "markdown",
   "metadata": {},
   "source": [
    "Some values are pretty close, some are a bit off - but nevertheless its a good prediction for the amount of time we spent doing it. "
   ]
  },
  {
   "cell_type": "markdown",
   "metadata": {},
   "source": [
    "<hr>"
   ]
  },
  {
   "cell_type": "markdown",
   "metadata": {},
   "source": [
    "## Simple Linear Regression "
   ]
  },
  {
   "cell_type": "markdown",
   "metadata": {},
   "source": [
    "What we have seen so far is an example of implementing **Simple Linear Regression** in R. What we will see in this section is the math behind it - Give it a try - if it gets tedious, please do a couple of re-reads. It is critical that you understand this section. "
   ]
  },
  {
   "cell_type": "markdown",
   "metadata": {},
   "source": [
    "### How did LinearRegression fit the straight line"
   ]
  },
  {
   "cell_type": "markdown",
   "metadata": {},
   "source": [
    "The fun starts now. How did the **LinearRegression ( )** function fit the straight line ? How did it it arrive at this equation"
   ]
  },
  {
   "cell_type": "markdown",
   "metadata": {},
   "source": [
    "# $ y = 3.4 x + 19.99$"
   ]
  },
  {
   "cell_type": "markdown",
   "metadata": {},
   "source": [
    "Obviously, there is no one straight line that will pass through all the points in this case."
   ]
  },
  {
   "cell_type": "markdown",
   "metadata": {},
   "source": [
    "<img src=\"./pics/best_fit.png\"/>"
   ]
  },
  {
   "cell_type": "markdown",
   "metadata": {},
   "source": [
    "If you take these 4 data points, we can eyeball a straight line that goes through the middle of it. The ones marked with question marks are visually not a good fit at all. But the question that linear model tries to solve is,"
   ]
  },
  {
   "cell_type": "markdown",
   "metadata": {},
   "source": [
    "> What is the **\"Optimum\"** straight line that best describes the relationship between X and Y"
   ]
  },
  {
   "cell_type": "markdown",
   "metadata": {},
   "source": [
    "This is where statistics comes in."
   ]
  },
  {
   "cell_type": "markdown",
   "metadata": {},
   "source": [
    "<hr>"
   ]
  },
  {
   "cell_type": "markdown",
   "metadata": {},
   "source": [
    "#### Let's zoom in"
   ]
  },
  {
   "cell_type": "markdown",
   "metadata": {},
   "source": [
    "Let's simplify and make up some numbers ( for easy calculation) of claims vs payments. Say we have a set of 5 data points for claims vs payments and we wish to fit a linear model that can predict further data. This is a very small data set to do anything practical, but there is a reason why we are doing such a small data set as we will see in the coming sections."
   ]
  },
  {
   "cell_type": "markdown",
   "metadata": {},
   "source": [
    "|claims | payments (inthousands|\n",
    "|-------|----------------------|\n",
    "|20 | 40|\n",
    "|40 | 60|\n",
    "|60 | 80|\n",
    "|80 | 80|\n",
    "|100 | 90|"
   ]
  },
  {
   "cell_type": "markdown",
   "metadata": {},
   "source": [
    "Let's plot these on a graph."
   ]
  },
  {
   "cell_type": "markdown",
   "metadata": {},
   "source": [
    "<img src=\"./pics/claims_vs_payments.jpg\"/>"
   ]
  },
  {
   "cell_type": "markdown",
   "metadata": {},
   "source": [
    "If we were asked to eyeball a straight line that best fits these data points, this is how we would do it."
   ]
  },
  {
   "cell_type": "markdown",
   "metadata": {},
   "source": [
    "<img src=\"./pics/approximate_line.png\"/>"
   ]
  },
  {
   "cell_type": "markdown",
   "metadata": {},
   "source": [
    "How did we do it ? Our eye is essentially trying to **minimize the distances** from each of these points to the straight line. The best fitting straight line is one which minimizes the distances for all these points."
   ]
  },
  {
   "cell_type": "markdown",
   "metadata": {},
   "source": [
    "Linear regression in machine learning does exactly that - Instead of a human eye, machine learning takes the help of statistics to do this approximation. There are a couple of methods to do this in statistics."
   ]
  },
  {
   "cell_type": "markdown",
   "metadata": {},
   "source": [
    "- Ordinary Least Squares\n",
    "- Gradient Descent"
   ]
  },
  {
   "cell_type": "markdown",
   "metadata": {},
   "source": [
    "Let's explore the first method here."
   ]
  },
  {
   "cell_type": "markdown",
   "metadata": {},
   "source": [
    "<hr>"
   ]
  },
  {
   "cell_type": "markdown",
   "metadata": {},
   "source": [
    "#### Residuals"
   ]
  },
  {
   "cell_type": "markdown",
   "metadata": {},
   "source": [
    "When we tried to minimize the distance of each of these points from the line we are trying to fit, the distances between the points and the straight line ( on the y axis ) are called **residuals**."
   ]
  },
  {
   "cell_type": "markdown",
   "metadata": {},
   "source": [
    "<img src=\"./pics/residuals.png\"/>"
   ]
  },
  {
   "cell_type": "markdown",
   "metadata": {},
   "source": [
    "<hr>"
   ]
  },
  {
   "cell_type": "markdown",
   "metadata": {},
   "source": [
    "#### Sum of Squares"
   ]
  },
  {
   "cell_type": "markdown",
   "metadata": {},
   "source": [
    "**Warning - Geeky Statistics stuff**"
   ]
  },
  {
   "cell_type": "markdown",
   "metadata": {},
   "source": [
    "To arrive at the best fit values for the straight line, statisticians have arrived at the following formula based on the method of least squares. How they arrived at it is pretty geeky and let's leave that to the statisticians."
   ]
  },
  {
   "cell_type": "markdown",
   "metadata": {},
   "source": [
    "<img src=\"./pics/equation.png\"/>"
   ]
  },
  {
   "cell_type": "markdown",
   "metadata": {},
   "source": [
    "This equation sounds scary, but it is not. I am going to prove it to you in a minute down below. There are 2 things in this equation that require an explanation."
   ]
  },
  {
   "cell_type": "markdown",
   "metadata": {},
   "source": [
    "- The weird symbol that looks like a knocked up W . It is used for summation.\n",
    "- y with a bar on it ( or x with a bar ). The bar just represents the average. So y with a bar on it represents the average."
   ]
  },
  {
   "cell_type": "markdown",
   "metadata": {},
   "source": [
    "Let's take the same numbers that we have above and try to calculate the formula by hand. Excel would make things easy, but let's just do it manually, since the numbers are not all that bad."
   ]
  },
  {
   "cell_type": "markdown",
   "metadata": {},
   "source": [
    "<img src=\"./pics/b_calculation.png\"/>"
   ]
  },
  {
   "cell_type": "markdown",
   "metadata": {},
   "source": [
    "### slope = $\\frac{2400}{4000} = 0.6$\n",
    "### intercept = $Y_{avg} - b \\times X_{mult}$ = 70 - 0.6 x 60 = 34"
   ]
  },
  {
   "cell_type": "markdown",
   "metadata": {},
   "source": [
    "That was huge - Now we can easily calculate a and b from the Y = a + b X equation. The convention for slope and intercept here is different from what we referred to previously. You can stick to one convention and use it. However, you might see multiple variations of this (like Y = mx + b for example). "
   ]
  },
  {
   "cell_type": "markdown",
   "metadata": {},
   "source": [
    "**Validation**"
   ]
  },
  {
   "cell_type": "markdown",
   "metadata": {},
   "source": [
    "Let's cross validate this equation."
   ]
  },
  {
   "cell_type": "code",
   "execution_count": 48,
   "metadata": {},
   "outputs": [],
   "source": [
    "sample = data.frame( x=c(20,40,60,80,100),y = c(40,60,80,80,90))"
   ]
  },
  {
   "cell_type": "code",
   "execution_count": 49,
   "metadata": {},
   "outputs": [
    {
     "data": {
      "text/html": [
       "<table>\n",
       "<caption>A data.frame: 5 × 2</caption>\n",
       "<thead>\n",
       "\t<tr><th scope=col>x</th><th scope=col>y</th></tr>\n",
       "\t<tr><th scope=col>&lt;dbl&gt;</th><th scope=col>&lt;dbl&gt;</th></tr>\n",
       "</thead>\n",
       "<tbody>\n",
       "\t<tr><td> 20</td><td>40</td></tr>\n",
       "\t<tr><td> 40</td><td>60</td></tr>\n",
       "\t<tr><td> 60</td><td>80</td></tr>\n",
       "\t<tr><td> 80</td><td>80</td></tr>\n",
       "\t<tr><td>100</td><td>90</td></tr>\n",
       "</tbody>\n",
       "</table>\n"
      ],
      "text/latex": [
       "A data.frame: 5 × 2\n",
       "\\begin{tabular}{ll}\n",
       " x & y\\\\\n",
       " <dbl> & <dbl>\\\\\n",
       "\\hline\n",
       "\t  20 & 40\\\\\n",
       "\t  40 & 60\\\\\n",
       "\t  60 & 80\\\\\n",
       "\t  80 & 80\\\\\n",
       "\t 100 & 90\\\\\n",
       "\\end{tabular}\n"
      ],
      "text/markdown": [
       "\n",
       "A data.frame: 5 × 2\n",
       "\n",
       "| x &lt;dbl&gt; | y &lt;dbl&gt; |\n",
       "|---|---|\n",
       "|  20 | 40 |\n",
       "|  40 | 60 |\n",
       "|  60 | 80 |\n",
       "|  80 | 80 |\n",
       "| 100 | 90 |\n",
       "\n"
      ],
      "text/plain": [
       "  x   y \n",
       "1  20 40\n",
       "2  40 60\n",
       "3  60 80\n",
       "4  80 80\n",
       "5 100 90"
      ]
     },
     "metadata": {},
     "output_type": "display_data"
    }
   ],
   "source": [
    "sample"
   ]
  },
  {
   "cell_type": "markdown",
   "metadata": {},
   "source": [
    "Let's model this data and plot it"
   ]
  },
  {
   "cell_type": "code",
   "execution_count": 50,
   "metadata": {},
   "outputs": [],
   "source": [
    "model = lm(y~x, data = sample)"
   ]
  },
  {
   "cell_type": "code",
   "execution_count": 52,
   "metadata": {},
   "outputs": [
    {
     "data": {
      "image/png": "[encoded data removed]",
      "text/plain": [
       "plot without title"
      ]
     },
     "metadata": {
      "image/png": {
       "height": 420,
       "width": 420
      },
      "text/plain": {
       "height": 420,
       "width": 420
      }
     },
     "output_type": "display_data"
    }
   ],
   "source": [
    "plot(sample$x, sample$y, pch=19, col=\"blue\")"
   ]
  },
  {
   "cell_type": "markdown",
   "metadata": {},
   "source": [
    "Now, let's use our model to visualize the fit"
   ]
  },
  {
   "cell_type": "code",
   "execution_count": 53,
   "metadata": {},
   "outputs": [
    {
     "name": "stdout",
     "output_type": "stream",
     "text": [
      "slope =  0.6 \n",
      "intercept =  34"
     ]
    }
   ],
   "source": [
    "intercept = coef(model)[1]\n",
    "slope     = coef(model)[2]\n",
    "\n",
    "cat (\"slope = \", slope, \"\\n\")\n",
    "cat (\"intercept = \", intercept)"
   ]
  },
  {
   "cell_type": "markdown",
   "metadata": {},
   "source": [
    "These are the slope and intercept values. We can now use these to plot the fit line."
   ]
  },
  {
   "cell_type": "code",
   "execution_count": 55,
   "metadata": {},
   "outputs": [
    {
     "data": {
      "image/png": "[encoded data removed]",
      "text/plain": [
       "plot without title"
      ]
     },
     "metadata": {
      "image/png": {
       "height": 420,
       "width": 420
      },
      "text/plain": {
       "height": 420,
       "width": 420
      }
     },
     "output_type": "display_data"
    }
   ],
   "source": [
    "plot(sample$x,sample$y,pch=19,col=\"blue\")\n",
    "abline(a=intercept, b=slope, col = \"red\")"
   ]
  },
  {
   "cell_type": "markdown",
   "metadata": {},
   "source": [
    "The model object has a whole host of other information that you can use to predict how good of a fit the line is to the data. But first, let's predict the value in a table."
   ]
  },
  {
   "cell_type": "code",
   "execution_count": 57,
   "metadata": {},
   "outputs": [
    {
     "data": {
      "text/html": [
       "<style>\n",
       ".dl-inline {width: auto; margin:0; padding: 0}\n",
       ".dl-inline>dt, .dl-inline>dd {float: none; width: auto; display: inline-block}\n",
       ".dl-inline>dt::after {content: \":\\0020\"; padding-right: .5ex}\n",
       ".dl-inline>dt:not(:first-of-type) {padding-left: .5ex}\n",
       "</style><dl class=dl-inline><dt>1</dt><dd>46</dd><dt>2</dt><dd>58</dd><dt>3</dt><dd>70</dd><dt>4</dt><dd>82</dd><dt>5</dt><dd>94</dd></dl>\n"
      ],
      "text/latex": [
       "\\begin{description*}\n",
       "\\item[1] 46\n",
       "\\item[2] 58\n",
       "\\item[3] 70\n",
       "\\item[4] 82\n",
       "\\item[5] 94\n",
       "\\end{description*}\n"
      ],
      "text/markdown": [
       "1\n",
       ":   462\n",
       ":   583\n",
       ":   704\n",
       ":   825\n",
       ":   94\n",
       "\n"
      ],
      "text/plain": [
       " 1  2  3  4  5 \n",
       "46 58 70 82 94 "
      ]
     },
     "metadata": {},
     "output_type": "display_data"
    }
   ],
   "source": [
    "pred_y = predict (model, newdata = data.frame(x=sample$x))\n",
    "pred_y"
   ]
  },
  {
   "cell_type": "markdown",
   "metadata": {},
   "source": [
    "The differences ( residuals ) are highlighted below. "
   ]
  },
  {
   "cell_type": "markdown",
   "metadata": {},
   "source": [
    "<img src=\"./pics/residuals_visualized.png\"/>"
   ]
  },
  {
   "cell_type": "markdown",
   "metadata": {},
   "source": [
    "There are so many other parameters ( like the **p-value**, **r-squared**, **r-squared adjusted** ) and graphs ( **Residuals vs fitted** , **Q-Q Plot** etc ) that are used to analyze the performance of a model fit. We are going to get to that in the next section. To set the stage for these parameters, let's scale up our data set."
   ]
  },
  {
   "cell_type": "markdown",
   "metadata": {},
   "source": [
    "<hr>"
   ]
  },
  {
   "cell_type": "markdown",
   "metadata": {},
   "source": [
    "## Multilinear Regression"
   ]
  },
  {
   "cell_type": "markdown",
   "metadata": {},
   "source": [
    "So far we have seen one predictor and one response variable. This is also called **simple** linear regression. Ofcoure, real world is not that simple, right ? There can be multiple predictors. We are going to look at one such example in a classic example - Boston Housing dataset. "
   ]
  },
  {
   "cell_type": "markdown",
   "metadata": {},
   "source": [
    "It has 13 predictors and 1 response variable. So, the equation for that mathematically would be "
   ]
  },
  {
   "cell_type": "markdown",
   "metadata": {},
   "source": [
    "# $ y = a_1 x_1 + a_2 x_2 + .. + a_n x_n + b$"
   ]
  },
  {
   "cell_type": "markdown",
   "metadata": {},
   "source": [
    "the value of n would be 13 in this case. Let's look at the dataset below. "
   ]
  },
  {
   "cell_type": "markdown",
   "metadata": {},
   "source": [
    "<hr>"
   ]
  },
  {
   "cell_type": "markdown",
   "metadata": {},
   "source": [
    "### Boston Housing dataset"
   ]
  },
  {
   "cell_type": "markdown",
   "metadata": {},
   "source": [
    "Predicting the price of a house is based on many parameters like the size, neighborhood, crime rate, pollution etc. Essentially, there is no mathematical equation that can predict the price of a house based on these parameters - that's essentially where ML comes into the picture."
   ]
  },
  {
   "cell_type": "markdown",
   "metadata": {},
   "source": [
    "In the earlier example, we just had to predict the value of **Y** given a value of __X__. There is just 1 predictor ( X ). However, let's have a look at the Boston Housing data set - tons of variables. Load the data first.\n",
    "\n"
   ]
  },
  {
   "cell_type": "markdown",
   "metadata": {},
   "source": [
    "There are a couple of ways to load the data.\n",
    "\n",
    "- Download it from <a href=\"https://archive.ics.uci.edu/ml/machine-learning-databases/housing/\">UCI ML repository</a>\n",
    "- Load it straight from **mlbench** library"
   ]
  },
  {
   "cell_type": "markdown",
   "metadata": {},
   "source": [
    "#### Download and load from file system"
   ]
  },
  {
   "cell_type": "code",
   "execution_count": 1,
   "metadata": {},
   "outputs": [
    {
     "data": {
      "text/html": [
       "<table>\n",
       "<caption>A data.frame: 2 × 14</caption>\n",
       "<thead>\n",
       "\t<tr><th></th><th scope=col>crim</th><th scope=col>zn</th><th scope=col>indus</th><th scope=col>chas</th><th scope=col>nox</th><th scope=col>rm</th><th scope=col>age</th><th scope=col>dis</th><th scope=col>rad</th><th scope=col>tax</th><th scope=col>ptratio</th><th scope=col>b</th><th scope=col>lstat</th><th scope=col>medv</th></tr>\n",
       "\t<tr><th></th><th scope=col>&lt;dbl&gt;</th><th scope=col>&lt;dbl&gt;</th><th scope=col>&lt;dbl&gt;</th><th scope=col>&lt;dbl&gt;</th><th scope=col>&lt;dbl&gt;</th><th scope=col>&lt;dbl&gt;</th><th scope=col>&lt;dbl&gt;</th><th scope=col>&lt;dbl&gt;</th><th scope=col>&lt;int&gt;</th><th scope=col>&lt;dbl&gt;</th><th scope=col>&lt;dbl&gt;</th><th scope=col>&lt;dbl&gt;</th><th scope=col>&lt;dbl&gt;</th><th scope=col>&lt;dbl&gt;</th></tr>\n",
       "</thead>\n",
       "<tbody>\n",
       "\t<tr><th scope=row>1</th><td>0.00632</td><td>18</td><td>2.31</td><td>0</td><td>0.538</td><td>6.575</td><td>65.2</td><td>4.0900</td><td>1</td><td>296</td><td>15.3</td><td>396.9</td><td>4.98</td><td>24.0</td></tr>\n",
       "\t<tr><th scope=row>2</th><td>0.02731</td><td> 0</td><td>7.07</td><td>0</td><td>0.469</td><td>6.421</td><td>78.9</td><td>4.9671</td><td>2</td><td>242</td><td>17.8</td><td>396.9</td><td>9.14</td><td>21.6</td></tr>\n",
       "</tbody>\n",
       "</table>\n"
      ],
      "text/latex": [
       "A data.frame: 2 × 14\n",
       "\\begin{tabular}{r|llllllllllllll}\n",
       "  & crim & zn & indus & chas & nox & rm & age & dis & rad & tax & ptratio & b & lstat & medv\\\\\n",
       "  & <dbl> & <dbl> & <dbl> & <dbl> & <dbl> & <dbl> & <dbl> & <dbl> & <int> & <dbl> & <dbl> & <dbl> & <dbl> & <dbl>\\\\\n",
       "\\hline\n",
       "\t1 & 0.00632 & 18 & 2.31 & 0 & 0.538 & 6.575 & 65.2 & 4.0900 & 1 & 296 & 15.3 & 396.9 & 4.98 & 24.0\\\\\n",
       "\t2 & 0.02731 &  0 & 7.07 & 0 & 0.469 & 6.421 & 78.9 & 4.9671 & 2 & 242 & 17.8 & 396.9 & 9.14 & 21.6\\\\\n",
       "\\end{tabular}\n"
      ],
      "text/markdown": [
       "\n",
       "A data.frame: 2 × 14\n",
       "\n",
       "| <!--/--> | crim &lt;dbl&gt; | zn &lt;dbl&gt; | indus &lt;dbl&gt; | chas &lt;dbl&gt; | nox &lt;dbl&gt; | rm &lt;dbl&gt; | age &lt;dbl&gt; | dis &lt;dbl&gt; | rad &lt;int&gt; | tax &lt;dbl&gt; | ptratio &lt;dbl&gt; | b &lt;dbl&gt; | lstat &lt;dbl&gt; | medv &lt;dbl&gt; |\n",
       "|---|---|---|---|---|---|---|---|---|---|---|---|---|---|---|\n",
       "| 1 | 0.00632 | 18 | 2.31 | 0 | 0.538 | 6.575 | 65.2 | 4.0900 | 1 | 296 | 15.3 | 396.9 | 4.98 | 24.0 |\n",
       "| 2 | 0.02731 |  0 | 7.07 | 0 | 0.469 | 6.421 | 78.9 | 4.9671 | 2 | 242 | 17.8 | 396.9 | 9.14 | 21.6 |\n",
       "\n"
      ],
      "text/plain": [
       "  crim    zn indus chas nox   rm    age  dis    rad tax ptratio b     lstat\n",
       "1 0.00632 18 2.31  0    0.538 6.575 65.2 4.0900 1   296 15.3    396.9 4.98 \n",
       "2 0.02731  0 7.07  0    0.469 6.421 78.9 4.9671 2   242 17.8    396.9 9.14 \n",
       "  medv\n",
       "1 24.0\n",
       "2 21.6"
      ]
     },
     "metadata": {},
     "output_type": "display_data"
    }
   ],
   "source": [
    "boston_housing = read.csv(\"./data/boston_housing.csv\")\n",
    "\n",
    "head(boston_housing,2)"
   ]
  },
  {
   "cell_type": "markdown",
   "metadata": {},
   "source": [
    "The attribute names are a bit cryptic. So, here are the descriptions. "
   ]
  },
  {
   "cell_type": "markdown",
   "metadata": {},
   "source": [
    "- **CRIM**      per capita crime rate by town\n",
    "- **ZN**        proportion of residential land zoned for lots over 25,000 sq.ft.\n",
    "- **INDUS**     proportion of non-retail business acres per town\n",
    "- **CHAS**      Charles River dummy variable (= 1 if tract bounds river; 0 otherwise)\n",
    "- **NOX**       nitric oxides concentration (parts per 10 million)\n",
    "- **RM**        average number of rooms per dwelling\n",
    "- **AGE**       proportion of owner-occupied units built prior to 1940\n",
    "- **DIS**       weighted distances to five Boston employment centres\n",
    "- **RAD**       index of accessibility to radial highways\n",
    "- **TAX**       full-value property-tax rate per USD - 10,000\n",
    "- **PTRATIO**  pupil-teacher ratio by town\n",
    "- **B**        1000(Bk - 0.63)^2 where Bk is the proportion of blacks by town\n",
    "- **LSTAT**    % lower status of the population\n",
    "- **MEDV**     Median value of owner-occupied homes in USD 1000's"
   ]
  },
  {
   "cell_type": "markdown",
   "metadata": {},
   "source": [
    "#### Load it directly from **mlbench** library"
   ]
  },
  {
   "cell_type": "code",
   "execution_count": 70,
   "metadata": {},
   "outputs": [
    {
     "data": {
      "text/html": [
       "<table>\n",
       "<caption>A data.frame: 2 × 14</caption>\n",
       "<thead>\n",
       "\t<tr><th></th><th scope=col>crim</th><th scope=col>zn</th><th scope=col>indus</th><th scope=col>chas</th><th scope=col>nox</th><th scope=col>rm</th><th scope=col>age</th><th scope=col>dis</th><th scope=col>rad</th><th scope=col>tax</th><th scope=col>ptratio</th><th scope=col>b</th><th scope=col>lstat</th><th scope=col>medv</th></tr>\n",
       "\t<tr><th></th><th scope=col>&lt;dbl&gt;</th><th scope=col>&lt;dbl&gt;</th><th scope=col>&lt;dbl&gt;</th><th scope=col>&lt;fct&gt;</th><th scope=col>&lt;dbl&gt;</th><th scope=col>&lt;dbl&gt;</th><th scope=col>&lt;dbl&gt;</th><th scope=col>&lt;dbl&gt;</th><th scope=col>&lt;dbl&gt;</th><th scope=col>&lt;dbl&gt;</th><th scope=col>&lt;dbl&gt;</th><th scope=col>&lt;dbl&gt;</th><th scope=col>&lt;dbl&gt;</th><th scope=col>&lt;dbl&gt;</th></tr>\n",
       "</thead>\n",
       "<tbody>\n",
       "\t<tr><th scope=row>1</th><td>0.00632</td><td>18</td><td>2.31</td><td>0</td><td>0.538</td><td>6.575</td><td>65.2</td><td>4.0900</td><td>1</td><td>296</td><td>15.3</td><td>396.9</td><td>4.98</td><td>24.0</td></tr>\n",
       "\t<tr><th scope=row>2</th><td>0.02731</td><td> 0</td><td>7.07</td><td>0</td><td>0.469</td><td>6.421</td><td>78.9</td><td>4.9671</td><td>2</td><td>242</td><td>17.8</td><td>396.9</td><td>9.14</td><td>21.6</td></tr>\n",
       "</tbody>\n",
       "</table>\n"
      ],
      "text/latex": [
       "A data.frame: 2 × 14\n",
       "\\begin{tabular}{r|llllllllllllll}\n",
       "  & crim & zn & indus & chas & nox & rm & age & dis & rad & tax & ptratio & b & lstat & medv\\\\\n",
       "  & <dbl> & <dbl> & <dbl> & <fct> & <dbl> & <dbl> & <dbl> & <dbl> & <dbl> & <dbl> & <dbl> & <dbl> & <dbl> & <dbl>\\\\\n",
       "\\hline\n",
       "\t1 & 0.00632 & 18 & 2.31 & 0 & 0.538 & 6.575 & 65.2 & 4.0900 & 1 & 296 & 15.3 & 396.9 & 4.98 & 24.0\\\\\n",
       "\t2 & 0.02731 &  0 & 7.07 & 0 & 0.469 & 6.421 & 78.9 & 4.9671 & 2 & 242 & 17.8 & 396.9 & 9.14 & 21.6\\\\\n",
       "\\end{tabular}\n"
      ],
      "text/markdown": [
       "\n",
       "A data.frame: 2 × 14\n",
       "\n",
       "| <!--/--> | crim &lt;dbl&gt; | zn &lt;dbl&gt; | indus &lt;dbl&gt; | chas &lt;fct&gt; | nox &lt;dbl&gt; | rm &lt;dbl&gt; | age &lt;dbl&gt; | dis &lt;dbl&gt; | rad &lt;dbl&gt; | tax &lt;dbl&gt; | ptratio &lt;dbl&gt; | b &lt;dbl&gt; | lstat &lt;dbl&gt; | medv &lt;dbl&gt; |\n",
       "|---|---|---|---|---|---|---|---|---|---|---|---|---|---|---|\n",
       "| 1 | 0.00632 | 18 | 2.31 | 0 | 0.538 | 6.575 | 65.2 | 4.0900 | 1 | 296 | 15.3 | 396.9 | 4.98 | 24.0 |\n",
       "| 2 | 0.02731 |  0 | 7.07 | 0 | 0.469 | 6.421 | 78.9 | 4.9671 | 2 | 242 | 17.8 | 396.9 | 9.14 | 21.6 |\n",
       "\n"
      ],
      "text/plain": [
       "  crim    zn indus chas nox   rm    age  dis    rad tax ptratio b     lstat\n",
       "1 0.00632 18 2.31  0    0.538 6.575 65.2 4.0900 1   296 15.3    396.9 4.98 \n",
       "2 0.02731  0 7.07  0    0.469 6.421 78.9 4.9671 2   242 17.8    396.9 9.14 \n",
       "  medv\n",
       "1 24.0\n",
       "2 21.6"
      ]
     },
     "metadata": {},
     "output_type": "display_data"
    }
   ],
   "source": [
    "library(mlbench)\n",
    "data(BostonHousing)\n",
    "head(BostonHousing,2)"
   ]
  },
  {
   "cell_type": "markdown",
   "metadata": {},
   "source": [
    "How large is the dataset ? "
   ]
  },
  {
   "cell_type": "code",
   "execution_count": 77,
   "metadata": {},
   "outputs": [
    {
     "data": {
      "text/html": [
       "<style>\n",
       ".list-inline {list-style: none; margin:0; padding: 0}\n",
       ".list-inline>li {display: inline-block}\n",
       ".list-inline>li:not(:last-child)::after {content: \"\\00b7\"; padding: 0 .5ex}\n",
       "</style>\n",
       "<ol class=list-inline><li>506</li><li>14</li></ol>\n"
      ],
      "text/latex": [
       "\\begin{enumerate*}\n",
       "\\item 506\n",
       "\\item 14\n",
       "\\end{enumerate*}\n"
      ],
      "text/markdown": [
       "1. 506\n",
       "2. 14\n",
       "\n",
       "\n"
      ],
      "text/plain": [
       "[1] 506  14"
      ]
     },
     "metadata": {},
     "output_type": "display_data"
    }
   ],
   "source": [
    "dim(boston_housing)"
   ]
  },
  {
   "cell_type": "markdown",
   "metadata": {},
   "source": [
    "so, it is 506 rows and 14 columns. "
   ]
  },
  {
   "cell_type": "markdown",
   "metadata": {},
   "source": [
    "Looking back at our equation, "
   ]
  },
  {
   "cell_type": "markdown",
   "metadata": {},
   "source": [
    "# $ y = a_1 x_1 + a_2 x_2 + .. + a_n x_n + b$"
   ]
  },
  {
   "cell_type": "markdown",
   "metadata": {},
   "source": [
    "- $x_1$ = CRIM - per capita crime rate by town\n",
    "- $x_2$ = ZN   - proportion of residential land zoned for lots over 25,000 sq.ft.\n",
    "- ..\n",
    "- $x_{13}$ = LSTAT - % lower status of the population"
   ]
  },
  {
   "cell_type": "markdown",
   "metadata": {},
   "source": [
    "<hr>"
   ]
  },
  {
   "cell_type": "markdown",
   "metadata": {},
   "source": [
    "#### Response Variable vs Predictor"
   ]
  },
  {
   "cell_type": "markdown",
   "metadata": {},
   "source": [
    "What is the problem we are trying to solve ? We are actually trying to predict the Median house price based on a variety of parameters - like Crime rate, Nitric Oxide content in the air, age of the house etc. Each of these parameters have a \"say\" in the price of the house. The target variable is valled the **Response Variable** and the parameters that have a \"say\" in determining the target variable are called the **Predictors**."
   ]
  },
  {
   "cell_type": "markdown",
   "metadata": {},
   "source": [
    "In our case, there are 12 predictors ( CRIM, ZN, INDUS...LSTAT) and 1 response variable ( MEDV ). Just for simplicity sake, let's just pick one parameter - **rm** - the number of rooms in the house. Let's see how well we predict the price of the house based on just this one parameter."
   ]
  },
  {
   "cell_type": "code",
   "execution_count": 94,
   "metadata": {},
   "outputs": [],
   "source": [
    "model = lm (medv ~ rm, data = boston_housing)"
   ]
  },
  {
   "cell_type": "code",
   "execution_count": 95,
   "metadata": {},
   "outputs": [
    {
     "name": "stdout",
     "output_type": "stream",
     "text": [
      "slope =  9.777871 \n",
      "intercept =  -38.27585"
     ]
    }
   ],
   "source": [
    "intercept = coef(model)[1]\n",
    "slope     = coef(model)[2]\n",
    "\n",
    "cat (\"slope = \", slope, \"\\n\")\n",
    "cat (\"intercept = \", intercept)"
   ]
  },
  {
   "cell_type": "markdown",
   "metadata": {},
   "source": [
    "Let's plot our predictor vs response variable as a scatter plot and draw the straight line that our model has predicted."
   ]
  },
  {
   "cell_type": "code",
   "execution_count": 96,
   "metadata": {},
   "outputs": [
    {
     "data": {
      "image/png": "[encoded data removed]",
      "text/plain": [
       "plot without title"
      ]
     },
     "metadata": {
      "image/png": {
       "height": 420,
       "width": 420
      },
      "text/plain": {
       "height": 420,
       "width": 420
      }
     },
     "output_type": "display_data"
    }
   ],
   "source": [
    "plot(boston_housing$rm, boston_housing$medv, pch=19, col = \"blue\", xlim=c(4,10)) # try this without setting the range of x values (using xlim)\n",
    "abline(a=intercept, b=slope, col = \"red\")"
   ]
  },
  {
   "cell_type": "markdown",
   "metadata": {},
   "source": [
    "Looks like a decent enough fit. Let's do another - **lstat** - lower status population percentage. "
   ]
  },
  {
   "cell_type": "markdown",
   "metadata": {},
   "source": [
    "**Step 1 - Model the data**"
   ]
  },
  {
   "cell_type": "code",
   "execution_count": 98,
   "metadata": {},
   "outputs": [],
   "source": [
    "model = lm (medv ~ lstat, data = boston_housing)"
   ]
  },
  {
   "cell_type": "markdown",
   "metadata": {},
   "source": [
    "**Step 2 - Determine the slope and intercept from the model**"
   ]
  },
  {
   "cell_type": "code",
   "execution_count": 99,
   "metadata": {},
   "outputs": [
    {
     "name": "stdout",
     "output_type": "stream",
     "text": [
      "slope =  -1.010507 \n",
      "intercept =  35.31254"
     ]
    }
   ],
   "source": [
    "intercept = coef(model)[1]\n",
    "slope     = coef(model)[2]\n",
    "\n",
    "cat (\"slope = \", slope, \"\\n\")\n",
    "cat (\"intercept = \", intercept)"
   ]
  },
  {
   "cell_type": "markdown",
   "metadata": {},
   "source": [
    "__Step 3 - Plot the data and fit line__"
   ]
  },
  {
   "cell_type": "code",
   "execution_count": 103,
   "metadata": {},
   "outputs": [
    {
     "data": {
      "image/png": "[encoded data removed]",
      "text/plain": [
       "plot without title"
      ]
     },
     "metadata": {
      "image/png": {
       "height": 420,
       "width": 420
      },
      "text/plain": {
       "height": 420,
       "width": 420
      }
     },
     "output_type": "display_data"
    }
   ],
   "source": [
    "plot(boston_housing$lstat, boston_housing$medv, pch=19, col = \"blue\") \n",
    "abline(a=intercept, b=slope, col = \"red\")"
   ]
  },
  {
   "cell_type": "markdown",
   "metadata": {},
   "source": [
    "This seems accurate enough. However, if you look at both these graphs, the relationship between the predictors and response variable seems a bit different between the predictor LSTAT vs RM. Let's put these graphs side by side to understand better. "
   ]
  },
  {
   "cell_type": "markdown",
   "metadata": {},
   "source": [
    "<img src=\"./pics/lstat_medv.png\" style=\"background-color:white\"/><img src=\"./pics/rm_medv.png\" style=\"background-color:white\"/>"
   ]
  },
  {
   "cell_type": "markdown",
   "metadata": {},
   "source": [
    "The first picture is lstat vs medv and the second is rm vs medv. "
   ]
  },
  {
   "cell_type": "markdown",
   "metadata": {},
   "source": [
    "<img src=\"./pics/lstat_rm_medv.png\"/>"
   ]
  },
  {
   "cell_type": "markdown",
   "metadata": {},
   "source": [
    "Also, not all variables might be relevant ( irrespective of the direction, decrease or increase ). Let's take the parameter dis - distance to employment. Once again, if we try to fit this using our steps"
   ]
  },
  {
   "cell_type": "code",
   "execution_count": 106,
   "metadata": {},
   "outputs": [
    {
     "name": "stdout",
     "output_type": "stream",
     "text": [
      "slope =  0.584848 \n",
      "intercept =  21.38557"
     ]
    },
    {
     "data": {
      "image/png": "[encoded data removed]",
      "text/plain": [
       "plot without title"
      ]
     },
     "metadata": {
      "image/png": {
       "height": 420,
       "width": 420
      },
      "text/plain": {
       "height": 420,
       "width": 420
      }
     },
     "output_type": "display_data"
    }
   ],
   "source": [
    "# step 1\n",
    "model = lm (medv ~ dis, data = boston_housing)\n",
    "\n",
    "# step 2\n",
    "intercept = coef(model)[1]\n",
    "slope     = coef(model)[2]\n",
    "\n",
    "cat (\"slope = \", slope, \"\\n\")\n",
    "cat (\"intercept = \", intercept)\n",
    "\n",
    "# step 3\n",
    "plot(boston_housing$dis, boston_housing$medv, pch=19, col = \"blue\",xlim=c(0,10)) \n",
    "abline(a=intercept, b=slope, col = \"red\")"
   ]
  },
  {
   "cell_type": "markdown",
   "metadata": {},
   "source": [
    "Visually, there is not much of a linear relationship between distance and median value ( although we tried to fit it ). How exactly do we measure the relationship ?"
   ]
  },
  {
   "cell_type": "markdown",
   "metadata": {},
   "source": [
    "<hr>"
   ]
  },
  {
   "cell_type": "markdown",
   "metadata": {},
   "source": [
    "### Correlation"
   ]
  },
  {
   "cell_type": "markdown",
   "metadata": {},
   "source": [
    "This is the simplest measure of relation between 2 numeric variables. Luckily, pandas provides a built-in method for calculating correlation - **corr ( )**. For example,"
   ]
  },
  {
   "cell_type": "code",
   "execution_count": 117,
   "metadata": {},
   "outputs": [
    {
     "data": {
      "text/html": [
       "0.138798442415068"
      ],
      "text/latex": [
       "0.138798442415068"
      ],
      "text/markdown": [
       "0.138798442415068"
      ],
      "text/plain": [
       "[1] 0.1387984"
      ]
     },
     "metadata": {},
     "output_type": "display_data"
    }
   ],
   "source": [
    "# use = \"pairwise.complete.obs\" ensures that NAs are handled \n",
    "cor(boston_housing$medv, boston_housing$dis, use = \"pairwise.complete.obs\")"
   ]
  },
  {
   "cell_type": "markdown",
   "metadata": {},
   "source": [
    "Correlation values are calculated to values between 0 and 1. Technically, the values can vary between -1 and +1. 0 being no correlation and 1 being highly correlated ( -1 also signifies a high correlation, just that it is a negative correlation , meaning if the predictor values increases, the response value decreases). In the example above, the relationship between distance and median value is just 13 %. How about others predictors ?\n",
    "\n"
   ]
  },
  {
   "cell_type": "code",
   "execution_count": 118,
   "metadata": {},
   "outputs": [
    {
     "data": {
      "text/html": [
       "-0.706255058922179"
      ],
      "text/latex": [
       "-0.706255058922179"
      ],
      "text/markdown": [
       "-0.706255058922179"
      ],
      "text/plain": [
       "[1] -0.7062551"
      ]
     },
     "metadata": {},
     "output_type": "display_data"
    }
   ],
   "source": [
    "cor(boston_housing$medv, boston_housing$lstat, use = \"pairwise.complete.obs\")"
   ]
  },
  {
   "cell_type": "code",
   "execution_count": 119,
   "metadata": {},
   "outputs": [
    {
     "data": {
      "text/html": [
       "0.740180804891272"
      ],
      "text/latex": [
       "0.740180804891272"
      ],
      "text/markdown": [
       "0.740180804891272"
      ],
      "text/plain": [
       "[1] 0.7401808"
      ]
     },
     "metadata": {},
     "output_type": "display_data"
    }
   ],
   "source": [
    "cor(boston_housing$rm, boston_housing$medv, use = \"pairwise.complete.obs\")"
   ]
  },
  {
   "cell_type": "markdown",
   "metadata": {},
   "source": [
    "This seems in-line with our plots above right ? "
   ]
  },
  {
   "cell_type": "markdown",
   "metadata": {},
   "source": [
    "> Correlation is NOT causation"
   ]
  },
  {
   "cell_type": "markdown",
   "metadata": {},
   "source": [
    "However strong the correlation is, it does NOT imply causation. This is a bit tricky to understand. For example, look at the picture below."
   ]
  },
  {
   "cell_type": "code",
   "execution_count": 5,
   "metadata": {},
   "outputs": [
    {
     "data": {
      "image/png": "[encoded data removed]",
      "text/plain": [
       "plot without title"
      ]
     },
     "metadata": {
      "image/png": {
       "height": 420,
       "width": 420
      },
      "text/plain": {
       "height": 420,
       "width": 420
      }
     },
     "output_type": "display_data"
    }
   ],
   "source": [
    "plot(boston_housing$rm,boston_housing$medv,xlim=c(1,10), pch=19, col=\"blue\")"
   ]
  },
  {
   "cell_type": "markdown",
   "metadata": {},
   "source": [
    "There seems to be a significant correlation between the number of rooms ( **rm** ) and the median price value (**medv**). "
   ]
  },
  {
   "cell_type": "markdown",
   "metadata": {},
   "source": [
    "<img src=\"./pics/rm-medv-correlation.png\"/>"
   ]
  },
  {
   "cell_type": "markdown",
   "metadata": {},
   "source": [
    "Now, imagine another column - _Power Consumption_ . As the number of rooms increase, the power consumption also tends to increase. "
   ]
  },
  {
   "cell_type": "markdown",
   "metadata": {},
   "source": [
    "<img src=\"./pics/correlation-power-medv.png\"/>"
   ]
  },
  {
   "cell_type": "markdown",
   "metadata": {},
   "source": [
    "Does it mean that _Power Consumption_ has a strong correlation with the house price ? Very unlikely - isn't it ? Mathematically, **correlation** is just a tool that signifies the level of correlation between 2 variables. However, it is upto us (or the domain expert) to determine if the correlation is real or ficticious. "
   ]
  },
  {
   "cell_type": "markdown",
   "metadata": {},
   "source": [
    "<hr>"
   ]
  },
  {
   "cell_type": "markdown",
   "metadata": {},
   "source": [
    "### Quiz"
   ]
  },
  {
   "cell_type": "markdown",
   "metadata": {},
   "source": [
    "**Question** : The higher the correlation, lower the stronger is the relationship between the variables. "
   ]
  },
  {
   "cell_type": "markdown",
   "metadata": {},
   "source": [
    "- True\n",
    "- False"
   ]
  },
  {
   "cell_type": "markdown",
   "metadata": {},
   "source": [
    "**Question** : Correlation is a measure of how strong the relationship is between two variables."
   ]
  },
  {
   "cell_type": "markdown",
   "metadata": {},
   "source": [
    "- True\n",
    "- False"
   ]
  },
  {
   "cell_type": "markdown",
   "metadata": {},
   "source": [
    "**Question** : -0.95 represents a strong positive correlation"
   ]
  },
  {
   "cell_type": "markdown",
   "metadata": {},
   "source": [
    "- True\n",
    "- False"
   ]
  },
  {
   "cell_type": "markdown",
   "metadata": {},
   "source": [
    "**Question** : A correlation value of 0 shows that there is a perfect correlation between the variables"
   ]
  },
  {
   "cell_type": "markdown",
   "metadata": {},
   "source": [
    "- True\n",
    "- False"
   ]
  },
  {
   "cell_type": "markdown",
   "metadata": {},
   "source": [
    "**Question** : The picture above shows a strong negative correlation"
   ]
  },
  {
   "cell_type": "code",
   "execution_count": 58,
   "metadata": {},
   "outputs": [
    {
     "data": {
      "image/png": "[encoded data removed]",
      "text/plain": [
       "plot without title"
      ]
     },
     "metadata": {
      "image/png": {
       "height": 420,
       "width": 420
      },
      "text/plain": {
       "height": 420,
       "width": 420
      }
     },
     "output_type": "display_data"
    }
   ],
   "source": [
    "x = c(10,20,30,40,50,60,70,80,90,100)\n",
    "y = c(100,90,80,70,60,50,40,30,20,10)\n",
    "\n",
    "plot(x,y, pch=19, col=\"blue\")"
   ]
  },
  {
   "cell_type": "markdown",
   "metadata": {},
   "source": [
    "- True\n",
    "- False"
   ]
  },
  {
   "cell_type": "markdown",
   "metadata": {},
   "source": [
    "<hr>"
   ]
  },
  {
   "cell_type": "markdown",
   "metadata": {},
   "source": [
    "### p value"
   ]
  },
  {
   "cell_type": "markdown",
   "metadata": {},
   "source": [
    "While the correlation quantifies the relationship between two variables, it doesn't tell us if the relationship is **statistically significant**. The word **statistically significant** deserves an explanation. If a relationship (between two variables) is NOT caused by chance, then it is **statistically significant** . That is exactly what p-value answers. Also called probability value, p-value answers the following question -"
   ]
  },
  {
   "cell_type": "markdown",
   "metadata": {},
   "source": [
    "> **If a predictor is relevant to predict the response and if yes, how relevant is it ?**"
   ]
  },
  {
   "cell_type": "markdown",
   "metadata": {},
   "source": [
    "We have to understand p-value in the context of Null Hypothesis.\n",
    "\n"
   ]
  },
  {
   "cell_type": "markdown",
   "metadata": {},
   "source": [
    "#### Null Hypothesis"
   ]
  },
  {
   "cell_type": "markdown",
   "metadata": {},
   "source": [
    "Null hypothesis (denoted as **H<sub>0</sub>** assumes that there is no relationship between the predictor and the response variable. For example, if you look at the relationship between the number of rooms ( rm ) and the median price value of the home ( medv ) in the Boston Housing dataset, Null hypothesis says that there is NO relationship between them.\n",
    "\n"
   ]
  },
  {
   "cell_type": "markdown",
   "metadata": {},
   "source": [
    "<img src=\"./pics/rm-medv.png\"/>"
   ]
  },
  {
   "cell_type": "markdown",
   "metadata": {},
   "source": [
    "Well, although we can see a linear relationship visually ( almost ) between those 2 variables, we start off with the Null Hypothesis. It is indicated in statistics as **H<sub>0</sub>** \n",
    "\n"
   ]
  },
  {
   "cell_type": "markdown",
   "metadata": {},
   "source": [
    "Alternate hypothesis indicates that they are related. It is indicated as **H<sub>1</sub>** . P-value indicates how much the observed data is inconsistent with the Null Hypothesis. This is a bit cryptic, right ? Let's explore this further.\n",
    "\n"
   ]
  },
  {
   "cell_type": "markdown",
   "metadata": {},
   "source": [
    "Let's just consider 2 random variables that are normally distributed. Since they are random variables, there would be no relationship between them, right ? Let's check it out.\n",
    "\n"
   ]
  },
  {
   "cell_type": "markdown",
   "metadata": {},
   "source": [
    "**Dataset 1**\n",
    "\n",
    "A normal distribution of 100 values with a mean of 100 and sd of 20\n"
   ]
  },
  {
   "cell_type": "code",
   "execution_count": 8,
   "metadata": {},
   "outputs": [],
   "source": [
    "x = rnorm(n = 100, mean = 100, sd = 20)"
   ]
  },
  {
   "cell_type": "markdown",
   "metadata": {},
   "source": [
    "**Dataset 2**\n",
    "\n",
    "Another normal distribution of 100 values with a mean of 100 and sd of 20\n"
   ]
  },
  {
   "cell_type": "code",
   "execution_count": 9,
   "metadata": {},
   "outputs": [],
   "source": [
    "y = rnorm(n = 100, mean = 100, sd = 20)"
   ]
  },
  {
   "cell_type": "markdown",
   "metadata": {},
   "source": [
    "Let's plot **x** vs __y__ and see how it looks.\n",
    "\n"
   ]
  },
  {
   "cell_type": "code",
   "execution_count": 10,
   "metadata": {},
   "outputs": [
    {
     "data": {
      "image/png": "[encoded data removed]",
      "text/plain": [
       "plot without title"
      ]
     },
     "metadata": {
      "image/png": {
       "height": 420,
       "width": 420
      },
      "text/plain": {
       "height": 420,
       "width": 420
      }
     },
     "output_type": "display_data"
    }
   ],
   "source": [
    "plot(x,y)"
   ]
  },
  {
   "cell_type": "markdown",
   "metadata": {},
   "source": [
    "This almost looks like the night sky, isn't it ? Point being, there is no relationship between **x** and __y__ as they are random variables - That is pretty understandable right ? Let's try to calculate a relationship between these two variables ( although there is none ) and see how it compares against another situation where there IS actually a relationship.\n",
    "\n"
   ]
  },
  {
   "cell_type": "code",
   "execution_count": 12,
   "metadata": {},
   "outputs": [
    {
     "name": "stdout",
     "output_type": "stream",
     "text": [
      "slope =  0.01513006 \n",
      "intercept =  98.19433"
     ]
    },
    {
     "data": {
      "image/png": "[encoded data removed]",
      "text/plain": [
       "plot without title"
      ]
     },
     "metadata": {
      "image/png": {
       "height": 420,
       "width": 420
      },
      "text/plain": {
       "height": 420,
       "width": 420
      }
     },
     "output_type": "display_data"
    }
   ],
   "source": [
    "# step 1\n",
    "model = lm (y ~ x)\n",
    "\n",
    "# step 2\n",
    "intercept = coef(model)[1]\n",
    "slope     = coef(model)[2]\n",
    "\n",
    "cat (\"slope = \", slope, \"\\n\")\n",
    "cat (\"intercept = \", intercept)\n",
    "\n",
    "# step 3\n",
    "plot(x, y, pch=19, col = \"blue\") \n",
    "abline(a=intercept, b=slope, col = \"red\")"
   ]
  },
  {
   "cell_type": "markdown",
   "metadata": {},
   "source": [
    "What is the **p-value** in this case ? Look at the summary of the linear model. The last column against the predictor (x in this case) is the p-value.\n",
    "\n"
   ]
  },
  {
   "cell_type": "code",
   "execution_count": 15,
   "metadata": {},
   "outputs": [
    {
     "data": {
      "text/plain": [
       "\n",
       "Call:\n",
       "lm(formula = y ~ x)\n",
       "\n",
       "Residuals:\n",
       "    Min      1Q  Median      3Q     Max \n",
       "-44.483 -14.434  -0.342  11.768  50.386 \n",
       "\n",
       "Coefficients:\n",
       "            Estimate Std. Error t value Pr(>|t|)    \n",
       "(Intercept) 98.19433   10.12278   9.700 5.41e-16 ***\n",
       "x            0.01513    0.09677   0.156    0.876    \n",
       "---\n",
       "Signif. codes:  0 '***' 0.001 '**' 0.01 '*' 0.05 '.' 0.1 ' ' 1\n",
       "\n",
       "Residual standard error: 19.69 on 98 degrees of freedom\n",
       "Multiple R-squared:  0.0002494,\tAdjusted R-squared:  -0.009952 \n",
       "F-statistic: 0.02445 on 1 and 98 DF,  p-value: 0.8761\n"
      ]
     },
     "metadata": {},
     "output_type": "display_data"
    }
   ],
   "source": [
    "summary(model)"
   ]
  },
  {
   "cell_type": "markdown",
   "metadata": {},
   "source": [
    "And the **p-value** in this case is 0.89. "
   ]
  },
  {
   "cell_type": "markdown",
   "metadata": {},
   "source": [
    "p-value is 0.89 - that's 89 %. p-value is always between 0 and 1. 0.89 is a big number right ? Does it indicate that there is a strong relationship between x and y in this case ? On the contrary, a high p-value indicates that the there is NO relationship between x and y - which is what the Null Hypothesis states."
   ]
  },
  {
   "cell_type": "markdown",
   "metadata": {},
   "source": [
    "On the other hand, if we calculate the p-value of the relationship between the number of rooms (\"RM\") and median price (\"MEDV\"), then you get a very small value. "
   ]
  },
  {
   "cell_type": "code",
   "execution_count": 16,
   "metadata": {},
   "outputs": [
    {
     "data": {
      "text/plain": [
       "\n",
       "Call:\n",
       "lm(formula = boston_housing$medv ~ boston_housing$rm)\n",
       "\n",
       "Residuals:\n",
       "    Min      1Q  Median      3Q     Max \n",
       "-25.674  -2.488  -0.168   2.411  39.680 \n",
       "\n",
       "Coefficients:\n",
       "                  Estimate Std. Error t value Pr(>|t|)    \n",
       "(Intercept)       -38.2758     2.6708  -14.33   <2e-16 ***\n",
       "boston_housing$rm   9.7779     0.4187   23.35   <2e-16 ***\n",
       "---\n",
       "Signif. codes:  0 '***' 0.001 '**' 0.01 '*' 0.05 '.' 0.1 ' ' 1\n",
       "\n",
       "Residual standard error: 5.93 on 450 degrees of freedom\n",
       "  (54 observations deleted due to missingness)\n",
       "Multiple R-squared:  0.5479,\tAdjusted R-squared:  0.5469 \n",
       "F-statistic: 545.3 on 1 and 450 DF,  p-value: < 2.2e-16\n"
      ]
     },
     "metadata": {},
     "output_type": "display_data"
    }
   ],
   "source": [
    "model = lm (boston_housing$medv ~ boston_housing$rm)\n",
    "\n",
    "summary(model)"
   ]
  },
  {
   "cell_type": "markdown",
   "metadata": {},
   "source": [
    "p-value in this case is 2.0 x 10<sup>-16</sup>. That is an extremely low value ( 0.0000..00248 ) . "
   ]
  },
  {
   "cell_type": "markdown",
   "metadata": {},
   "source": [
    "> What it means is that there is a 0.0000..00248 % chance that the correlation is random.  "
   ]
  },
  {
   "cell_type": "markdown",
   "metadata": {},
   "source": [
    "or in other words, there is a 99.99999 % chance that the data does represent a relationship between the two variables. Whereas in the case of the random variales, there is a 89% chance that the correlation is random"
   ]
  },
  {
   "cell_type": "markdown",
   "metadata": {},
   "source": [
    "<hr>"
   ]
  },
  {
   "cell_type": "markdown",
   "metadata": {},
   "source": [
    "### Optimum p-value"
   ]
  },
  {
   "cell_type": "markdown",
   "metadata": {},
   "source": [
    "A value below which we can safely conclude that the relationship between 2 variables did not happen by chance, but because there is a true causal relationship, is called an optimum p-value.  "
   ]
  },
  {
   "cell_type": "markdown",
   "metadata": {},
   "source": [
    "> Is there a fixed p-value below which, we can safely conclude a strong relationship (Alternate Hypothesis) ?"
   ]
  },
  {
   "cell_type": "markdown",
   "metadata": {},
   "source": [
    "Typically p <= 0.05 is accepted in most cases. However, the actual value at which the business is comfortable is based on a variety of parameters like \n",
    "- type of data\n",
    "- level of confidence the business requires etc"
   ]
  },
  {
   "cell_type": "markdown",
   "metadata": {},
   "source": [
    "<hr>"
   ]
  },
  {
   "cell_type": "markdown",
   "metadata": {},
   "source": [
    "## r-squared - r2"
   ]
  },
  {
   "cell_type": "markdown",
   "metadata": {},
   "source": [
    "R-squared is a measure of the explanatory power of the model - How well are the variables able to explain the response variables using the model. A model's r<sup>2</sup> varies between 0 and 1. Applying the summary function on the **lm ( )** model should give us the r<sup>2</sup> value. "
   ]
  },
  {
   "cell_type": "code",
   "execution_count": 24,
   "metadata": {},
   "outputs": [
    {
     "data": {
      "text/html": [
       "0.547867623929491"
      ],
      "text/latex": [
       "0.547867623929491"
      ],
      "text/markdown": [
       "0.547867623929491"
      ],
      "text/plain": [
       "[1] 0.5478676"
      ]
     },
     "metadata": {},
     "output_type": "display_data"
    }
   ],
   "source": [
    "model = lm (boston_housing$medv ~ boston_housing$rm)\n",
    "\n",
    "summary(model)$r.squared"
   ]
  },
  {
   "cell_type": "markdown",
   "metadata": {},
   "source": [
    "In the example above, we tried to model the response variable medv ( median house value ) as a measure of the number of rooms ( rm ) - the r<sup>2</sup> value is 0.547 . It is a measure of how well the model explains the relationship. A low value of r<sup>2</sup> ( r<sup>2</sup> = 0 ) means that the explanatory variables are not able to predict the response variable well"
   ]
  },
  {
   "cell_type": "markdown",
   "metadata": {},
   "source": [
    "A high value or r<sup>2</sup> ( r<sup>2</sup>= 1 ) means that the explanatory variables are fully able to predict the response - In this case the number of rooms ( rm ) is able to explain the variance in the median house value around 48 %. The remaining 52% variance is unexplained by the explanatory variable. "
   ]
  },
  {
   "cell_type": "markdown",
   "metadata": {},
   "source": [
    "<hr>"
   ]
  },
  {
   "cell_type": "markdown",
   "metadata": {},
   "source": [
    "## How is r2 calculated"
   ]
  },
  {
   "cell_type": "markdown",
   "metadata": {},
   "source": [
    "The formula to calculate r<sup>2</sup> is "
   ]
  },
  {
   "cell_type": "markdown",
   "metadata": {},
   "source": [
    "<img src=\"./pics/r2-calculation.png\"/>"
   ]
  },
  {
   "cell_type": "markdown",
   "metadata": {},
   "source": [
    "The denominator **Sum of Squares <sub>total</sub>**   is the worst possible score. The numerator **Sum of Squares <sub>residuals</sub>** is how far the model is performing. So **r <sup>2</sup>** is essentially a normalized score of how well the model is predicting the data - in comparision to the worst possible score."
   ]
  },
  {
   "cell_type": "markdown",
   "metadata": {},
   "source": [
    "What do we mean by **worst possible** score ? Well, if we know the weights of each of the individuals in the class, without any indicator of whose that weight is ( just a list of weights ), what is our best possible prediction of weight for anybody in the class ? We just do an arithmetic average - right ? And that's what we use to calculate the **Sum of Squares <sub>total</sub>** . "
   ]
  },
  {
   "cell_type": "markdown",
   "metadata": {},
   "source": [
    "Let's calculate r<sup>2</sup> by hand for our simple dataset. "
   ]
  },
  {
   "cell_type": "markdown",
   "metadata": {},
   "source": [
    "<img src=\"./pics/r_squared_for_simple_data.png\"/>"
   ]
  },
  {
   "cell_type": "markdown",
   "metadata": {},
   "source": [
    "Let's verify this in R."
   ]
  },
  {
   "cell_type": "code",
   "execution_count": 28,
   "metadata": {},
   "outputs": [],
   "source": [
    "x = c(20,40,60,80,100)\n",
    "y = c(40,60,80,80,90 )"
   ]
  },
  {
   "cell_type": "code",
   "execution_count": 29,
   "metadata": {},
   "outputs": [
    {
     "data": {
      "text/html": [
       "0.9"
      ],
      "text/latex": [
       "0.9"
      ],
      "text/markdown": [
       "0.9"
      ],
      "text/plain": [
       "[1] 0.9"
      ]
     },
     "metadata": {},
     "output_type": "display_data"
    }
   ],
   "source": [
    "model = lm (y ~ x)\n",
    "\n",
    "summary(model)$r.squared"
   ]
  },
  {
   "cell_type": "markdown",
   "metadata": {},
   "source": [
    "There you go - our manual calculation verifies with R's calculation. "
   ]
  },
  {
   "cell_type": "markdown",
   "metadata": {},
   "source": [
    "**Exercise** - Calculate the **r<sup>2</sup>** value of of Boston housing dataset for the predictor - NOX ( Level of Nitric Oxide in the air )."
   ]
  },
  {
   "cell_type": "markdown",
   "metadata": {},
   "source": [
    "<hr>"
   ]
  },
  {
   "cell_type": "markdown",
   "metadata": {},
   "source": [
    "## r-squared adjusted "
   ]
  },
  {
   "cell_type": "markdown",
   "metadata": {},
   "source": [
    "Mathematically, r<sup>2</sup> has a peculiar property. Adding more predictors increases the value of r<sup>2</sup> . This is not very intuitive to begin with. Let's try it on our Boston Housing dataset. "
   ]
  },
  {
   "cell_type": "markdown",
   "metadata": {},
   "source": [
    "In the example above, we have tried to model medv from rm . So, the only explanatory variable is rm ( number of rooms ). Based on that relationship we have an r<sup>2</sup> value of 0.54 . What would happen if we add another explanatory variable ? - say lstat ( percentage of lower status of the population ). "
   ]
  },
  {
   "cell_type": "code",
   "execution_count": 30,
   "metadata": {},
   "outputs": [
    {
     "data": {
      "text/html": [
       "0.652305668932009"
      ],
      "text/latex": [
       "0.652305668932009"
      ],
      "text/markdown": [
       "0.652305668932009"
      ],
      "text/plain": [
       "[1] 0.6523057"
      ]
     },
     "metadata": {},
     "output_type": "display_data"
    }
   ],
   "source": [
    "# Fit model based on \n",
    "# 1. RM - Number of rooms\n",
    "# 2. LSTAT - Percentage of people with lower status\n",
    "\n",
    "model = lm (boston_housing$medv ~ boston_housing$rm + boston_housing$lstat)\n",
    "\n",
    "summary(model)$r.squared"
   ]
  },
  {
   "cell_type": "markdown",
   "metadata": {},
   "source": [
    "See, the **r <sup>2</sup>** has increased from 0.48 to 0.63 by including a second predictor. How about a third predictor ?"
   ]
  },
  {
   "cell_type": "code",
   "execution_count": 31,
   "metadata": {},
   "outputs": [
    {
     "data": {
      "text/html": [
       "0.652671556550756"
      ],
      "text/latex": [
       "0.652671556550756"
      ],
      "text/markdown": [
       "0.652671556550756"
      ],
      "text/plain": [
       "[1] 0.6526716"
      ]
     },
     "metadata": {},
     "output_type": "display_data"
    }
   ],
   "source": [
    "# Fit model based on \n",
    "# 1. RM - Number of rooms\n",
    "# 2. LSTAT - Percentage of people with lower status\n",
    "# 3. NOX   - Nitric oxide in the air\n",
    "\n",
    "model = lm (boston_housing$medv ~ boston_housing$rm + boston_housing$lstat + boston_housing$nox)\n",
    "\n",
    "summary(model)$r.squared"
   ]
  },
  {
   "cell_type": "markdown",
   "metadata": {},
   "source": [
    "There is a slight increase in **r <sup>2</sup>** - from 0.6385 to 0.6389. "
   ]
  },
  {
   "cell_type": "markdown",
   "metadata": {},
   "source": [
    "**r<sup>2</sup>** value &nbsp; &nbsp;- Predictors <br>\n",
    "0.483525 - number of rooms  <br>\n",
    "0.638561 - number of rooms + lower stata population <br>\n",
    "0.638910 - number of rooms + lower stata population + Nitric Oxide in the air"
   ]
  },
  {
   "cell_type": "markdown",
   "metadata": {},
   "source": [
    "\n",
    "You can keep adding as many predictors as you want and you can observe that **r <sup>2</sup>** value always increases with every predictor. That doesn't seem right. Isn't it ? Let's try something. To the boston housing dataset, let's add a column with just random numbers and see if **r <sup>2</sup>** still increases. If it does, then we have a problem. "
   ]
  },
  {
   "cell_type": "code",
   "execution_count": 34,
   "metadata": {},
   "outputs": [
    {
     "data": {
      "text/html": [
       "<style>\n",
       ".list-inline {list-style: none; margin:0; padding: 0}\n",
       ".list-inline>li {display: inline-block}\n",
       ".list-inline>li:not(:last-child)::after {content: \"\\00b7\"; padding: 0 .5ex}\n",
       "</style>\n",
       "<ol class=list-inline><li>506</li><li>15</li></ol>\n"
      ],
      "text/latex": [
       "\\begin{enumerate*}\n",
       "\\item 506\n",
       "\\item 15\n",
       "\\end{enumerate*}\n"
      ],
      "text/markdown": [
       "1. 506\n",
       "2. 15\n",
       "\n",
       "\n"
      ],
      "text/plain": [
       "[1] 506  15"
      ]
     },
     "metadata": {},
     "output_type": "display_data"
    }
   ],
   "source": [
    "# Generate a column of 506 random numbers\n",
    "x = rnorm(n = 506, mean = 100, sd = 20)\n",
    "\n",
    "# and add it to the boston dataset\n",
    "boston_housing_new = cbind(boston_housing, x)\n",
    "\n",
    "# what is the new shape ? It should be 13 columns ( as opposed to the original 12 )\n",
    "dim ( boston_housing_new)"
   ]
  },
  {
   "cell_type": "markdown",
   "metadata": {},
   "source": [
    "Now, let's try the regression with the predictors RM, LSTAT, NOX and the new random variable."
   ]
  },
  {
   "cell_type": "code",
   "execution_count": 35,
   "metadata": {},
   "outputs": [
    {
     "data": {
      "text/html": [
       "0.652671894013658"
      ],
      "text/latex": [
       "0.652671894013658"
      ],
      "text/markdown": [
       "0.652671894013658"
      ],
      "text/plain": [
       "[1] 0.6526719"
      ]
     },
     "metadata": {},
     "output_type": "display_data"
    }
   ],
   "source": [
    "model = lm (boston_housing_new$medv ~ boston_housing_new$rm + boston_housing_new$lstat + boston_housing_new$nox + boston_housing_new$x)\n",
    "\n",
    "summary(model)$r.squared"
   ]
  },
  {
   "cell_type": "markdown",
   "metadata": {},
   "source": [
    "**r2 value    - Predictors** <br>\n",
    "0.483525 - number of rooms <br>\n",
    "0.638561 - number of rooms + lower stata population <br>\n",
    "0.638910 - number of rooms + lower stata population + Nitric Oxide in the air<br>\n",
    "0.639007 - number of rooms + lower stata population + Nitric Oxide in the air + **some random variable**"
   ]
  },
  {
   "cell_type": "markdown",
   "metadata": {},
   "source": [
    "This is crazy, right ? Just add any random variable ( which is not supposed to have any predictive power) and still the **r <sup>2</sup>** increases ? You are probably beginning to doubt the predictive power of **r <sup>2</sup>** in the first place. Well, it's not all bad with **r <sup>2</sup>**. Just that every random variable has some predictive power. In order to counter this, there is a new variable called **r<sup>2</sup> adjusted**. "
   ]
  },
  {
   "cell_type": "markdown",
   "metadata": {},
   "source": [
    "<img src=\"./pics/r-squared-adjusted.png\"/>"
   ]
  },
  {
   "cell_type": "markdown",
   "metadata": {},
   "source": [
    "where\n",
    "- n = sample size\n",
    "- p = number of predictors\n"
   ]
  },
  {
   "cell_type": "markdown",
   "metadata": {},
   "source": [
    "Essentially, the new parameter **r<sup>2</sup> adjusted** works by penalizing more parameters. That is why **p** - the number of predictors is in the denominator. "
   ]
  },
  {
   "cell_type": "markdown",
   "metadata": {},
   "source": [
    "What it goes to show is that, adding more predictors does not necessarily increase the explanatory power of the model. r<sup>2</sup> adjusted accommodates for this by incorporating a penalty for the number of predictors ( more the predictors, lesser the r<sup>2</sup> adjusted )."
   ]
  },
  {
   "cell_type": "markdown",
   "metadata": {},
   "source": [
    "When you add a predictor it should add significant value. If it is not ( For example, adding NOX - Nitric Oxide as a predictor ) r<sup>2</sup>-adjusted tells you that it is a worthless predictor and you better get rid of it. "
   ]
  },
  {
   "cell_type": "code",
   "execution_count": 36,
   "metadata": {},
   "outputs": [
    {
     "data": {
      "text/html": [
       "0.649563812528321"
      ],
      "text/latex": [
       "0.649563812528321"
      ],
      "text/markdown": [
       "0.649563812528321"
      ],
      "text/plain": [
       "[1] 0.6495638"
      ]
     },
     "metadata": {},
     "output_type": "display_data"
    }
   ],
   "source": [
    "summary(model)$adj.r.squared "
   ]
  },
  {
   "cell_type": "code",
   "execution_count": 37,
   "metadata": {},
   "outputs": [
    {
     "data": {
      "text/html": [
       "0.652671894013658"
      ],
      "text/latex": [
       "0.652671894013658"
      ],
      "text/markdown": [
       "0.652671894013658"
      ],
      "text/plain": [
       "[1] 0.6526719"
      ]
     },
     "metadata": {},
     "output_type": "display_data"
    }
   ],
   "source": [
    "summary(model)$r.squared"
   ]
  },
  {
   "cell_type": "markdown",
   "metadata": {},
   "source": [
    "<hr>"
   ]
  },
  {
   "cell_type": "markdown",
   "metadata": {},
   "source": [
    "### Exercise"
   ]
  },
  {
   "cell_type": "markdown",
   "metadata": {},
   "source": [
    "As an exercise, please model a multi-linear regression of Boston Housing dataset using\n",
    "\n",
    "- Scenario 1 - number of rooms + lower stata population + Nitric Oxide in the air\n",
    "- Scenario 2 - number of rooms + lower stata population + Nitric Oxide in the air + random variable\n",
    "\n",
    "Calculate r<sup>2</sup> and r<sup>2</sup> adjusted for both the scenarios. Did r<sup>2</sup> adjusted decrease or increase in scenario 2 ?\n"
   ]
  },
  {
   "cell_type": "markdown",
   "metadata": {},
   "source": [
    "<hr>"
   ]
  },
  {
   "cell_type": "markdown",
   "metadata": {},
   "source": [
    "### RMSE - Root Mean Square error"
   ]
  },
  {
   "cell_type": "markdown",
   "metadata": {},
   "source": [
    "While r<sup>2</sup> is a relative measure of fit, **RMSE** is an absolute measure of fit. Lower values indicate a better fit and higher values not. Calculating RMSE is quite simple - it is quite similar to the standard deviation (the square root of variance). While Standard Deviation ( sd ) is a measure of how far the distribution is from the mean, RMSE is a measure of how far the fit is from the actuals. "
   ]
  },
  {
   "cell_type": "markdown",
   "metadata": {},
   "source": [
    "<img src=\"./pics/residuals_visualized_2.png\"/>"
   ]
  },
  {
   "cell_type": "markdown",
   "metadata": {},
   "source": [
    "So, to calculate the **RMSE**, you just have to borrow the residuals from the model and do a couple of mathematical operations ( quite similar to how you do them to the differences from the mean in the case of mean ) "
   ]
  },
  {
   "cell_type": "markdown",
   "metadata": {},
   "source": [
    "### $RMSE = \\sqrt{\\sum (residual)^2}$"
   ]
  },
  {
   "cell_type": "code",
   "execution_count": 42,
   "metadata": {},
   "outputs": [
    {
     "data": {
      "text/html": [
       "5.18556387861621"
      ],
      "text/latex": [
       "5.18556387861621"
      ],
      "text/markdown": [
       "5.18556387861621"
      ],
      "text/plain": [
       "[1] 5.185564"
      ]
     },
     "metadata": {},
     "output_type": "display_data"
    }
   ],
   "source": [
    "sqrt( mean ( summary(model)$residuals ^2 )  )"
   ]
  },
  {
   "cell_type": "markdown",
   "metadata": {},
   "source": [
    "Now, you might have a question here. When you already have the **RMSE** to measure the fit, why do you need another metric - **r<sup>2</sup>** ? Well, you can't measure the growth rate of an elephant and a horse in absolute terms. RMSE is in the magnitute of the actual response variable, while **r<sup>2</sup>** is on a uniform scale ( 0 to 1 ). "
   ]
  },
  {
   "cell_type": "markdown",
   "metadata": {},
   "source": [
    "<hr>"
   ]
  },
  {
   "cell_type": "markdown",
   "metadata": {},
   "source": [
    "## Feature Selection"
   ]
  },
  {
   "cell_type": "markdown",
   "metadata": {},
   "source": [
    "In the Boston Housing dataset example, there are 13 predictors and 1 response variable. And the response variable is MEDV - Median house value. "
   ]
  },
  {
   "cell_type": "markdown",
   "metadata": {},
   "source": [
    "Previously, we have seen some examples of predicting the house value based on a random set of predictors - \n",
    "- RM - Number of rooms\n",
    "- LSTAT - Percentage of people with lower status\n",
    "- NOX - Nitric oxide content\n",
    "etc. "
   ]
  },
  {
   "cell_type": "markdown",
   "metadata": {},
   "source": [
    "However, we know that not all these variables have an equal say. So, how do we know which of the predictors have the most impact in predicting the house price ?"
   ]
  },
  {
   "cell_type": "markdown",
   "metadata": {},
   "source": [
    "> The process of identifying the features ( predictors ) that have the most **predictive power** is called  **Feature Selection**"
   ]
  },
  {
   "cell_type": "markdown",
   "metadata": {},
   "source": [
    "This process is called **Stepwise Regression**. Let's explore it in the next section. "
   ]
  },
  {
   "cell_type": "markdown",
   "metadata": {},
   "source": [
    "<hr>"
   ]
  },
  {
   "cell_type": "markdown",
   "metadata": {},
   "source": [
    "### Stepwise Regression"
   ]
  },
  {
   "cell_type": "markdown",
   "metadata": {},
   "source": [
    "In stepwise regression, we select a parameter to determine the fit. Based on how well the model is being fit, we add or keep removing predictors ( features ) until we come to a point where we can longer improve the model based on the selected parameter. "
   ]
  },
  {
   "cell_type": "markdown",
   "metadata": {},
   "source": [
    "What kind of parameters can be used to evaluate the model ? There are many choices like\n",
    "\n",
    "- p-value\n",
    "- r-squared\n",
    "- r-squared (adjusted )\n",
    "- F-tests or T-tests\n",
    "etc\n",
    "\n",
    "For now, since we are already aware of **p-value** let's choose it as our selection criteria parameter. "
   ]
  },
  {
   "cell_type": "code",
   "execution_count": 44,
   "metadata": {},
   "outputs": [
    {
     "data": {
      "text/plain": [
       "\n",
       "Call:\n",
       "lm(formula = medv ~ ., data = boston_housing)\n",
       "\n",
       "Residuals:\n",
       "     Min       1Q   Median       3Q      Max \n",
       "-19.3991  -2.5377  -0.5848   1.7101  27.9916 \n",
       "\n",
       "Coefficients:\n",
       "              Estimate Std. Error t value Pr(>|t|)    \n",
       "(Intercept)  20.866365   5.477190   3.810 0.000159 ***\n",
       "crim         -0.238025   0.223853  -1.063 0.288229    \n",
       "zn            0.038221   0.013372   2.858 0.004462 ** \n",
       "indus         0.051356   0.059643   0.861 0.389683    \n",
       "chas          2.435048   0.829794   2.935 0.003516 ** \n",
       "nox         -11.657986   3.928009  -2.968 0.003163 ** \n",
       "rm            5.110158   0.454838  11.235  < 2e-16 ***\n",
       "age          -0.006094   0.013101  -0.465 0.642031    \n",
       "dis          -1.271514   0.195766  -6.495 2.26e-10 ***\n",
       "rad           0.294444   0.085387   3.448 0.000619 ***\n",
       "tax          -0.011360   0.003612  -3.145 0.001776 ** \n",
       "ptratio      -0.831030   0.127000  -6.544 1.68e-10 ***\n",
       "b             0.012314   0.003513   3.505 0.000503 ***\n",
       "lstat        -0.520753   0.057428  -9.068  < 2e-16 ***\n",
       "---\n",
       "Signif. codes:  0 '***' 0.001 '**' 0.01 '*' 0.05 '.' 0.1 ' ' 1\n",
       "\n",
       "Residual standard error: 4.553 on 438 degrees of freedom\n",
       "  (54 observations deleted due to missingness)\n",
       "Multiple R-squared:  0.7405,\tAdjusted R-squared:  0.7328 \n",
       "F-statistic: 96.16 on 13 and 438 DF,  p-value: < 2.2e-16\n"
      ]
     },
     "metadata": {},
     "output_type": "display_data"
    }
   ],
   "source": [
    "model = lm ( medv ~ . , data= boston_housing)\n",
    "summary(model)"
   ]
  },
  {
   "cell_type": "markdown",
   "metadata": {},
   "source": [
    "Since we have to chosen **p-value** as our key assesment criteria, we are interested in this part of the table. "
   ]
  },
  {
   "cell_type": "markdown",
   "metadata": {},
   "source": [
    "<img src=\"./pics/p-values-model.png\"/>"
   ]
  },
  {
   "cell_type": "markdown",
   "metadata": {},
   "source": [
    "Irrespective of the selection criteria, there are 2 basic methods in stepwise regression. \n",
    "- **Backward Elimination**\n",
    "- **Forward Selection**"
   ]
  },
  {
   "cell_type": "markdown",
   "metadata": {},
   "source": [
    "<hr>"
   ]
  },
  {
   "cell_type": "markdown",
   "metadata": {},
   "source": [
    "### Backward Elimination"
   ]
  },
  {
   "cell_type": "markdown",
   "metadata": {},
   "source": [
    "As we see from the table above, not all predictors have the same p-value. So, in backward elimination, we start by eliminating the predictor with the worst parameter value (p-value in this case) and re-evaluate the model again. "
   ]
  },
  {
   "cell_type": "markdown",
   "metadata": {},
   "source": [
    "<img src=\"./pics/backward-elimination-1.png\"/>"
   ]
  },
  {
   "cell_type": "code",
   "execution_count": 55,
   "metadata": {},
   "outputs": [],
   "source": [
    "# Eliminate INDUS predictor. \n",
    "X = boston_housing[,c(1,2,4,5,6,7,8,9,10,11,12,13,14)]"
   ]
  },
  {
   "cell_type": "code",
   "execution_count": 56,
   "metadata": {},
   "outputs": [
    {
     "data": {
      "text/plain": [
       "\n",
       "Call:\n",
       "lm(formula = medv ~ ., data = X)\n",
       "\n",
       "Residuals:\n",
       "     Min       1Q   Median       3Q      Max \n",
       "-19.3513  -2.5184  -0.5814   1.6283  28.0395 \n",
       "\n",
       "Coefficients:\n",
       "              Estimate Std. Error t value Pr(>|t|)    \n",
       "(Intercept)  20.669661   5.470812   3.778 0.000180 ***\n",
       "crim         -0.233426   0.223724  -1.043 0.297353    \n",
       "zn            0.037131   0.013308   2.790 0.005498 ** \n",
       "chas          2.508402   0.825166   3.040 0.002508 ** \n",
       "nox         -10.830319   3.807459  -2.845 0.004656 ** \n",
       "rm            5.075414   0.452912  11.206  < 2e-16 ***\n",
       "age          -0.006238   0.013096  -0.476 0.634071    \n",
       "dis          -1.307708   0.191144  -6.841 2.64e-11 ***\n",
       "rad           0.278620   0.083362   3.342 0.000902 ***\n",
       "tax          -0.010031   0.003265  -3.072 0.002258 ** \n",
       "ptratio      -0.817289   0.125956  -6.489 2.34e-10 ***\n",
       "b             0.012233   0.003511   3.485 0.000542 ***\n",
       "lstat        -0.515724   0.057113  -9.030  < 2e-16 ***\n",
       "---\n",
       "Signif. codes:  0 '***' 0.001 '**' 0.01 '*' 0.05 '.' 0.1 ' ' 1\n",
       "\n",
       "Residual standard error: 4.552 on 439 degrees of freedom\n",
       "  (54 observations deleted due to missingness)\n",
       "Multiple R-squared:  0.7401,\tAdjusted R-squared:  0.733 \n",
       "F-statistic: 104.2 on 12 and 439 DF,  p-value: < 2.2e-16\n"
      ]
     },
     "metadata": {},
     "output_type": "display_data"
    }
   ],
   "source": [
    "model = lm(medv ~ . , data = X)\n",
    "summary(model)"
   ]
  },
  {
   "cell_type": "markdown",
   "metadata": {},
   "source": [
    "Eliminate Crime ( crim) next. "
   ]
  },
  {
   "cell_type": "markdown",
   "metadata": {},
   "source": [
    "Zone (zn) is the next parameter that has a relatively higher value. "
   ]
  },
  {
   "cell_type": "code",
   "execution_count": 57,
   "metadata": {},
   "outputs": [
    {
     "data": {
      "text/plain": [
       "\n",
       "Call:\n",
       "lm(formula = medv ~ ., data = X)\n",
       "\n",
       "Residuals:\n",
       "     Min       1Q   Median       3Q      Max \n",
       "-18.7560  -2.4916  -0.5937   1.6188  28.1229 \n",
       "\n",
       "Coefficients:\n",
       "              Estimate Std. Error t value Pr(>|t|)    \n",
       "(Intercept)  21.327935   5.434858   3.924 0.000101 ***\n",
       "zn            0.035475   0.013214   2.685 0.007535 ** \n",
       "chas          2.544654   0.824517   3.086 0.002155 ** \n",
       "nox         -11.589297   3.737700  -3.101 0.002055 ** \n",
       "rm            5.043166   0.451901  11.160  < 2e-16 ***\n",
       "age          -0.006310   0.013097  -0.482 0.630189    \n",
       "dis          -1.297433   0.190909  -6.796 3.51e-11 ***\n",
       "rad           0.220041   0.061626   3.571 0.000395 ***\n",
       "tax          -0.010079   0.003265  -3.087 0.002152 ** \n",
       "ptratio      -0.815266   0.125954  -6.473 2.57e-10 ***\n",
       "b             0.012720   0.003480   3.655 0.000288 ***\n",
       "lstat        -0.527443   0.056004  -9.418  < 2e-16 ***\n",
       "---\n",
       "Signif. codes:  0 '***' 0.001 '**' 0.01 '*' 0.05 '.' 0.1 ' ' 1\n",
       "\n",
       "Residual standard error: 4.552 on 440 degrees of freedom\n",
       "  (54 observations deleted due to missingness)\n",
       "Multiple R-squared:  0.7394,\tAdjusted R-squared:  0.7329 \n",
       "F-statistic: 113.5 on 11 and 440 DF,  p-value: < 2.2e-16\n"
      ]
     },
     "metadata": {},
     "output_type": "display_data"
    }
   ],
   "source": [
    "# Eliminate CRIM predictor. \n",
    "X = boston_housing[,c(2,4,5,6,7,8,9,10,11,12,13,14)]\n",
    "\n",
    "model = lm(medv ~ . , data = X)\n",
    "summary(model)"
   ]
  },
  {
   "cell_type": "markdown",
   "metadata": {},
   "source": [
    "Next, we eliminate age. "
   ]
  },
  {
   "cell_type": "code",
   "execution_count": 58,
   "metadata": {},
   "outputs": [
    {
     "data": {
      "text/plain": [
       "\n",
       "Call:\n",
       "lm(formula = medv ~ ., data = X)\n",
       "\n",
       "Residuals:\n",
       "     Min       1Q   Median       3Q      Max \n",
       "-18.6405  -2.5670  -0.5505   1.6077  27.8556 \n",
       "\n",
       "Coefficients:\n",
       "              Estimate Std. Error t value Pr(>|t|)    \n",
       "(Intercept)  21.679282   5.381020   4.029 6.60e-05 ***\n",
       "zn            0.036260   0.013102   2.768 0.005885 ** \n",
       "chas          2.525351   0.822826   3.069 0.002279 ** \n",
       "nox         -12.097475   3.582668  -3.377 0.000799 ***\n",
       "rm            4.988713   0.437159  11.412  < 2e-16 ***\n",
       "dis          -1.271884   0.183237  -6.941 1.40e-11 ***\n",
       "rad           0.222320   0.061391   3.621 0.000327 ***\n",
       "tax          -0.010122   0.003261  -3.104 0.002034 ** \n",
       "ptratio      -0.820426   0.125389  -6.543 1.68e-10 ***\n",
       "b             0.012598   0.003468   3.633 0.000313 ***\n",
       "lstat        -0.537831   0.051641 -10.415  < 2e-16 ***\n",
       "---\n",
       "Signif. codes:  0 '***' 0.001 '**' 0.01 '*' 0.05 '.' 0.1 ' ' 1\n",
       "\n",
       "Residual standard error: 4.548 on 441 degrees of freedom\n",
       "  (54 observations deleted due to missingness)\n",
       "Multiple R-squared:  0.7393,\tAdjusted R-squared:  0.7334 \n",
       "F-statistic: 125.1 on 10 and 441 DF,  p-value: < 2.2e-16\n"
      ]
     },
     "metadata": {},
     "output_type": "display_data"
    }
   ],
   "source": [
    "# Eliminate CRIM predictor. \n",
    "X = boston_housing[,c(2,4,5,6,8,9,10,11,12,13,14)]\n",
    "\n",
    "model = lm(medv ~ . , data = X)\n",
    "summary(model)"
   ]
  },
  {
   "cell_type": "markdown",
   "metadata": {},
   "source": [
    "At this point, almost all of the predictors have a significantly lower enough ( < 0.05 ) p-value. If you want to go further, probably you will end up with a set of predictors like this."
   ]
  },
  {
   "cell_type": "markdown",
   "metadata": {},
   "source": [
    "<img src=\"./pics/backward-elimination-3.png\"/>"
   ]
  },
  {
   "cell_type": "markdown",
   "metadata": {},
   "source": [
    "Stepwise regression with backward elimination (based on **r<sup>2</sup>**) is just one of the methods. There are many other methods that we will be learning as we progress through the course. "
   ]
  },
  {
   "cell_type": "markdown",
   "metadata": {},
   "source": [
    "<hr>"
   ]
  },
  {
   "cell_type": "markdown",
   "metadata": {},
   "source": [
    "## Accuracy of the model"
   ]
  },
  {
   "cell_type": "markdown",
   "metadata": {},
   "source": [
    "We have seen enough statistics for now. But we haven't actually predicted anything yet, right ? Using the 5 parameters that we have narrowed down to, let's start predicting median house prices and see how accurate our model is. "
   ]
  },
  {
   "cell_type": "markdown",
   "metadata": {},
   "source": [
    "In order to predict data, we first need to train the model ( which we have done already ). However, instead of training the model on the entire dataset, we split the data into training and test data sets. This process is also called Train/Test split. And as you might have guessed already, doing this R is pretty easy."
   ]
  },
  {
   "cell_type": "markdown",
   "metadata": {},
   "source": [
    "### Training and Test datasets"
   ]
  },
  {
   "cell_type": "markdown",
   "metadata": {},
   "source": [
    "How many rows of data do we have in Boston Housing dataset ? "
   ]
  },
  {
   "cell_type": "code",
   "execution_count": 59,
   "metadata": {},
   "outputs": [
    {
     "data": {
      "text/html": [
       "<style>\n",
       ".list-inline {list-style: none; margin:0; padding: 0}\n",
       ".list-inline>li {display: inline-block}\n",
       ".list-inline>li:not(:last-child)::after {content: \"\\00b7\"; padding: 0 .5ex}\n",
       "</style>\n",
       "<ol class=list-inline><li>506</li><li>14</li></ol>\n"
      ],
      "text/latex": [
       "\\begin{enumerate*}\n",
       "\\item 506\n",
       "\\item 14\n",
       "\\end{enumerate*}\n"
      ],
      "text/markdown": [
       "1. 506\n",
       "2. 14\n",
       "\n",
       "\n"
      ],
      "text/plain": [
       "[1] 506  14"
      ]
     },
     "metadata": {},
     "output_type": "display_data"
    }
   ],
   "source": [
    "dim(boston_housing)"
   ]
  },
  {
   "cell_type": "markdown",
   "metadata": {},
   "source": [
    "506 rows. That's all the data we have. Now, let's split this data into training and test datasets. What is the ratio of the split ? "
   ]
  },
  {
   "cell_type": "markdown",
   "metadata": {},
   "source": [
    "<img src=\"./pics/train-test-data-split.png\"/>"
   ]
  },
  {
   "cell_type": "markdown",
   "metadata": {},
   "source": [
    "Typically a 80-20 % split should do. You can also do a 75-25 % split. The exact percentage splits would probably be based mostly on the accuracy of the data and a bit of trail and error. "
   ]
  },
  {
   "cell_type": "markdown",
   "metadata": {},
   "source": [
    "Essentially, this what we are trying to do. "
   ]
  },
  {
   "cell_type": "markdown",
   "metadata": {},
   "source": [
    "<img src=\"./pics/boston-housing-train-test-split.png\"/>"
   ]
  },
  {
   "cell_type": "markdown",
   "metadata": {},
   "source": [
    "Use R's **sample ( )** function to sample the indices of 80% of the dataset size. "
   ]
  },
  {
   "cell_type": "code",
   "execution_count": 61,
   "metadata": {},
   "outputs": [],
   "source": [
    "# Split the data to train and test\n",
    "\n",
    "# 1. Get the number of rows \n",
    "rows = nrow(boston_housing)\n",
    "\n",
    "# 2. sample out 80% of the numbers between 1 and the number of rows\n",
    "index = sample(1:rows, rows*0.8)\n",
    "\n",
    "# 3. get the training data using the indices that correspond to 80% of the dataset\n",
    "train = boston_housing[index,]\n",
    "\n",
    "# 4. The remaining part of the data set becomes the test dataset. \n",
    "test = boston_housing[-index,]"
   ]
  },
  {
   "cell_type": "markdown",
   "metadata": {},
   "source": [
    "Now, that we know how to do the split, let's do it on just the predictors that we need. "
   ]
  },
  {
   "cell_type": "code",
   "execution_count": 64,
   "metadata": {},
   "outputs": [],
   "source": [
    "# Fit model based on \n",
    "# 1. RM - Number of rooms\n",
    "# 2. LSTAT - Percentage of people with lower status\n",
    "# 3. DIS   -  weighted distances to five Boston employment centres\n",
    "# 4. PRATIO - pupil-teacher ratio by town \n",
    "# 5. B - 1000(Bk - 0.63)^2 where Bk is the proportion of blacks by town\n",
    "\n",
    "model = lm ( medv ~ rm + lstat + dis + ptratio +  b, data = boston_housing)"
   ]
  },
  {
   "cell_type": "markdown",
   "metadata": {},
   "source": [
    "Now that we have trained the model, let's test it. "
   ]
  },
  {
   "cell_type": "code",
   "execution_count": 65,
   "metadata": {},
   "outputs": [],
   "source": [
    "pred = predict ( model, newdata = test )"
   ]
  },
  {
   "cell_type": "markdown",
   "metadata": {},
   "source": [
    "Now, let's find out how accurate our predictions are. A quick and dirty way to visually see this would be to plot the predicted vs actuals on a scatterplot. "
   ]
  },
  {
   "cell_type": "code",
   "execution_count": 70,
   "metadata": {},
   "outputs": [
    {
     "data": {
      "image/png": "[encoded data removed]",
      "text/plain": [
       "plot without title"
      ]
     },
     "metadata": {
      "image/png": {
       "height": 420,
       "width": 420
      },
      "text/plain": {
       "height": 420,
       "width": 420
      }
     },
     "output_type": "display_data"
    }
   ],
   "source": [
    "plot ( pred, test$medv,\n",
    "       xlab = \"Predictions\",\n",
    "       ylab = \"Actuals\",\n",
    "       xlim=c(0,50))  # use the xlimit to avoid some wild predictions"
   ]
  },
  {
   "cell_type": "markdown",
   "metadata": {},
   "source": [
    "If the prediction were 100% correct, we would get a perfect 45<sup>0</sup> line. Let's draw that as a baseline to compare the prediction's performance. \n"
   ]
  },
  {
   "cell_type": "code",
   "execution_count": 73,
   "metadata": {},
   "outputs": [
    {
     "data": {
      "image/png": "[encoded data removed]",
      "text/plain": [
       "plot without title"
      ]
     },
     "metadata": {
      "image/png": {
       "height": 420,
       "width": 420
      },
      "text/plain": {
       "height": 420,
       "width": 420
      }
     },
     "output_type": "display_data"
    }
   ],
   "source": [
    "plot ( pred, test$medv,\n",
    "       xlab = \"Predictions\",\n",
    "       ylab = \"Actuals\",\n",
    "       xlim=c(0,50),\n",
    "       ylim=c(0,50))  # use the xlimit to avoid some wild predictions\n",
    "\n",
    "abline(0,1)"
   ]
  },
  {
   "cell_type": "markdown",
   "metadata": {},
   "source": [
    "That's not a bad fit. Let's calculate the r<sup>2</sup> to have a numeric estimate of how good of a fit we have. "
   ]
  },
  {
   "cell_type": "code",
   "execution_count": 74,
   "metadata": {},
   "outputs": [
    {
     "data": {
      "text/html": [
       "0.714425296126006"
      ],
      "text/latex": [
       "0.714425296126006"
      ],
      "text/markdown": [
       "0.714425296126006"
      ],
      "text/plain": [
       "[1] 0.7144253"
      ]
     },
     "metadata": {},
     "output_type": "display_data"
    }
   ],
   "source": [
    "summary(model)$r.squared"
   ]
  },
  {
   "cell_type": "markdown",
   "metadata": {},
   "source": [
    "That's an **r<sup>2</sup>** of *0.7*. So, we can say that we are **70% accurate** in our prediction. "
   ]
  },
  {
   "cell_type": "markdown",
   "metadata": {},
   "source": [
    "<hr>"
   ]
  },
  {
   "cell_type": "markdown",
   "metadata": {},
   "source": [
    "## Polynomial Regression"
   ]
  },
  {
   "cell_type": "markdown",
   "metadata": {},
   "source": [
    "So far, we have seen examples of **Linear Regression** ( both simple and multi). However, not all types of data can be fit into a Linear Regression. For example, population growth is a good example of a non-linear data. Probably a better word for it is **exponential** growth. Let's take a simple example - The population of India and how it is projected to grow in this century. ( This is real data taken from United Nations at https://population.un.org/wpp/Download/Standard/Population/ )"
   ]
  },
  {
   "cell_type": "code",
   "execution_count": 1,
   "metadata": {},
   "outputs": [
    {
     "data": {
      "text/html": [
       "<table>\n",
       "<caption>A data.frame: 6 × 2</caption>\n",
       "<thead>\n",
       "\t<tr><th></th><th scope=col>year</th><th scope=col>population</th></tr>\n",
       "\t<tr><th></th><th scope=col>&lt;int&gt;</th><th scope=col>&lt;int&gt;</th></tr>\n",
       "</thead>\n",
       "<tbody>\n",
       "\t<tr><th scope=row>1</th><td>1950</td><td>376325200</td></tr>\n",
       "\t<tr><th scope=row>2</th><td>1951</td><td>382245303</td></tr>\n",
       "\t<tr><th scope=row>3</th><td>1952</td><td>388538620</td></tr>\n",
       "\t<tr><th scope=row>4</th><td>1953</td><td>395160091</td></tr>\n",
       "\t<tr><th scope=row>5</th><td>1954</td><td>402077026</td></tr>\n",
       "\t<tr><th scope=row>6</th><td>1955</td><td>409269055</td></tr>\n",
       "</tbody>\n",
       "</table>\n"
      ],
      "text/latex": [
       "A data.frame: 6 × 2\n",
       "\\begin{tabular}{r|ll}\n",
       "  & year & population\\\\\n",
       "  & <int> & <int>\\\\\n",
       "\\hline\n",
       "\t1 & 1950 & 376325200\\\\\n",
       "\t2 & 1951 & 382245303\\\\\n",
       "\t3 & 1952 & 388538620\\\\\n",
       "\t4 & 1953 & 395160091\\\\\n",
       "\t5 & 1954 & 402077026\\\\\n",
       "\t6 & 1955 & 409269055\\\\\n",
       "\\end{tabular}\n"
      ],
      "text/markdown": [
       "\n",
       "A data.frame: 6 × 2\n",
       "\n",
       "| <!--/--> | year &lt;int&gt; | population &lt;int&gt; |\n",
       "|---|---|---|\n",
       "| 1 | 1950 | 376325200 |\n",
       "| 2 | 1951 | 382245303 |\n",
       "| 3 | 1952 | 388538620 |\n",
       "| 4 | 1953 | 395160091 |\n",
       "| 5 | 1954 | 402077026 |\n",
       "| 6 | 1955 | 409269055 |\n",
       "\n"
      ],
      "text/plain": [
       "  year population\n",
       "1 1950 376325200 \n",
       "2 1951 382245303 \n",
       "3 1952 388538620 \n",
       "4 1953 395160091 \n",
       "5 1954 402077026 \n",
       "6 1955 409269055 "
      ]
     },
     "metadata": {},
     "output_type": "display_data"
    }
   ],
   "source": [
    "india = read.csv(\"./data/india_population.csv\")\n",
    "head(india)"
   ]
  },
  {
   "cell_type": "markdown",
   "metadata": {},
   "source": [
    "Let's plot this 150 years of data ( since 1950 until 2015 and projected data until 2100)"
   ]
  },
  {
   "cell_type": "code",
   "execution_count": 11,
   "metadata": {},
   "outputs": [
    {
     "data": {
      "image/png": "[encoded data removed]",
      "text/plain": [
       "plot without title"
      ]
     },
     "metadata": {
      "image/png": {
       "height": 420,
       "width": 420
      },
      "text/plain": {
       "height": 420,
       "width": 420
      }
     },
     "output_type": "display_data"
    }
   ],
   "source": [
    "plot(india$year, india$population,\n",
    "     xlab = \"year\",\n",
    "     ylab = \"Population in Billions\",\n",
    "     type = \"n\")  # does not produce any points or lines\n",
    "     \n",
    "lines(india$year, india$population, type=\"o\")"
   ]
  },
  {
   "cell_type": "markdown",
   "metadata": {},
   "source": [
    "Can you imagine trying to fit this data using Linear Regression ? Well, it is going to be a huge approximation after - say 2040 where the linearity ends. Let's try it to see how well it fits. "
   ]
  },
  {
   "cell_type": "code",
   "execution_count": 15,
   "metadata": {},
   "outputs": [
    {
     "data": {
      "image/png": "[encoded data removed]",
      "text/plain": [
       "plot without title"
      ]
     },
     "metadata": {
      "image/png": {
       "height": 420,
       "width": 420
      },
      "text/plain": {
       "height": 420,
       "width": 420
      }
     },
     "output_type": "display_data"
    }
   ],
   "source": [
    "# build the model\n",
    "model = lm ( india$population ~ india$year, data = india)\n",
    "\n",
    "# scatter plot\n",
    "plot(india$year,india$population)\n",
    "\n",
    "#get slope and intercept\n",
    "intercept = coef(model)[1]\n",
    "slope     = coef(model)[2]\n",
    "\n",
    "# fit line.\n",
    "abline(a=intercept, b=slope, col = \"red\")"
   ]
  },
  {
   "cell_type": "markdown",
   "metadata": {},
   "source": [
    "Well, it does an OK job given that the model is linear, but can we account for the curve somehow ? "
   ]
  },
  {
   "cell_type": "markdown",
   "metadata": {},
   "source": [
    "This is exactly where **polynomials** come in. sklearn has built-in methods for this - **PolynomialFeature** . Let's use it to fit the data. "
   ]
  },
  {
   "cell_type": "code",
   "execution_count": 30,
   "metadata": {},
   "outputs": [
    {
     "data": {
      "image/png": "[encoded data removed]",
      "text/plain": [
       "plot without title"
      ]
     },
     "metadata": {
      "image/png": {
       "height": 420,
       "width": 420
      },
      "text/plain": {
       "height": 420,
       "width": 420
      }
     },
     "output_type": "display_data"
    }
   ],
   "source": [
    "# build the model\n",
    "model = lm ( india$population ~ india$year + I(india$year ^ 2), data = india)\n",
    "\n",
    "# fit line.\n",
    "pred = predict(model, newdata = india)\n",
    "\n",
    "# scatter plot\n",
    "plot(india$year,india$population, pch=19, col= \"blue\")\n",
    "points (india$year, pred, pch=19, col= \"red\")"
   ]
  },
  {
   "cell_type": "code",
   "execution_count": 31,
   "metadata": {},
   "outputs": [
    {
     "data": {
      "text/plain": [
       "\n",
       "Call:\n",
       "lm(formula = india$population ~ india$year + I(india$year^2), \n",
       "    data = india)\n",
       "\n",
       "Residuals:\n",
       "       Min         1Q     Median         3Q        Max \n",
       "-101455469  -56743742   -2325066   54151912  214380534 \n",
       "\n",
       "Coefficients:\n",
       "                  Estimate Std. Error t value Pr(>|t|)    \n",
       "(Intercept)     -4.149e+11  1.331e+10  -31.18   <2e-16 ***\n",
       "india$year       4.017e+08  1.315e+07   30.55   <2e-16 ***\n",
       "I(india$year^2) -9.685e+04  3.246e+03  -29.84   <2e-16 ***\n",
       "---\n",
       "Signif. codes:  0 '***' 0.001 '**' 0.01 '*' 0.05 '.' 0.1 ' ' 1\n",
       "\n",
       "Residual standard error: 67780000 on 148 degrees of freedom\n",
       "Multiple R-squared:  0.9777,\tAdjusted R-squared:  0.9774 \n",
       "F-statistic:  3242 on 2 and 148 DF,  p-value: < 2.2e-16\n"
      ]
     },
     "metadata": {},
     "output_type": "display_data"
    }
   ],
   "source": [
    "summary(model)"
   ]
  },
  {
   "cell_type": "markdown",
   "metadata": {},
   "source": [
    "What is really happening here ? A single column ( year ) has now become 3 columns."
   ]
  },
  {
   "cell_type": "markdown",
   "metadata": {},
   "source": [
    "<img src=\"./pics/poly_fit.png\"/>"
   ]
  },
  {
   "cell_type": "markdown",
   "metadata": {},
   "source": [
    "The original linear equation <br> $y = a x_1 + b$ <br> has been transformed to <br> $y = 1 + a_1 x_1 + a_2 x_1^2 + b$"
   ]
  },
  {
   "cell_type": "markdown",
   "metadata": {},
   "source": [
    "We can put both these models on the same plot and you can see how well the prediction hugs the data. "
   ]
  },
  {
   "cell_type": "code",
   "execution_count": 55,
   "metadata": {},
   "outputs": [
    {
     "data": {
      "image/png": "[encoded data removed]",
      "text/plain": [
       "plot without title"
      ]
     },
     "metadata": {
      "image/png": {
       "height": 420,
       "width": 420
      },
      "text/plain": {
       "height": 420,
       "width": 420
      }
     },
     "output_type": "display_data"
    }
   ],
   "source": [
    "# build the models\n",
    "model_lin    = lm ( india$population ~ india$year )\n",
    "model_poly_2 = lm ( india$population ~ india$year + I(india$year ^ 2))\n",
    "\n",
    "# fit line.\n",
    "pred_lin    = predict(model_lin, newdata = india)\n",
    "pred_poly_2 = predict(model_poly_2, newdata = india) \n",
    "\n",
    "# scatter plot\n",
    "plot(india$year,india$population, pch=19, col= \"blue\")\n",
    "points (india$year, pred_lin, pch=19, col= \"red\")\n",
    "points (india$year, pred_poly_2, pch = 19, col = \"green\")\n",
    "\n",
    "#put a legend as well. \n",
    "legend(\"topleft\", legend=c(\"data\", \"Linear Model\", \"Polynomial model - 2\"),\n",
    "       col=c(\"blue\", \"red\", \"green\"), lty=1)"
   ]
  },
  {
   "cell_type": "markdown",
   "metadata": {},
   "source": [
    "Visually, you can see the green line (polynomial fit) seems to follow the blue line(data) much better than the red line(linear fit), right ? How about we go one step further and see if increasing the polynomial degree would make this any better. "
   ]
  },
  {
   "cell_type": "code",
   "execution_count": 54,
   "metadata": {},
   "outputs": [
    {
     "data": {
      "image/png": "[encoded data removed]",
      "text/plain": [
       "plot without title"
      ]
     },
     "metadata": {
      "image/png": {
       "height": 420,
       "width": 420
      },
      "text/plain": {
       "height": 420,
       "width": 420
      }
     },
     "output_type": "display_data"
    }
   ],
   "source": [
    "# build the models\n",
    "model_lin    = lm ( india$population ~ india$year )\n",
    "model_poly_2 = lm ( india$population ~ india$year + I(india$year ^ 2))\n",
    "model_poly_3 = lm ( india$population ~ india$year + I(india$year ^ 2) + I(india$year ^ 3))\n",
    "\n",
    "# fit line.\n",
    "pred_lin    = predict(model_lin, newdata = india)\n",
    "pred_poly_2 = predict(model_poly_2, newdata = india) \n",
    "pred_poly_3 = predict(model_poly_3, newdata = india) \n",
    "\n",
    "# scatter plot\n",
    "plot(india$year,india$population, pch=19, col= \"blue\")\n",
    "points (india$year, pred_lin, pch=19, col= \"red\")\n",
    "points (india$year, pred_poly_2, pch = 19, col = \"green\")\n",
    "points (india$year, pred_poly_3, pch = 19, col = \"orange\")\n",
    "\n",
    "#put a legend as well. \n",
    "legend(\"topleft\", legend=c(\"data\", \"Linear Model\", \"Polynomial model - 2\", \"Polynomial model - 3\"),\n",
    "       col=c(\"blue\", \"red\", \"green\", \"orange\"), lty=1)"
   ]
  },
  {
   "cell_type": "markdown",
   "metadata": {},
   "source": [
    "Essentiall, we are doing this now. "
   ]
  },
  {
   "cell_type": "markdown",
   "metadata": {},
   "source": [
    "The original linear equation <br> $y = a x_1 + b$ <br> has been transformed to <br> $y = 1 + a_1 x_1 + a_2 x_1^2 + a_3 x_1^3 + b$"
   ]
  },
  {
   "cell_type": "markdown",
   "metadata": {},
   "source": [
    "The orange line (polynomial fit, degree = 3) is hugging the actual data curve (blue) much closer than the green line ( polynomial fit , degree = 2 ), right ? Let's do the numbers ( r<sup>2</sup> score ) as well, to really know the degree of fit. "
   ]
  },
  {
   "cell_type": "code",
   "execution_count": 53,
   "metadata": {},
   "outputs": [
    {
     "name": "stdout",
     "output_type": "stream",
     "text": [
      "0.8434444  --> R squared - Linear fit \n",
      "0.9776831  --> R squared - polynomial fit ( degree = 2) \n",
      "0.9953978  --> R squared - polynomial fit ( degree = 3) \n"
     ]
    }
   ],
   "source": [
    "cat ( summary(model_lin)$r.squared, \" --> R squared - Linear fit\", \"\\n\")\n",
    "cat ( summary(model_poly_2)$r.squared, \" --> R squared - polynomial fit ( degree = 2)\", \"\\n\")\n",
    "cat ( summary(model_poly_3)$r.squared, \" --> R squared - polynomial fit ( degree = 3)\", \"\\n\")"
   ]
  },
  {
   "cell_type": "markdown",
   "metadata": {},
   "source": [
    "<hr>"
   ]
  },
  {
   "cell_type": "markdown",
   "metadata": {},
   "source": [
    "### Challenge"
   ]
  },
  {
   "cell_type": "markdown",
   "metadata": {},
   "source": [
    "Use polynomial regression to fit the following parameters on the boston Housing dataset. \n",
    "- LSTAT ( Lower Status Population percentage )\n",
    "- MEDV  ( Median house value )\n",
    "\n",
    "After modeling , \n",
    "- Plot both linear and polynomial model ( degree = 2 ) to visually show how they perform\n",
    "- Compare the r<sup>2</sup>  values between linear and polynomial model\n",
    "- Verify if increasing the degree of the polynomial regression ( say degree = 3 or 4 ) increases the performance. "
   ]
  },
  {
   "cell_type": "markdown",
   "metadata": {},
   "source": [
    "### Solution"
   ]
  },
  {
   "cell_type": "code",
   "execution_count": 76,
   "metadata": {},
   "outputs": [
    {
     "data": {
      "image/png": "[encoded data removed]",
      "text/plain": [
       "plot without title"
      ]
     },
     "metadata": {
      "image/png": {
       "height": 420,
       "width": 420
      },
      "text/plain": {
       "height": 420,
       "width": 420
      }
     },
     "output_type": "display_data"
    }
   ],
   "source": [
    "# build the models\n",
    "model_lin    = lm ( medv ~ lstat , data = boston_housing)\n",
    "model_poly_2 = lm ( medv ~ lstat + I(lstat ^ 2), data = boston_housing)\n",
    "model_poly_3 = lm ( medv ~ lstat + I(lstat ^ 2) + I(lstat ^ 3), data = boston_housing)\n",
    "\n",
    "# fit line.\n",
    "pred_lin    = predict(model_lin, newdata = boston_housing)\n",
    "pred_poly_2 = predict(model_poly_2, newdata = boston_housing) \n",
    "pred_poly_3 = predict(model_poly_3, newdata = boston_housing) \n",
    "\n",
    "# scatter plot\n",
    "lstat = boston_housing$lstat\n",
    "medv  = boston_housing$medv\n",
    "\n",
    "plot   (lstat,medv, pch=19, col= \"blue\")\n",
    "points (lstat, pred_lin,  , pch=19, col= \"red\")\n",
    "points (lstat, pred_poly_2, pch = 19, col = \"green\")\n",
    "points (lstat, pred_poly_3, pch = 19, col = \"orange\")\n",
    "\n",
    "#put a legend as well. \n",
    "legend(\"topleft\", legend=c(\"data\", \"Linear Model\", \"Polynomial model - 2\", \"Polynomial model - 3\"),\n",
    "       col=c(\"blue\", \"red\", \"green\", \"orange\"), lty=1)"
   ]
  },
  {
   "cell_type": "markdown",
   "metadata": {},
   "source": [
    "**0.544** - r2 score with linear modeling <br>\n",
    "**0.640** - r2 score with polynomial modeling ( degree = 2 ) <br>\n",
    "**0.657** - r2 score with polynomial modeling ( degree = 3 )"
   ]
  },
  {
   "cell_type": "markdown",
   "metadata": {},
   "source": [
    "That's just a marginal improvement over second degree polynomial regression. So, you don't need to go beyond second degree."
   ]
  },
  {
   "cell_type": "markdown",
   "metadata": {},
   "source": [
    "How about a 10th degree fit ? "
   ]
  },
  {
   "cell_type": "code",
   "execution_count": 79,
   "metadata": {},
   "outputs": [
    {
     "data": {
      "image/png": "[encoded data removed]",
      "text/plain": [
       "plot without title"
      ]
     },
     "metadata": {
      "image/png": {
       "height": 420,
       "width": 420
      },
      "text/plain": {
       "height": 420,
       "width": 420
      }
     },
     "output_type": "display_data"
    }
   ],
   "source": [
    "# build the models\n",
    "model_lin    = lm ( medv ~ lstat , data = boston_housing)\n",
    "model_poly_2 = lm ( medv ~ lstat + I(lstat ^ 2), data = boston_housing)\n",
    "model_poly_3 = lm ( medv ~ lstat + I(lstat ^ 2) + I(lstat ^ 3), data = boston_housing)\n",
    "# notice how we are specifying the polynomial fit\n",
    "model_poly_10 = lm ( medv ~ poly(lstat,10), data = boston_housing)\n",
    "\n",
    "# fit line.\n",
    "pred_lin    = predict(model_lin, newdata = boston_housing)\n",
    "pred_poly_2 = predict(model_poly_2, newdata = boston_housing) \n",
    "pred_poly_3 = predict(model_poly_3, newdata = boston_housing) \n",
    "pred_poly_10 = predict(model_poly_3, newdata = boston_housing) \n",
    "\n",
    "# scatter plot\n",
    "lstat = boston_housing$lstat\n",
    "medv  = boston_housing$medv\n",
    "\n",
    "plot   (lstat,medv, pch=19, col= \"blue\")\n",
    "points (lstat, pred_lin,  , pch=19, col= \"red\")\n",
    "points (lstat, pred_poly_2, pch = 19, col = \"green\")\n",
    "points (lstat, pred_poly_3, pch = 19, col = \"orange\")\n",
    "points (lstat, pred_poly_10, pch = 19, col = \"cyan\")\n",
    "\n",
    "#put a legend as well. \n",
    "legend(\"topleft\", legend=c(\"data\", \"Linear Model\", \"Polynomial model - 2\", \"Polynomial model - 3\"),\n",
    "       col=c(\"blue\", \"red\", \"green\", \"orange\"), lty=1)"
   ]
  },
  {
   "cell_type": "markdown",
   "metadata": {},
   "source": [
    "**0.544** - r2 score with linear modeling <br>\n",
    "**0.640** - r2 score with polynomial modeling ( degree = 2 ) <br>\n",
    "**0.657** - r2 score with polynomial modeling ( degree = 3 ) <br>\n",
    "**0.684** - r2 score with polynomial modeling ( degree = 10 ) <br>"
   ]
  },
  {
   "cell_type": "markdown",
   "metadata": {},
   "source": [
    "See, even if you go to a 10th degree polynomial fitting, the improvement in r<sup>2</sup> is just about 0.04 from a second degree polynomial fitting. "
   ]
  },
  {
   "cell_type": "markdown",
   "metadata": {},
   "source": [
    "<hr>"
   ]
  },
  {
   "cell_type": "markdown",
   "metadata": {},
   "source": [
    "## Overfitting"
   ]
  },
  {
   "cell_type": "markdown",
   "metadata": {},
   "source": [
    "Sometimes, where there is not enough data, the model might tend to overfit. Look at the example data below. We are simulating a sin wave."
   ]
  },
  {
   "cell_type": "code",
   "execution_count": 104,
   "metadata": {},
   "outputs": [],
   "source": [
    "x = seq( from = 10, to = 100, by=5)\n",
    "y = sin(x*pi/180)"
   ]
  },
  {
   "cell_type": "markdown",
   "metadata": {},
   "source": [
    "Let's plot it to see how it it looks "
   ]
  },
  {
   "cell_type": "code",
   "execution_count": 87,
   "metadata": {},
   "outputs": [
    {
     "data": {
      "image/png": "[encoded data removed]",
      "text/plain": [
       "plot without title"
      ]
     },
     "metadata": {
      "image/png": {
       "height": 420,
       "width": 420
      },
      "text/plain": {
       "height": 420,
       "width": 420
      }
     },
     "output_type": "display_data"
    }
   ],
   "source": [
    "plot(x,y, pch = 19, col = \"blue\")"
   ]
  },
  {
   "cell_type": "markdown",
   "metadata": {},
   "source": [
    "Let's introduce a bit of variance to make the data a bit realistic. "
   ]
  },
  {
   "cell_type": "code",
   "execution_count": 105,
   "metadata": {},
   "outputs": [],
   "source": [
    "variance = runif(length(x), min=0.1, max=0.3)\n",
    "y = y + variance"
   ]
  },
  {
   "cell_type": "code",
   "execution_count": 106,
   "metadata": {},
   "outputs": [
    {
     "data": {
      "image/png": "[encoded data removed]",
      "text/plain": [
       "plot without title"
      ]
     },
     "metadata": {
      "image/png": {
       "height": 420,
       "width": 420
      },
      "text/plain": {
       "height": 420,
       "width": 420
      }
     },
     "output_type": "display_data"
    }
   ],
   "source": [
    "plot(x,y, pch = 19, col = \"blue\")"
   ]
  },
  {
   "cell_type": "markdown",
   "metadata": {},
   "source": [
    "Now,  let's see how a 2nd degree polynomial regression fits. "
   ]
  },
  {
   "cell_type": "code",
   "execution_count": 116,
   "metadata": {},
   "outputs": [
    {
     "data": {
      "image/png": "[encoded data removed]",
      "text/plain": [
       "plot without title"
      ]
     },
     "metadata": {
      "image/png": {
       "height": 420,
       "width": 420
      },
      "text/plain": {
       "height": 420,
       "width": 420
      }
     },
     "output_type": "display_data"
    }
   ],
   "source": [
    "# build the models\n",
    "model_poly_2 = lm ( y ~ x + I(x ^ 2))\n",
    "\n",
    "# fit line.\n",
    "pred_poly_2 = predict(model_poly_2, newdata = data.frame(x,y)) \n",
    "\n",
    "# scatter plot\n",
    "plot   (x,y, pch=19, col= \"blue\")\n",
    "lines (x, pred_poly_2, pch = 19, col = \"green\", lty=1, lwd = 3)\n",
    "\n",
    "#put a legend as well. \n",
    "legend(\"topleft\", legend=c(\"data\", \"Polynomial model - 2\"),\n",
    "       col=c(\"blue\", \"green\"), lty=1)"
   ]
  },
  {
   "cell_type": "markdown",
   "metadata": {},
   "source": [
    "This looks to be a good fit, right ? Now, let's try a higher order polynomial fit ( say degree = 10 )"
   ]
  },
  {
   "cell_type": "code",
   "execution_count": 120,
   "metadata": {},
   "outputs": [
    {
     "data": {
      "image/png": "[encoded data removed]",
      "text/plain": [
       "plot without title"
      ]
     },
     "metadata": {
      "image/png": {
       "height": 420,
       "width": 420
      },
      "text/plain": {
       "height": 420,
       "width": 420
      }
     },
     "output_type": "display_data"
    }
   ],
   "source": [
    "# build the models\n",
    "model_poly_2 = lm ( y ~ x + I(x ^ 2))\n",
    "model_poly_10 = lm ( y ~ poly(x,10))\n",
    "\n",
    "# fit line.\n",
    "pred_poly_2 = predict(model_poly_2, newdata = data.frame(x,y)) \n",
    "pred_poly_10 = predict(model_poly_10, newdata = data.frame(x,y)) \n",
    "\n",
    "# scatter plot\n",
    "plot   (x,y, pch=19, col= \"blue\")\n",
    "lines (x, pred_poly_2, pch = 19, col = \"green\", lty=1, lwd = 3)\n",
    "lines (x, pred_poly_10, pch = 19, col = \"red\", lty=1, lwd = 3)\n",
    "\n",
    "#put a legend as well. \n",
    "legend(\"topleft\", legend=c(\"data\", \"Polynomial model - 2\", \"Polynomial model - 10\"),\n",
    "       col=c(\"blue\", \"green\", \"red\"), lty=1)"
   ]
  },
  {
   "cell_type": "markdown",
   "metadata": {},
   "source": [
    "Overfitting typically happens when the model is trying to work too hard for the data. And why is it a problem ? Overfitting tries to fit the data too much and hence will not work well for new datasets. Think of overfitting as localizing the solution for the test datasets - it is more or less **memorizing** the data, not **generalizing** a solution for the dataset. Obviously, it will not work as well when model is used on real data set. We will see more examples of these when we see other machine learning algorithms down the line. "
   ]
  },
  {
   "cell_type": "markdown",
   "metadata": {},
   "source": [
    "If you are wondering why the simple linear regression is able to learn the model just enough, but the higher degree polynomial regression is over learning it, that is because the higher order polynomial regression has the flexibility to learn more ( as compared to a linear or second order polynomial regression ). This is actually, good, except that it is not able to discern noise from data. Let's increase the dataset size to see if the same 15 degree polynomial regression peforms better than a second order. "
   ]
  },
  {
   "cell_type": "markdown",
   "metadata": {},
   "source": [
    "**Increase sample size to 1000**"
   ]
  },
  {
   "cell_type": "code",
   "execution_count": 136,
   "metadata": {},
   "outputs": [
    {
     "data": {
      "image/png": "[encoded data removed]",
      "text/plain": [
       "plot without title"
      ]
     },
     "metadata": {
      "image/png": {
       "height": 420,
       "width": 420
      },
      "text/plain": {
       "height": 420,
       "width": 420
      }
     },
     "output_type": "display_data"
    }
   ],
   "source": [
    "x = seq( from = 10, to = 100, by=0.1)\n",
    "y = sin(x*pi/180)\n",
    "\n",
    "variance = runif(length(x), min=0.1, max=0.3)\n",
    "y = y + variance\n",
    "\n",
    "plot(x,y, pch = 19, col = \"blue\")"
   ]
  },
  {
   "cell_type": "code",
   "execution_count": 137,
   "metadata": {},
   "outputs": [
    {
     "data": {
      "image/png": "[encoded data removed]",
      "text/plain": [
       "plot without title"
      ]
     },
     "metadata": {
      "image/png": {
       "height": 420,
       "width": 420
      },
      "text/plain": {
       "height": 420,
       "width": 420
      }
     },
     "output_type": "display_data"
    }
   ],
   "source": [
    "# build the models\n",
    "model_poly_2 = lm ( y ~ x + I(x ^ 2))\n",
    "model_poly_15 = lm ( y ~ poly(x,15))\n",
    "\n",
    "# fit line.\n",
    "pred_poly_2 = predict(model_poly_2, newdata = data.frame(x,y)) \n",
    "pred_poly_15 = predict(model_poly_10, newdata = data.frame(x,y)) \n",
    "\n",
    "# scatter plot\n",
    "plot   (x,y, pch=19, col= \"blue\")\n",
    "lines (x, pred_poly_2, pch = 19, col = \"green\", lty=1, lwd = 3)\n",
    "lines (x, pred_poly_15, pch = 19, col = \"red\", lty=1, lwd = 3)\n",
    "\n",
    "#put a legend as well. \n",
    "legend(\"topleft\", legend=c(\"data\", \"Polynomial model - 2\", \"Polynomial model - 15\"),\n",
    "       col=c(\"blue\", \"green\", \"red\"), lty=1)"
   ]
  },
  {
   "cell_type": "markdown",
   "metadata": {},
   "source": [
    "You see, data size did not matter, still the 15th order polynomial regression still overfits the data. The reason is that for the amount of data and noise, a second or 3rd degree polynomial has enough power to capture the complexity of this data. Probably for more complicated data sets, an increase in degree might capture the complexity better. "
   ]
  },
  {
   "cell_type": "markdown",
   "metadata": {},
   "source": [
    "<hr>"
   ]
  },
  {
   "cell_type": "markdown",
   "metadata": {},
   "source": [
    "### Detect Overfitting"
   ]
  },
  {
   "cell_type": "markdown",
   "metadata": {},
   "source": [
    "If you look at the pictures above, we were able to clearly see an overfit. This is because it is a 2 dimensional dataset. Most data is multi-dimensional in real life - in which case we cannot be able to identify an overfit, but just looking at a plot. There are basically 2 methods to identify an overfit. "
   ]
  },
  {
   "cell_type": "markdown",
   "metadata": {},
   "source": [
    "#### 1. Chose a simpler model."
   ]
  },
  {
   "cell_type": "markdown",
   "metadata": {},
   "source": [
    "Look at a measure of the score ( **r<sup>2</sup>**) - if there is not a significant difference, then better go for a simpler model. "
   ]
  },
  {
   "cell_type": "code",
   "execution_count": 140,
   "metadata": {},
   "outputs": [
    {
     "name": "stdout",
     "output_type": "stream",
     "text": [
      "[1] 0.9485446\n",
      "[1] 0.9504134\n"
     ]
    }
   ],
   "source": [
    "x = seq( from = 10, to = 100, by=0.1)\n",
    "y = sin(x*pi/180)\n",
    "\n",
    "variance = runif(length(x), min=0.1, max=0.3)\n",
    "y = y + variance\n",
    "\n",
    "# build the models\n",
    "model_poly_2 = lm ( y ~ x + I(x ^ 2))\n",
    "model_poly_15 = lm ( y ~ poly(x,15))\n",
    "\n",
    "# fit line.\n",
    "pred_poly_2 = predict(model_poly_2, newdata = data.frame(x,y)) \n",
    "pred_poly_15 = predict(model_poly_10, newdata = data.frame(x,y)) \n",
    "\n",
    "# print out r-squared\n",
    "print ( summary(model_poly_2)$r.squared)\n",
    "print ( summary(model_poly_15)$r.squared)"
   ]
  },
  {
   "cell_type": "markdown",
   "metadata": {},
   "source": [
    "<table>\n",
    "  <tr>\n",
    "      <th>r<sup>2</sup> score </th>   <th>2<sup>nd</sup> Degree Polynomial</th>    <th>15<sup>th</sup> Degree Polynomial</th>   \n",
    "  </tr>\n",
    "    <tr> <td> </td> <td>0.948</td>     <td>0.950</td>     \n",
    "  </tr>\n",
    "\n",
    "</table>"
   ]
  },
  {
   "cell_type": "markdown",
   "metadata": {},
   "source": [
    "The **r<sup>2</sup>** score of the 2<sup>nd</sup> degree fit is almost as better as the 15<sup>th</sup> degree polynomial model. So, the simpler model ( 2<sup>nd</sup> degree model) wins. "
   ]
  },
  {
   "cell_type": "markdown",
   "metadata": {},
   "source": [
    "<hr>"
   ]
  },
  {
   "cell_type": "markdown",
   "metadata": {},
   "source": [
    "#### 2. Check the model performance across Training and Test datasets. "
   ]
  },
  {
   "cell_type": "markdown",
   "metadata": {},
   "source": [
    "Another method to identify an overfit is by validating how well the model is performing against the training dataset vs the test dataset. "
   ]
  },
  {
   "cell_type": "code",
   "execution_count": 2,
   "metadata": {},
   "outputs": [],
   "source": [
    "# Split the data to train and test\n",
    "\n",
    "# 1. Get the number of rows \n",
    "rows = nrow(boston_housing)\n",
    "\n",
    "# 2. sample out 80% of the numbers between 1 and the number of rows\n",
    "index = sample(1:rows, rows*0.8)\n",
    "\n",
    "# 3. get the training data using the indices that correspond to 80% of the dataset\n",
    "train = boston_housing[index,]\n",
    "\n",
    "# 4. The remaining part of the data set becomes the test dataset. \n",
    "test = boston_housing[-index,]"
   ]
  },
  {
   "cell_type": "markdown",
   "metadata": {},
   "source": [
    "Fit a 2nd degree and 15th degree polynomial regression"
   ]
  },
  {
   "cell_type": "code",
   "execution_count": 37,
   "metadata": {},
   "outputs": [],
   "source": [
    "# build the models\n",
    "model_lin     = lm ( medv ~ lstat , data = train)\n",
    "model_poly_2  = lm ( medv ~ lstat + I(lstat ^ 2), data = train)\n",
    "model_poly_15 = lm ( medv ~ poly(lstat,15), data = train)"
   ]
  },
  {
   "cell_type": "markdown",
   "metadata": {},
   "source": [
    "Compare the accuracy scores across both the scenarios (2nd degree and 15th degree polynomial regression) by predicting the test data set based on modeling the training dataset. "
   ]
  },
  {
   "cell_type": "code",
   "execution_count": 38,
   "metadata": {},
   "outputs": [],
   "source": [
    "mape_2 = mean ( abs ( ( test$medv - predict(model_poly_2, test) ) / test$medv * 100 ) , na.rm = TRUE)\n",
    "mape_15 = mean ( abs ( ( test$medv - predict(model_poly_15, test) ) / test$medv * 100 ) , na.rm = TRUE)"
   ]
  },
  {
   "cell_type": "code",
   "execution_count": 39,
   "metadata": {},
   "outputs": [
    {
     "name": "stdout",
     "output_type": "stream",
     "text": [
      "17.64013 15.44444"
     ]
    }
   ],
   "source": [
    "cat ( mape_2, mape_15)"
   ]
  },
  {
   "cell_type": "markdown",
   "metadata": {},
   "source": [
    "As you can see the r-square score has decreased (slightly though ) for the 15th degree polynomial. That goes to show that  the 15th degree polynomial is definitely overfitting. "
   ]
  },
  {
   "cell_type": "markdown",
   "metadata": {},
   "source": [
    "<hr>"
   ]
  },
  {
   "cell_type": "markdown",
   "metadata": {},
   "source": [
    "## Linear Regression Assumptions"
   ]
  },
  {
   "cell_type": "markdown",
   "metadata": {},
   "source": [
    "### Homoskedasticity"
   ]
  },
  {
   "cell_type": "markdown",
   "metadata": {},
   "source": [
    "In plain english, what this means is that, the variance between the predicted and the actual values should be uniform across the spectrum."
   ]
  },
  {
   "cell_type": "markdown",
   "metadata": {},
   "source": [
    "> **Homoskedasticity** = Uniform Variance"
   ]
  },
  {
   "cell_type": "markdown",
   "metadata": {},
   "source": [
    "Let's take the relationship between the number of rooms (\"RM\") and the median price value (\"MEDV\") and try to fit a linear regression model. "
   ]
  },
  {
   "cell_type": "code",
   "execution_count": 67,
   "metadata": {},
   "outputs": [],
   "source": [
    "model_lin     = lm ( medv ~ rm , data = boston_housing)"
   ]
  },
  {
   "cell_type": "markdown",
   "metadata": {},
   "source": [
    "Let's try to predict the house price now that our model is ready. "
   ]
  },
  {
   "cell_type": "code",
   "execution_count": 68,
   "metadata": {},
   "outputs": [],
   "source": [
    "y_pred = predict ( model_lin, newdata = boston_housing)"
   ]
  },
  {
   "cell_type": "markdown",
   "metadata": {},
   "source": [
    "Now that we have predicted the housing prices, let's see how they compare to the actual house price. The difference between the predicted and actual values is called **residuals**."
   ]
  },
  {
   "cell_type": "code",
   "execution_count": 69,
   "metadata": {},
   "outputs": [],
   "source": [
    "residuals_rm = y_pred - boston_housing$medv"
   ]
  },
  {
   "cell_type": "markdown",
   "metadata": {},
   "source": [
    "Let's plot the residuals vs the predicted values. "
   ]
  },
  {
   "cell_type": "code",
   "execution_count": 54,
   "metadata": {},
   "outputs": [
    {
     "data": {
      "image/png": "[encoded data removed]",
      "text/plain": [
       "Plot with title \"Fitted vs Residuals\""
      ]
     },
     "metadata": {
      "image/png": {
       "height": 420,
       "width": 420
      },
      "text/plain": {
       "height": 420,
       "width": 420
      }
     },
     "output_type": "display_data"
    }
   ],
   "source": [
    "plot ( y_pred, residuals_rm, \n",
    "       xlim  = c(1,50),\n",
    "       xlab  = \"Predicted Median House Price\",\n",
    "       ylab  = \"Residuals\",\n",
    "       main  = \"Fitted vs Residuals\")"
   ]
  },
  {
   "cell_type": "markdown",
   "metadata": {},
   "source": [
    "What this plot goes to show is that the variance ( residuals ) is not uniform across the spectrum of house prices. For example, the variance is high between 10K and 35K. But that's probably because the bulk of the data lies there. You can strip away outliers and restrict our dataset to between those values and try again. "
   ]
  },
  {
   "cell_type": "code",
   "execution_count": 55,
   "metadata": {},
   "outputs": [
    {
     "data": {
      "image/png": "[encoded data removed]",
      "text/plain": [
       "Plot with title \"Fitted vs Residuals\""
      ]
     },
     "metadata": {
      "image/png": {
       "height": 420,
       "width": 420
      },
      "text/plain": {
       "height": 420,
       "width": 420
      }
     },
     "output_type": "display_data"
    }
   ],
   "source": [
    "plot ( y_pred, residuals_rm, \n",
    "       xlim  = c(1,50),\n",
    "       ylim  = c(-10,10),\n",
    "       xlab  = \"Predicted Median House Price\",\n",
    "       ylab  = \"Residuals\",\n",
    "       main  = \"Fitted vs Residuals\")"
   ]
  },
  {
   "cell_type": "markdown",
   "metadata": {},
   "source": [
    "This actually looks ok. However, the ideal scenario is what is called the night sky - like a simulated picture below. "
   ]
  },
  {
   "cell_type": "code",
   "execution_count": 62,
   "metadata": {},
   "outputs": [],
   "source": [
    "# Generate 10K random numbers between 0 and 100.\n",
    "x = runif(100, min = 0, max = 100)\n",
    "y = runif(100, min = 0, max = 100)"
   ]
  },
  {
   "cell_type": "code",
   "execution_count": 63,
   "metadata": {},
   "outputs": [
    {
     "data": {
      "image/png": "[encoded data removed]",
      "text/plain": [
       "plot without title"
      ]
     },
     "metadata": {
      "image/png": {
       "height": 420,
       "width": 420
      },
      "text/plain": {
       "height": 420,
       "width": 420
      }
     },
     "output_type": "display_data"
    }
   ],
   "source": [
    "plot(x,y)"
   ]
  },
  {
   "cell_type": "markdown",
   "metadata": {},
   "source": [
    "What homoskedasticity does is ensure that the prediciteve capacity is uniform across all the entire range of the predictors. "
   ]
  },
  {
   "cell_type": "markdown",
   "metadata": {},
   "source": [
    "This is the ideal plot that confirms homeskedasticity - Also called the **Night sky**. If you look at the variance(residuals), they are uniformly distributed across the entire spectrum of house prices. What this means is that we can confidently predict the house price across the entire spectrum with the same level of accuracy. "
   ]
  },
  {
   "cell_type": "markdown",
   "metadata": {},
   "source": [
    "Now, compare it to the previous **Fitted vs Residuals** plot to understand it better. "
   ]
  },
  {
   "cell_type": "markdown",
   "metadata": {},
   "source": [
    "<img src=\"./pics/fitted-vs-residuals-ideal.png\"/> <img src=\"./pics/fitted-vs-residuals-rm.png\"/>"
   ]
  },
  {
   "cell_type": "markdown",
   "metadata": {},
   "source": [
    "<hr>"
   ]
  },
  {
   "cell_type": "markdown",
   "metadata": {},
   "source": [
    "### Normal Distribution of Residuals"
   ]
  },
  {
   "cell_type": "markdown",
   "metadata": {},
   "source": [
    "Another assumption is that the residuals should be normally distributed. You can quickly verify that using a histogram,"
   ]
  },
  {
   "cell_type": "code",
   "execution_count": 70,
   "metadata": {},
   "outputs": [
    {
     "data": {
      "image/png": "[encoded data removed]",
      "text/plain": [
       "Plot with title \"Histogram of residuals_rm\""
      ]
     },
     "metadata": {
      "image/png": {
       "height": 420,
       "width": 420
      },
      "text/plain": {
       "height": 420,
       "width": 420
      }
     },
     "output_type": "display_data"
    }
   ],
   "source": [
    "hist(residuals_rm,breaks=20)"
   ]
  },
  {
   "cell_type": "markdown",
   "metadata": {},
   "source": [
    "This looks almost normal, but a quick quantitative way to compare how much a distribution adheres to a normal distribution is by using a Q-Q plot. Or using a **Q-Q plot**. Q-Q plot is an acronym for **Quantile-Quantile** plot. The way it is calculated is by comparing the quantiles of the sample against the quantiles of a normal distribution. "
   ]
  },
  {
   "cell_type": "code",
   "execution_count": 76,
   "metadata": {},
   "outputs": [
    {
     "data": {
      "text/html": [
       "452"
      ],
      "text/latex": [
       "452"
      ],
      "text/markdown": [
       "452"
      ],
      "text/plain": [
       "[1] 452"
      ]
     },
     "metadata": {},
     "output_type": "display_data"
    },
    {
     "data": {
      "image/png": "[encoded data removed]",
      "text/plain": [
       "Plot with title \"Quantile - Quantile plot ( Q-Q )\""
      ]
     },
     "metadata": {
      "image/png": {
       "height": 420,
       "width": 420
      },
      "text/plain": {
       "height": 420,
       "width": 420
      }
     },
     "output_type": "display_data"
    }
   ],
   "source": [
    "# First sort the residuals ( sample )\n",
    "residuals_rm_s = sort(residuals_rm)\n",
    "\n",
    "# How big is the dataset ?\n",
    "length(residuals_rm_s)\n",
    "\n",
    "# create a normal distribution as big as the residuals dataset\n",
    "norm=rnorm(length(residuals_rm_s), mean = 10, sd= 3)\n",
    "\n",
    "# and sort it\n",
    "norm_s = sort(norm)\n",
    "\n",
    "# Scatter plot of normal distribution vs residuals\n",
    "plot(norm_s,residuals_rm_s,\n",
    "     main = \"Quantile - Quantile plot ( Q-Q )\",\n",
    "     xlab = \"Normal Distribution\",\n",
    "     ylab = \"Residuals\")"
   ]
  },
  {
   "cell_type": "markdown",
   "metadata": {},
   "source": [
    "What this plot goes to show is that the residuals are almost normally distributed except at the fringes. So, if you can identify the outliers and trim them, this dataset satisfies the **Normal Distribution of Residuals** assumption of Linear Regression. "
   ]
  },
  {
   "cell_type": "markdown",
   "metadata": {},
   "source": [
    "<hr>"
   ]
  },
  {
   "cell_type": "markdown",
   "metadata": {},
   "source": [
    "### No Multicollinearity"
   ]
  },
  {
   "cell_type": "markdown",
   "metadata": {},
   "source": [
    "Another big word - and the explanation is a bit tricky as well. "
   ]
  },
  {
   "cell_type": "markdown",
   "metadata": {},
   "source": [
    "**Multicollinearity**  - If we are trying to predict z from predictors x and y (z ~ x + y), then x and y should have orthogonal predictive power. Meaning, each of them should have independent predictive power. However, if x and y are somehow related, then we have a situation called **multicollinearity**. The predictors should not be able to predict each other. "
   ]
  },
  {
   "cell_type": "markdown",
   "metadata": {},
   "source": [
    "Let's create a dummy dataset to understand this better. \n",
    "\n",
    "**x** - A normal distribution \n",
    "**y** - A slight variation of (with a bit of random variation added to x )\n",
    "\n",
    "**z** - Another variation of x + y (with a bit of random variation added to x) so that we simulate a relationship between x, y and z "
   ]
  },
  {
   "cell_type": "code",
   "execution_count": 99,
   "metadata": {},
   "outputs": [],
   "source": [
    "var = rnorm ( 100, mean = 5, sd= 2)\n",
    "\n",
    "x = rnorm(100, mean = 100, sd = 10)\n",
    "y = x +var\n",
    "\n",
    "var = rnorm ( 100, mean = 5, sd= 2)\n",
    "z = x + var +y\n",
    "\n",
    "X = data.frame(x,y,z)"
   ]
  },
  {
   "cell_type": "code",
   "execution_count": 100,
   "metadata": {},
   "outputs": [
    {
     "data": {
      "text/plain": [
       "\n",
       "Call:\n",
       "lm(formula = z ~ ., data = X)\n",
       "\n",
       "Residuals:\n",
       "    Min      1Q  Median      3Q     Max \n",
       "-4.9027 -1.2531 -0.0404  1.2897  4.6848 \n",
       "\n",
       "Coefficients:\n",
       "            Estimate Std. Error t value Pr(>|t|)    \n",
       "(Intercept)  9.05493    1.99755   4.533 1.66e-05 ***\n",
       "x            0.94709    0.09944   9.524 1.43e-15 ***\n",
       "y            1.01445    0.09687  10.472  < 2e-16 ***\n",
       "---\n",
       "Signif. codes:  0 '***' 0.001 '**' 0.01 '*' 0.05 '.' 0.1 ' ' 1\n",
       "\n",
       "Residual standard error: 2.043 on 97 degrees of freedom\n",
       "Multiple R-squared:  0.9907,\tAdjusted R-squared:  0.9905 \n",
       "F-statistic:  5176 on 2 and 97 DF,  p-value: < 2.2e-16\n"
      ]
     },
     "metadata": {},
     "output_type": "display_data"
    }
   ],
   "source": [
    "model = lm ( z ~ ., data = X )\n",
    "summary(model)"
   ]
  },
  {
   "cell_type": "markdown",
   "metadata": {},
   "source": [
    "As we see, we have a pretty good r<sup>2</sup> because we have modelled the data almost as z = x + y + a bit of variance. Now, let's calculate the VIF of the model."
   ]
  },
  {
   "cell_type": "code",
   "execution_count": 101,
   "metadata": {},
   "outputs": [
    {
     "data": {
      "text/html": [
       "<style>\n",
       ".dl-inline {width: auto; margin:0; padding: 0}\n",
       ".dl-inline>dt, .dl-inline>dd {float: none; width: auto; display: inline-block}\n",
       ".dl-inline>dt::after {content: \":\\0020\"; padding-right: .5ex}\n",
       ".dl-inline>dt:not(:first-of-type) {padding-left: .5ex}\n",
       "</style><dl class=dl-inline><dt>x</dt><dd>26.1425422526061</dd><dt>y</dt><dd>26.1425422526061</dd></dl>\n"
      ],
      "text/latex": [
       "\\begin{description*}\n",
       "\\item[x] 26.1425422526061\n",
       "\\item[y] 26.1425422526061\n",
       "\\end{description*}\n"
      ],
      "text/markdown": [
       "x\n",
       ":   26.1425422526061y\n",
       ":   26.1425422526061\n",
       "\n"
      ],
      "text/plain": [
       "       x        y \n",
       "26.14254 26.14254 "
      ]
     },
     "metadata": {},
     "output_type": "display_data"
    }
   ],
   "source": [
    "car::vif(model)"
   ]
  },
  {
   "cell_type": "markdown",
   "metadata": {},
   "source": [
    "These are basically very high values. Any value above 5 is pretty high in terms of collinearity. What this shows is that the predictors x and y are basically highly dependent on each other (as opposed to their capacity to predict the response variable)."
   ]
  },
  {
   "cell_type": "markdown",
   "metadata": {},
   "source": [
    "Collinearity is predicted using a parameter called **VIF**, the formula for which is "
   ]
  },
  {
   "cell_type": "markdown",
   "metadata": {},
   "source": [
    "$VIF = \\frac{1}{1-R_s^2}$"
   ]
  },
  {
   "cell_type": "markdown",
   "metadata": {},
   "source": [
    "where **R<sub>sq</sub><sup>2</sup>** is the typical **r<sup>2<sup>** of the individual predictor when regressed (predicted) against the rest of the predictors. So, in the example above, **VIF** value of **y** becomes"
   ]
  },
  {
   "cell_type": "markdown",
   "metadata": {},
   "source": [
    "$VIF_y = \\frac{1}{1-R_s^2}$"
   ]
  },
  {
   "cell_type": "markdown",
   "metadata": {},
   "source": [
    "where **R<sub>sq</sub><sup>2</sup>** is the typical **r<sup>2</sup>** value when you fit the equation\n",
    "\n",
    "$x = a_2 y + b$"
   ]
  },
  {
   "cell_type": "markdown",
   "metadata": {},
   "source": [
    "This is in contrast to the actual model $y = a_1 x + a_2 y + b$."
   ]
  },
  {
   "cell_type": "markdown",
   "metadata": {},
   "source": [
    "Point being, as long as there is a relationship between the variables, it is displayed with a **VIF** or **Variance Inflation Factor** > 2. Let's tae another example. "
   ]
  },
  {
   "cell_type": "markdown",
   "metadata": {},
   "source": [
    "Collinearity and correlation are different though. Look at the picture below. There is some correlation between \n",
    "\n",
    "- Total Power Consumption  <--> Number of rooms\n",
    "- Total Power Consumption  <--> Power consumption per room\n",
    "\n",
    "But there is a perfect collinearity between \n",
    "\n",
    "- Total Power Consumption  <--> Number of rooms & Power consumption/room"
   ]
  },
  {
   "cell_type": "markdown",
   "metadata": {},
   "source": [
    "<img src=\"./pics/multicollinearity.png\"/>"
   ]
  },
  {
   "cell_type": "markdown",
   "metadata": {},
   "source": [
    "Correlation is between 2 variables, while collinearity is between a single variable and a combination of variables. "
   ]
  },
  {
   "cell_type": "markdown",
   "metadata": {},
   "source": [
    "Now that we understand collinearity, let's find out how many variables have a collinear relationship in the Boston Housing dataset. "
   ]
  },
  {
   "cell_type": "code",
   "execution_count": 103,
   "metadata": {},
   "outputs": [
    {
     "data": {
      "text/plain": [
       "\n",
       "Call:\n",
       "lm(formula = medv ~ ., data = boston_housing)\n",
       "\n",
       "Residuals:\n",
       "     Min       1Q   Median       3Q      Max \n",
       "-19.3991  -2.5377  -0.5848   1.7101  27.9916 \n",
       "\n",
       "Coefficients:\n",
       "              Estimate Std. Error t value Pr(>|t|)    \n",
       "(Intercept)  20.866365   5.477190   3.810 0.000159 ***\n",
       "crim         -0.238025   0.223853  -1.063 0.288229    \n",
       "zn            0.038221   0.013372   2.858 0.004462 ** \n",
       "indus         0.051356   0.059643   0.861 0.389683    \n",
       "chas          2.435048   0.829794   2.935 0.003516 ** \n",
       "nox         -11.657986   3.928009  -2.968 0.003163 ** \n",
       "rm            5.110158   0.454838  11.235  < 2e-16 ***\n",
       "age          -0.006094   0.013101  -0.465 0.642031    \n",
       "dis          -1.271514   0.195766  -6.495 2.26e-10 ***\n",
       "rad           0.294444   0.085387   3.448 0.000619 ***\n",
       "tax          -0.011360   0.003612  -3.145 0.001776 ** \n",
       "ptratio      -0.831030   0.127000  -6.544 1.68e-10 ***\n",
       "b             0.012314   0.003513   3.505 0.000503 ***\n",
       "lstat        -0.520753   0.057428  -9.068  < 2e-16 ***\n",
       "---\n",
       "Signif. codes:  0 '***' 0.001 '**' 0.01 '*' 0.05 '.' 0.1 ' ' 1\n",
       "\n",
       "Residual standard error: 4.553 on 438 degrees of freedom\n",
       "  (54 observations deleted due to missingness)\n",
       "Multiple R-squared:  0.7405,\tAdjusted R-squared:  0.7328 \n",
       "F-statistic: 96.16 on 13 and 438 DF,  p-value: < 2.2e-16\n"
      ]
     },
     "metadata": {},
     "output_type": "display_data"
    }
   ],
   "source": [
    "model = lm (  medv ~ ., data = boston_housing )\n",
    "summary(model)"
   ]
  },
  {
   "cell_type": "code",
   "execution_count": 116,
   "metadata": {},
   "outputs": [
    {
     "name": "stdout",
     "output_type": "stream",
     "text": [
      "crim 6.791148 \n",
      "zn 2.30185 \n",
      "indus 3.575504 \n",
      "chas 1.07249 \n",
      "nox 4.348241 \n",
      "rm 2.001147 \n",
      "age 2.95385 \n",
      "dis 3.643646 \n",
      "rad 9.025998 \n",
      "tax 6.501212 \n",
      "ptratio 1.698408 \n",
      "b 1.261811 \n",
      "lstat 2.719365 \n"
     ]
    }
   ],
   "source": [
    "for ( name in names(car::vif(model)) ) {\n",
    "    cat ( name ,car::vif(model)[name], \"\\n\")\n",
    "}"
   ]
  },
  {
   "cell_type": "markdown",
   "metadata": {},
   "source": [
    "So, all of the following variables have a high collinearity. \n",
    "\n",
    "- 9  - VIF for  RAD\n",
    "- 6.5  - VIF for  TAX"
   ]
  },
  {
   "cell_type": "markdown",
   "metadata": {},
   "source": [
    "<hr>"
   ]
  },
  {
   "cell_type": "markdown",
   "metadata": {},
   "source": [
    "#### How to fix Collinearity?"
   ]
  },
  {
   "cell_type": "markdown",
   "metadata": {},
   "source": [
    "- Iteratively remove the predictor with the highest VIF. So, in this case, remove either TAX or PTRATIO and do a re-run. \n",
    "- Use dimentionality reduction ( say PCA ) to reduce the number of predictors ( More on PCA & dimensionality reduction later)"
   ]
  },
  {
   "cell_type": "code",
   "execution_count": 171,
   "metadata": {},
   "outputs": [
    {
     "name": "stdout",
     "output_type": "stream",
     "text": [
      "1.664471491773954  - VIF for  CRIM\n",
      "2.273018308327798  - VIF for  ZN\n",
      "3.682264743037106  - VIF for  INDUS\n",
      "1.0615610963150082  - VIF for  CHAS\n",
      "4.304929331571053  - VIF for  NOX\n",
      "1.8854245633324191  - VIF for  RM\n",
      "3.0830086748912335  - VIF for  AGE\n",
      "3.954950605693307  - VIF for  DIS\n",
      "3.4152890003342686  - VIF for  TAX\n",
      "1.7348731617273456  - VIF for  PTRATIO\n",
      "1.34145900343612  - VIF for  B\n",
      "2.9377524102330312  - VIF for  LSTAT\n"
     ]
    }
   ],
   "source": [
    "for i in range(1,13) :\n",
    "    vif = variance_inflation_factor(data,i)\n",
    "    print ( vif, \" - VIF for \",feature_names[i-1])"
   ]
  },
  {
   "cell_type": "markdown",
   "metadata": {},
   "source": [
    "Now, all the variables have a VIF of less than 5 ( Less than 2 or 3 is ideal though )"
   ]
  }
 ],
 "metadata": {
  "kernelspec": {
   "display_name": "R",
   "language": "R",
   "name": "ir"
  },
  "language_info": {
   "codemirror_mode": "r",
   "file_extension": ".r",
   "mimetype": "text/x-r-source",
   "name": "R",
   "pygments_lexer": "r",
   "version": "3.6.2"
  }
 },
 "nbformat": 4,
 "nbformat_minor": 4
}
