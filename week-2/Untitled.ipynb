{
 "cells": [
  {
   "cell_type": "code",
   "execution_count": 16,
   "metadata": {},
   "outputs": [],
   "source": [
    "persons = [[\"Ajay\", 23, \"Hyderabad\"],\n",
    "           [\"Stacy\", 25, \"Los Angeles\"],\n",
    "           [\"Xing\", 21, \"Shanghai\"]]"
   ]
  },
  {
   "cell_type": "code",
   "execution_count": 14,
   "metadata": {},
   "outputs": [],
   "source": [
    "def sort_age (element) :\n",
    "    print ( element)\n",
    "    return element[1]"
   ]
  },
  {
   "cell_type": "code",
   "execution_count": 17,
   "metadata": {},
   "outputs": [
    {
     "name": "stdout",
     "output_type": "stream",
     "text": [
      "['Ajay', 23, 'Hyderabad']\n",
      "['Stacy', 25, 'Los Angeles']\n",
      "['Xing', 21, 'Shanghai']\n"
     ]
    }
   ],
   "source": [
    "s = sorted(persons, key = sort_age)"
   ]
  },
  {
   "cell_type": "code",
   "execution_count": null,
   "metadata": {},
   "outputs": [],
   "source": []
  }
 ],
 "metadata": {
  "kernelspec": {
   "display_name": "Python 3.7.3 64-bit",
   "language": "python",
   "name": "python37364bit60c4bf72dbd64468805b6313e5a0e496"
  },
  "language_info": {
   "codemirror_mode": {
    "name": "ipython",
    "version": 3
   },
   "file_extension": ".py",
   "mimetype": "text/x-python",
   "name": "python",
   "nbconvert_exporter": "python",
   "pygments_lexer": "ipython3",
   "version": "3.7.3"
  }
 },
 "nbformat": 4,
 "nbformat_minor": 4
}
