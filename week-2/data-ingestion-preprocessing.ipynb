{
 "cells": [
  {
   "cell_type": "markdown",
   "metadata": {},
   "source": [
    "Notebook is copyright &copy; of <a href=\"https://ajaytech.co\">Ajay Tech</a>"
   ]
  },
  {
   "cell_type": "markdown",
   "metadata": {},
   "source": [
    "# Data Ingestion & Preprocessing with R"
   ]
  },
  {
   "cell_type": "markdown",
   "metadata": {},
   "source": [
    "## Table of Contents"
   ]
  },
  {
   "cell_type": "markdown",
   "metadata": {},
   "source": [
    "- Check for missing values \n",
    "- Replace missing values with mode\n",
    "- Replace missing values with mean\n",
    "- Split data into Training and Test\n",
    "- How to detect outliers in data\n",
    "- How to treat outliers in data"
   ]
  },
  {
   "cell_type": "markdown",
   "metadata": {},
   "source": [
    "### Check for missing values"
   ]
  },
  {
   "cell_type": "code",
   "execution_count": 115,
   "metadata": {},
   "outputs": [
    {
     "data": {
      "text/html": [
       "<table>\n",
       "<caption>A data.frame: 7 × 2</caption>\n",
       "<thead>\n",
       "\t<tr><th scope=col>age</th><th scope=col>sex</th></tr>\n",
       "\t<tr><th scope=col>&lt;dbl&gt;</th><th scope=col>&lt;fct&gt;</th></tr>\n",
       "</thead>\n",
       "<tbody>\n",
       "\t<tr><td>12</td><td>M</td></tr>\n",
       "\t<tr><td>13</td><td>F</td></tr>\n",
       "\t<tr><td>11</td><td>M</td></tr>\n",
       "\t<tr><td>14</td><td>F</td></tr>\n",
       "\t<tr><td>11</td><td>M</td></tr>\n",
       "\t<tr><td>10</td><td>M</td></tr>\n",
       "\t<tr><td>NA</td><td>F</td></tr>\n",
       "</tbody>\n",
       "</table>\n"
      ],
      "text/latex": [
       "A data.frame: 7 × 2\n",
       "\\begin{tabular}{ll}\n",
       " age & sex\\\\\n",
       " <dbl> & <fct>\\\\\n",
       "\\hline\n",
       "\t 12 & M\\\\\n",
       "\t 13 & F\\\\\n",
       "\t 11 & M\\\\\n",
       "\t 14 & F\\\\\n",
       "\t 11 & M\\\\\n",
       "\t 10 & M\\\\\n",
       "\t NA & F\\\\\n",
       "\\end{tabular}\n"
      ],
      "text/markdown": [
       "\n",
       "A data.frame: 7 × 2\n",
       "\n",
       "| age &lt;dbl&gt; | sex &lt;fct&gt; |\n",
       "|---|---|\n",
       "| 12 | M |\n",
       "| 13 | F |\n",
       "| 11 | M |\n",
       "| 14 | F |\n",
       "| 11 | M |\n",
       "| 10 | M |\n",
       "| NA | F |\n",
       "\n"
      ],
      "text/plain": [
       "  age sex\n",
       "1 12  M  \n",
       "2 13  F  \n",
       "3 11  M  \n",
       "4 14  F  \n",
       "5 11  M  \n",
       "6 10  M  \n",
       "7 NA  F  "
      ]
     },
     "metadata": {},
     "output_type": "display_data"
    }
   ],
   "source": [
    "# create a dummy dataframe\n",
    "age = c(12,13,11,14,11,10,NA)\n",
    "sex = c(\"M\",\"F\",\"M\",\"F\",\"M\",\"M\",\"F\")\n",
    "\n",
    "data = data.frame(age,sex)\n",
    "data"
   ]
  },
  {
   "cell_type": "code",
   "execution_count": 6,
   "metadata": {},
   "outputs": [
    {
     "data": {
      "text/html": [
       "<table>\n",
       "<caption>A matrix: 6 × 2 of type lgl</caption>\n",
       "<thead>\n",
       "\t<tr><th scope=col>age</th><th scope=col>sex</th></tr>\n",
       "</thead>\n",
       "<tbody>\n",
       "\t<tr><td>FALSE</td><td>FALSE</td></tr>\n",
       "\t<tr><td>FALSE</td><td>FALSE</td></tr>\n",
       "\t<tr><td>FALSE</td><td>FALSE</td></tr>\n",
       "\t<tr><td>FALSE</td><td>FALSE</td></tr>\n",
       "\t<tr><td>FALSE</td><td>FALSE</td></tr>\n",
       "\t<tr><td> TRUE</td><td>FALSE</td></tr>\n",
       "</tbody>\n",
       "</table>\n"
      ],
      "text/latex": [
       "A matrix: 6 × 2 of type lgl\n",
       "\\begin{tabular}{ll}\n",
       " age & sex\\\\\n",
       "\\hline\n",
       "\t FALSE & FALSE\\\\\n",
       "\t FALSE & FALSE\\\\\n",
       "\t FALSE & FALSE\\\\\n",
       "\t FALSE & FALSE\\\\\n",
       "\t FALSE & FALSE\\\\\n",
       "\t  TRUE & FALSE\\\\\n",
       "\\end{tabular}\n"
      ],
      "text/markdown": [
       "\n",
       "A matrix: 6 × 2 of type lgl\n",
       "\n",
       "| age | sex |\n",
       "|---|---|\n",
       "| FALSE | FALSE |\n",
       "| FALSE | FALSE |\n",
       "| FALSE | FALSE |\n",
       "| FALSE | FALSE |\n",
       "| FALSE | FALSE |\n",
       "|  TRUE | FALSE |\n",
       "\n"
      ],
      "text/plain": [
       "     age   sex  \n",
       "[1,] FALSE FALSE\n",
       "[2,] FALSE FALSE\n",
       "[3,] FALSE FALSE\n",
       "[4,] FALSE FALSE\n",
       "[5,] FALSE FALSE\n",
       "[6,]  TRUE FALSE"
      ]
     },
     "metadata": {},
     "output_type": "display_data"
    }
   ],
   "source": [
    "is.na(data)"
   ]
  },
  {
   "cell_type": "code",
   "execution_count": 12,
   "metadata": {},
   "outputs": [
    {
     "data": {
      "text/html": [
       "<style>\n",
       ".dl-inline {width: auto; margin:0; padding: 0}\n",
       ".dl-inline>dt, .dl-inline>dd {float: none; width: auto; display: inline-block}\n",
       ".dl-inline>dt::after {content: \":\\0020\"; padding-right: .5ex}\n",
       ".dl-inline>dt:not(:first-of-type) {padding-left: .5ex}\n",
       "</style><dl class=dl-inline><dt>age</dt><dd>1</dd><dt>sex</dt><dd>0</dd></dl>\n"
      ],
      "text/latex": [
       "\\begin{description*}\n",
       "\\item[age] 1\n",
       "\\item[sex] 0\n",
       "\\end{description*}\n"
      ],
      "text/markdown": [
       "age\n",
       ":   1sex\n",
       ":   0\n",
       "\n"
      ],
      "text/plain": [
       "age sex \n",
       "  1   0 "
      ]
     },
     "metadata": {},
     "output_type": "display_data"
    }
   ],
   "source": [
    "colSums(is.na(data))"
   ]
  },
  {
   "cell_type": "markdown",
   "metadata": {},
   "source": [
    "So, there is 1 value for the age column with a NA value. "
   ]
  },
  {
   "cell_type": "markdown",
   "metadata": {},
   "source": [
    "Another way to do the same thing is with the **sapply ( )** function. "
   ]
  },
  {
   "cell_type": "code",
   "execution_count": 138,
   "metadata": {},
   "outputs": [
    {
     "data": {
      "text/html": [
       "<style>\n",
       ".dl-inline {width: auto; margin:0; padding: 0}\n",
       ".dl-inline>dt, .dl-inline>dd {float: none; width: auto; display: inline-block}\n",
       ".dl-inline>dt::after {content: \":\\0020\"; padding-right: .5ex}\n",
       ".dl-inline>dt:not(:first-of-type) {padding-left: .5ex}\n",
       "</style><dl class=dl-inline><dt>age</dt><dd>0</dd><dt>height</dt><dd>0</dd></dl>\n"
      ],
      "text/latex": [
       "\\begin{description*}\n",
       "\\item[age] 0\n",
       "\\item[height] 0\n",
       "\\end{description*}\n"
      ],
      "text/markdown": [
       "age\n",
       ":   0height\n",
       ":   0\n",
       "\n"
      ],
      "text/plain": [
       "   age height \n",
       "     0      0 "
      ]
     },
     "metadata": {},
     "output_type": "display_data"
    }
   ],
   "source": [
    "sapply(data, function(x) {\n",
    "    sum(is.na(x))\n",
    "})"
   ]
  },
  {
   "cell_type": "markdown",
   "metadata": {},
   "source": [
    "The way **sapply ( )** works is that the function (passed as the second argument) will be applied on each of the elements of the data (that has been passed as the first element). To understand this better, let's print the value of x (that is being passed along to the function) and see what is being printed out."
   ]
  },
  {
   "cell_type": "code",
   "execution_count": 140,
   "metadata": {},
   "outputs": [
    {
     "name": "stdout",
     "output_type": "stream",
     "text": [
      "[1] 12 13 11 14 11 10 12\n",
      "[1] 155 162 142 187 125 142 134\n"
     ]
    },
    {
     "data": {
      "text/html": [
       "<table>\n",
       "<caption>A matrix: 7 × 2 of type dbl</caption>\n",
       "<thead>\n",
       "\t<tr><th scope=col>age</th><th scope=col>height</th></tr>\n",
       "</thead>\n",
       "<tbody>\n",
       "\t<tr><td>12</td><td>155</td></tr>\n",
       "\t<tr><td>13</td><td>162</td></tr>\n",
       "\t<tr><td>11</td><td>142</td></tr>\n",
       "\t<tr><td>14</td><td>187</td></tr>\n",
       "\t<tr><td>11</td><td>125</td></tr>\n",
       "\t<tr><td>10</td><td>142</td></tr>\n",
       "\t<tr><td>12</td><td>134</td></tr>\n",
       "</tbody>\n",
       "</table>\n"
      ],
      "text/latex": [
       "A matrix: 7 × 2 of type dbl\n",
       "\\begin{tabular}{ll}\n",
       " age & height\\\\\n",
       "\\hline\n",
       "\t 12 & 155\\\\\n",
       "\t 13 & 162\\\\\n",
       "\t 11 & 142\\\\\n",
       "\t 14 & 187\\\\\n",
       "\t 11 & 125\\\\\n",
       "\t 10 & 142\\\\\n",
       "\t 12 & 134\\\\\n",
       "\\end{tabular}\n"
      ],
      "text/markdown": [
       "\n",
       "A matrix: 7 × 2 of type dbl\n",
       "\n",
       "| age | height |\n",
       "|---|---|\n",
       "| 12 | 155 |\n",
       "| 13 | 162 |\n",
       "| 11 | 142 |\n",
       "| 14 | 187 |\n",
       "| 11 | 125 |\n",
       "| 10 | 142 |\n",
       "| 12 | 134 |\n",
       "\n"
      ],
      "text/plain": [
       "     age height\n",
       "[1,] 12  155   \n",
       "[2,] 13  162   \n",
       "[3,] 11  142   \n",
       "[4,] 14  187   \n",
       "[5,] 11  125   \n",
       "[6,] 10  142   \n",
       "[7,] 12  134   "
      ]
     },
     "metadata": {},
     "output_type": "display_data"
    }
   ],
   "source": [
    "sapply(data, function(x) {\n",
    "    print (x)\n",
    "})"
   ]
  },
  {
   "cell_type": "markdown",
   "metadata": {},
   "source": [
    "As you see, each column is passed along as an argument to the function. You can do any operation on it and return the value. In our case, we are calculating how many NAs are there (using the **is.na ( )** function) and returning the count of them using the **sum ( )** function."
   ]
  },
  {
   "cell_type": "markdown",
   "metadata": {},
   "source": [
    "### Replace missing values with Mode"
   ]
  },
  {
   "cell_type": "markdown",
   "metadata": {},
   "source": [
    "One of the strategy to take care of missing values(if you wish them to be note deleted), is to replace all missing values with the mode of the column. Unfortunately, R does not have an in-built **mode** function. So, we might have to write one on our own. "
   ]
  },
  {
   "cell_type": "code",
   "execution_count": 25,
   "metadata": {},
   "outputs": [],
   "source": [
    "# all we are doing here is to sort the numeric data in decreasing order and picking up the first element.\n",
    "mode = function(x){\n",
    "  names(sort(table(x), decreasing = TRUE))[1]\n",
    "}"
   ]
  },
  {
   "cell_type": "markdown",
   "metadata": {},
   "source": [
    "The way this works is\n",
    "\n",
    "- Tabluate the data\n",
    "- sort the table in decreasing order\n",
    "- pick the first element\n",
    "\n",
    "This should pick up the most occurring element. "
   ]
  },
  {
   "cell_type": "code",
   "execution_count": 31,
   "metadata": {},
   "outputs": [
    {
     "data": {
      "text/plain": [
       "\n",
       "10 11 12 13 14 \n",
       " 1  2  1  1  1 "
      ]
     },
     "metadata": {},
     "output_type": "display_data"
    }
   ],
   "source": [
    "table(data$age)"
   ]
  },
  {
   "cell_type": "markdown",
   "metadata": {},
   "source": [
    "As you can see, 11 is the most occurring element. To get it, sort the table in decreasing order. This brings the biggest element to the beginning."
   ]
  },
  {
   "cell_type": "code",
   "execution_count": 35,
   "metadata": {},
   "outputs": [
    {
     "data": {
      "text/plain": [
       "\n",
       "11 10 12 13 14 \n",
       " 2  1  1  1  1 "
      ]
     },
     "metadata": {},
     "output_type": "display_data"
    }
   ],
   "source": [
    "sort(table(data$age), decreasing = TRUE)"
   ]
  },
  {
   "cell_type": "markdown",
   "metadata": {},
   "source": [
    "Now, we need to get the first element. But, not the first element in the table - the **name** of the first element in the table. You can get that with the **names ( )** function."
   ]
  },
  {
   "cell_type": "code",
   "execution_count": 39,
   "metadata": {},
   "outputs": [
    {
     "data": {
      "text/html": [
       "<style>\n",
       ".list-inline {list-style: none; margin:0; padding: 0}\n",
       ".list-inline>li {display: inline-block}\n",
       ".list-inline>li:not(:last-child)::after {content: \"\\00b7\"; padding: 0 .5ex}\n",
       "</style>\n",
       "<ol class=list-inline><li>'11'</li><li>'10'</li><li>'12'</li><li>'13'</li><li>'14'</li></ol>\n"
      ],
      "text/latex": [
       "\\begin{enumerate*}\n",
       "\\item '11'\n",
       "\\item '10'\n",
       "\\item '12'\n",
       "\\item '13'\n",
       "\\item '14'\n",
       "\\end{enumerate*}\n"
      ],
      "text/markdown": [
       "1. '11'\n",
       "2. '10'\n",
       "3. '12'\n",
       "4. '13'\n",
       "5. '14'\n",
       "\n",
       "\n"
      ],
      "text/plain": [
       "[1] \"11\" \"10\" \"12\" \"13\" \"14\""
      ]
     },
     "metadata": {},
     "output_type": "display_data"
    }
   ],
   "source": [
    "names( sort(table(data$age), decreasing = TRUE) )"
   ]
  },
  {
   "cell_type": "markdown",
   "metadata": {},
   "source": [
    "Ofcourse, we don't need all the elements, we just need the first element (since it is the most occurring). "
   ]
  },
  {
   "cell_type": "code",
   "execution_count": 40,
   "metadata": {},
   "outputs": [
    {
     "data": {
      "text/html": [
       "'11'"
      ],
      "text/latex": [
       "'11'"
      ],
      "text/markdown": [
       "'11'"
      ],
      "text/plain": [
       "[1] \"11\""
      ]
     },
     "metadata": {},
     "output_type": "display_data"
    }
   ],
   "source": [
    "names( sort(table(data$age), decreasing = TRUE) )[1]"
   ]
  },
  {
   "cell_type": "markdown",
   "metadata": {},
   "source": [
    "There we go, 11 is the most occurring element in that array."
   ]
  },
  {
   "cell_type": "markdown",
   "metadata": {},
   "source": [
    "Once we have the mode, all we have to do is replace it wherever we see a NA. "
   ]
  },
  {
   "cell_type": "code",
   "execution_count": 41,
   "metadata": {},
   "outputs": [
    {
     "data": {
      "text/html": [
       "<table>\n",
       "<caption>A data.frame: 7 × 2</caption>\n",
       "<thead>\n",
       "\t<tr><th scope=col>age</th><th scope=col>sex</th></tr>\n",
       "\t<tr><th scope=col>&lt;chr&gt;</th><th scope=col>&lt;fct&gt;</th></tr>\n",
       "</thead>\n",
       "<tbody>\n",
       "\t<tr><td>12</td><td>M</td></tr>\n",
       "\t<tr><td>13</td><td>F</td></tr>\n",
       "\t<tr><td>11</td><td>M</td></tr>\n",
       "\t<tr><td>14</td><td>F</td></tr>\n",
       "\t<tr><td>11</td><td>M</td></tr>\n",
       "\t<tr><td>10</td><td>M</td></tr>\n",
       "\t<tr><td>11</td><td>F</td></tr>\n",
       "</tbody>\n",
       "</table>\n"
      ],
      "text/latex": [
       "A data.frame: 7 × 2\n",
       "\\begin{tabular}{ll}\n",
       " age & sex\\\\\n",
       " <chr> & <fct>\\\\\n",
       "\\hline\n",
       "\t 12 & M\\\\\n",
       "\t 13 & F\\\\\n",
       "\t 11 & M\\\\\n",
       "\t 14 & F\\\\\n",
       "\t 11 & M\\\\\n",
       "\t 10 & M\\\\\n",
       "\t 11 & F\\\\\n",
       "\\end{tabular}\n"
      ],
      "text/markdown": [
       "\n",
       "A data.frame: 7 × 2\n",
       "\n",
       "| age &lt;chr&gt; | sex &lt;fct&gt; |\n",
       "|---|---|\n",
       "| 12 | M |\n",
       "| 13 | F |\n",
       "| 11 | M |\n",
       "| 14 | F |\n",
       "| 11 | M |\n",
       "| 10 | M |\n",
       "| 11 | F |\n",
       "\n"
      ],
      "text/plain": [
       "  age sex\n",
       "1 12  M  \n",
       "2 13  F  \n",
       "3 11  M  \n",
       "4 14  F  \n",
       "5 11  M  \n",
       "6 10  M  \n",
       "7 11  F  "
      ]
     },
     "metadata": {},
     "output_type": "display_data"
    }
   ],
   "source": [
    "data$age[is.na(data$age)] = mode(data$age)\n",
    "\n",
    "data"
   ]
  },
  {
   "cell_type": "markdown",
   "metadata": {},
   "source": [
    "### Replace missing values with Mean"
   ]
  },
  {
   "cell_type": "markdown",
   "metadata": {},
   "source": [
    "Sometimes, you want to replace missing values with the mean of the column. Use the **mean ( )** function to calculate the mean of the column and use the same method as above. "
   ]
  },
  {
   "cell_type": "code",
   "execution_count": 106,
   "metadata": {},
   "outputs": [
    {
     "name": "stdout",
     "output_type": "stream",
     "text": [
      "  age sex\n",
      "1  12   M\n",
      "2  13   F\n",
      "3  11   M\n",
      "4  14   F\n",
      "5  11   M\n",
      "6  10   M\n",
      "7  NA   F\n"
     ]
    }
   ],
   "source": [
    "# create a dummy dataframe\n",
    "age = c(12,13,11,14,11,10,NA)\n",
    "sex = c(\"M\",\"F\",\"M\",\"F\",\"M\",\"M\",\"F\")\n",
    "\n",
    "data = data.frame(age,sex)\n",
    "print(data)"
   ]
  },
  {
   "cell_type": "code",
   "execution_count": 107,
   "metadata": {},
   "outputs": [
    {
     "data": {
      "text/html": [
       "&lt;NA&gt;"
      ],
      "text/latex": [
       "<NA>"
      ],
      "text/markdown": [
       "&lt;NA&gt;"
      ],
      "text/plain": [
       "[1] NA"
      ]
     },
     "metadata": {},
     "output_type": "display_data"
    }
   ],
   "source": [
    "mean(data$age)"
   ]
  },
  {
   "cell_type": "markdown",
   "metadata": {},
   "source": [
    "..oops, that didn't work. That is because, if there are NAs in the data, **mean ( )** returns NA. To go around it, use the flag **na.rm** and set it to **TRUE**."
   ]
  },
  {
   "cell_type": "code",
   "execution_count": 108,
   "metadata": {},
   "outputs": [
    {
     "data": {
      "text/html": [
       "11.8333333333333"
      ],
      "text/latex": [
       "11.8333333333333"
      ],
      "text/markdown": [
       "11.8333333333333"
      ],
      "text/plain": [
       "[1] 11.83333"
      ]
     },
     "metadata": {},
     "output_type": "display_data"
    }
   ],
   "source": [
    "age_mean = mean(data$age, na.rm = TRUE)\n",
    "age_mean"
   ]
  },
  {
   "cell_type": "code",
   "execution_count": 109,
   "metadata": {},
   "outputs": [
    {
     "data": {
      "text/html": [
       "<table>\n",
       "<caption>A data.frame: 7 × 2</caption>\n",
       "<thead>\n",
       "\t<tr><th scope=col>age</th><th scope=col>sex</th></tr>\n",
       "\t<tr><th scope=col>&lt;dbl&gt;</th><th scope=col>&lt;fct&gt;</th></tr>\n",
       "</thead>\n",
       "<tbody>\n",
       "\t<tr><td>12.00000</td><td>M</td></tr>\n",
       "\t<tr><td>13.00000</td><td>F</td></tr>\n",
       "\t<tr><td>11.00000</td><td>M</td></tr>\n",
       "\t<tr><td>14.00000</td><td>F</td></tr>\n",
       "\t<tr><td>11.00000</td><td>M</td></tr>\n",
       "\t<tr><td>10.00000</td><td>M</td></tr>\n",
       "\t<tr><td>11.83333</td><td>F</td></tr>\n",
       "</tbody>\n",
       "</table>\n"
      ],
      "text/latex": [
       "A data.frame: 7 × 2\n",
       "\\begin{tabular}{ll}\n",
       " age & sex\\\\\n",
       " <dbl> & <fct>\\\\\n",
       "\\hline\n",
       "\t 12.00000 & M\\\\\n",
       "\t 13.00000 & F\\\\\n",
       "\t 11.00000 & M\\\\\n",
       "\t 14.00000 & F\\\\\n",
       "\t 11.00000 & M\\\\\n",
       "\t 10.00000 & M\\\\\n",
       "\t 11.83333 & F\\\\\n",
       "\\end{tabular}\n"
      ],
      "text/markdown": [
       "\n",
       "A data.frame: 7 × 2\n",
       "\n",
       "| age &lt;dbl&gt; | sex &lt;fct&gt; |\n",
       "|---|---|\n",
       "| 12.00000 | M |\n",
       "| 13.00000 | F |\n",
       "| 11.00000 | M |\n",
       "| 14.00000 | F |\n",
       "| 11.00000 | M |\n",
       "| 10.00000 | M |\n",
       "| 11.83333 | F |\n",
       "\n"
      ],
      "text/plain": [
       "  age      sex\n",
       "1 12.00000 M  \n",
       "2 13.00000 F  \n",
       "3 11.00000 M  \n",
       "4 14.00000 F  \n",
       "5 11.00000 M  \n",
       "6 10.00000 M  \n",
       "7 11.83333 F  "
      ]
     },
     "metadata": {},
     "output_type": "display_data"
    }
   ],
   "source": [
    "data$age[is.na(data$age)] = age_mean\n",
    "data"
   ]
  },
  {
   "cell_type": "markdown",
   "metadata": {},
   "source": [
    "Why is the age a floating point now ? Because we have introduced mean into that column and the datatype of the column has been upgraded to a float. So, instead of inserting a float, let's just round off the mean using the **round ( )** function. "
   ]
  },
  {
   "cell_type": "code",
   "execution_count": 110,
   "metadata": {},
   "outputs": [
    {
     "data": {
      "text/html": [
       "12"
      ],
      "text/latex": [
       "12"
      ],
      "text/markdown": [
       "12"
      ],
      "text/plain": [
       "[1] 12"
      ]
     },
     "metadata": {},
     "output_type": "display_data"
    }
   ],
   "source": [
    "age_mean = round(age_mean)\n",
    "age_mean"
   ]
  },
  {
   "cell_type": "code",
   "execution_count": 111,
   "metadata": {},
   "outputs": [
    {
     "data": {
      "text/html": [
       "<table>\n",
       "<caption>A data.frame: 7 × 2</caption>\n",
       "<thead>\n",
       "\t<tr><th scope=col>age</th><th scope=col>sex</th></tr>\n",
       "\t<tr><th scope=col>&lt;dbl&gt;</th><th scope=col>&lt;fct&gt;</th></tr>\n",
       "</thead>\n",
       "<tbody>\n",
       "\t<tr><td>12</td><td>M</td></tr>\n",
       "\t<tr><td>13</td><td>F</td></tr>\n",
       "\t<tr><td>11</td><td>M</td></tr>\n",
       "\t<tr><td>14</td><td>F</td></tr>\n",
       "\t<tr><td>11</td><td>M</td></tr>\n",
       "\t<tr><td>10</td><td>M</td></tr>\n",
       "\t<tr><td>12</td><td>F</td></tr>\n",
       "</tbody>\n",
       "</table>\n"
      ],
      "text/latex": [
       "A data.frame: 7 × 2\n",
       "\\begin{tabular}{ll}\n",
       " age & sex\\\\\n",
       " <dbl> & <fct>\\\\\n",
       "\\hline\n",
       "\t 12 & M\\\\\n",
       "\t 13 & F\\\\\n",
       "\t 11 & M\\\\\n",
       "\t 14 & F\\\\\n",
       "\t 11 & M\\\\\n",
       "\t 10 & M\\\\\n",
       "\t 12 & F\\\\\n",
       "\\end{tabular}\n"
      ],
      "text/markdown": [
       "\n",
       "A data.frame: 7 × 2\n",
       "\n",
       "| age &lt;dbl&gt; | sex &lt;fct&gt; |\n",
       "|---|---|\n",
       "| 12 | M |\n",
       "| 13 | F |\n",
       "| 11 | M |\n",
       "| 14 | F |\n",
       "| 11 | M |\n",
       "| 10 | M |\n",
       "| 12 | F |\n",
       "\n"
      ],
      "text/plain": [
       "  age sex\n",
       "1 12  M  \n",
       "2 13  F  \n",
       "3 11  M  \n",
       "4 14  F  \n",
       "5 11  M  \n",
       "6 10  M  \n",
       "7 12  F  "
      ]
     },
     "metadata": {},
     "output_type": "display_data"
    }
   ],
   "source": [
    "# create a dummy dataframe\n",
    "age = c(12,13,11,14,11,10,NA)\n",
    "sex = c(\"M\",\"F\",\"M\",\"F\",\"M\",\"M\",\"F\")\n",
    "\n",
    "data = data.frame(age,sex)\n",
    "data$age[is.na(data$age)] = round(mean(data$age, na.rm = TRUE))\n",
    "data"
   ]
  },
  {
   "cell_type": "code",
   "execution_count": 113,
   "metadata": {},
   "outputs": [
    {
     "data": {
      "text/html": [],
      "text/latex": [],
      "text/markdown": [],
      "text/plain": [
       " \n",
       "1\n",
       "2\n",
       "3\n",
       "4\n",
       "5\n",
       "6\n",
       "7"
      ]
     },
     "metadata": {},
     "output_type": "display_data"
    },
    {
     "data": {
      "text/html": [
       "<table>\n",
       "<caption>A data.frame: 7 × 2</caption>\n",
       "<thead>\n",
       "\t<tr><th scope=col>age</th><th scope=col>sex</th></tr>\n",
       "\t<tr><th scope=col>&lt;dbl&gt;</th><th scope=col>&lt;fct&gt;</th></tr>\n",
       "</thead>\n",
       "<tbody>\n",
       "\t<tr><td>12</td><td>M</td></tr>\n",
       "\t<tr><td>13</td><td>F</td></tr>\n",
       "\t<tr><td>11</td><td>M</td></tr>\n",
       "\t<tr><td>14</td><td>F</td></tr>\n",
       "\t<tr><td>11</td><td>M</td></tr>\n",
       "\t<tr><td>10</td><td>M</td></tr>\n",
       "\t<tr><td>12</td><td>F</td></tr>\n",
       "</tbody>\n",
       "</table>\n"
      ],
      "text/latex": [
       "A data.frame: 7 × 2\n",
       "\\begin{tabular}{ll}\n",
       " age & sex\\\\\n",
       " <dbl> & <fct>\\\\\n",
       "\\hline\n",
       "\t 12 & M\\\\\n",
       "\t 13 & F\\\\\n",
       "\t 11 & M\\\\\n",
       "\t 14 & F\\\\\n",
       "\t 11 & M\\\\\n",
       "\t 10 & M\\\\\n",
       "\t 12 & F\\\\\n",
       "\\end{tabular}\n"
      ],
      "text/markdown": [
       "\n",
       "A data.frame: 7 × 2\n",
       "\n",
       "| age &lt;dbl&gt; | sex &lt;fct&gt; |\n",
       "|---|---|\n",
       "| 12 | M |\n",
       "| 13 | F |\n",
       "| 11 | M |\n",
       "| 14 | F |\n",
       "| 11 | M |\n",
       "| 10 | M |\n",
       "| 12 | F |\n",
       "\n"
      ],
      "text/plain": [
       "  age sex\n",
       "1 12  M  \n",
       "2 13  F  \n",
       "3 11  M  \n",
       "4 14  F  \n",
       "5 11  M  \n",
       "6 10  M  \n",
       "7 12  F  "
      ]
     },
     "metadata": {},
     "output_type": "display_data"
    }
   ],
   "source": [
    "data[is.na(data$age)]\n",
    "data"
   ]
  },
  {
   "cell_type": "markdown",
   "metadata": {},
   "source": [
    "### Convert Strings to Factor class"
   ]
  },
  {
   "cell_type": "code",
   "execution_count": 44,
   "metadata": {},
   "outputs": [
    {
     "data": {
      "text/html": [
       "'factor'"
      ],
      "text/latex": [
       "'factor'"
      ],
      "text/markdown": [
       "'factor'"
      ],
      "text/plain": [
       "[1] \"factor\""
      ]
     },
     "metadata": {},
     "output_type": "display_data"
    }
   ],
   "source": [
    "class(data$sex)"
   ]
  },
  {
   "cell_type": "markdown",
   "metadata": {},
   "source": [
    "When we created the dataframe, R was intelligent enough to identify sex (\"M\", or \"F\") as a factor and not a string. However, sometimes we might want to do it explicitly. In cases like that, we might have to use the function **as.factor ( )** to convert the data into a factor."
   ]
  },
  {
   "cell_type": "code",
   "execution_count": 46,
   "metadata": {},
   "outputs": [
    {
     "data": {
      "text/html": [
       "'factor'"
      ],
      "text/latex": [
       "'factor'"
      ],
      "text/markdown": [
       "'factor'"
      ],
      "text/plain": [
       "[1] \"factor\""
      ]
     },
     "metadata": {},
     "output_type": "display_data"
    }
   ],
   "source": [
    "# create a dummy dataframe\n",
    "age = c(12,13,11,14,11,10,NA)\n",
    "sex = c(\"Male\",\"Female\",\"Male\",\"Female\",\"Male\",\"Male\",\"Female\")\n",
    "\n",
    "data = data.frame(age,sex)\n",
    "\n",
    "class(data$sex)"
   ]
  },
  {
   "cell_type": "markdown",
   "metadata": {},
   "source": [
    "You can verify that the vector sex is not holding factors, while the dataframe is holding sex as a factor."
   ]
  },
  {
   "cell_type": "code",
   "execution_count": 51,
   "metadata": {},
   "outputs": [
    {
     "data": {
      "text/html": [
       "'character'"
      ],
      "text/latex": [
       "'character'"
      ],
      "text/markdown": [
       "'character'"
      ],
      "text/plain": [
       "[1] \"character\""
      ]
     },
     "metadata": {},
     "output_type": "display_data"
    }
   ],
   "source": [
    "class(sex)"
   ]
  },
  {
   "cell_type": "code",
   "execution_count": 52,
   "metadata": {},
   "outputs": [
    {
     "data": {
      "text/html": [
       "'factor'"
      ],
      "text/latex": [
       "'factor'"
      ],
      "text/markdown": [
       "'factor'"
      ],
      "text/plain": [
       "[1] \"factor\""
      ]
     },
     "metadata": {},
     "output_type": "display_data"
    }
   ],
   "source": [
    "class(data$sex)"
   ]
  },
  {
   "cell_type": "markdown",
   "metadata": {},
   "source": [
    "You can also use the **levels ( )** function to identify the different levels in that factor."
   ]
  },
  {
   "cell_type": "code",
   "execution_count": 53,
   "metadata": {},
   "outputs": [
    {
     "data": {
      "text/html": [
       "<style>\n",
       ".list-inline {list-style: none; margin:0; padding: 0}\n",
       ".list-inline>li {display: inline-block}\n",
       ".list-inline>li:not(:last-child)::after {content: \"\\00b7\"; padding: 0 .5ex}\n",
       "</style>\n",
       "<ol class=list-inline><li>'Female'</li><li>'Male'</li></ol>\n"
      ],
      "text/latex": [
       "\\begin{enumerate*}\n",
       "\\item 'Female'\n",
       "\\item 'Male'\n",
       "\\end{enumerate*}\n"
      ],
      "text/markdown": [
       "1. 'Female'\n",
       "2. 'Male'\n",
       "\n",
       "\n"
      ],
      "text/plain": [
       "[1] \"Female\" \"Male\"  "
      ]
     },
     "metadata": {},
     "output_type": "display_data"
    }
   ],
   "source": [
    "levels(data$sex)"
   ]
  },
  {
   "cell_type": "markdown",
   "metadata": {},
   "source": [
    "You can over-ride this behaviour by specifying **stringAsFactors = FALSE\""
   ]
  },
  {
   "cell_type": "code",
   "execution_count": 54,
   "metadata": {},
   "outputs": [
    {
     "data": {
      "text/html": [
       "'character'"
      ],
      "text/latex": [
       "'character'"
      ],
      "text/markdown": [
       "'character'"
      ],
      "text/plain": [
       "[1] \"character\""
      ]
     },
     "metadata": {},
     "output_type": "display_data"
    }
   ],
   "source": [
    "# create a dummy dataframe\n",
    "age = c(12,13,11,14,11,10,NA)\n",
    "sex = c(\"Male\",\"Female\",\"Male\",\"Female\",\"Male\",\"Male\",\"Female\")\n",
    "\n",
    "data = data.frame(age,sex, stringsAsFactors = FALSE)\n",
    "\n",
    "class(data$sex)"
   ]
  },
  {
   "cell_type": "markdown",
   "metadata": {},
   "source": [
    "In cases where we want to convert Strings to Factors again, use the **as.factor ( )** function."
   ]
  },
  {
   "cell_type": "code",
   "execution_count": 56,
   "metadata": {},
   "outputs": [
    {
     "data": {
      "text/html": [
       "'factor'"
      ],
      "text/latex": [
       "'factor'"
      ],
      "text/markdown": [
       "'factor'"
      ],
      "text/plain": [
       "[1] \"factor\""
      ]
     },
     "metadata": {},
     "output_type": "display_data"
    }
   ],
   "source": [
    "data$sex = as.factor(data$sex)\n",
    "class(data$sex)"
   ]
  },
  {
   "cell_type": "markdown",
   "metadata": {},
   "source": [
    "There we go, we were able to convert strings to Factors. "
   ]
  },
  {
   "cell_type": "markdown",
   "metadata": {},
   "source": [
    "### Split data into Train and Test"
   ]
  },
  {
   "cell_type": "markdown",
   "metadata": {},
   "source": [
    "One of the ways to split data into train and test datasets is to use the **sample ( )** function. Let's see how this works."
   ]
  },
  {
   "cell_type": "code",
   "execution_count": 57,
   "metadata": {},
   "outputs": [
    {
     "data": {
      "text/html": [
       "<table>\n",
       "<caption>A data.frame: 7 × 2</caption>\n",
       "<thead>\n",
       "\t<tr><th scope=col>age</th><th scope=col>sex</th></tr>\n",
       "\t<tr><th scope=col>&lt;dbl&gt;</th><th scope=col>&lt;fct&gt;</th></tr>\n",
       "</thead>\n",
       "<tbody>\n",
       "\t<tr><td>12</td><td>Male  </td></tr>\n",
       "\t<tr><td>13</td><td>Female</td></tr>\n",
       "\t<tr><td>11</td><td>Male  </td></tr>\n",
       "\t<tr><td>14</td><td>Female</td></tr>\n",
       "\t<tr><td>11</td><td>Male  </td></tr>\n",
       "\t<tr><td>10</td><td>Male  </td></tr>\n",
       "\t<tr><td>NA</td><td>Female</td></tr>\n",
       "</tbody>\n",
       "</table>\n"
      ],
      "text/latex": [
       "A data.frame: 7 × 2\n",
       "\\begin{tabular}{ll}\n",
       " age & sex\\\\\n",
       " <dbl> & <fct>\\\\\n",
       "\\hline\n",
       "\t 12 & Male  \\\\\n",
       "\t 13 & Female\\\\\n",
       "\t 11 & Male  \\\\\n",
       "\t 14 & Female\\\\\n",
       "\t 11 & Male  \\\\\n",
       "\t 10 & Male  \\\\\n",
       "\t NA & Female\\\\\n",
       "\\end{tabular}\n"
      ],
      "text/markdown": [
       "\n",
       "A data.frame: 7 × 2\n",
       "\n",
       "| age &lt;dbl&gt; | sex &lt;fct&gt; |\n",
       "|---|---|\n",
       "| 12 | Male   |\n",
       "| 13 | Female |\n",
       "| 11 | Male   |\n",
       "| 14 | Female |\n",
       "| 11 | Male   |\n",
       "| 10 | Male   |\n",
       "| NA | Female |\n",
       "\n"
      ],
      "text/plain": [
       "  age sex   \n",
       "1 12  Male  \n",
       "2 13  Female\n",
       "3 11  Male  \n",
       "4 14  Female\n",
       "5 11  Male  \n",
       "6 10  Male  \n",
       "7 NA  Female"
      ]
     },
     "metadata": {},
     "output_type": "display_data"
    }
   ],
   "source": [
    "data"
   ]
  },
  {
   "cell_type": "markdown",
   "metadata": {},
   "source": [
    "The dataframe has 7 rows. Let's use the **nrows ( )** function to find it out."
   ]
  },
  {
   "cell_type": "code",
   "execution_count": 59,
   "metadata": {},
   "outputs": [
    {
     "name": "stdout",
     "output_type": "stream",
     "text": [
      "[1] 7\n"
     ]
    }
   ],
   "source": [
    "rows = nrow(data)\n",
    "print ( rows )"
   ]
  },
  {
   "cell_type": "markdown",
   "metadata": {},
   "source": [
    "Now, we want to pick a percentage (say 70%) of the rows. To do this, we enumerate all the numbers from 1 to 7 (the row count) and ask the **sample ( )** function to pick 70% of the numbers at random. "
   ]
  },
  {
   "cell_type": "code",
   "execution_count": 62,
   "metadata": {},
   "outputs": [
    {
     "name": "stdout",
     "output_type": "stream",
     "text": [
      "[1] 6 2 1 3\n"
     ]
    }
   ],
   "source": [
    "index = sample(1:rows, rows * 0.7)\n",
    "print ( index)"
   ]
  },
  {
   "cell_type": "markdown",
   "metadata": {},
   "source": [
    "You can verify that everytime you run this function, it generates random numbers (amounting to 70% of the range 1 - n ). Now, let's pick the 70% of the rows from the dataframe. "
   ]
  },
  {
   "cell_type": "code",
   "execution_count": 65,
   "metadata": {},
   "outputs": [],
   "source": [
    "train_data = data[index,] \n",
    "test_data = data[-index, ]"
   ]
  },
  {
   "cell_type": "code",
   "execution_count": 66,
   "metadata": {},
   "outputs": [
    {
     "data": {
      "text/html": [
       "<table>\n",
       "<caption>A data.frame: 4 × 2</caption>\n",
       "<thead>\n",
       "\t<tr><th></th><th scope=col>age</th><th scope=col>sex</th></tr>\n",
       "\t<tr><th></th><th scope=col>&lt;dbl&gt;</th><th scope=col>&lt;fct&gt;</th></tr>\n",
       "</thead>\n",
       "<tbody>\n",
       "\t<tr><th scope=row>6</th><td>10</td><td>Male  </td></tr>\n",
       "\t<tr><th scope=row>2</th><td>13</td><td>Female</td></tr>\n",
       "\t<tr><th scope=row>1</th><td>12</td><td>Male  </td></tr>\n",
       "\t<tr><th scope=row>3</th><td>11</td><td>Male  </td></tr>\n",
       "</tbody>\n",
       "</table>\n"
      ],
      "text/latex": [
       "A data.frame: 4 × 2\n",
       "\\begin{tabular}{r|ll}\n",
       "  & age & sex\\\\\n",
       "  & <dbl> & <fct>\\\\\n",
       "\\hline\n",
       "\t6 & 10 & Male  \\\\\n",
       "\t2 & 13 & Female\\\\\n",
       "\t1 & 12 & Male  \\\\\n",
       "\t3 & 11 & Male  \\\\\n",
       "\\end{tabular}\n"
      ],
      "text/markdown": [
       "\n",
       "A data.frame: 4 × 2\n",
       "\n",
       "| <!--/--> | age &lt;dbl&gt; | sex &lt;fct&gt; |\n",
       "|---|---|---|\n",
       "| 6 | 10 | Male   |\n",
       "| 2 | 13 | Female |\n",
       "| 1 | 12 | Male   |\n",
       "| 3 | 11 | Male   |\n",
       "\n"
      ],
      "text/plain": [
       "  age sex   \n",
       "6 10  Male  \n",
       "2 13  Female\n",
       "1 12  Male  \n",
       "3 11  Male  "
      ]
     },
     "metadata": {},
     "output_type": "display_data"
    }
   ],
   "source": [
    "train_data"
   ]
  },
  {
   "cell_type": "code",
   "execution_count": 67,
   "metadata": {},
   "outputs": [
    {
     "data": {
      "text/html": [
       "<table>\n",
       "<caption>A data.frame: 3 × 2</caption>\n",
       "<thead>\n",
       "\t<tr><th></th><th scope=col>age</th><th scope=col>sex</th></tr>\n",
       "\t<tr><th></th><th scope=col>&lt;dbl&gt;</th><th scope=col>&lt;fct&gt;</th></tr>\n",
       "</thead>\n",
       "<tbody>\n",
       "\t<tr><th scope=row>4</th><td>14</td><td>Female</td></tr>\n",
       "\t<tr><th scope=row>5</th><td>11</td><td>Male  </td></tr>\n",
       "\t<tr><th scope=row>7</th><td>NA</td><td>Female</td></tr>\n",
       "</tbody>\n",
       "</table>\n"
      ],
      "text/latex": [
       "A data.frame: 3 × 2\n",
       "\\begin{tabular}{r|ll}\n",
       "  & age & sex\\\\\n",
       "  & <dbl> & <fct>\\\\\n",
       "\\hline\n",
       "\t4 & 14 & Female\\\\\n",
       "\t5 & 11 & Male  \\\\\n",
       "\t7 & NA & Female\\\\\n",
       "\\end{tabular}\n"
      ],
      "text/markdown": [
       "\n",
       "A data.frame: 3 × 2\n",
       "\n",
       "| <!--/--> | age &lt;dbl&gt; | sex &lt;fct&gt; |\n",
       "|---|---|---|\n",
       "| 4 | 14 | Female |\n",
       "| 5 | 11 | Male   |\n",
       "| 7 | NA | Female |\n",
       "\n"
      ],
      "text/plain": [
       "  age sex   \n",
       "4 14  Female\n",
       "5 11  Male  \n",
       "7 NA  Female"
      ]
     },
     "metadata": {},
     "output_type": "display_data"
    }
   ],
   "source": [
    "test_data"
   ]
  },
  {
   "cell_type": "markdown",
   "metadata": {},
   "source": [
    "Great. Let's combine all of these steps. "
   ]
  },
  {
   "cell_type": "code",
   "execution_count": 68,
   "metadata": {},
   "outputs": [],
   "source": [
    "index = sample ( 1:nrow(data), nrow(data) * 0.7)\n",
    "train = data[index, ]\n",
    "test  = data[-index, ]"
   ]
  },
  {
   "cell_type": "markdown",
   "metadata": {},
   "source": [
    "### How to detect outliers in data"
   ]
  },
  {
   "cell_type": "code",
   "execution_count": 188,
   "metadata": {},
   "outputs": [],
   "source": [
    "# create a dummy dataframe\n",
    "age = c(12,13,11,14,11,10,12)\n",
    "height = c(155,162,142,187,125,142,134)\n",
    "\n",
    "data = data.frame(age,height)"
   ]
  },
  {
   "cell_type": "code",
   "execution_count": 141,
   "metadata": {},
   "outputs": [],
   "source": [
    "model = lm(height ~ age , data)"
   ]
  },
  {
   "cell_type": "code",
   "execution_count": 142,
   "metadata": {},
   "outputs": [
    {
     "data": {
      "text/plain": [
       "\n",
       "Call:\n",
       "lm(formula = height ~ age, data = data)\n",
       "\n",
       "Coefficients:\n",
       "(Intercept)          age  \n",
       "      2.605       12.395  \n"
      ]
     },
     "metadata": {},
     "output_type": "display_data"
    }
   ],
   "source": [
    "model"
   ]
  },
  {
   "cell_type": "code",
   "execution_count": 162,
   "metadata": {},
   "outputs": [
    {
     "data": {
      "image/png": "[encoded data removed]",
      "text/plain": [
       "plot without title"
      ]
     },
     "metadata": {
      "image/png": {
       "height": 420,
       "width": 420
      },
      "text/plain": {
       "height": 420,
       "width": 420
      }
     },
     "output_type": "display_data"
    }
   ],
   "source": [
    "plot(data$age, data$height)\n",
    "abline(lm(height ~ age, data=data), col=\"gray\", lwd=5, lty=1)"
   ]
  },
  {
   "cell_type": "markdown",
   "metadata": {},
   "source": [
    "Let's introduce a couple of outliers and plot the graph again. "
   ]
  },
  {
   "cell_type": "code",
   "execution_count": 189,
   "metadata": {},
   "outputs": [],
   "source": [
    "age_out    = c(100)\n",
    "height_out = c(20)\n",
    "\n",
    "age    = c(age, age_out)\n",
    "height = c(height, height_out) \n",
    "\n",
    "#recreate the dataframe\n",
    "data = data.frame(age,height)"
   ]
  },
  {
   "cell_type": "code",
   "execution_count": 171,
   "metadata": {},
   "outputs": [
    {
     "data": {
      "text/plain": [
       "\n",
       "Call:\n",
       "lm(formula = height ~ age, data = data)\n",
       "\n",
       "Coefficients:\n",
       "(Intercept)          age  \n",
       "    166.610       -1.458  \n"
      ]
     },
     "metadata": {},
     "output_type": "display_data"
    }
   ],
   "source": [
    "model = lm(height ~ age , data)\n",
    "model"
   ]
  },
  {
   "cell_type": "code",
   "execution_count": 172,
   "metadata": {},
   "outputs": [
    {
     "data": {
      "image/png": "[encoded data removed]",
      "text/plain": [
       "plot without title"
      ]
     },
     "metadata": {
      "image/png": {
       "height": 420,
       "width": 420
      },
      "text/plain": {
       "height": 420,
       "width": 420
      }
     },
     "output_type": "display_data"
    }
   ],
   "source": [
    "plot(data$age, data$height)\n",
    "abline(lm(height ~ age, data=data), col=\"gray\", lwd=5, lty=1)"
   ]
  },
  {
   "cell_type": "markdown",
   "metadata": {},
   "source": [
    "As you can see, the prediction is entirely skewed just because of the introduction of one outlier. Even a small subset can drastically change the model if it has enough weight(value). So, detecting outliers is an important topic that needs to be addressed as part of data cleaning (pre-processing)."
   ]
  },
  {
   "cell_type": "markdown",
   "metadata": {},
   "source": [
    "One of the time-tested method to detect outliers is the Box and Whisker plot. Anything that lies outside 1.5 * IQR is considered an outlier. **IQR** stands for **I**nter **Q**uartile **R**ange. It is the difference between the 25th and 75th percentile of that variable. Let's do a boxplot with the new data."
   ]
  },
  {
   "cell_type": "code",
   "execution_count": 175,
   "metadata": {},
   "outputs": [
    {
     "data": {
      "image/png": "[encoded data removed]",
      "text/plain": [
       "plot without title"
      ]
     },
     "metadata": {
      "image/png": {
       "height": 420,
       "width": 420
      },
      "text/plain": {
       "height": 420,
       "width": 420
      }
     },
     "output_type": "display_data"
    }
   ],
   "source": [
    "boxplot(data$age)"
   ]
  },
  {
   "cell_type": "code",
   "execution_count": 176,
   "metadata": {},
   "outputs": [
    {
     "data": {
      "image/png": "[encoded data removed]",
      "text/plain": [
       "plot without title"
      ]
     },
     "metadata": {
      "image/png": {
       "height": 420,
       "width": 420
      },
      "text/plain": {
       "height": 420,
       "width": 420
      }
     },
     "output_type": "display_data"
    }
   ],
   "source": [
    "boxplot(data$height)"
   ]
  },
  {
   "cell_type": "markdown",
   "metadata": {},
   "source": [
    "As you can see, the data is pretty skewed. Let's identify the outliers. "
   ]
  },
  {
   "cell_type": "code",
   "execution_count": 190,
   "metadata": {},
   "outputs": [],
   "source": [
    "stats = boxplot.stats(data$height)"
   ]
  },
  {
   "cell_type": "code",
   "execution_count": 191,
   "metadata": {},
   "outputs": [
    {
     "data": {
      "text/html": [
       "20"
      ],
      "text/latex": [
       "20"
      ],
      "text/markdown": [
       "20"
      ],
      "text/plain": [
       "[1] 20"
      ]
     },
     "metadata": {},
     "output_type": "display_data"
    }
   ],
   "source": [
    "stats$out"
   ]
  },
  {
   "cell_type": "markdown",
   "metadata": {},
   "source": [
    "As you can see, the outlier that we have added to the height column (height of 20) has been detected as the outlier. "
   ]
  },
  {
   "cell_type": "code",
   "execution_count": 192,
   "metadata": {},
   "outputs": [
    {
     "data": {
      "text/html": [
       "<style>\n",
       ".list-inline {list-style: none; margin:0; padding: 0}\n",
       ".list-inline>li {display: inline-block}\n",
       ".list-inline>li:not(:last-child)::after {content: \"\\00b7\"; padding: 0 .5ex}\n",
       "</style>\n",
       "<ol class=list-inline><li>155</li><li>162</li><li>142</li><li>187</li><li>125</li><li>142</li><li>134</li><li>20</li></ol>\n"
      ],
      "text/latex": [
       "\\begin{enumerate*}\n",
       "\\item 155\n",
       "\\item 162\n",
       "\\item 142\n",
       "\\item 187\n",
       "\\item 125\n",
       "\\item 142\n",
       "\\item 134\n",
       "\\item 20\n",
       "\\end{enumerate*}\n"
      ],
      "text/markdown": [
       "1. 155\n",
       "2. 162\n",
       "3. 142\n",
       "4. 187\n",
       "5. 125\n",
       "6. 142\n",
       "7. 134\n",
       "8. 20\n",
       "\n",
       "\n"
      ],
      "text/plain": [
       "[1] 155 162 142 187 125 142 134  20"
      ]
     },
     "metadata": {},
     "output_type": "display_data"
    }
   ],
   "source": [
    "data$height"
   ]
  },
  {
   "cell_type": "code",
   "execution_count": 193,
   "metadata": {},
   "outputs": [
    {
     "data": {
      "text/html": [
       "100"
      ],
      "text/latex": [
       "100"
      ],
      "text/markdown": [
       "100"
      ],
      "text/plain": [
       "[1] 100"
      ]
     },
     "metadata": {},
     "output_type": "display_data"
    }
   ],
   "source": [
    "stats = boxplot.stats(data$age)\n",
    "stats$out"
   ]
  },
  {
   "cell_type": "code",
   "execution_count": 194,
   "metadata": {},
   "outputs": [
    {
     "data": {
      "text/html": [
       "<style>\n",
       ".list-inline {list-style: none; margin:0; padding: 0}\n",
       ".list-inline>li {display: inline-block}\n",
       ".list-inline>li:not(:last-child)::after {content: \"\\00b7\"; padding: 0 .5ex}\n",
       "</style>\n",
       "<ol class=list-inline><li>12</li><li>13</li><li>11</li><li>14</li><li>11</li><li>10</li><li>12</li><li>100</li></ol>\n"
      ],
      "text/latex": [
       "\\begin{enumerate*}\n",
       "\\item 12\n",
       "\\item 13\n",
       "\\item 11\n",
       "\\item 14\n",
       "\\item 11\n",
       "\\item 10\n",
       "\\item 12\n",
       "\\item 100\n",
       "\\end{enumerate*}\n"
      ],
      "text/markdown": [
       "1. 12\n",
       "2. 13\n",
       "3. 11\n",
       "4. 14\n",
       "5. 11\n",
       "6. 10\n",
       "7. 12\n",
       "8. 100\n",
       "\n",
       "\n"
      ],
      "text/plain": [
       "[1]  12  13  11  14  11  10  12 100"
      ]
     },
     "metadata": {},
     "output_type": "display_data"
    }
   ],
   "source": [
    "data$age"
   ]
  },
  {
   "cell_type": "markdown",
   "metadata": {},
   "source": [
    "Similarly, the age of 100 that we have added as an outlier to the age column has been detected."
   ]
  },
  {
   "cell_type": "markdown",
   "metadata": {},
   "source": [
    "### How to treat outliers in data"
   ]
  },
  {
   "cell_type": "markdown",
   "metadata": {},
   "source": [
    "Now, how do we work these outliers ? There are a couple of options\n",
    "\n",
    "- Replace the outliers with imputation (with either mean, median or mode, depending on the nature of data)\n",
    "- prediction"
   ]
  },
  {
   "cell_type": "markdown",
   "metadata": {},
   "source": [
    "#### Replace outliers with imputation"
   ]
  },
  {
   "cell_type": "markdown",
   "metadata": {},
   "source": [
    "#### Prediction"
   ]
  },
  {
   "cell_type": "code",
   "execution_count": null,
   "metadata": {},
   "outputs": [],
   "source": []
  }
 ],
 "metadata": {
  "kernelspec": {
   "display_name": "R",
   "language": "R",
   "name": "ir"
  },
  "language_info": {
   "codemirror_mode": "r",
   "file_extension": ".r",
   "mimetype": "text/x-r-source",
   "name": "R",
   "pygments_lexer": "r",
   "version": "3.6.2"
  }
 },
 "nbformat": 4,
 "nbformat_minor": 4
}
