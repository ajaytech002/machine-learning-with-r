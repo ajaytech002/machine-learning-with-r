{
 "cells": [
  {
   "cell_type": "markdown",
   "metadata": {},
   "source": [
    "Notebook is copyright &copy; of <a href=\"https://ajaytech.co\">Ajay Tech</a>. For a web version of this, please visit <a href=\"https://ajaytech.co/regression-with-r\">Linear Regression-with-r</a>."
   ]
  },
  {
   "cell_type": "markdown",
   "metadata": {},
   "source": [
    "<hr>"
   ]
  },
  {
   "cell_type": "markdown",
   "metadata": {},
   "source": [
    "# Linear Regression with R"
   ]
  },
  {
   "cell_type": "markdown",
   "metadata": {},
   "source": [
    "- What is Regression\n",
    "- Why Regression\n",
    "- Solve a Regression problem in Python\n",
    "- Simple Linear Regression\n",
    "  - How did we get the straight line ( fit )\n",
    "  - Residuals\n",
    "  - Sum of Squares\n",
    "- Multilinear Regression\n",
    "  - Boston Housing dataset\n",
    "  - Reponse Variable vs Predictor\n",
    "- Correlation\n",
    "- p value\n",
    "  - Null Hypothesis\n",
    "  - Optimum p-value\n",
    "- Key Model Evaluation Parameters\n",
    "  - r-squared – r2\n",
    "  - How is r2 calculated\n",
    "  - r-squared adjusted\n",
    "  - RMSE – Root Mean Square error\n",
    "- Feature Selection\n",
    "  - Stepwise Regression\n",
    "  - Backward Elimination\n",
    "- Accuracy of the model\n",
    "  - Training & Test datasets\n",
    "- Polynomial Regression\n",
    "- Overfitting\n",
    "  - Detect Overfitting\n",
    "- Linear Regression Assumptions\n",
    "  - Homoskedasticity\n",
    "  - Normal Distribution of Residuals\n",
    "  - No Multicollinearity\n",
    "- Challenges"
   ]
  },
  {
   "cell_type": "code",
   "execution_count": 6,
   "metadata": {},
   "outputs": [],
   "source": [
    "# read.csv is used to read a csv file into a dataframe\n",
    "black_friday_df = read.csv(\"./data/BlackFriday.csv\")  "
   ]
  },
  {
   "cell_type": "code",
   "execution_count": 5,
   "metadata": {},
   "outputs": [
    {
     "data": {
      "text/html": [
       "<table>\n",
       "<caption>A data.frame: 6 × 12</caption>\n",
       "<thead>\n",
       "\t<tr><th></th><th scope=col>User_ID</th><th scope=col>Product_ID</th><th scope=col>Gender</th><th scope=col>Age</th><th scope=col>Occupation</th><th scope=col>City_Category</th><th scope=col>Stay_In_Current_City_Years</th><th scope=col>Marital_Status</th><th scope=col>Product_Category_1</th><th scope=col>Product_Category_2</th><th scope=col>Product_Category_3</th><th scope=col>Purchase</th></tr>\n",
       "\t<tr><th></th><th scope=col>&lt;int&gt;</th><th scope=col>&lt;fct&gt;</th><th scope=col>&lt;fct&gt;</th><th scope=col>&lt;fct&gt;</th><th scope=col>&lt;int&gt;</th><th scope=col>&lt;fct&gt;</th><th scope=col>&lt;fct&gt;</th><th scope=col>&lt;int&gt;</th><th scope=col>&lt;int&gt;</th><th scope=col>&lt;int&gt;</th><th scope=col>&lt;int&gt;</th><th scope=col>&lt;int&gt;</th></tr>\n",
       "</thead>\n",
       "<tbody>\n",
       "\t<tr><th scope=row>1</th><td>1000001</td><td>P00069042</td><td>F</td><td>0-17 </td><td>10</td><td>A</td><td>2 </td><td>0</td><td> 3</td><td>NA</td><td>NA</td><td> 8370</td></tr>\n",
       "\t<tr><th scope=row>2</th><td>1000001</td><td>P00248942</td><td>F</td><td>0-17 </td><td>10</td><td>A</td><td>2 </td><td>0</td><td> 1</td><td> 6</td><td>14</td><td>15200</td></tr>\n",
       "\t<tr><th scope=row>3</th><td>1000001</td><td>P00087842</td><td>F</td><td>0-17 </td><td>10</td><td>A</td><td>2 </td><td>0</td><td>12</td><td>NA</td><td>NA</td><td> 1422</td></tr>\n",
       "\t<tr><th scope=row>4</th><td>1000001</td><td>P00085442</td><td>F</td><td>0-17 </td><td>10</td><td>A</td><td>2 </td><td>0</td><td>12</td><td>14</td><td>NA</td><td> 1057</td></tr>\n",
       "\t<tr><th scope=row>5</th><td>1000002</td><td>P00285442</td><td>M</td><td>55+  </td><td>16</td><td>C</td><td>4+</td><td>0</td><td> 8</td><td>NA</td><td>NA</td><td> 7969</td></tr>\n",
       "\t<tr><th scope=row>6</th><td>1000003</td><td>P00193542</td><td>M</td><td>26-35</td><td>15</td><td>A</td><td>3 </td><td>0</td><td> 1</td><td> 2</td><td>NA</td><td>15227</td></tr>\n",
       "</tbody>\n",
       "</table>\n"
      ],
      "text/latex": [
       "A data.frame: 6 × 12\n",
       "\\begin{tabular}{r|llllllllllll}\n",
       "  & User\\_ID & Product\\_ID & Gender & Age & Occupation & City\\_Category & Stay\\_In\\_Current\\_City\\_Years & Marital\\_Status & Product\\_Category\\_1 & Product\\_Category\\_2 & Product\\_Category\\_3 & Purchase\\\\\n",
       "  & <int> & <fct> & <fct> & <fct> & <int> & <fct> & <fct> & <int> & <int> & <int> & <int> & <int>\\\\\n",
       "\\hline\n",
       "\t1 & 1000001 & P00069042 & F & 0-17  & 10 & A & 2  & 0 &  3 & NA & NA &  8370\\\\\n",
       "\t2 & 1000001 & P00248942 & F & 0-17  & 10 & A & 2  & 0 &  1 &  6 & 14 & 15200\\\\\n",
       "\t3 & 1000001 & P00087842 & F & 0-17  & 10 & A & 2  & 0 & 12 & NA & NA &  1422\\\\\n",
       "\t4 & 1000001 & P00085442 & F & 0-17  & 10 & A & 2  & 0 & 12 & 14 & NA &  1057\\\\\n",
       "\t5 & 1000002 & P00285442 & M & 55+   & 16 & C & 4+ & 0 &  8 & NA & NA &  7969\\\\\n",
       "\t6 & 1000003 & P00193542 & M & 26-35 & 15 & A & 3  & 0 &  1 &  2 & NA & 15227\\\\\n",
       "\\end{tabular}\n"
      ],
      "text/markdown": [
       "\n",
       "A data.frame: 6 × 12\n",
       "\n",
       "| <!--/--> | User_ID &lt;int&gt; | Product_ID &lt;fct&gt; | Gender &lt;fct&gt; | Age &lt;fct&gt; | Occupation &lt;int&gt; | City_Category &lt;fct&gt; | Stay_In_Current_City_Years &lt;fct&gt; | Marital_Status &lt;int&gt; | Product_Category_1 &lt;int&gt; | Product_Category_2 &lt;int&gt; | Product_Category_3 &lt;int&gt; | Purchase &lt;int&gt; |\n",
       "|---|---|---|---|---|---|---|---|---|---|---|---|---|\n",
       "| 1 | 1000001 | P00069042 | F | 0-17  | 10 | A | 2  | 0 |  3 | NA | NA |  8370 |\n",
       "| 2 | 1000001 | P00248942 | F | 0-17  | 10 | A | 2  | 0 |  1 |  6 | 14 | 15200 |\n",
       "| 3 | 1000001 | P00087842 | F | 0-17  | 10 | A | 2  | 0 | 12 | NA | NA |  1422 |\n",
       "| 4 | 1000001 | P00085442 | F | 0-17  | 10 | A | 2  | 0 | 12 | 14 | NA |  1057 |\n",
       "| 5 | 1000002 | P00285442 | M | 55+   | 16 | C | 4+ | 0 |  8 | NA | NA |  7969 |\n",
       "| 6 | 1000003 | P00193542 | M | 26-35 | 15 | A | 3  | 0 |  1 |  2 | NA | 15227 |\n",
       "\n"
      ],
      "text/plain": [
       "  User_ID Product_ID Gender Age   Occupation City_Category\n",
       "1 1000001 P00069042  F      0-17  10         A            \n",
       "2 1000001 P00248942  F      0-17  10         A            \n",
       "3 1000001 P00087842  F      0-17  10         A            \n",
       "4 1000001 P00085442  F      0-17  10         A            \n",
       "5 1000002 P00285442  M      55+   16         C            \n",
       "6 1000003 P00193542  M      26-35 15         A            \n",
       "  Stay_In_Current_City_Years Marital_Status Product_Category_1\n",
       "1 2                          0               3                \n",
       "2 2                          0               1                \n",
       "3 2                          0              12                \n",
       "4 2                          0              12                \n",
       "5 4+                         0               8                \n",
       "6 3                          0               1                \n",
       "  Product_Category_2 Product_Category_3 Purchase\n",
       "1 NA                 NA                  8370   \n",
       "2  6                 14                 15200   \n",
       "3 NA                 NA                  1422   \n",
       "4 14                 NA                  1057   \n",
       "5 NA                 NA                  7969   \n",
       "6  2                 NA                 15227   "
      ]
     },
     "metadata": {},
     "output_type": "display_data"
    }
   ],
   "source": [
    "head(black_friday_df)  # prints the first few rows"
   ]
  },
  {
   "cell_type": "code",
   "execution_count": 4,
   "metadata": {},
   "outputs": [
    {
     "name": "stdout",
     "output_type": "stream",
     "text": [
      "'data.frame':\t537577 obs. of  12 variables:\n",
      " $ User_ID                   : int  1000001 1000001 1000001 1000001 1000002 1000003 1000004 1000004 1000004 1000005 ...\n",
      " $ Product_ID                : Factor w/ 3623 levels \"P00000142\",\"P00000242\",..: 671 2375 851 827 2733 1830 1744 3319 3597 2630 ...\n",
      " $ Gender                    : Factor w/ 2 levels \"F\",\"M\": 1 1 1 1 2 2 2 2 2 2 ...\n",
      " $ Age                       : Factor w/ 7 levels \"0-17\",\"18-25\",..: 1 1 1 1 7 3 5 5 5 3 ...\n",
      " $ Occupation                : int  10 10 10 10 16 15 7 7 7 20 ...\n",
      " $ City_Category             : Factor w/ 3 levels \"A\",\"B\",\"C\": 1 1 1 1 3 1 2 2 2 1 ...\n",
      " $ Stay_In_Current_City_Years: Factor w/ 5 levels \"0\",\"1\",\"2\",\"3\",..: 3 3 3 3 5 4 3 3 3 2 ...\n",
      " $ Marital_Status            : int  0 0 0 0 0 0 1 1 1 1 ...\n",
      " $ Product_Category_1        : int  3 1 12 12 8 1 1 1 1 8 ...\n",
      " $ Product_Category_2        : int  NA 6 NA 14 NA 2 8 15 16 NA ...\n",
      " $ Product_Category_3        : int  NA 14 NA NA NA NA 17 NA NA NA ...\n",
      " $ Purchase                  : int  8370 15200 1422 1057 7969 15227 19215 15854 15686 7871 ...\n"
     ]
    }
   ],
   "source": [
    "str(black_friday_df)"
   ]
  },
  {
   "cell_type": "code",
   "execution_count": 7,
   "metadata": {},
   "outputs": [],
   "source": [
    "# Not all columns are necessary. For example, a column like userID does not add any value to predict the purchase. "
   ]
  },
  {
   "cell_type": "code",
   "execution_count": 11,
   "metadata": {},
   "outputs": [
    {
     "data": {
      "text/html": [
       "<style>\n",
       ".dl-inline {width: auto; margin:0; padding: 0}\n",
       ".dl-inline>dt, .dl-inline>dd {float: none; width: auto; display: inline-block}\n",
       ".dl-inline>dt::after {content: \":\\0020\"; padding-right: .5ex}\n",
       ".dl-inline>dt:not(:first-of-type) {padding-left: .5ex}\n",
       "</style><dl class=dl-inline><dt>User_ID</dt><dd>0</dd><dt>Product_ID</dt><dd>0</dd><dt>Gender</dt><dd>0</dd><dt>Age</dt><dd>0</dd><dt>Occupation</dt><dd>0</dd><dt>City_Category</dt><dd>0</dd><dt>Stay_In_Current_City_Years</dt><dd>0</dd><dt>Marital_Status</dt><dd>0</dd><dt>Product_Category_1</dt><dd>0</dd><dt>Product_Category_2</dt><dd>166986</dd><dt>Product_Category_3</dt><dd>373299</dd><dt>Purchase</dt><dd>0</dd></dl>\n"
      ],
      "text/latex": [
       "\\begin{description*}\n",
       "\\item[User\\textbackslash{}\\_ID] 0\n",
       "\\item[Product\\textbackslash{}\\_ID] 0\n",
       "\\item[Gender] 0\n",
       "\\item[Age] 0\n",
       "\\item[Occupation] 0\n",
       "\\item[City\\textbackslash{}\\_Category] 0\n",
       "\\item[Stay\\textbackslash{}\\_In\\textbackslash{}\\_Current\\textbackslash{}\\_City\\textbackslash{}\\_Years] 0\n",
       "\\item[Marital\\textbackslash{}\\_Status] 0\n",
       "\\item[Product\\textbackslash{}\\_Category\\textbackslash{}\\_1] 0\n",
       "\\item[Product\\textbackslash{}\\_Category\\textbackslash{}\\_2] 166986\n",
       "\\item[Product\\textbackslash{}\\_Category\\textbackslash{}\\_3] 373299\n",
       "\\item[Purchase] 0\n",
       "\\end{description*}\n"
      ],
      "text/markdown": [
       "User_ID\n",
       ":   0Product_ID\n",
       ":   0Gender\n",
       ":   0Age\n",
       ":   0Occupation\n",
       ":   0City_Category\n",
       ":   0Stay_In_Current_City_Years\n",
       ":   0Marital_Status\n",
       ":   0Product_Category_1\n",
       ":   0Product_Category_2\n",
       ":   166986Product_Category_3\n",
       ":   373299Purchase\n",
       ":   0\n",
       "\n"
      ],
      "text/plain": [
       "                   User_ID                 Product_ID \n",
       "                         0                          0 \n",
       "                    Gender                        Age \n",
       "                         0                          0 \n",
       "                Occupation              City_Category \n",
       "                         0                          0 \n",
       "Stay_In_Current_City_Years             Marital_Status \n",
       "                         0                          0 \n",
       "        Product_Category_1         Product_Category_2 \n",
       "                         0                     166986 \n",
       "        Product_Category_3                   Purchase \n",
       "                    373299                          0 "
      ]
     },
     "metadata": {},
     "output_type": "display_data"
    }
   ],
   "source": [
    "colSums(is.na(black_friday_df))"
   ]
  },
  {
   "cell_type": "code",
   "execution_count": 14,
   "metadata": {},
   "outputs": [
    {
     "data": {
      "text/html": [
       "TRUE"
      ],
      "text/latex": [
       "TRUE"
      ],
      "text/markdown": [
       "TRUE"
      ],
      "text/plain": [
       "[1] TRUE"
      ]
     },
     "metadata": {},
     "output_type": "display_data"
    }
   ],
   "source": [
    "is.list(black_friday_df)"
   ]
  },
  {
   "cell_type": "code",
   "execution_count": 15,
   "metadata": {},
   "outputs": [
    {
     "data": {
      "text/html": [
       "TRUE"
      ],
      "text/latex": [
       "TRUE"
      ],
      "text/markdown": [
       "TRUE"
      ],
      "text/plain": [
       "[1] TRUE"
      ]
     },
     "metadata": {},
     "output_type": "display_data"
    }
   ],
   "source": [
    "is.data.frame(black_friday_df)"
   ]
  },
  {
   "cell_type": "markdown",
   "metadata": {},
   "source": [
    "Dataframes are just R lists with a few restrictions\n",
    "\n",
    "- All the elements of the list should have the same length and they should all be vectors. \n",
    "- Each sub-element in the list should have the same datatype.\n",
    "- The names of the elements should be unique."
   ]
  },
  {
   "cell_type": "code",
   "execution_count": 20,
   "metadata": {},
   "outputs": [
    {
     "data": {
      "text/html": [
       "'data.frame'"
      ],
      "text/latex": [
       "'data.frame'"
      ],
      "text/markdown": [
       "'data.frame'"
      ],
      "text/plain": [
       "[1] \"data.frame\""
      ]
     },
     "metadata": {},
     "output_type": "display_data"
    }
   ],
   "source": [
    "class(black_friday_df)"
   ]
  },
  {
   "cell_type": "code",
   "execution_count": 23,
   "metadata": {},
   "outputs": [],
   "source": [
    "i = TRUE"
   ]
  },
  {
   "cell_type": "code",
   "execution_count": 24,
   "metadata": {},
   "outputs": [
    {
     "data": {
      "text/html": [
       "'logical'"
      ],
      "text/latex": [
       "'logical'"
      ],
      "text/markdown": [
       "'logical'"
      ],
      "text/plain": [
       "[1] \"logical\""
      ]
     },
     "metadata": {},
     "output_type": "display_data"
    }
   ],
   "source": [
    "class(i)"
   ]
  },
  {
   "cell_type": "markdown",
   "metadata": {},
   "source": [
    "### EDA"
   ]
  }
 ],
 "metadata": {
  "kernelspec": {
   "display_name": "R",
   "language": "R",
   "name": "ir"
  },
  "language_info": {
   "codemirror_mode": "r",
   "file_extension": ".r",
   "mimetype": "text/x-r-source",
   "name": "R",
   "pygments_lexer": "r",
   "version": "3.6.2"
  }
 },
 "nbformat": 4,
 "nbformat_minor": 4
}
