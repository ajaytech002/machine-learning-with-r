{
 "cells": [
  {
   "cell_type": "markdown",
   "metadata": {},
   "source": [
    "Notebook is copyright &copy; of <a href=\"https://ajaytech.co\"> Ajay Tech</a>. You can find an online version of the same at <a href=\"https://ajaytech.co/python-machine-learning-lifecycle\"> Machine Learning Lifecycle</a> or on <a href=\"https://github.com/ajaytech002\"> Ajay Tech's gitjhub page</a>"
   ]
  },
  {
   "cell_type": "markdown",
   "metadata": {},
   "source": [
    "# Machine Learning Lifecycle with R"
   ]
  },
  {
   "cell_type": "markdown",
   "metadata": {},
   "source": [
    "## Contents"
   ]
  },
  {
   "cell_type": "markdown",
   "metadata": {},
   "source": [
    "- What is Machine Learning lifecycle\n",
    "- Data Ingestion\n",
    "  - Data Import\n",
    "    - Excel Files\n",
    "    - Flat Files\n",
    "    - Web Scraping\n",
    "    - API\n",
    "    - Database\n",
    "  - Feature Extraction\n",
    "  - Data Preprocessing\n",
    "    - Feature Scaling\n",
    "    - Non-linear Transformations\n",
    "    - Encoding Categorical Variables\n",
    "      - Ordinal Encoding\n",
    "      - One-hot encoding\n",
    "  - Imputation of missing values\n",
    "    - Simple Imputer\n",
    "    - Iterative Imputer (Predictive)\n",
    "  - Dimensionality Reduction <sup>&sect;</sup>\n",
    "- Data Modeling <sup>*</sup>\n",
    "  - Model Accuracy Metrics\n",
    "  - Validation\n",
    "- Deployment <sup>**</sup>\n",
    "\n",
    "<sup>&sect;</sup> - will be dealt with on Day 18 <br>\n",
    "<sup>\\*</sup> - _Modeling will be dealt with in week 3 and week 4_ <br>\n",
    "<sup>**</sup> - _will be dealt with on day 19_"
   ]
  },
  {
   "cell_type": "markdown",
   "metadata": {},
   "source": [
    "<hr>"
   ]
  },
  {
   "cell_type": "markdown",
   "metadata": {},
   "source": [
    "### Machine Learning Lifecycle"
   ]
  },
  {
   "cell_type": "markdown",
   "metadata": {},
   "source": [
    "Just like any project following the software engineering process, Machine Learning also has a lifecycle. Since Machine Learning is more data oriented, the bulk of the time is spent with data. At a high level, the machine learning lifecycle looks something like this.\n"
   ]
  },
  {
   "cell_type": "markdown",
   "metadata": {},
   "source": [
    "<img src=\"./pics/machine-learning-lifecycle-high-level.png\"/>"
   ]
  },
  {
   "cell_type": "markdown",
   "metadata": {},
   "source": [
    "We are not talking about some of the much higher level project activities like\n",
    "\n",
    "- Project Objectives\n",
    "- Staffing\n",
    "- Risk Management etc\n",
    "\n",
    "Those will be talked about in the context of pure _Project Management_. In this section, we will be talking about the activities that you would have to be part of as either a **Machine Learning Engineer** or __Project lead__. "
   ]
  },
  {
   "cell_type": "markdown",
   "metadata": {},
   "source": [
    "If you are wondering why the boxes are not even in size, it is signify the amount of time you will be spending in each of these activities. As you can see, the bulk of the activities are centered around the Data Ingestion process - and that will be the focus of this section. Modeling will be what the rest of this course will focus on. Deployment will focus on how the actual Machine Learning solution will be deployed in a live environment and how the results will be distributed to the users."
   ]
  },
  {
   "cell_type": "markdown",
   "metadata": {},
   "source": [
    "<hr>"
   ]
  },
  {
   "cell_type": "markdown",
   "metadata": {},
   "source": [
    "### Data Ingestion"
   ]
  },
  {
   "cell_type": "markdown",
   "metadata": {},
   "source": [
    "This is where you will be spending most of your time as an ML engineer. Data is messy - there is so many things to be done like finding the right data sources, cleansing, deduplication, validation etc. These are pretty broad topics that require a variety of skills like SQL, data pre-processing techniques, good excel skills and so on. We will not be discussing all of the steps in data ingestion. We will only be focusing on the following activities highlighted in bold, specifically in the context of NumPy, Pandas & Scikit Learn. "
   ]
  },
  {
   "cell_type": "markdown",
   "metadata": {},
   "source": [
    "<hr>"
   ]
  },
  {
   "cell_type": "markdown",
   "metadata": {},
   "source": [
    "#### Data Import "
   ]
  },
  {
   "cell_type": "markdown",
   "metadata": {},
   "source": [
    "Data import is a tedious and typically time consuming. Sourcing the data is not all that straight forward most of the time. \n",
    "\n",
    "- **Easy** - Sometimes, data is readily available. For example, if you were doing movie recommendations algorithm in Netflix, most of the data is readily available in their database. \n",
    "- **Medium** - Data is readily available but in different silos/formats. For example, in the same example as above, imagine you were to get data related to external movie ratings (on top of netflix's own movie data). This would require some level of data mangling, munging, mixing etc. \n",
    "- **Hard** - Data is sometimes hard to get using regular methods. You might have to resort to special techniques like data scraping, write bulk downloaders using APIs etc . In some of these cases, the quality of data might also be questionable. "
   ]
  },
  {
   "cell_type": "markdown",
   "metadata": {},
   "source": [
    "We will be dealing with some of the simpler methods of importing data."
   ]
  },
  {
   "cell_type": "markdown",
   "metadata": {},
   "source": [
    "<hr>"
   ]
  },
  {
   "cell_type": "markdown",
   "metadata": {},
   "source": [
    "#### Import Data from Excel files"
   ]
  },
  {
   "cell_type": "markdown",
   "metadata": {},
   "source": [
    "**Using readxl**"
   ]
  },
  {
   "cell_type": "markdown",
   "metadata": {},
   "source": [
    "Part of the **tidyverse** package, **readxl ( )** unlike other packages (for ex., xlsx ) that require external dependencies(for ex., packae xlsx requires Java to be installed)."
   ]
  },
  {
   "cell_type": "code",
   "execution_count": 16,
   "metadata": {},
   "outputs": [
    {
     "data": {
      "text/html": [
       "<table>\n",
       "<caption>A tibble: 2 × 8</caption>\n",
       "<thead>\n",
       "\t<tr><th scope=col>InvoiceNo</th><th scope=col>StockCode</th><th scope=col>Description</th><th scope=col>Quantity</th><th scope=col>InvoiceDate</th><th scope=col>UnitPrice</th><th scope=col>CustomerID</th><th scope=col>Country</th></tr>\n",
       "\t<tr><th scope=col>&lt;dbl&gt;</th><th scope=col>&lt;chr&gt;</th><th scope=col>&lt;chr&gt;</th><th scope=col>&lt;dbl&gt;</th><th scope=col>&lt;dttm&gt;</th><th scope=col>&lt;dbl&gt;</th><th scope=col>&lt;dbl&gt;</th><th scope=col>&lt;chr&gt;</th></tr>\n",
       "</thead>\n",
       "<tbody>\n",
       "\t<tr><td>536365</td><td>85123A</td><td>WHITE HANGING HEART T-LIGHT HOLDER</td><td>6</td><td>2010-12-01 08:26:00</td><td>2.55</td><td>17850</td><td>United Kingdom</td></tr>\n",
       "\t<tr><td>536365</td><td>71053 </td><td>WHITE METAL LANTERN               </td><td>6</td><td>2010-12-01 08:26:00</td><td>3.39</td><td>17850</td><td>United Kingdom</td></tr>\n",
       "</tbody>\n",
       "</table>\n"
      ],
      "text/latex": [
       "A tibble: 2 × 8\n",
       "\\begin{tabular}{llllllll}\n",
       " InvoiceNo & StockCode & Description & Quantity & InvoiceDate & UnitPrice & CustomerID & Country\\\\\n",
       " <dbl> & <chr> & <chr> & <dbl> & <dttm> & <dbl> & <dbl> & <chr>\\\\\n",
       "\\hline\n",
       "\t 536365 & 85123A & WHITE HANGING HEART T-LIGHT HOLDER & 6 & 2010-12-01 08:26:00 & 2.55 & 17850 & United Kingdom\\\\\n",
       "\t 536365 & 71053  & WHITE METAL LANTERN                & 6 & 2010-12-01 08:26:00 & 3.39 & 17850 & United Kingdom\\\\\n",
       "\\end{tabular}\n"
      ],
      "text/markdown": [
       "\n",
       "A tibble: 2 × 8\n",
       "\n",
       "| InvoiceNo &lt;dbl&gt; | StockCode &lt;chr&gt; | Description &lt;chr&gt; | Quantity &lt;dbl&gt; | InvoiceDate &lt;dttm&gt; | UnitPrice &lt;dbl&gt; | CustomerID &lt;dbl&gt; | Country &lt;chr&gt; |\n",
       "|---|---|---|---|---|---|---|---|\n",
       "| 536365 | 85123A | WHITE HANGING HEART T-LIGHT HOLDER | 6 | 2010-12-01 08:26:00 | 2.55 | 17850 | United Kingdom |\n",
       "| 536365 | 71053  | WHITE METAL LANTERN                | 6 | 2010-12-01 08:26:00 | 3.39 | 17850 | United Kingdom |\n",
       "\n"
      ],
      "text/plain": [
       "  InvoiceNo StockCode Description                        Quantity\n",
       "1 536365    85123A    WHITE HANGING HEART T-LIGHT HOLDER 6       \n",
       "2 536365    71053     WHITE METAL LANTERN                6       \n",
       "  InvoiceDate         UnitPrice CustomerID Country       \n",
       "1 2010-12-01 08:26:00 2.55      17850      United Kingdom\n",
       "2 2010-12-01 08:26:00 3.39      17850      United Kingdom"
      ]
     },
     "metadata": {},
     "output_type": "display_data"
    }
   ],
   "source": [
    "library(\"tidyverse\")\n",
    "\n",
    "shopping_cart = read_excel(\"./data/shopping_cart.xlsx\")\n",
    "head(shopping_cart, 2)"
   ]
  },
  {
   "cell_type": "markdown",
   "metadata": {},
   "source": [
    "If you don't want to use the **tidyverse( )** library, you can use **xlsx** library. However, this package requires JAVA to be installed. Check that JAVA_HOME is set as an environment variable."
   ]
  },
  {
   "cell_type": "code",
   "execution_count": 18,
   "metadata": {},
   "outputs": [
    {
     "data": {
      "text/html": [
       "<table>\n",
       "<caption>A data.frame: 2 × 8</caption>\n",
       "<thead>\n",
       "\t<tr><th></th><th scope=col>InvoiceNo</th><th scope=col>StockCode</th><th scope=col>Description</th><th scope=col>Quantity</th><th scope=col>InvoiceDate</th><th scope=col>UnitPrice</th><th scope=col>CustomerID</th><th scope=col>Country</th></tr>\n",
       "\t<tr><th></th><th scope=col>&lt;dbl&gt;</th><th scope=col>&lt;fct&gt;</th><th scope=col>&lt;fct&gt;</th><th scope=col>&lt;dbl&gt;</th><th scope=col>&lt;dttm&gt;</th><th scope=col>&lt;dbl&gt;</th><th scope=col>&lt;dbl&gt;</th><th scope=col>&lt;fct&gt;</th></tr>\n",
       "</thead>\n",
       "<tbody>\n",
       "\t<tr><th scope=row>1</th><td>536365</td><td>85123A</td><td>WHITE HANGING HEART T-LIGHT HOLDER</td><td>6</td><td>2010-12-01 08:26:00</td><td>2.55</td><td>17850</td><td>United Kingdom</td></tr>\n",
       "\t<tr><th scope=row>2</th><td>536365</td><td>71053 </td><td>WHITE METAL LANTERN               </td><td>6</td><td>2010-12-01 08:26:00</td><td>3.39</td><td>17850</td><td>United Kingdom</td></tr>\n",
       "</tbody>\n",
       "</table>\n"
      ],
      "text/latex": [
       "A data.frame: 2 × 8\n",
       "\\begin{tabular}{r|llllllll}\n",
       "  & InvoiceNo & StockCode & Description & Quantity & InvoiceDate & UnitPrice & CustomerID & Country\\\\\n",
       "  & <dbl> & <fct> & <fct> & <dbl> & <dttm> & <dbl> & <dbl> & <fct>\\\\\n",
       "\\hline\n",
       "\t1 & 536365 & 85123A & WHITE HANGING HEART T-LIGHT HOLDER & 6 & 2010-12-01 08:26:00 & 2.55 & 17850 & United Kingdom\\\\\n",
       "\t2 & 536365 & 71053  & WHITE METAL LANTERN                & 6 & 2010-12-01 08:26:00 & 3.39 & 17850 & United Kingdom\\\\\n",
       "\\end{tabular}\n"
      ],
      "text/markdown": [
       "\n",
       "A data.frame: 2 × 8\n",
       "\n",
       "| <!--/--> | InvoiceNo &lt;dbl&gt; | StockCode &lt;fct&gt; | Description &lt;fct&gt; | Quantity &lt;dbl&gt; | InvoiceDate &lt;dttm&gt; | UnitPrice &lt;dbl&gt; | CustomerID &lt;dbl&gt; | Country &lt;fct&gt; |\n",
       "|---|---|---|---|---|---|---|---|---|\n",
       "| 1 | 536365 | 85123A | WHITE HANGING HEART T-LIGHT HOLDER | 6 | 2010-12-01 08:26:00 | 2.55 | 17850 | United Kingdom |\n",
       "| 2 | 536365 | 71053  | WHITE METAL LANTERN                | 6 | 2010-12-01 08:26:00 | 3.39 | 17850 | United Kingdom |\n",
       "\n"
      ],
      "text/plain": [
       "  InvoiceNo StockCode Description                        Quantity\n",
       "1 536365    85123A    WHITE HANGING HEART T-LIGHT HOLDER 6       \n",
       "2 536365    71053     WHITE METAL LANTERN                6       \n",
       "  InvoiceDate         UnitPrice CustomerID Country       \n",
       "1 2010-12-01 08:26:00 2.55      17850      United Kingdom\n",
       "2 2010-12-01 08:26:00 3.39      17850      United Kingdom"
      ]
     },
     "metadata": {},
     "output_type": "display_data"
    }
   ],
   "source": [
    "library(xlsx)\n",
    "\n",
    "shopping_cart = read.xlsx(\"./data/shopping_cart.xlsx\", sheetIndex = 1)\n",
    "head(shopping_cart, 2)\n"
   ]
  },
  {
   "cell_type": "markdown",
   "metadata": {},
   "source": [
    "<hr>"
   ]
  },
  {
   "cell_type": "markdown",
   "metadata": {},
   "source": [
    "#### Import Data from Flat files"
   ]
  },
  {
   "cell_type": "markdown",
   "metadata": {},
   "source": [
    "Flat files are typically either in CSV(Comma Separated Values) or TSV ( Tab Separated values) or any flat file format delimited by any kind of delimiter. Here are some popular examples\n",
    "\n",
    "- tab ( \\t )\n",
    "- pipe delimited ( | )\n",
    "- comma (,) etc\n",
    "\n",
    "In R, there is a readymade function just for CSV files."
   ]
  },
  {
   "cell_type": "code",
   "execution_count": 21,
   "metadata": {},
   "outputs": [
    {
     "data": {
      "text/html": [
       "<table>\n",
       "<caption>A data.frame: 2 × 2</caption>\n",
       "<thead>\n",
       "\t<tr><th></th><th scope=col>year</th><th scope=col>population</th></tr>\n",
       "\t<tr><th></th><th scope=col>&lt;int&gt;</th><th scope=col>&lt;int&gt;</th></tr>\n",
       "</thead>\n",
       "<tbody>\n",
       "\t<tr><th scope=row>1</th><td>1950</td><td>376325200</td></tr>\n",
       "\t<tr><th scope=row>2</th><td>1951</td><td>382245303</td></tr>\n",
       "</tbody>\n",
       "</table>\n"
      ],
      "text/latex": [
       "A data.frame: 2 × 2\n",
       "\\begin{tabular}{r|ll}\n",
       "  & year & population\\\\\n",
       "  & <int> & <int>\\\\\n",
       "\\hline\n",
       "\t1 & 1950 & 376325200\\\\\n",
       "\t2 & 1951 & 382245303\\\\\n",
       "\\end{tabular}\n"
      ],
      "text/markdown": [
       "\n",
       "A data.frame: 2 × 2\n",
       "\n",
       "| <!--/--> | year &lt;int&gt; | population &lt;int&gt; |\n",
       "|---|---|---|\n",
       "| 1 | 1950 | 376325200 |\n",
       "| 2 | 1951 | 382245303 |\n",
       "\n"
      ],
      "text/plain": [
       "  year population\n",
       "1 1950 376325200 \n",
       "2 1951 382245303 "
      ]
     },
     "metadata": {},
     "output_type": "display_data"
    }
   ],
   "source": [
    "shopping_cart = read.csv(\"./data/india_population.csv\")\n",
    "head(shopping_cart, 2)"
   ]
  },
  {
   "cell_type": "markdown",
   "metadata": {},
   "source": [
    "For other delimiters, use **read.table( )** which lends itself to any kind of delimiter."
   ]
  },
  {
   "cell_type": "code",
   "execution_count": 24,
   "metadata": {},
   "outputs": [
    {
     "data": {
      "text/html": [
       "<table>\n",
       "<caption>A data.frame: 2 × 5</caption>\n",
       "<thead>\n",
       "\t<tr><th></th><th scope=col>sepal_length</th><th scope=col>sepal_width</th><th scope=col>petal_length</th><th scope=col>petal_width</th><th scope=col>species</th></tr>\n",
       "\t<tr><th></th><th scope=col>&lt;dbl&gt;</th><th scope=col>&lt;dbl&gt;</th><th scope=col>&lt;dbl&gt;</th><th scope=col>&lt;dbl&gt;</th><th scope=col>&lt;int&gt;</th></tr>\n",
       "</thead>\n",
       "<tbody>\n",
       "\t<tr><th scope=row>1</th><td>5.1</td><td>3.5</td><td>1.4</td><td>0.2</td><td>0</td></tr>\n",
       "\t<tr><th scope=row>2</th><td>4.9</td><td>3.0</td><td>1.4</td><td>0.2</td><td>0</td></tr>\n",
       "</tbody>\n",
       "</table>\n"
      ],
      "text/latex": [
       "A data.frame: 2 × 5\n",
       "\\begin{tabular}{r|lllll}\n",
       "  & sepal\\_length & sepal\\_width & petal\\_length & petal\\_width & species\\\\\n",
       "  & <dbl> & <dbl> & <dbl> & <dbl> & <int>\\\\\n",
       "\\hline\n",
       "\t1 & 5.1 & 3.5 & 1.4 & 0.2 & 0\\\\\n",
       "\t2 & 4.9 & 3.0 & 1.4 & 0.2 & 0\\\\\n",
       "\\end{tabular}\n"
      ],
      "text/markdown": [
       "\n",
       "A data.frame: 2 × 5\n",
       "\n",
       "| <!--/--> | sepal_length &lt;dbl&gt; | sepal_width &lt;dbl&gt; | petal_length &lt;dbl&gt; | petal_width &lt;dbl&gt; | species &lt;int&gt; |\n",
       "|---|---|---|---|---|---|\n",
       "| 1 | 5.1 | 3.5 | 1.4 | 0.2 | 0 |\n",
       "| 2 | 4.9 | 3.0 | 1.4 | 0.2 | 0 |\n",
       "\n"
      ],
      "text/plain": [
       "  sepal_length sepal_width petal_length petal_width species\n",
       "1 5.1          3.5         1.4          0.2         0      \n",
       "2 4.9          3.0         1.4          0.2         0      "
      ]
     },
     "metadata": {},
     "output_type": "display_data"
    }
   ],
   "source": [
    "iris = read.table(file = \"./data/iris.txt\" , sep = \"\\t\", header = TRUE)\n",
    "head(iris,2)"
   ]
  },
  {
   "cell_type": "markdown",
   "metadata": {},
   "source": [
    "<hr>"
   ]
  },
  {
   "cell_type": "markdown",
   "metadata": {},
   "source": [
    "#### Import Data using Web Scraping"
   ]
  },
  {
   "cell_type": "markdown",
   "metadata": {},
   "source": [
    "**Downloading HTML tables using Excel**"
   ]
  },
  {
   "cell_type": "markdown",
   "metadata": {},
   "source": [
    "Simple HTML tables on the web can be downloaded using Excel's data function. For example, in some of the chapters of this course, I have downloaded population data from <a href=\"https://en.wikipedia.org/wiki/List_of_countries_by_population_(United_Nations)\">Wikipedia</a> using Excel."
   ]
  },
  {
   "cell_type": "markdown",
   "metadata": {},
   "source": [
    "<img src=\"./pics/wikipedia-population-data.png\"/>"
   ]
  },
  {
   "cell_type": "markdown",
   "metadata": {},
   "source": [
    "To download it from excel, go to the following menu location."
   ]
  },
  {
   "cell_type": "markdown",
   "metadata": {},
   "source": [
    "<img src=\"./pics/excel-download-from-web.png\"/>"
   ]
  },
  {
   "cell_type": "markdown",
   "metadata": {},
   "source": [
    "Enter the URL and click _Import_."
   ]
  },
  {
   "cell_type": "markdown",
   "metadata": {},
   "source": [
    "<img src=\"./pics/excel-web-query.png\"/>"
   ]
  },
  {
   "cell_type": "markdown",
   "metadata": {},
   "source": [
    "Data is downloaded into excel cells."
   ]
  },
  {
   "cell_type": "markdown",
   "metadata": {},
   "source": [
    "<img src=\"./pics/data-in-excel.png\"/>"
   ]
  },
  {
   "cell_type": "markdown",
   "metadata": {},
   "source": [
    "<hr>"
   ]
  },
  {
   "cell_type": "markdown",
   "metadata": {},
   "source": [
    "**Scrape Websites**"
   ]
  },
  {
   "cell_type": "markdown",
   "metadata": {},
   "source": [
    "Sometimes the only form of data available is on the browser - for example, you are a third party aggregator trying to gather the best promotion on flight tickets from multiple websites. The actual website might not be willing to give you the data straight away. In cases like this, you have to literally scrape the price/discount off of their website. \n",
    "\n",
    "Luckily, there are some libraries in R that can do all the heavy lifting ( HTTP handshake, parsing, creating deep data structures etc). One such library is **rvest**. Let's see how to scrape "
   ]
  },
  {
   "cell_type": "markdown",
   "metadata": {},
   "source": [
    "Install rvest\n",
    "<pre>\n",
    "> install.packages(\"rvest\")\n",
    "</pre>"
   ]
  },
  {
   "cell_type": "markdown",
   "metadata": {},
   "source": [
    "Let's find out the price of Apple iPhone 11 Pro (64GB) - Space Grey on Amazon.in. Navigate to the web page and find out the xpath of the particular value you are looking for. Set that page as a variable and xpath as a parameter in html_nodes function."
   ]
  },
  {
   "cell_type": "code",
   "execution_count": 46,
   "metadata": {},
   "outputs": [
    {
     "name": "stdout",
     "output_type": "stream",
     "text": [
      "[1] \"<U+20B9> 96,900.00\"\n"
     ]
    }
   ],
   "source": [
    "library(rvest)\n",
    "html = read_html(\"https://www.amazon.in/dp/B07XLS522R\")\n",
    "\n",
    "nodes = html_nodes(x = html,xpath = '//*[@id=\"priceblock_ourprice\"]')\n",
    "print ( html_text(x = nodes) )"
   ]
  },
  {
   "cell_type": "markdown",
   "metadata": {},
   "source": [
    "Now, everytime you want the price, all you have to do is execute this piece of code. "
   ]
  },
  {
   "cell_type": "markdown",
   "metadata": {},
   "source": [
    "<hr>"
   ]
  },
  {
   "cell_type": "markdown",
   "metadata": {},
   "source": [
    "**API**"
   ]
  },
  {
   "cell_type": "markdown",
   "metadata": {},
   "source": [
    "API stands for _Application Programming Interface_. It is a way to give programmatic access to a resource. For example, your Alexa machine goes out automatically(programmatically) and fetches the weather data for a particular zip code from weather.com. How does it do it ? \n",
    "\n",
    "Weather.com provides an **API** to programmatically fetch weather data. Other examples could be xe.com providing _API_ for exchange rates or Bloomberg providing _API_ for stock tickets. etc. \n",
    "\n",
    "In this section, let's using Python to get the weather information on a particular zip code. In order to avoid abuse and keep track of requests, most of the time an API _Key_ is provided. You can sign up for weather.com and a key will be provided to you. Without that key weather.com would not honour API requests. "
   ]
  },
  {
   "cell_type": "markdown",
   "metadata": {},
   "source": [
    "<img src=\"./pics/api-key.png\"/>"
   ]
  },
  {
   "cell_type": "markdown",
   "metadata": {},
   "source": [
    "**APIs** are typically exposed as URLs. For example, to get the weather by a city, use the following API."
   ]
  },
  {
   "cell_type": "markdown",
   "metadata": {},
   "source": [
    "<img src=\"./pics/weather-api-by-city.png\"/>"
   ]
  },
  {
   "cell_type": "markdown",
   "metadata": {},
   "source": [
    "Let's use R to extract weather for a city in India - say Hyderabad. Don't forget to append the API key using the attribute _appid_. See the url formation below."
   ]
  },
  {
   "cell_type": "markdown",
   "metadata": {},
   "source": [
    "Install the **httr** package."
   ]
  },
  {
   "cell_type": "code",
   "execution_count": 59,
   "metadata": {},
   "outputs": [
    {
     "name": "stdout",
     "output_type": "stream",
     "text": [
      "[1] \"http://api.openweathermap.org/data/2.5/weather?q=Hyderabad&appid=37a81ae1e682ac417883b0a3727080a6\"\n"
     ]
    },
    {
     "data": {
      "text/html": [
       "<dl>\n",
       "\t<dt>$coord</dt>\n",
       "\t\t<dd><dl>\n",
       "\t<dt>$lon</dt>\n",
       "\t\t<dd>78.47</dd>\n",
       "\t<dt>$lat</dt>\n",
       "\t\t<dd>17.38</dd>\n",
       "</dl>\n",
       "</dd>\n",
       "\t<dt>$weather</dt>\n",
       "\t\t<dd><ol>\n",
       "\t<li><dl>\n",
       "\t<dt>$id</dt>\n",
       "\t\t<dd>721</dd>\n",
       "\t<dt>$main</dt>\n",
       "\t\t<dd>'Haze'</dd>\n",
       "\t<dt>$description</dt>\n",
       "\t\t<dd>'haze'</dd>\n",
       "\t<dt>$icon</dt>\n",
       "\t\t<dd>'50d'</dd>\n",
       "</dl>\n",
       "</li>\n",
       "</ol>\n",
       "</dd>\n",
       "\t<dt>$base</dt>\n",
       "\t\t<dd>'stations'</dd>\n",
       "\t<dt>$main</dt>\n",
       "\t\t<dd><dl>\n",
       "\t<dt>$temp</dt>\n",
       "\t\t<dd>298.7</dd>\n",
       "\t<dt>$feels_like</dt>\n",
       "\t\t<dd>300.5</dd>\n",
       "\t<dt>$temp_min</dt>\n",
       "\t\t<dd>298.15</dd>\n",
       "\t<dt>$temp_max</dt>\n",
       "\t\t<dd>299.15</dd>\n",
       "\t<dt>$pressure</dt>\n",
       "\t\t<dd>1018</dd>\n",
       "\t<dt>$humidity</dt>\n",
       "\t\t<dd>74</dd>\n",
       "</dl>\n",
       "</dd>\n",
       "\t<dt>$visibility</dt>\n",
       "\t\t<dd>5000</dd>\n",
       "\t<dt>$wind</dt>\n",
       "\t\t<dd><dl>\n",
       "\t<dt>$speed</dt>\n",
       "\t\t<dd>3.1</dd>\n",
       "\t<dt>$deg</dt>\n",
       "\t\t<dd>90</dd>\n",
       "</dl>\n",
       "</dd>\n",
       "\t<dt>$clouds</dt>\n",
       "\t\t<dd><strong>$all</strong> = 40</dd>\n",
       "\t<dt>$dt</dt>\n",
       "\t\t<dd>1581334756</dd>\n",
       "\t<dt>$sys</dt>\n",
       "\t\t<dd><dl>\n",
       "\t<dt>$type</dt>\n",
       "\t\t<dd>1</dd>\n",
       "\t<dt>$id</dt>\n",
       "\t\t<dd>9214</dd>\n",
       "\t<dt>$country</dt>\n",
       "\t\t<dd>'IN'</dd>\n",
       "\t<dt>$sunrise</dt>\n",
       "\t\t<dd>1581297329</dd>\n",
       "\t<dt>$sunset</dt>\n",
       "\t\t<dd>1581338718</dd>\n",
       "</dl>\n",
       "</dd>\n",
       "\t<dt>$timezone</dt>\n",
       "\t\t<dd>19800</dd>\n",
       "\t<dt>$id</dt>\n",
       "\t\t<dd>1269843</dd>\n",
       "\t<dt>$name</dt>\n",
       "\t\t<dd>'Hyderabad'</dd>\n",
       "\t<dt>$cod</dt>\n",
       "\t\t<dd>200</dd>\n",
       "</dl>\n"
      ],
      "text/latex": [
       "\\begin{description}\n",
       "\\item[\\$coord] \\begin{description}\n",
       "\\item[\\$lon] 78.47\n",
       "\\item[\\$lat] 17.38\n",
       "\\end{description}\n",
       "\n",
       "\\item[\\$weather] \\begin{enumerate}\n",
       "\\item \\begin{description}\n",
       "\\item[\\$id] 721\n",
       "\\item[\\$main] 'Haze'\n",
       "\\item[\\$description] 'haze'\n",
       "\\item[\\$icon] '50d'\n",
       "\\end{description}\n",
       "\n",
       "\\end{enumerate}\n",
       "\n",
       "\\item[\\$base] 'stations'\n",
       "\\item[\\$main] \\begin{description}\n",
       "\\item[\\$temp] 298.7\n",
       "\\item[\\$feels\\_like] 300.5\n",
       "\\item[\\$temp\\_min] 298.15\n",
       "\\item[\\$temp\\_max] 299.15\n",
       "\\item[\\$pressure] 1018\n",
       "\\item[\\$humidity] 74\n",
       "\\end{description}\n",
       "\n",
       "\\item[\\$visibility] 5000\n",
       "\\item[\\$wind] \\begin{description}\n",
       "\\item[\\$speed] 3.1\n",
       "\\item[\\$deg] 90\n",
       "\\end{description}\n",
       "\n",
       "\\item[\\$clouds] \\textbf{\\$all} = 40\n",
       "\\item[\\$dt] 1581334756\n",
       "\\item[\\$sys] \\begin{description}\n",
       "\\item[\\$type] 1\n",
       "\\item[\\$id] 9214\n",
       "\\item[\\$country] 'IN'\n",
       "\\item[\\$sunrise] 1581297329\n",
       "\\item[\\$sunset] 1581338718\n",
       "\\end{description}\n",
       "\n",
       "\\item[\\$timezone] 19800\n",
       "\\item[\\$id] 1269843\n",
       "\\item[\\$name] 'Hyderabad'\n",
       "\\item[\\$cod] 200\n",
       "\\end{description}\n"
      ],
      "text/markdown": [
       "$coord\n",
       ":   $lon\n",
       ":   78.47\n",
       "$lat\n",
       ":   17.38\n",
       "\n",
       "\n",
       "\n",
       "$weather\n",
       ":   1. $id\n",
       ":   721\n",
       "$main\n",
       ":   'Haze'\n",
       "$description\n",
       ":   'haze'\n",
       "$icon\n",
       ":   '50d'\n",
       "\n",
       "\n",
       "\n",
       "\n",
       "\n",
       "\n",
       "$base\n",
       ":   'stations'\n",
       "$main\n",
       ":   $temp\n",
       ":   298.7\n",
       "$feels_like\n",
       ":   300.5\n",
       "$temp_min\n",
       ":   298.15\n",
       "$temp_max\n",
       ":   299.15\n",
       "$pressure\n",
       ":   1018\n",
       "$humidity\n",
       ":   74\n",
       "\n",
       "\n",
       "\n",
       "$visibility\n",
       ":   5000\n",
       "$wind\n",
       ":   $speed\n",
       ":   3.1\n",
       "$deg\n",
       ":   90\n",
       "\n",
       "\n",
       "\n",
       "$clouds\n",
       ":   **$all** = 40\n",
       "$dt\n",
       ":   1581334756\n",
       "$sys\n",
       ":   $type\n",
       ":   1\n",
       "$id\n",
       ":   9214\n",
       "$country\n",
       ":   'IN'\n",
       "$sunrise\n",
       ":   1581297329\n",
       "$sunset\n",
       ":   1581338718\n",
       "\n",
       "\n",
       "\n",
       "$timezone\n",
       ":   19800\n",
       "$id\n",
       ":   1269843\n",
       "$name\n",
       ":   'Hyderabad'\n",
       "$cod\n",
       ":   200\n",
       "\n",
       "\n"
      ],
      "text/plain": [
       "$coord\n",
       "$coord$lon\n",
       "[1] 78.47\n",
       "\n",
       "$coord$lat\n",
       "[1] 17.38\n",
       "\n",
       "\n",
       "$weather\n",
       "$weather[[1]]\n",
       "$weather[[1]]$id\n",
       "[1] 721\n",
       "\n",
       "$weather[[1]]$main\n",
       "[1] \"Haze\"\n",
       "\n",
       "$weather[[1]]$description\n",
       "[1] \"haze\"\n",
       "\n",
       "$weather[[1]]$icon\n",
       "[1] \"50d\"\n",
       "\n",
       "\n",
       "\n",
       "$base\n",
       "[1] \"stations\"\n",
       "\n",
       "$main\n",
       "$main$temp\n",
       "[1] 298.7\n",
       "\n",
       "$main$feels_like\n",
       "[1] 300.5\n",
       "\n",
       "$main$temp_min\n",
       "[1] 298.15\n",
       "\n",
       "$main$temp_max\n",
       "[1] 299.15\n",
       "\n",
       "$main$pressure\n",
       "[1] 1018\n",
       "\n",
       "$main$humidity\n",
       "[1] 74\n",
       "\n",
       "\n",
       "$visibility\n",
       "[1] 5000\n",
       "\n",
       "$wind\n",
       "$wind$speed\n",
       "[1] 3.1\n",
       "\n",
       "$wind$deg\n",
       "[1] 90\n",
       "\n",
       "\n",
       "$clouds\n",
       "$clouds$all\n",
       "[1] 40\n",
       "\n",
       "\n",
       "$dt\n",
       "[1] 1581334756\n",
       "\n",
       "$sys\n",
       "$sys$type\n",
       "[1] 1\n",
       "\n",
       "$sys$id\n",
       "[1] 9214\n",
       "\n",
       "$sys$country\n",
       "[1] \"IN\"\n",
       "\n",
       "$sys$sunrise\n",
       "[1] 1581297329\n",
       "\n",
       "$sys$sunset\n",
       "[1] 1581338718\n",
       "\n",
       "\n",
       "$timezone\n",
       "[1] 19800\n",
       "\n",
       "$id\n",
       "[1] 1269843\n",
       "\n",
       "$name\n",
       "[1] \"Hyderabad\"\n",
       "\n",
       "$cod\n",
       "[1] 200\n"
      ]
     },
     "metadata": {},
     "output_type": "display_data"
    }
   ],
   "source": [
    "library(httr)\n",
    "\n",
    "url = \"http://api.openweathermap.org/data/2.5/weather?q=Hyderabad&appid=\"\n",
    "key = \"37a81ae1e682ac417883b0a3727080a6\"\n",
    "\n",
    "url = paste(url , key, sep=\"\")\n",
    "print ( url)\n",
    "\n",
    "response = GET(url)\n",
    "content(response)"
   ]
  },
  {
   "cell_type": "markdown",
   "metadata": {},
   "source": [
    "Incidentally, weather.com provides data in a specific format called JSON. JSON stands for **Java Script Object Notation**. Once again, R provides a standard library called **jsonlite** that can prase JSON data for us."
   ]
  },
  {
   "cell_type": "code",
   "execution_count": 57,
   "metadata": {},
   "outputs": [
    {
     "data": {
      "text/html": [
       "<dl>\n",
       "\t<dt>$coord</dt>\n",
       "\t\t<dd><dl>\n",
       "\t<dt>$lon</dt>\n",
       "\t\t<dd>78.47</dd>\n",
       "\t<dt>$lat</dt>\n",
       "\t\t<dd>17.38</dd>\n",
       "</dl>\n",
       "</dd>\n",
       "\t<dt>$weather</dt>\n",
       "\t\t<dd><table>\n",
       "<caption>A data.frame: 1 × 4</caption>\n",
       "<thead>\n",
       "\t<tr><th></th><th scope=col>id</th><th scope=col>main</th><th scope=col>description</th><th scope=col>icon</th></tr>\n",
       "\t<tr><th></th><th scope=col>&lt;int&gt;</th><th scope=col>&lt;chr&gt;</th><th scope=col>&lt;chr&gt;</th><th scope=col>&lt;chr&gt;</th></tr>\n",
       "</thead>\n",
       "<tbody>\n",
       "\t<tr><th scope=row>1</th><td>721</td><td>Haze</td><td>haze</td><td>50d</td></tr>\n",
       "</tbody>\n",
       "</table>\n",
       "</dd>\n",
       "\t<dt>$base</dt>\n",
       "\t\t<dd>'stations'</dd>\n",
       "\t<dt>$main</dt>\n",
       "\t\t<dd><dl>\n",
       "\t<dt>$temp</dt>\n",
       "\t\t<dd>298.7</dd>\n",
       "\t<dt>$feels_like</dt>\n",
       "\t\t<dd>300.5</dd>\n",
       "\t<dt>$temp_min</dt>\n",
       "\t\t<dd>298.15</dd>\n",
       "\t<dt>$temp_max</dt>\n",
       "\t\t<dd>299.15</dd>\n",
       "\t<dt>$pressure</dt>\n",
       "\t\t<dd>1018</dd>\n",
       "\t<dt>$humidity</dt>\n",
       "\t\t<dd>74</dd>\n",
       "</dl>\n",
       "</dd>\n",
       "\t<dt>$visibility</dt>\n",
       "\t\t<dd>5000</dd>\n",
       "\t<dt>$wind</dt>\n",
       "\t\t<dd><dl>\n",
       "\t<dt>$speed</dt>\n",
       "\t\t<dd>3.1</dd>\n",
       "\t<dt>$deg</dt>\n",
       "\t\t<dd>90</dd>\n",
       "</dl>\n",
       "</dd>\n",
       "\t<dt>$clouds</dt>\n",
       "\t\t<dd><strong>$all</strong> = 40</dd>\n",
       "\t<dt>$dt</dt>\n",
       "\t\t<dd>1581334756</dd>\n",
       "\t<dt>$sys</dt>\n",
       "\t\t<dd><dl>\n",
       "\t<dt>$type</dt>\n",
       "\t\t<dd>1</dd>\n",
       "\t<dt>$id</dt>\n",
       "\t\t<dd>9214</dd>\n",
       "\t<dt>$country</dt>\n",
       "\t\t<dd>'IN'</dd>\n",
       "\t<dt>$sunrise</dt>\n",
       "\t\t<dd>1581297329</dd>\n",
       "\t<dt>$sunset</dt>\n",
       "\t\t<dd>1581338718</dd>\n",
       "</dl>\n",
       "</dd>\n",
       "\t<dt>$timezone</dt>\n",
       "\t\t<dd>19800</dd>\n",
       "\t<dt>$id</dt>\n",
       "\t\t<dd>1269843</dd>\n",
       "\t<dt>$name</dt>\n",
       "\t\t<dd>'Hyderabad'</dd>\n",
       "\t<dt>$cod</dt>\n",
       "\t\t<dd>200</dd>\n",
       "</dl>\n"
      ],
      "text/latex": [
       "\\begin{description}\n",
       "\\item[\\$coord] \\begin{description}\n",
       "\\item[\\$lon] 78.47\n",
       "\\item[\\$lat] 17.38\n",
       "\\end{description}\n",
       "\n",
       "\\item[\\$weather] A data.frame: 1 × 4\n",
       "\\begin{tabular}{r|llll}\n",
       "  & id & main & description & icon\\\\\n",
       "  & <int> & <chr> & <chr> & <chr>\\\\\n",
       "\\hline\n",
       "\t1 & 721 & Haze & haze & 50d\\\\\n",
       "\\end{tabular}\n",
       "\n",
       "\\item[\\$base] 'stations'\n",
       "\\item[\\$main] \\begin{description}\n",
       "\\item[\\$temp] 298.7\n",
       "\\item[\\$feels\\_like] 300.5\n",
       "\\item[\\$temp\\_min] 298.15\n",
       "\\item[\\$temp\\_max] 299.15\n",
       "\\item[\\$pressure] 1018\n",
       "\\item[\\$humidity] 74\n",
       "\\end{description}\n",
       "\n",
       "\\item[\\$visibility] 5000\n",
       "\\item[\\$wind] \\begin{description}\n",
       "\\item[\\$speed] 3.1\n",
       "\\item[\\$deg] 90\n",
       "\\end{description}\n",
       "\n",
       "\\item[\\$clouds] \\textbf{\\$all} = 40\n",
       "\\item[\\$dt] 1581334756\n",
       "\\item[\\$sys] \\begin{description}\n",
       "\\item[\\$type] 1\n",
       "\\item[\\$id] 9214\n",
       "\\item[\\$country] 'IN'\n",
       "\\item[\\$sunrise] 1581297329\n",
       "\\item[\\$sunset] 1581338718\n",
       "\\end{description}\n",
       "\n",
       "\\item[\\$timezone] 19800\n",
       "\\item[\\$id] 1269843\n",
       "\\item[\\$name] 'Hyderabad'\n",
       "\\item[\\$cod] 200\n",
       "\\end{description}\n"
      ],
      "text/markdown": [
       "$coord\n",
       ":   $lon\n",
       ":   78.47\n",
       "$lat\n",
       ":   17.38\n",
       "\n",
       "\n",
       "\n",
       "$weather\n",
       ":   \n",
       "A data.frame: 1 × 4\n",
       "\n",
       "| <!--/--> | id &lt;int&gt; | main &lt;chr&gt; | description &lt;chr&gt; | icon &lt;chr&gt; |\n",
       "|---|---|---|---|---|\n",
       "| 1 | 721 | Haze | haze | 50d |\n",
       "\n",
       "\n",
       "$base\n",
       ":   'stations'\n",
       "$main\n",
       ":   $temp\n",
       ":   298.7\n",
       "$feels_like\n",
       ":   300.5\n",
       "$temp_min\n",
       ":   298.15\n",
       "$temp_max\n",
       ":   299.15\n",
       "$pressure\n",
       ":   1018\n",
       "$humidity\n",
       ":   74\n",
       "\n",
       "\n",
       "\n",
       "$visibility\n",
       ":   5000\n",
       "$wind\n",
       ":   $speed\n",
       ":   3.1\n",
       "$deg\n",
       ":   90\n",
       "\n",
       "\n",
       "\n",
       "$clouds\n",
       ":   **$all** = 40\n",
       "$dt\n",
       ":   1581334756\n",
       "$sys\n",
       ":   $type\n",
       ":   1\n",
       "$id\n",
       ":   9214\n",
       "$country\n",
       ":   'IN'\n",
       "$sunrise\n",
       ":   1581297329\n",
       "$sunset\n",
       ":   1581338718\n",
       "\n",
       "\n",
       "\n",
       "$timezone\n",
       ":   19800\n",
       "$id\n",
       ":   1269843\n",
       "$name\n",
       ":   'Hyderabad'\n",
       "$cod\n",
       ":   200\n",
       "\n",
       "\n"
      ],
      "text/plain": [
       "$coord\n",
       "$coord$lon\n",
       "[1] 78.47\n",
       "\n",
       "$coord$lat\n",
       "[1] 17.38\n",
       "\n",
       "\n",
       "$weather\n",
       "   id main description icon\n",
       "1 721 Haze        haze  50d\n",
       "\n",
       "$base\n",
       "[1] \"stations\"\n",
       "\n",
       "$main\n",
       "$main$temp\n",
       "[1] 298.7\n",
       "\n",
       "$main$feels_like\n",
       "[1] 300.5\n",
       "\n",
       "$main$temp_min\n",
       "[1] 298.15\n",
       "\n",
       "$main$temp_max\n",
       "[1] 299.15\n",
       "\n",
       "$main$pressure\n",
       "[1] 1018\n",
       "\n",
       "$main$humidity\n",
       "[1] 74\n",
       "\n",
       "\n",
       "$visibility\n",
       "[1] 5000\n",
       "\n",
       "$wind\n",
       "$wind$speed\n",
       "[1] 3.1\n",
       "\n",
       "$wind$deg\n",
       "[1] 90\n",
       "\n",
       "\n",
       "$clouds\n",
       "$clouds$all\n",
       "[1] 40\n",
       "\n",
       "\n",
       "$dt\n",
       "[1] 1581334756\n",
       "\n",
       "$sys\n",
       "$sys$type\n",
       "[1] 1\n",
       "\n",
       "$sys$id\n",
       "[1] 9214\n",
       "\n",
       "$sys$country\n",
       "[1] \"IN\"\n",
       "\n",
       "$sys$sunrise\n",
       "[1] 1581297329\n",
       "\n",
       "$sys$sunset\n",
       "[1] 1581338718\n",
       "\n",
       "\n",
       "$timezone\n",
       "[1] 19800\n",
       "\n",
       "$id\n",
       "[1] 1269843\n",
       "\n",
       "$name\n",
       "[1] \"Hyderabad\"\n",
       "\n",
       "$cod\n",
       "[1] 200\n"
      ]
     },
     "metadata": {},
     "output_type": "display_data"
    }
   ],
   "source": [
    "library(jsonlite)\n",
    "\n",
    "df = fromJSON(content(response, as = \"text\"))\n",
    "df"
   ]
  },
  {
   "cell_type": "markdown",
   "metadata": {},
   "source": [
    "Once you have the data into an R object, you can use the regular $ notation to extract data from the dataframe. For example, to get the city, use  "
   ]
  },
  {
   "cell_type": "code",
   "execution_count": 60,
   "metadata": {},
   "outputs": [
    {
     "data": {
      "text/html": [
       "'Hyderabad'"
      ],
      "text/latex": [
       "'Hyderabad'"
      ],
      "text/markdown": [
       "'Hyderabad'"
      ],
      "text/plain": [
       "[1] \"Hyderabad\""
      ]
     },
     "metadata": {},
     "output_type": "display_data"
    }
   ],
   "source": [
    "df$name"
   ]
  },
  {
   "cell_type": "markdown",
   "metadata": {},
   "source": [
    "To get the minimum and maximum temperature, use"
   ]
  },
  {
   "cell_type": "code",
   "execution_count": 64,
   "metadata": {},
   "outputs": [
    {
     "name": "stdout",
     "output_type": "stream",
     "text": [
      "298.15 299.15"
     ]
    }
   ],
   "source": [
    "cat ( df$main$temp_min, df$main$temp_max )\n"
   ]
  },
  {
   "cell_type": "markdown",
   "metadata": {},
   "source": [
    "Just in case you are wondering why the temperature is so large, it is because the unit of temperature is Kelvin."
   ]
  },
  {
   "cell_type": "markdown",
   "metadata": {},
   "source": [
    "<hr>"
   ]
  },
  {
   "cell_type": "markdown",
   "metadata": {},
   "source": [
    "**Database**"
   ]
  },
  {
   "cell_type": "markdown",
   "metadata": {},
   "source": [
    "Sometimes you might be asked to pick the data straight from an SQL database. To do this though, you will need to understand the language of any SQL database - **SQL**  or _Structured Query Language_. And luckily, we can do all of this straight from Python or outside of Python. "
   ]
  },
  {
   "cell_type": "markdown",
   "metadata": {},
   "source": [
    "Typically, you will be given the database details like below. \n",
    "\n",
    "<pre>\n",
    "Server Address : xx.xx.xx.xx\n",
    "port           : 33xx\n",
    "schema         : xxxx\n",
    "\n",
    "user id        : xxxx\n",
    "password       : xxxx\n",
    "</pre>\n"
   ]
  },
  {
   "cell_type": "markdown",
   "metadata": {},
   "source": [
    "For example, I have installed a simple MySql database on my local machine. I will be showing how to connect to the database right from inside the python environment. You can also use any other SQL interaction tools, like SQL Workbench etc."
   ]
  },
  {
   "cell_type": "markdown",
   "metadata": {},
   "source": [
    "To be able to connect to SQL server, you would need a Python connector. Installing it is pretty simple. "
   ]
  },
  {
   "cell_type": "markdown",
   "metadata": {},
   "source": [
    "<pre>\n",
    "> pip install mysql-connector\n",
    "</pre>"
   ]
  },
  {
   "cell_type": "code",
   "execution_count": 1,
   "metadata": {},
   "outputs": [],
   "source": [
    "import mysql.connector\n",
    "\n",
    "db = mysql.connector.connect(\n",
    "  host     = \"localhost\",\n",
    "  user     = \"root\",\n",
    "  passwd   = \"xxxxxxxx\"\n",
    ")"
   ]
  },
  {
   "cell_type": "code",
   "execution_count": 2,
   "metadata": {},
   "outputs": [
    {
     "data": {
      "text/plain": [
       "<mysql.connector.connection.MySQLConnection at 0x6021070>"
      ]
     },
     "execution_count": 2,
     "metadata": {},
     "output_type": "execute_result"
    }
   ],
   "source": [
    "db"
   ]
  },
  {
   "cell_type": "markdown",
   "metadata": {},
   "source": [
    "Database interactions are typically retrieved using something called a **cursor**. A Cursor is just a pointer to a set of data retrieved from the database. It is upto us to iterate over the retrieved data and get what we went. Typically this is done using a loop. So, this is basically a 2 step process\n",
    "\n",
    "1. *Execute an SQL statement and get the result into a cursor*\n",
    "2. *Iterate over the cursor to get the data*"
   ]
  },
  {
   "cell_type": "markdown",
   "metadata": {},
   "source": [
    "For example, let's do these 2 steps to list all the databases. Each database is essentially a collection of tables."
   ]
  },
  {
   "cell_type": "markdown",
   "metadata": {},
   "source": [
    "**Step 1** - Get the list of tables into a cursor"
   ]
  },
  {
   "cell_type": "code",
   "execution_count": 3,
   "metadata": {},
   "outputs": [],
   "source": [
    "cur = db.cursor()\n",
    "\n",
    "cur.execute(\"SHOW DATABASES\")"
   ]
  },
  {
   "cell_type": "markdown",
   "metadata": {},
   "source": [
    "**Step 2** - Iterate over the cursor to get the list of databases"
   ]
  },
  {
   "cell_type": "code",
   "execution_count": 4,
   "metadata": {},
   "outputs": [
    {
     "name": "stdout",
     "output_type": "stream",
     "text": [
      "('information_schema',)\n",
      "('mysql',)\n",
      "('performance_schema',)\n",
      "('sakila',)\n",
      "('sys',)\n",
      "('world',)\n"
     ]
    }
   ],
   "source": [
    "for db in cur:\n",
    "  print(db)"
   ]
  },
  {
   "cell_type": "markdown",
   "metadata": {},
   "source": [
    "Once we know the list of databases, we have to select the database first. Once we do that, we can freely go about executing the **select** statements on that particular database."
   ]
  },
  {
   "cell_type": "code",
   "execution_count": 6,
   "metadata": {},
   "outputs": [],
   "source": [
    "cur.execute(\"use world\")"
   ]
  },
  {
   "cell_type": "markdown",
   "metadata": {},
   "source": [
    "List all the tables in the database."
   ]
  },
  {
   "cell_type": "code",
   "execution_count": 10,
   "metadata": {},
   "outputs": [],
   "source": [
    "cur.execute(\"show tables\")"
   ]
  },
  {
   "cell_type": "code",
   "execution_count": 11,
   "metadata": {},
   "outputs": [
    {
     "name": "stdout",
     "output_type": "stream",
     "text": [
      "('city',)\n",
      "('country',)\n",
      "('countrylanguage',)\n"
     ]
    }
   ],
   "source": [
    "for table in cur:\n",
    "  print(table)"
   ]
  },
  {
   "cell_type": "markdown",
   "metadata": {},
   "source": [
    "Let's pick a table - say **country**. Now, let's extract all the columns in that table. They will become the columns of our Pandas dataframe."
   ]
  },
  {
   "cell_type": "code",
   "execution_count": 37,
   "metadata": {},
   "outputs": [],
   "source": [
    "cur.execute(\"show columns from country\")"
   ]
  },
  {
   "cell_type": "code",
   "execution_count": 38,
   "metadata": {},
   "outputs": [
    {
     "data": {
      "text/plain": [
       "['Code',\n",
       " 'Name',\n",
       " 'Continent',\n",
       " 'Region',\n",
       " 'SurfaceArea',\n",
       " 'IndepYear',\n",
       " 'Population',\n",
       " 'LifeExpectancy',\n",
       " 'GNP',\n",
       " 'GNPOld',\n",
       " 'LocalName',\n",
       " 'GovernmentForm',\n",
       " 'HeadOfState',\n",
       " 'Capital',\n",
       " 'Code2']"
      ]
     },
     "execution_count": 38,
     "metadata": {},
     "output_type": "execute_result"
    }
   ],
   "source": [
    "column_names = []\n",
    "for column in cur:\n",
    "  column_names.append(column[0])\n",
    "\n",
    "columns"
   ]
  },
  {
   "cell_type": "markdown",
   "metadata": {},
   "source": [
    "Once we got the column names, let's get the actual data from the table."
   ]
  },
  {
   "cell_type": "code",
   "execution_count": 52,
   "metadata": {},
   "outputs": [],
   "source": [
    "cur.execute(\"select * from country\")"
   ]
  },
  {
   "cell_type": "code",
   "execution_count": 53,
   "metadata": {},
   "outputs": [],
   "source": [
    "import pandas as pd\n",
    "\n",
    "country_data = pd.DataFrame(columns = column_names)\n",
    "\n",
    "rows = []\n",
    "for data in cur:\n",
    "  rows.append(list(data))\n",
    "\n",
    "country_data = pd.DataFrame(rows)"
   ]
  },
  {
   "cell_type": "code",
   "execution_count": 55,
   "metadata": {},
   "outputs": [
    {
     "data": {
      "text/html": [
       "<div>\n",
       "<style scoped>\n",
       "    .dataframe tbody tr th:only-of-type {\n",
       "        vertical-align: middle;\n",
       "    }\n",
       "\n",
       "    .dataframe tbody tr th {\n",
       "        vertical-align: top;\n",
       "    }\n",
       "\n",
       "    .dataframe thead th {\n",
       "        text-align: right;\n",
       "    }\n",
       "</style>\n",
       "<table border=\"1\" class=\"dataframe\">\n",
       "  <thead>\n",
       "    <tr style=\"text-align: right;\">\n",
       "      <th></th>\n",
       "      <th>0</th>\n",
       "      <th>1</th>\n",
       "      <th>2</th>\n",
       "      <th>3</th>\n",
       "      <th>4</th>\n",
       "      <th>5</th>\n",
       "      <th>6</th>\n",
       "      <th>7</th>\n",
       "      <th>8</th>\n",
       "      <th>9</th>\n",
       "      <th>10</th>\n",
       "      <th>11</th>\n",
       "      <th>12</th>\n",
       "      <th>13</th>\n",
       "      <th>14</th>\n",
       "    </tr>\n",
       "  </thead>\n",
       "  <tbody>\n",
       "    <tr>\n",
       "      <th>0</th>\n",
       "      <td>ABW</td>\n",
       "      <td>Aruba</td>\n",
       "      <td>North America</td>\n",
       "      <td>Caribbean</td>\n",
       "      <td>193.0</td>\n",
       "      <td>NaN</td>\n",
       "      <td>103000</td>\n",
       "      <td>78.4</td>\n",
       "      <td>828.0</td>\n",
       "      <td>793.0</td>\n",
       "      <td>Aruba</td>\n",
       "      <td>Nonmetropolitan Territory of The Netherlands</td>\n",
       "      <td>Beatrix</td>\n",
       "      <td>129.0</td>\n",
       "      <td>AW</td>\n",
       "    </tr>\n",
       "    <tr>\n",
       "      <th>1</th>\n",
       "      <td>AFG</td>\n",
       "      <td>Afghanistan</td>\n",
       "      <td>Asia</td>\n",
       "      <td>Southern and Central Asia</td>\n",
       "      <td>652090.0</td>\n",
       "      <td>1919.0</td>\n",
       "      <td>22720000</td>\n",
       "      <td>45.9</td>\n",
       "      <td>5976.0</td>\n",
       "      <td>NaN</td>\n",
       "      <td>Afganistan/Afqanestan</td>\n",
       "      <td>Islamic Emirate</td>\n",
       "      <td>Mohammad Omar</td>\n",
       "      <td>1.0</td>\n",
       "      <td>AF</td>\n",
       "    </tr>\n",
       "    <tr>\n",
       "      <th>2</th>\n",
       "      <td>AGO</td>\n",
       "      <td>Angola</td>\n",
       "      <td>Africa</td>\n",
       "      <td>Central Africa</td>\n",
       "      <td>1246700.0</td>\n",
       "      <td>1975.0</td>\n",
       "      <td>12878000</td>\n",
       "      <td>38.3</td>\n",
       "      <td>6648.0</td>\n",
       "      <td>7984.0</td>\n",
       "      <td>Angola</td>\n",
       "      <td>Republic</td>\n",
       "      <td>JosÃ© Eduardo dos Santos</td>\n",
       "      <td>56.0</td>\n",
       "      <td>AO</td>\n",
       "    </tr>\n",
       "    <tr>\n",
       "      <th>3</th>\n",
       "      <td>AIA</td>\n",
       "      <td>Anguilla</td>\n",
       "      <td>North America</td>\n",
       "      <td>Caribbean</td>\n",
       "      <td>96.0</td>\n",
       "      <td>NaN</td>\n",
       "      <td>8000</td>\n",
       "      <td>76.1</td>\n",
       "      <td>63.2</td>\n",
       "      <td>NaN</td>\n",
       "      <td>Anguilla</td>\n",
       "      <td>Dependent Territory of the UK</td>\n",
       "      <td>Elisabeth II</td>\n",
       "      <td>62.0</td>\n",
       "      <td>AI</td>\n",
       "    </tr>\n",
       "    <tr>\n",
       "      <th>4</th>\n",
       "      <td>ALB</td>\n",
       "      <td>Albania</td>\n",
       "      <td>Europe</td>\n",
       "      <td>Southern Europe</td>\n",
       "      <td>28748.0</td>\n",
       "      <td>1912.0</td>\n",
       "      <td>3401200</td>\n",
       "      <td>71.6</td>\n",
       "      <td>3205.0</td>\n",
       "      <td>2500.0</td>\n",
       "      <td>ShqipÃ«ria</td>\n",
       "      <td>Republic</td>\n",
       "      <td>Rexhep Mejdani</td>\n",
       "      <td>34.0</td>\n",
       "      <td>AL</td>\n",
       "    </tr>\n",
       "  </tbody>\n",
       "</table>\n",
       "</div>"
      ],
      "text/plain": [
       "    0            1              2                          3          4   \\\n",
       "0  ABW        Aruba  North America                  Caribbean      193.0   \n",
       "1  AFG  Afghanistan           Asia  Southern and Central Asia   652090.0   \n",
       "2  AGO       Angola         Africa             Central Africa  1246700.0   \n",
       "3  AIA     Anguilla  North America                  Caribbean       96.0   \n",
       "4  ALB      Albania         Europe            Southern Europe    28748.0   \n",
       "\n",
       "       5         6     7       8       9                      10  \\\n",
       "0     NaN    103000  78.4   828.0   793.0                  Aruba   \n",
       "1  1919.0  22720000  45.9  5976.0     NaN  Afganistan/Afqanestan   \n",
       "2  1975.0  12878000  38.3  6648.0  7984.0                 Angola   \n",
       "3     NaN      8000  76.1    63.2     NaN               Anguilla   \n",
       "4  1912.0   3401200  71.6  3205.0  2500.0             ShqipÃ«ria   \n",
       "\n",
       "                                             11                        12  \\\n",
       "0  Nonmetropolitan Territory of The Netherlands                   Beatrix   \n",
       "1                               Islamic Emirate             Mohammad Omar   \n",
       "2                                      Republic  JosÃ© Eduardo dos Santos   \n",
       "3                 Dependent Territory of the UK              Elisabeth II   \n",
       "4                                      Republic            Rexhep Mejdani   \n",
       "\n",
       "      13  14  \n",
       "0  129.0  AW  \n",
       "1    1.0  AF  \n",
       "2   56.0  AO  \n",
       "3   62.0  AI  \n",
       "4   34.0  AL  "
      ]
     },
     "execution_count": 55,
     "metadata": {},
     "output_type": "execute_result"
    }
   ],
   "source": [
    "country_data.head()"
   ]
  },
  {
   "cell_type": "markdown",
   "metadata": {},
   "source": [
    "Great !!! We just need one last step before we finish creating the table into a Pandas dataframe. Set the column names that we have already extracted in a previous step."
   ]
  },
  {
   "cell_type": "code",
   "execution_count": 57,
   "metadata": {},
   "outputs": [
    {
     "data": {
      "text/html": [
       "<div>\n",
       "<style scoped>\n",
       "    .dataframe tbody tr th:only-of-type {\n",
       "        vertical-align: middle;\n",
       "    }\n",
       "\n",
       "    .dataframe tbody tr th {\n",
       "        vertical-align: top;\n",
       "    }\n",
       "\n",
       "    .dataframe thead th {\n",
       "        text-align: right;\n",
       "    }\n",
       "</style>\n",
       "<table border=\"1\" class=\"dataframe\">\n",
       "  <thead>\n",
       "    <tr style=\"text-align: right;\">\n",
       "      <th></th>\n",
       "      <th>Code</th>\n",
       "      <th>Name</th>\n",
       "      <th>Continent</th>\n",
       "      <th>Region</th>\n",
       "      <th>SurfaceArea</th>\n",
       "      <th>IndepYear</th>\n",
       "      <th>Population</th>\n",
       "      <th>LifeExpectancy</th>\n",
       "      <th>GNP</th>\n",
       "      <th>GNPOld</th>\n",
       "      <th>LocalName</th>\n",
       "      <th>GovernmentForm</th>\n",
       "      <th>HeadOfState</th>\n",
       "      <th>Capital</th>\n",
       "      <th>Code2</th>\n",
       "    </tr>\n",
       "  </thead>\n",
       "  <tbody>\n",
       "    <tr>\n",
       "      <th>0</th>\n",
       "      <td>ABW</td>\n",
       "      <td>Aruba</td>\n",
       "      <td>North America</td>\n",
       "      <td>Caribbean</td>\n",
       "      <td>193.0</td>\n",
       "      <td>NaN</td>\n",
       "      <td>103000</td>\n",
       "      <td>78.4</td>\n",
       "      <td>828.0</td>\n",
       "      <td>793.0</td>\n",
       "      <td>Aruba</td>\n",
       "      <td>Nonmetropolitan Territory of The Netherlands</td>\n",
       "      <td>Beatrix</td>\n",
       "      <td>129.0</td>\n",
       "      <td>AW</td>\n",
       "    </tr>\n",
       "    <tr>\n",
       "      <th>1</th>\n",
       "      <td>AFG</td>\n",
       "      <td>Afghanistan</td>\n",
       "      <td>Asia</td>\n",
       "      <td>Southern and Central Asia</td>\n",
       "      <td>652090.0</td>\n",
       "      <td>1919.0</td>\n",
       "      <td>22720000</td>\n",
       "      <td>45.9</td>\n",
       "      <td>5976.0</td>\n",
       "      <td>NaN</td>\n",
       "      <td>Afganistan/Afqanestan</td>\n",
       "      <td>Islamic Emirate</td>\n",
       "      <td>Mohammad Omar</td>\n",
       "      <td>1.0</td>\n",
       "      <td>AF</td>\n",
       "    </tr>\n",
       "    <tr>\n",
       "      <th>2</th>\n",
       "      <td>AGO</td>\n",
       "      <td>Angola</td>\n",
       "      <td>Africa</td>\n",
       "      <td>Central Africa</td>\n",
       "      <td>1246700.0</td>\n",
       "      <td>1975.0</td>\n",
       "      <td>12878000</td>\n",
       "      <td>38.3</td>\n",
       "      <td>6648.0</td>\n",
       "      <td>7984.0</td>\n",
       "      <td>Angola</td>\n",
       "      <td>Republic</td>\n",
       "      <td>JosÃ© Eduardo dos Santos</td>\n",
       "      <td>56.0</td>\n",
       "      <td>AO</td>\n",
       "    </tr>\n",
       "    <tr>\n",
       "      <th>3</th>\n",
       "      <td>AIA</td>\n",
       "      <td>Anguilla</td>\n",
       "      <td>North America</td>\n",
       "      <td>Caribbean</td>\n",
       "      <td>96.0</td>\n",
       "      <td>NaN</td>\n",
       "      <td>8000</td>\n",
       "      <td>76.1</td>\n",
       "      <td>63.2</td>\n",
       "      <td>NaN</td>\n",
       "      <td>Anguilla</td>\n",
       "      <td>Dependent Territory of the UK</td>\n",
       "      <td>Elisabeth II</td>\n",
       "      <td>62.0</td>\n",
       "      <td>AI</td>\n",
       "    </tr>\n",
       "    <tr>\n",
       "      <th>4</th>\n",
       "      <td>ALB</td>\n",
       "      <td>Albania</td>\n",
       "      <td>Europe</td>\n",
       "      <td>Southern Europe</td>\n",
       "      <td>28748.0</td>\n",
       "      <td>1912.0</td>\n",
       "      <td>3401200</td>\n",
       "      <td>71.6</td>\n",
       "      <td>3205.0</td>\n",
       "      <td>2500.0</td>\n",
       "      <td>ShqipÃ«ria</td>\n",
       "      <td>Republic</td>\n",
       "      <td>Rexhep Mejdani</td>\n",
       "      <td>34.0</td>\n",
       "      <td>AL</td>\n",
       "    </tr>\n",
       "  </tbody>\n",
       "</table>\n",
       "</div>"
      ],
      "text/plain": [
       "  Code         Name      Continent                     Region  SurfaceArea  \\\n",
       "0  ABW        Aruba  North America                  Caribbean        193.0   \n",
       "1  AFG  Afghanistan           Asia  Southern and Central Asia     652090.0   \n",
       "2  AGO       Angola         Africa             Central Africa    1246700.0   \n",
       "3  AIA     Anguilla  North America                  Caribbean         96.0   \n",
       "4  ALB      Albania         Europe            Southern Europe      28748.0   \n",
       "\n",
       "   IndepYear  Population  LifeExpectancy     GNP  GNPOld  \\\n",
       "0        NaN      103000            78.4   828.0   793.0   \n",
       "1     1919.0    22720000            45.9  5976.0     NaN   \n",
       "2     1975.0    12878000            38.3  6648.0  7984.0   \n",
       "3        NaN        8000            76.1    63.2     NaN   \n",
       "4     1912.0     3401200            71.6  3205.0  2500.0   \n",
       "\n",
       "               LocalName                                GovernmentForm  \\\n",
       "0                  Aruba  Nonmetropolitan Territory of The Netherlands   \n",
       "1  Afganistan/Afqanestan                               Islamic Emirate   \n",
       "2                 Angola                                      Republic   \n",
       "3               Anguilla                 Dependent Territory of the UK   \n",
       "4             ShqipÃ«ria                                      Republic   \n",
       "\n",
       "                HeadOfState  Capital Code2  \n",
       "0                   Beatrix    129.0    AW  \n",
       "1             Mohammad Omar      1.0    AF  \n",
       "2  JosÃ© Eduardo dos Santos     56.0    AO  \n",
       "3              Elisabeth II     62.0    AI  \n",
       "4            Rexhep Mejdani     34.0    AL  "
      ]
     },
     "execution_count": 57,
     "metadata": {},
     "output_type": "execute_result"
    }
   ],
   "source": [
    "country_data.columns = column_names\n",
    "\n",
    "country_data.head()"
   ]
  },
  {
   "cell_type": "markdown",
   "metadata": {},
   "source": [
    "<hr>"
   ]
  },
  {
   "cell_type": "markdown",
   "metadata": {},
   "source": [
    "### Data Preprocessing"
   ]
  },
  {
   "cell_type": "markdown",
   "metadata": {},
   "source": [
    "This is a pretty important step - Think of this as standardizing data into a format that is more useful for Machine Learning algorithms. We will discuss 3 important steps in data pre-processing."
   ]
  },
  {
   "cell_type": "markdown",
   "metadata": {},
   "source": [
    "#### Feature Scaling"
   ]
  },
  {
   "cell_type": "markdown",
   "metadata": {},
   "source": [
    "We have already seen (in the <a href=\"/r-classification#feature-scaling\">Introduction to Classification</a> that scaled data performs much better with Machine Learning Algorithms than un-scaled data. For example, let's take quick sample and plot it before and after to understand what is happening visually."
   ]
  },
  {
   "cell_type": "code",
   "execution_count": 67,
   "metadata": {},
   "outputs": [],
   "source": [
    "# Generate 25 points of random data with mean of 10 and sd of 5\n",
    "\n",
    "x_unscaled = rnorm(n = 25, mean = 10, sd = 5)\n",
    "y_unscaled = rnorm(n = 25, mean = 10, sd = 5)"
   ]
  },
  {
   "cell_type": "code",
   "execution_count": 68,
   "metadata": {},
   "outputs": [
    {
     "data": {
      "image/png": "[encoded data removed]",
      "text/plain": [
       "plot without title"
      ]
     },
     "metadata": {
      "image/png": {
       "height": 420,
       "width": 420
      },
      "text/plain": {
       "height": 420,
       "width": 420
      }
     },
     "output_type": "display_data"
    }
   ],
   "source": [
    "plot(x_unscaled, y_unscaled)"
   ]
  },
  {
   "cell_type": "markdown",
   "metadata": {},
   "source": [
    "Now, let's scale it."
   ]
  },
  {
   "cell_type": "code",
   "execution_count": 69,
   "metadata": {},
   "outputs": [],
   "source": [
    "x_scaled = scale(x_unscaled)\n",
    "y_scaled = scale(y_unscaled)"
   ]
  },
  {
   "cell_type": "code",
   "execution_count": 81,
   "metadata": {},
   "outputs": [],
   "source": [
    "df_1 = data.frame(x = x_unscaled,y = y_unscaled, type = as.factor(rep.int(0,25)))\n",
    "df_2 = data.frame(x = x_scaled,  y = y_scaled  , type = as.factor(rep.int(1,25)))\n",
    "df = rbind(df_1, df_2)"
   ]
  },
  {
   "cell_type": "code",
   "execution_count": 83,
   "metadata": {},
   "outputs": [
    {
     "data": {
      "image/png": "[encoded data removed]",
      "text/plain": [
       "plot without title"
      ]
     },
     "metadata": {
      "image/png": {
       "height": 420,
       "width": 420
      },
      "text/plain": {
       "height": 420,
       "width": 420
      }
     },
     "output_type": "display_data"
    }
   ],
   "source": [
    "plot(df$x, df$y, col= df$type)"
   ]
  },
  {
   "cell_type": "markdown",
   "metadata": {},
   "source": [
    "Scaled data has a mean of zero and a variance of 1."
   ]
  },
  {
   "cell_type": "code",
   "execution_count": 88,
   "metadata": {},
   "outputs": [
    {
     "data": {
      "text/html": [
       "0"
      ],
      "text/latex": [
       "0"
      ],
      "text/markdown": [
       "0"
      ],
      "text/plain": [
       "[1] 0"
      ]
     },
     "metadata": {},
     "output_type": "display_data"
    }
   ],
   "source": [
    "round(mean(x_scaled))"
   ]
  },
  {
   "cell_type": "code",
   "execution_count": 89,
   "metadata": {},
   "outputs": [
    {
     "data": {
      "text/html": [
       "0"
      ],
      "text/latex": [
       "0"
      ],
      "text/markdown": [
       "0"
      ],
      "text/plain": [
       "[1] 0"
      ]
     },
     "metadata": {},
     "output_type": "display_data"
    }
   ],
   "source": [
    "round(mean(y_scaled))"
   ]
  },
  {
   "cell_type": "code",
   "execution_count": 91,
   "metadata": {},
   "outputs": [
    {
     "data": {
      "text/html": [
       "1"
      ],
      "text/latex": [
       "1"
      ],
      "text/markdown": [
       "1"
      ],
      "text/plain": [
       "[1] 1"
      ]
     },
     "metadata": {},
     "output_type": "display_data"
    }
   ],
   "source": [
    "sd(x_scaled)"
   ]
  },
  {
   "cell_type": "code",
   "execution_count": 92,
   "metadata": {},
   "outputs": [
    {
     "data": {
      "text/html": [
       "1"
      ],
      "text/latex": [
       "1"
      ],
      "text/markdown": [
       "1"
      ],
      "text/plain": [
       "[1] 1"
      ]
     },
     "metadata": {},
     "output_type": "display_data"
    }
   ],
   "source": [
    "sd(y_scaled)"
   ]
  },
  {
   "cell_type": "markdown",
   "metadata": {},
   "source": [
    "Scaling does not typically work if data\n",
    "\n",
    "- is Sparse\n",
    "- contains outliers. \n",
    "\n",
    "In cases like these, we would have to use special scalers."
   ]
  },
  {
   "cell_type": "markdown",
   "metadata": {},
   "source": [
    "<hr>"
   ]
  },
  {
   "cell_type": "markdown",
   "metadata": {},
   "source": [
    "#### Non-Linear Transformations"
   ]
  },
  {
   "cell_type": "markdown",
   "metadata": {},
   "source": [
    "Sometimes, some of the features are not on a linear scale. One of the most frequently encountered example of this is logarithmic data. Here are some simple examples of such data.\n",
    "\n",
    "- Alexa Page rank or Google Domain Authority \n",
    "- Income data\n",
    "- Some Engineering data (for ex., hardness of material) etc"
   ]
  },
  {
   "cell_type": "markdown",
   "metadata": {},
   "source": [
    "As you know by now (or are going to learn in the next sections when you learn more ML algorithms), most ML algorithms are based on finding out distance between points. Exponential data fits poorly with most ML algorithms. It is suggested that we transform exponential data using logarithmic functions. Numpy offers functions for the same. For example, look at the following data"
   ]
  },
  {
   "cell_type": "code",
   "execution_count": 103,
   "metadata": {},
   "outputs": [],
   "source": [
    "x_unscaled = rnorm(n = 25, mean = 10, sd = 5)\n",
    "y = rnorm(n = 25, mean = 10, sd = 5)\n",
    "y_unscaled = exp(y)"
   ]
  },
  {
   "cell_type": "code",
   "execution_count": 104,
   "metadata": {},
   "outputs": [
    {
     "data": {
      "image/png": "[encoded data removed]",
      "text/plain": [
       "plot without title"
      ]
     },
     "metadata": {
      "image/png": {
       "height": 420,
       "width": 420
      },
      "text/plain": {
       "height": 420,
       "width": 420
      }
     },
     "output_type": "display_data"
    }
   ],
   "source": [
    "plot(x_unscaled, y_unscaled)"
   ]
  },
  {
   "cell_type": "markdown",
   "metadata": {},
   "source": [
    "Just by looking at the data above, you will instantly realize that this data needs to be transformed. If not, the distances on the y-axis is so large (in comparision to the x-axis) that it will dominate the influence of x-axis. A simple solution in cases like this would be some kind of non-linear transformation like log."
   ]
  },
  {
   "cell_type": "code",
   "execution_count": 105,
   "metadata": {},
   "outputs": [
    {
     "data": {
      "image/png": "[encoded data removed]",
      "text/plain": [
       "plot without title"
      ]
     },
     "metadata": {
      "image/png": {
       "height": 420,
       "width": 420
      },
      "text/plain": {
       "height": 420,
       "width": 420
      }
     },
     "output_type": "display_data"
    }
   ],
   "source": [
    "y_scaled = log(y_unscaled)\n",
    "\n",
    "plot(x_unscaled,y_scaled)"
   ]
  },
  {
   "cell_type": "markdown",
   "metadata": {},
   "source": [
    "This looks much more balanced, isn't it ?"
   ]
  },
  {
   "cell_type": "markdown",
   "metadata": {},
   "source": [
    "There are other types of non-linear transforms like\n",
    "\n",
    "- Quantile Transforms\n",
    "- Power Transforms\n",
    "\n",
    "that we will not be discussing in this section."
   ]
  },
  {
   "cell_type": "markdown",
   "metadata": {},
   "source": [
    "<hr>"
   ]
  },
  {
   "cell_type": "markdown",
   "metadata": {},
   "source": [
    "#### Encoding Categorical Features"
   ]
  },
  {
   "cell_type": "markdown",
   "metadata": {},
   "source": [
    "Categorical features are by definition non-numeric. So, they are not ideal for most Machine Learning algorithms. \n",
    "\n",
    "Most of the time, there are very few values to a categorical feature. for example, \n",
    "\n",
    "- sex\n",
    "  - Male\n",
    "  - Female\n",
    "- Browser\n",
    "  - Chrome\n",
    "  - Firefox\n",
    "  - Edge"
   ]
  },
  {
   "cell_type": "markdown",
   "metadata": {},
   "source": [
    "There are two types of encoders sklearn provides for encoding categorical values\n",
    "\n",
    "- Ordinal Encoder\n",
    "- One-Hot Encoder"
   ]
  },
  {
   "cell_type": "markdown",
   "metadata": {},
   "source": [
    "<hr>"
   ]
  },
  {
   "cell_type": "markdown",
   "metadata": {},
   "source": [
    "#### Ordinal Encoder"
   ]
  },
  {
   "cell_type": "code",
   "execution_count": 108,
   "metadata": {},
   "outputs": [
    {
     "data": {
      "text/html": [
       "<table>\n",
       "<caption>A data.frame: 6 × 3</caption>\n",
       "<thead>\n",
       "\t<tr><th></th><th scope=col>user_id</th><th scope=col>sex</th><th scope=col>browser</th></tr>\n",
       "\t<tr><th></th><th scope=col>&lt;dbl&gt;</th><th scope=col>&lt;fct&gt;</th><th scope=col>&lt;fct&gt;</th></tr>\n",
       "</thead>\n",
       "<tbody>\n",
       "\t<tr><th scope=row>1</th><td>1</td><td>Male  </td><td>Chrome </td></tr>\n",
       "\t<tr><th scope=row>2</th><td>2</td><td>Male  </td><td>Chrome </td></tr>\n",
       "\t<tr><th scope=row>3</th><td>3</td><td>Female</td><td>Chrome </td></tr>\n",
       "\t<tr><th scope=row>4</th><td>4</td><td>Male  </td><td>Firefox</td></tr>\n",
       "\t<tr><th scope=row>5</th><td>5</td><td>Female</td><td>Edge   </td></tr>\n",
       "\t<tr><th scope=row>6</th><td>6</td><td>Female</td><td>Firefox</td></tr>\n",
       "</tbody>\n",
       "</table>\n"
      ],
      "text/latex": [
       "A data.frame: 6 × 3\n",
       "\\begin{tabular}{r|lll}\n",
       "  & user\\_id & sex & browser\\\\\n",
       "  & <dbl> & <fct> & <fct>\\\\\n",
       "\\hline\n",
       "\t1 & 1 & Male   & Chrome \\\\\n",
       "\t2 & 2 & Male   & Chrome \\\\\n",
       "\t3 & 3 & Female & Chrome \\\\\n",
       "\t4 & 4 & Male   & Firefox\\\\\n",
       "\t5 & 5 & Female & Edge   \\\\\n",
       "\t6 & 6 & Female & Firefox\\\\\n",
       "\\end{tabular}\n"
      ],
      "text/markdown": [
       "\n",
       "A data.frame: 6 × 3\n",
       "\n",
       "| <!--/--> | user_id &lt;dbl&gt; | sex &lt;fct&gt; | browser &lt;fct&gt; |\n",
       "|---|---|---|---|\n",
       "| 1 | 1 | Male   | Chrome  |\n",
       "| 2 | 2 | Male   | Chrome  |\n",
       "| 3 | 3 | Female | Chrome  |\n",
       "| 4 | 4 | Male   | Firefox |\n",
       "| 5 | 5 | Female | Edge    |\n",
       "| 6 | 6 | Female | Firefox |\n",
       "\n"
      ],
      "text/plain": [
       "  user_id sex    browser\n",
       "1 1       Male   Chrome \n",
       "2 2       Male   Chrome \n",
       "3 3       Female Chrome \n",
       "4 4       Male   Firefox\n",
       "5 5       Female Edge   \n",
       "6 6       Female Firefox"
      ]
     },
     "metadata": {},
     "output_type": "display_data"
    }
   ],
   "source": [
    "user_id = c(1,2,3,4,5,6,7,8,9,10)\n",
    "sex     = c(\"Male\",\"Male\",\"Female\",\"Male\",\"Female\",\"Female\",\"Male\",\"Female\",\"Female\",\"Female\")\n",
    "browser = c(\"Chrome\",\"Chrome\",\"Chrome\",\"Firefox\",\"Edge\",\"Firefox\",\"Edge\",\"Chrome\",\"Firefox\",\"Chrome\")\n",
    "\n",
    "data_dict    = data.frame(user_id , sex, browser)\n",
    "head(data_dict)"
   ]
  },
  {
   "cell_type": "code",
   "execution_count": 84,
   "metadata": {},
   "outputs": [
    {
     "data": {
      "text/plain": [
       "array([[0., 1., 0.],\n",
       "       [1., 1., 0.],\n",
       "       [2., 0., 0.],\n",
       "       [3., 1., 2.],\n",
       "       [4., 0., 1.],\n",
       "       [5., 0., 2.],\n",
       "       [6., 1., 1.],\n",
       "       [7., 0., 0.],\n",
       "       [8., 0., 2.],\n",
       "       [9., 0., 0.]])"
      ]
     },
     "execution_count": 84,
     "metadata": {},
     "output_type": "execute_result"
    }
   ],
   "source": [
    "from sklearn.preprocessing import OrdinalEncoder\n",
    "\n",
    "encoder = OrdinalEncoder().fit(browser_data)\n",
    "\n",
    "encoder.transform(browser_data)"
   ]
  },
  {
   "cell_type": "markdown",
   "metadata": {},
   "source": [
    "Basically OrdinalEncoder encodes categorical data into ordinal data. All it has done in this case is to transform the data based on the following simple assignment\n",
    "\n",
    "- Female = 0 , Male = 1\n",
    "- Chrome = 0 , Edge = 1, Firefox = 2"
   ]
  },
  {
   "cell_type": "markdown",
   "metadata": {},
   "source": [
    "<hr>"
   ]
  },
  {
   "cell_type": "markdown",
   "metadata": {},
   "source": [
    "#### One-Hot Encoder"
   ]
  },
  {
   "cell_type": "markdown",
   "metadata": {},
   "source": [
    "However, sometimes this kind of data is not suitable for some of the Machine Learning algorithms - simply because the numbers don't represent actual value. Meaning, there is no numeric meaning in the transformation for sex. \n",
    "\n",
    "Male = 1 does not mean, it is in anyway greater than Female = 0.\n",
    "\n",
    "Scikit Learn provides another encoder for categorical data that can subvert this problem - One-Hot Encoder or Dummy encoder."
   ]
  },
  {
   "cell_type": "code",
   "execution_count": 98,
   "metadata": {},
   "outputs": [
    {
     "data": {
      "text/plain": [
       "array([[0., 1., 1., 0., 0.],\n",
       "       [0., 1., 1., 0., 0.],\n",
       "       [1., 0., 1., 0., 0.],\n",
       "       [0., 1., 0., 0., 1.],\n",
       "       [1., 0., 0., 1., 0.],\n",
       "       [1., 0., 0., 0., 1.],\n",
       "       [0., 1., 0., 1., 0.],\n",
       "       [1., 0., 1., 0., 0.],\n",
       "       [1., 0., 0., 0., 1.],\n",
       "       [1., 0., 1., 0., 0.]])"
      ]
     },
     "execution_count": 98,
     "metadata": {},
     "output_type": "execute_result"
    }
   ],
   "source": [
    "from sklearn.preprocessing import OneHotEncoder\n",
    "\n",
    "encoder = OneHotEncoder().fit(browser_data.iloc[:,1:3])\n",
    "\n",
    "encoder.transform(browser_data.iloc[:,1:3]).toarray()"
   ]
  },
  {
   "cell_type": "code",
   "execution_count": 99,
   "metadata": {},
   "outputs": [
    {
     "data": {
      "text/plain": [
       "[array(['Female', 'Male'], dtype=object),\n",
       " array(['Chrome', 'Edge', 'Firefox'], dtype=object)]"
      ]
     },
     "execution_count": 99,
     "metadata": {},
     "output_type": "execute_result"
    }
   ],
   "source": [
    "encoder.categories_"
   ]
  },
  {
   "cell_type": "markdown",
   "metadata": {},
   "source": [
    "<hr>"
   ]
  },
  {
   "cell_type": "markdown",
   "metadata": {},
   "source": [
    "### Missing Values"
   ]
  },
  {
   "cell_type": "markdown",
   "metadata": {},
   "source": [
    "Missing values is a huge problem in real datasets. Most of the time, this happens with datasets that is manually collected. Sometimes this is a necessary evil when merging data."
   ]
  },
  {
   "cell_type": "code",
   "execution_count": 2,
   "metadata": {},
   "outputs": [
    {
     "data": {
      "text/plain": [
       "array([[5.1, 3.5, 1.4, 0.2],\n",
       "       [4.9, 3. , 1.4, 0.2],\n",
       "       [4.7, 3.2, 1.3, 0.2],\n",
       "       [4.6, 3.1, 1.5, 0.2],\n",
       "       [5. , 3.6, 1.4, 0.2],\n",
       "       [nan, 3.9, 1.7, 0.4],\n",
       "       [4.6, 3.4, 1.4, 0.3],\n",
       "       [5. , 3.4, 1.5, 0.2],\n",
       "       [4.4, 2.9, 1.4, 0.2],\n",
       "       [4.9, 3.1, 1.5, 0.1]])"
      ]
     },
     "execution_count": 2,
     "metadata": {},
     "output_type": "execute_result"
    }
   ],
   "source": [
    "# Lets introduct some missing values in the iris dataset.\n",
    "from sklearn import datasets\n",
    "import numpy as np\n",
    "\n",
    "iris = datasets.load_iris()\n",
    "\n",
    "iris_small = iris.data[0:10,:]\n",
    "iris_small[iris_small[:,:]>5.2  ] = np.nan\n",
    "\n",
    "iris_small"
   ]
  },
  {
   "cell_type": "markdown",
   "metadata": {},
   "source": [
    "<img src=\"./pics/drop-na-numpy.png\"/>"
   ]
  },
  {
   "cell_type": "code",
   "execution_count": 131,
   "metadata": {},
   "outputs": [
    {
     "data": {
      "text/plain": [
       "array([[5.1, 3.5, 1.4, 0.2],\n",
       "       [4.9, 3. , 1.4, 0.2],\n",
       "       [4.7, 3.2, 1.3, 0.2],\n",
       "       [4.6, 3.1, 1.5, 0.2],\n",
       "       [5. , 3.6, 1.4, 0.2],\n",
       "       [4.6, 3.4, 1.4, 0.3],\n",
       "       [5. , 3.4, 1.5, 0.2],\n",
       "       [4.4, 2.9, 1.4, 0.2],\n",
       "       [4.9, 3.1, 1.5, 0.1]])"
      ]
     },
     "execution_count": 131,
     "metadata": {},
     "output_type": "execute_result"
    }
   ],
   "source": [
    "iris_small[~np.isnan(iris_small).any(axis=1)]"
   ]
  },
  {
   "cell_type": "markdown",
   "metadata": {},
   "source": [
    "Dropping unknown values (NaN) is typically a decent strategy when dealing unknown values. However, if the data itself is biased, the algorithm's fit could also be biased. For example, imagine the person collecting the iris data could not find enough flowers of a particular species. In cases like that, missing values could be very skewed. Dropping NA's sometimes could result in data that is biased and the resulting algorithm could also be biased.\n",
    "\n",
    "An alternative way of dealing with NA's is called **imputation**."
   ]
  },
  {
   "cell_type": "markdown",
   "metadata": {},
   "source": [
    "<hr>"
   ]
  },
  {
   "cell_type": "markdown",
   "metadata": {},
   "source": [
    "#### Imputation of missing values"
   ]
  },
  {
   "cell_type": "markdown",
   "metadata": {},
   "source": [
    "Here is the definition of _Impute_ according to the dictionary.\n",
    "\n",
    "> assign (a value) to something by inference from the value of the products or processes to which it contributes."
   ]
  },
  {
   "cell_type": "code",
   "execution_count": 5,
   "metadata": {},
   "outputs": [
    {
     "data": {
      "text/plain": [
       "array([[5.1, 3.5, 1.4, 0.2],\n",
       "       [4.9, 3. , 1.4, 0.2],\n",
       "       [4.7, 3.2, 1.3, 0.2],\n",
       "       [4.6, 3.1, 1.5, 0.2],\n",
       "       [5. , 3.6, 1.4, 0.2],\n",
       "       [nan, 3.9, 1.7, 0.4],\n",
       "       [4.6, 3.4, 1.4, 0.3],\n",
       "       [5. , 3.4, 1.5, 0.2],\n",
       "       [4.4, 2.9, 1.4, 0.2],\n",
       "       [4.9, 3.1, 1.5, 0.1]])"
      ]
     },
     "execution_count": 5,
     "metadata": {},
     "output_type": "execute_result"
    }
   ],
   "source": [
    "iris_small"
   ]
  },
  {
   "cell_type": "markdown",
   "metadata": {},
   "source": [
    "<img src=\"./pics/simple-imputer-visual.png\"/>"
   ]
  },
  {
   "cell_type": "code",
   "execution_count": 19,
   "metadata": {},
   "outputs": [
    {
     "data": {
      "text/plain": [
       "array([[5.1, 3.5, 1.4, 0.2],\n",
       "       [4.9, 3. , 1.4, 0.2],\n",
       "       [4.7, 3.2, 1.3, 0.2],\n",
       "       [4.6, 3.1, 1.5, 0.2],\n",
       "       [5. , 3.6, 1.4, 0.2],\n",
       "       [4.6, 3.4, 1.4, 0.3],\n",
       "       [5. , 3.4, 1.5, 0.2],\n",
       "       [4.4, 2.9, 1.4, 0.2],\n",
       "       [4.9, 3.1, 1.5, 0.1]])"
      ]
     },
     "execution_count": 19,
     "metadata": {},
     "output_type": "execute_result"
    }
   ],
   "source": [
    "iris_without_na = iris_small[~np.isnan(iris_small).any(axis=1)]\n",
    "iris_without_na\n",
    "\n",
    "# ~np.isnan(iris_small).any(axis=1)"
   ]
  },
  {
   "cell_type": "code",
   "execution_count": 21,
   "metadata": {},
   "outputs": [
    {
     "data": {
      "text/plain": [
       "array([4.8       , 3.24444444, 1.42222222, 0.2       ])"
      ]
     },
     "execution_count": 21,
     "metadata": {},
     "output_type": "execute_result"
    }
   ],
   "source": [
    "iris_without_na.mean(axis=0)"
   ]
  },
  {
   "cell_type": "code",
   "execution_count": 6,
   "metadata": {},
   "outputs": [
    {
     "data": {
      "text/plain": [
       "array([[5.1, 3.5, 1.4, 0.2],\n",
       "       [4.9, 3. , 1.4, 0.2],\n",
       "       [4.7, 3.2, 1.3, 0.2],\n",
       "       [4.6, 3.1, 1.5, 0.2],\n",
       "       [5. , 3.6, 1.4, 0.2],\n",
       "       [4.8, 3.9, 1.7, 0.4],\n",
       "       [4.6, 3.4, 1.4, 0.3],\n",
       "       [5. , 3.4, 1.5, 0.2],\n",
       "       [4.4, 2.9, 1.4, 0.2],\n",
       "       [4.9, 3.1, 1.5, 0.1]])"
      ]
     },
     "execution_count": 6,
     "metadata": {},
     "output_type": "execute_result"
    }
   ],
   "source": [
    "import numpy as np\n",
    "from sklearn.impute import SimpleImputer\n",
    "\n",
    "imputer = SimpleImputer(missing_values=np.nan, strategy='mean')\n",
    "imputer.fit(iris_small)\n",
    "imputer.transform(iris_small)\n",
    "\n",
    "\n",
    "iris_new = imputer.transform(iris_small)\n",
    "iris_new\n"
   ]
  },
  {
   "cell_type": "markdown",
   "metadata": {},
   "source": [
    "**mean** is just one of the strategy to fill NAs. _SimpleImputer_ supports couple more strategies that are pretty obvious to understand.\n",
    "\n",
    "- **median**\n",
    "- **most_frequent**\n",
    "- **constant**"
   ]
  },
  {
   "cell_type": "markdown",
   "metadata": {},
   "source": [
    "The trick to choosing the strategy is to understand the type of data we are trying to impute. Here are some scenarios that would require you to choose a specific strategy.\n",
    "\n",
    "- **median** - Income data or other data with large variance at the very end (or even large outliers).\n",
    "- **most_frequent** - This is essentially imputing with the mode of the feature. \n",
    "- **constant** - This is typically used in filling NAs of categorical variables ( say Male/Female & and another category say \"Unknown\" ). "
   ]
  },
  {
   "cell_type": "markdown",
   "metadata": {},
   "source": [
    "There is one more method for imputation that is supported by scikit learn - IterativeImputer. It is based on predicting the values by modeling each of the features based on the rest of the features. "
   ]
  },
  {
   "cell_type": "markdown",
   "metadata": {},
   "source": [
    "<img src=\"./pics/iterative-imputer.png\"/>"
   ]
  },
  {
   "cell_type": "code",
   "execution_count": 3,
   "metadata": {},
   "outputs": [
    {
     "data": {
      "text/plain": [
       "array([[5.1, 3.5, 1.4, 0.2],\n",
       "       [4.9, 3. , 1.4, nan],\n",
       "       [4.7, 3.2, 1.3, 0.2],\n",
       "       [4.6, nan, 1.5, 0.2],\n",
       "       [5. , 3.6, 1.4, 0.2],\n",
       "       [nan, 3.9, 1.7, 0.4],\n",
       "       [4.6, 3.4, 1.4, 0.3],\n",
       "       [5. , 3.4, nan, 0.2],\n",
       "       [4.4, 2.9, 1.4, 0.2],\n",
       "       [4.9, 3.1, 1.5, 0.1]])"
      ]
     },
     "execution_count": 3,
     "metadata": {},
     "output_type": "execute_result"
    }
   ],
   "source": [
    "iris_small_na = iris_small\n",
    "\n",
    "iris_small_na[3,1] = np.nan\n",
    "iris_small_na[7,2] = np.nan\n",
    "iris_small_na[1,3] = np.nan\n",
    "\n",
    "iris_small_na"
   ]
  },
  {
   "cell_type": "code",
   "execution_count": 4,
   "metadata": {},
   "outputs": [],
   "source": [
    "from sklearn.experimental import enable_iterative_imputer \n",
    "from sklearn.impute import IterativeImputer\n",
    "\n",
    "imputer = IterativeImputer(max_iter=10, random_state=0)\n",
    "imputer.fit(iris_small_na)\n",
    "\n",
    "iris_small_no_na = imputer.transform(iris_small_na)"
   ]
  },
  {
   "cell_type": "markdown",
   "metadata": {},
   "source": [
    "<pre>\n",
    "> pip install --user --upgrade scikit-learn\n",
    "</pre>"
   ]
  },
  {
   "cell_type": "code",
   "execution_count": 5,
   "metadata": {},
   "outputs": [
    {
     "data": {
      "text/plain": [
       "array([[5.1       , 3.5       , 1.4       , 0.2       ],\n",
       "       [4.9       , 3.        , 1.4       , 0.08307883],\n",
       "       [4.7       , 3.2       , 1.3       , 0.2       ],\n",
       "       [4.6       , 3.097572  , 1.5       , 0.2       ],\n",
       "       [5.        , 3.6       , 1.4       , 0.2       ],\n",
       "       [4.84755009, 3.9       , 1.7       , 0.4       ],\n",
       "       [4.6       , 3.4       , 1.4       , 0.3       ],\n",
       "       [5.        , 3.4       , 1.45167903, 0.2       ],\n",
       "       [4.4       , 2.9       , 1.4       , 0.2       ],\n",
       "       [4.9       , 3.1       , 1.5       , 0.1       ]])"
      ]
     },
     "execution_count": 5,
     "metadata": {},
     "output_type": "execute_result"
    }
   ],
   "source": [
    "iris_small_no_na"
   ]
  },
  {
   "cell_type": "markdown",
   "metadata": {},
   "source": [
    "<hr>"
   ]
  },
  {
   "cell_type": "markdown",
   "metadata": {},
   "source": [
    "### Data Modeling"
   ]
  },
  {
   "cell_type": "markdown",
   "metadata": {},
   "source": [
    "Modeling is the second step in the machine learning pipiline. There are many modeling algorithms and we will be studying most of them in Week 2/3/4. However, in this section, we will focus on how to validate models."
   ]
  },
  {
   "cell_type": "markdown",
   "metadata": {},
   "source": [
    "#### Model Evaluation Metrics"
   ]
  },
  {
   "cell_type": "markdown",
   "metadata": {},
   "source": [
    "The actual metric used to evaluate the model varies based on the class of Machine Learning Algorithm used. \n",
    "\n",
    "**Classification** - _Confusion Matrix, Area Under Curve -  ROC_ <br>\n",
    "**Regression**     - _R<sup>2</sup>, Root Mean Squared Error (RMSE), Mean Absolute Error (MAE)_"
   ]
  },
  {
   "cell_type": "markdown",
   "metadata": {},
   "source": [
    "Here are the links to each of these topics. "
   ]
  },
  {
   "cell_type": "markdown",
   "metadata": {},
   "source": [
    "| Classification | Regression |\n",
    "| --- | --- |\n",
    "| <a href=\"https://ajaytech.co/python-regression/#r-squared---r2\">R<sup>2</sup></a>, <a href=\"https://ajaytech.co/python-regression/#RMSE---Root-Mean-Square-error\">RMSE</a>, MAE| <a href=\"https://ajaytech.co/python-classification/#confusion-matrix\"> Confusion Matrix</a>, <a href=\"https://ajaytech.co/python-logistic-regression/#roc-curve\"> ROC Curve</a> |"
   ]
  },
  {
   "cell_type": "markdown",
   "metadata": {},
   "source": [
    "<hr>"
   ]
  },
  {
   "cell_type": "markdown",
   "metadata": {},
   "source": [
    "#### Model Validation"
   ]
  },
  {
   "cell_type": "markdown",
   "metadata": {},
   "source": [
    "The evaluation metrics discussed above are run on the test datasets. But that doesn't necessarily mean that the accuracy metrics apply equally well to real data or even to the dataset at hand (just based on the train/test split). We have to ensure that the model didn't just memorize the data (overfitting) or is biased (underfitting). \n",
    "\n",
    "In case you are wondering why we are doing this, it is because almost all the time we only work with a subset of the real dataset. How do we know that our subset is a true representation of the real data ?\n",
    "\n",
    "This is where validation comes in - Validation ensures that we average our model's performance multiple times over different subsets of the data that we have so that we don't just rely on one test. Think of _Model Valuation_ as a **Rinse and Repeat** modeling to ensure we get a more realistic result."
   ]
  },
  {
   "cell_type": "markdown",
   "metadata": {},
   "source": [
    "> _Model Evaluation_ checks for model accuracy on a single test set. _Model Validation_ runs the model evaluation multiple times over different subsets of the data available "
   ]
  },
  {
   "cell_type": "markdown",
   "metadata": {},
   "source": [
    "There are many techniques to validate models. We will just learn about the following important ones that are widely used in the industry.\n",
    "\n",
    "- Hold-out\n",
    "- K-fold cross-validation\n",
    "- Bootstrapping"
   ]
  },
  {
   "cell_type": "markdown",
   "metadata": {},
   "source": [
    "<hr>"
   ]
  },
  {
   "cell_type": "markdown",
   "metadata": {},
   "source": [
    "#### Hold-out"
   ]
  },
  {
   "cell_type": "markdown",
   "metadata": {},
   "source": [
    "Hold-out is the simplest validation method. It is what we have used when we learnt about the basics of <a href=\"https://ajaytech.co/python-regression\">Regression</a> and <a href=\"https://ajaytech.co/python-classification\">Classification</a> in the previous chapters. \n",
    "\n",
    "It is a very simple one step process."
   ]
  },
  {
   "cell_type": "markdown",
   "metadata": {},
   "source": [
    "<img src=\"./pics/hold-out-method.png\"/>"
   ]
  },
  {
   "cell_type": "code",
   "execution_count": 27,
   "metadata": {},
   "outputs": [],
   "source": [
    "from sklearn import model_selection\n",
    "from sklearn.model_selection import train_test_split\n",
    "from sklearn.linear_model import LogisticRegression\n",
    "from sklearn import datasets\n",
    "\n",
    "iris = datasets.load_iris()"
   ]
  },
  {
   "cell_type": "code",
   "execution_count": 33,
   "metadata": {},
   "outputs": [
    {
     "data": {
      "text/plain": [
       "LogisticRegression(C=1.0, class_weight=None, dual=False, fit_intercept=True,\n",
       "                   intercept_scaling=1, l1_ratio=None, max_iter=200,\n",
       "                   multi_class='auto', n_jobs=None, penalty='l2',\n",
       "                   random_state=None, solver='lbfgs', tol=0.0001, verbose=0,\n",
       "                   warm_start=False)"
      ]
     },
     "execution_count": 33,
     "metadata": {},
     "output_type": "execute_result"
    }
   ],
   "source": [
    "X_train, X_test, y_train, y_test = train_test_split(iris.data, iris.target, test_size=0.2, random_state=100)\n",
    "model = LogisticRegression(solver=\"lbfgs\",multi_class=\"auto\", max_iter=200 )\n",
    "model.fit(X_train, y_train)"
   ]
  },
  {
   "cell_type": "code",
   "execution_count": 37,
   "metadata": {},
   "outputs": [],
   "source": [
    "y_predict = model.predict(X_test)"
   ]
  },
  {
   "cell_type": "code",
   "execution_count": 38,
   "metadata": {},
   "outputs": [
    {
     "name": "stdout",
     "output_type": "stream",
     "text": [
      "confusion matrix = \n",
      " [[11  0  0]\n",
      " [ 0  5  1]\n",
      " [ 0  0 13]]\n",
      "accuracy score =  0.9666666666666667\n"
     ]
    }
   ],
   "source": [
    "from sklearn.metrics import confusion_matrix\n",
    "from sklearn.metrics import accuracy_score\n",
    "\n",
    "print ( \"confusion matrix = \\n\" , confusion_matrix(y_test, y_predict) )\n",
    "print ( \"accuracy score = \",accuracy_score(y_test,y_predict) )"
   ]
  },
  {
   "cell_type": "markdown",
   "metadata": {},
   "source": [
    "<hr>"
   ]
  },
  {
   "cell_type": "markdown",
   "metadata": {},
   "source": [
    "#### Cross-Validation"
   ]
  },
  {
   "cell_type": "markdown",
   "metadata": {},
   "source": [
    "Think of Cross-validation as a recursive version of Hold-out method. For example, in hold-out we just hold-out a percentage of data ( say 20%), train the data on the remaining data. And finally test it on the held-out 20% of the data. \n",
    "\n",
    "The problem with this approachis that it could result in over-fitting. To avoid this, we use cross-validation. \n",
    "\n",
    "In cross-validation, we essentially do the same thing as the \"hold-out\" method - except that it is done in multiple iterations. The following picture shows a quick visual on how we would do this on just 10 rows of data. In this specific case, it is a 5 fold validation, because we have divided the entire dataset into 5 folds (2 rows each).\n",
    "\n",
    "And finally, the test results over each of the iterations are averaged to provide a better estimation of the algorithm's performance. That way, we get a more realistic performing algorithm (compared to the hold-out method)."
   ]
  },
  {
   "cell_type": "markdown",
   "metadata": {},
   "source": [
    "<img src=\"./pics/cross-validation-visual.png\"/>"
   ]
  },
  {
   "cell_type": "markdown",
   "metadata": {},
   "source": [
    "Scikit Learn provides readymade implementation of Cross validation. "
   ]
  },
  {
   "cell_type": "code",
   "execution_count": 16,
   "metadata": {},
   "outputs": [],
   "source": [
    "from sklearn import model_selection\n",
    "from sklearn.model_selection import cross_val_score\n",
    "from sklearn.model_selection import train_test_split\n",
    "from sklearn.linear_model import LogisticRegression\n",
    "from sklearn import datasets\n",
    "\n",
    "iris = datasets.load_iris()"
   ]
  },
  {
   "cell_type": "code",
   "execution_count": 39,
   "metadata": {},
   "outputs": [],
   "source": [
    "k_fold = model_selection.KFold(n_splits=10, random_state=100)\n",
    "model = LogisticRegression(solver=\"lbfgs\",multi_class=\"auto\", max_iter=200 )\n",
    "scores = model_selection.cross_val_score(model, iris.data, iris.target, cv=k_fold)"
   ]
  },
  {
   "cell_type": "code",
   "execution_count": 40,
   "metadata": {},
   "outputs": [
    {
     "data": {
      "text/plain": [
       "array([1.        , 1.        , 1.        , 1.        , 0.93333333,\n",
       "       0.86666667, 1.        , 0.86666667, 0.86666667, 0.93333333])"
      ]
     },
     "execution_count": 40,
     "metadata": {},
     "output_type": "execute_result"
    }
   ],
   "source": [
    "scores"
   ]
  },
  {
   "cell_type": "code",
   "execution_count": 41,
   "metadata": {},
   "outputs": [
    {
     "name": "stdout",
     "output_type": "stream",
     "text": [
      "Accuracy: 0.95 (+/- 0.12)\n"
     ]
    }
   ],
   "source": [
    "print(\"Accuracy: %0.2f (+/- %0.2f)\" % (scores.mean(), scores.std() * 2))\n"
   ]
  },
  {
   "cell_type": "markdown",
   "metadata": {},
   "source": [
    "So, the real accuracy is 95% (as opposed to 96.6% as determined by a single train/test split using the hold-out method above). In this case, the data is pretty good and there is not a lot of difference between the hold-out vs cross validation accuracy. However, in real-world datasets where the variance is large, cross-validation does make a huge difference. \n",
    "\n",
    "What have we achieved here ? \n",
    "\n",
    "- Reduced over-fitting\n",
    "- Reduce model bias"
   ]
  },
  {
   "cell_type": "markdown",
   "metadata": {},
   "source": [
    "k-fold cross validation is the preferred method in cross validation. There are other validation methods like\n",
    "\n",
    "- LOOCV (Leave One Out Cross Validation)\n",
    "- LPOCV (Leave P Out Cross Validation)\n",
    "- Straified k-fold (A specific type of doing the folds in k-fold validation)"
   ]
  },
  {
   "cell_type": "code",
   "execution_count": null,
   "metadata": {},
   "outputs": [],
   "source": []
  }
 ],
 "metadata": {
  "kernelspec": {
   "display_name": "R",
   "language": "R",
   "name": "ir"
  },
  "language_info": {
   "codemirror_mode": "r",
   "file_extension": ".r",
   "mimetype": "text/x-r-source",
   "name": "R",
   "pygments_lexer": "r",
   "version": "3.6.2"
  }
 },
 "nbformat": 4,
 "nbformat_minor": 4
}
