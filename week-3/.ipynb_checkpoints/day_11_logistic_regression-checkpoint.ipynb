{
 "cells": [
  {
   "cell_type": "markdown",
   "metadata": {},
   "source": [
    "Notebook is copyright &copy; of <a href=\"https://ajaytech.co\"/> Ajay Tech </a>"
   ]
  },
  {
   "cell_type": "markdown",
   "metadata": {},
   "source": [
    "# Logistic Regression"
   ]
  },
  {
   "cell_type": "markdown",
   "metadata": {},
   "source": [
    "## Contents"
   ]
  },
  {
   "cell_type": "markdown",
   "metadata": {},
   "source": [
    "- [What is Logistic Regression](#What-is-Logistic-Regression)\n",
    "- [Math](#Math)\n",
    "  - [logit function](#logit-function)\n",
    "  - [sigmoid function](#sigmoid-function)\n",
    "- [Implementation](#Implementation)\n",
    "  - [Dataset](#Dataset)\n",
    "  - [Modeling](#Modeling)\n",
    "  - [Visualization](#Visualization)\n",
    "  - [Basic Evaluation](#Basic Evaluation)\n",
    "- [Optimization](#Optimization)\n",
    "- Evaluation\n",
    "  - ROC Curve\n",
    "  - Area under ROC Curve\n",
    "- References"
   ]
  },
  {
   "cell_type": "markdown",
   "metadata": {},
   "source": [
    "<hr>"
   ]
  },
  {
   "cell_type": "markdown",
   "metadata": {},
   "source": [
    "### What is Logistic Regression"
   ]
  },
  {
   "cell_type": "markdown",
   "metadata": {},
   "source": [
    "Logistic regression is a type of linear regression. However, it is used for classification only. Huh.. that's confusing, right ? Let's dive in. "
   ]
  },
  {
   "cell_type": "markdown",
   "metadata": {},
   "source": [
    "Let's take the simple iris dataset. The target variable as you know by now ( from day 9 - <a href=\"https://ajaytech.co/introduction-to-classification-in-python\">Introduction to Classification in Python</a>, where we discussed classification using K Nearest neighbours ) is categorical in nature. Let's load the data first."
   ]
  },
  {
   "cell_type": "code",
   "execution_count": 1,
   "metadata": {},
   "outputs": [
    {
     "data": {
      "text/html": [
       "<table>\n",
       "<caption>A data.frame: 6 × 5</caption>\n",
       "<thead>\n",
       "\t<tr><th></th><th scope=col>Sepal.Length</th><th scope=col>Sepal.Width</th><th scope=col>Petal.Length</th><th scope=col>Petal.Width</th><th scope=col>Species</th></tr>\n",
       "\t<tr><th></th><th scope=col>&lt;dbl&gt;</th><th scope=col>&lt;dbl&gt;</th><th scope=col>&lt;dbl&gt;</th><th scope=col>&lt;dbl&gt;</th><th scope=col>&lt;fct&gt;</th></tr>\n",
       "</thead>\n",
       "<tbody>\n",
       "\t<tr><th scope=row>1</th><td>5.1</td><td>3.5</td><td>1.4</td><td>0.2</td><td>setosa</td></tr>\n",
       "\t<tr><th scope=row>2</th><td>4.9</td><td>3.0</td><td>1.4</td><td>0.2</td><td>setosa</td></tr>\n",
       "\t<tr><th scope=row>3</th><td>4.7</td><td>3.2</td><td>1.3</td><td>0.2</td><td>setosa</td></tr>\n",
       "\t<tr><th scope=row>4</th><td>4.6</td><td>3.1</td><td>1.5</td><td>0.2</td><td>setosa</td></tr>\n",
       "\t<tr><th scope=row>5</th><td>5.0</td><td>3.6</td><td>1.4</td><td>0.2</td><td>setosa</td></tr>\n",
       "\t<tr><th scope=row>6</th><td>5.4</td><td>3.9</td><td>1.7</td><td>0.4</td><td>setosa</td></tr>\n",
       "</tbody>\n",
       "</table>\n"
      ],
      "text/latex": [
       "A data.frame: 6 × 5\n",
       "\\begin{tabular}{r|lllll}\n",
       "  & Sepal.Length & Sepal.Width & Petal.Length & Petal.Width & Species\\\\\n",
       "  & <dbl> & <dbl> & <dbl> & <dbl> & <fct>\\\\\n",
       "\\hline\n",
       "\t1 & 5.1 & 3.5 & 1.4 & 0.2 & setosa\\\\\n",
       "\t2 & 4.9 & 3.0 & 1.4 & 0.2 & setosa\\\\\n",
       "\t3 & 4.7 & 3.2 & 1.3 & 0.2 & setosa\\\\\n",
       "\t4 & 4.6 & 3.1 & 1.5 & 0.2 & setosa\\\\\n",
       "\t5 & 5.0 & 3.6 & 1.4 & 0.2 & setosa\\\\\n",
       "\t6 & 5.4 & 3.9 & 1.7 & 0.4 & setosa\\\\\n",
       "\\end{tabular}\n"
      ],
      "text/markdown": [
       "\n",
       "A data.frame: 6 × 5\n",
       "\n",
       "| <!--/--> | Sepal.Length &lt;dbl&gt; | Sepal.Width &lt;dbl&gt; | Petal.Length &lt;dbl&gt; | Petal.Width &lt;dbl&gt; | Species &lt;fct&gt; |\n",
       "|---|---|---|---|---|---|\n",
       "| 1 | 5.1 | 3.5 | 1.4 | 0.2 | setosa |\n",
       "| 2 | 4.9 | 3.0 | 1.4 | 0.2 | setosa |\n",
       "| 3 | 4.7 | 3.2 | 1.3 | 0.2 | setosa |\n",
       "| 4 | 4.6 | 3.1 | 1.5 | 0.2 | setosa |\n",
       "| 5 | 5.0 | 3.6 | 1.4 | 0.2 | setosa |\n",
       "| 6 | 5.4 | 3.9 | 1.7 | 0.4 | setosa |\n",
       "\n"
      ],
      "text/plain": [
       "  Sepal.Length Sepal.Width Petal.Length Petal.Width Species\n",
       "1 5.1          3.5         1.4          0.2         setosa \n",
       "2 4.9          3.0         1.4          0.2         setosa \n",
       "3 4.7          3.2         1.3          0.2         setosa \n",
       "4 4.6          3.1         1.5          0.2         setosa \n",
       "5 5.0          3.6         1.4          0.2         setosa \n",
       "6 5.4          3.9         1.7          0.4         setosa "
      ]
     },
     "metadata": {},
     "output_type": "display_data"
    }
   ],
   "source": [
    "head(iris)"
   ]
  },
  {
   "cell_type": "markdown",
   "metadata": {},
   "source": [
    "Let's simplify the dataset to just 2 species - \n",
    "\n",
    "- 0 - setosa\n",
    "- 1 - versi-color"
   ]
  },
  {
   "cell_type": "markdown",
   "metadata": {},
   "source": [
    "Let's just take data for 2 of the species ( say setosa and versi-color ) with just the sepal data ( sepal length and sepal width ) and plot it."
   ]
  },
  {
   "cell_type": "code",
   "execution_count": 7,
   "metadata": {},
   "outputs": [],
   "source": [
    "iris_data   = iris[0:100,]"
   ]
  },
  {
   "cell_type": "code",
   "execution_count": 9,
   "metadata": {},
   "outputs": [
    {
     "data": {
      "image/png": "[encoded data removed]",
      "text/plain": [
       "plot without title"
      ]
     },
     "metadata": {
      "image/png": {
       "height": 420,
       "width": 420
      },
      "text/plain": {
       "height": 420,
       "width": 420
      }
     },
     "output_type": "display_data"
    }
   ],
   "source": [
    "iris_data = iris[0:100,]\n",
    "plot(iris_data$Sepal.Length, iris_data$Sepal.Width, \n",
    "     col = iris_data$Species, pch = 19, \n",
    "     xlab = \"Sepal Length\",\n",
    "     ylab = \"Sepal Width\")"
   ]
  },
  {
   "cell_type": "markdown",
   "metadata": {},
   "source": [
    "Let's simplify this further - say, we wanted to predict the species based on a single parameter - **Sepal Length**. Let's first plot it."
   ]
  },
  {
   "cell_type": "code",
   "execution_count": 14,
   "metadata": {},
   "outputs": [
    {
     "data": {
      "image/png": "[encoded data removed]",
      "text/plain": [
       "plot without title"
      ]
     },
     "metadata": {
      "image/png": {
       "height": 420,
       "width": 420
      },
      "text/plain": {
       "height": 420,
       "width": 420
      }
     },
     "output_type": "display_data"
    }
   ],
   "source": [
    "plot ( iris_data[,1], iris_data[,5],\n",
    "       pch = 19, col = \"blue\",\n",
    "       xlab = \"Sepal Length\",\n",
    "       ylab = \"Setosa or Versicolor\")"
   ]
  },
  {
   "cell_type": "markdown",
   "metadata": {},
   "source": [
    "We know that regression is used to predict a continous variable. What about a categorical variable like this ? (species). If we can draw a curve like this,"
   ]
  },
  {
   "cell_type": "markdown",
   "metadata": {},
   "source": [
    "<img src=\"./pics/logit_function.jpg\"/>"
   ]
  },
  {
   "cell_type": "markdown",
   "metadata": {},
   "source": [
    "and for all target values predicted with value > 0.5 put it in one category, and for all target values less than 0.5, put it in the other category - like this."
   ]
  },
  {
   "cell_type": "markdown",
   "metadata": {},
   "source": [
    "<img src=\"./pics/setosa-vs-virginica.jpg\"/>"
   ]
  },
  {
   "cell_type": "markdown",
   "metadata": {},
   "source": [
    "A linear regression (multilinear in this case) equation looks like this."
   ]
  },
  {
   "cell_type": "markdown",
   "metadata": {},
   "source": [
    "# $y = m + a_1 X_1 + a_2 X_2 + a_3 X_3 .. $"
   ]
  },
  {
   "cell_type": "markdown",
   "metadata": {},
   "source": [
    "Logistic regression is almost similar to linear regression. The difference lies in how the predictor is calculated. Let's see it in the next section."
   ]
  },
  {
   "cell_type": "markdown",
   "metadata": {},
   "source": [
    "<hr>"
   ]
  },
  {
   "cell_type": "markdown",
   "metadata": {},
   "source": [
    "### Math"
   ]
  },
  {
   "cell_type": "markdown",
   "metadata": {},
   "source": [
    "The name logistic regression is derived from the **logit** function. This function is based on odds. "
   ]
  },
  {
   "cell_type": "markdown",
   "metadata": {},
   "source": [
    "#### logit function"
   ]
  },
  {
   "cell_type": "markdown",
   "metadata": {},
   "source": [
    "Let's take an example. A standard dice roll has 6 outcomes. So, what is the probability of landing a 4 ?"
   ]
  },
  {
   "cell_type": "markdown",
   "metadata": {},
   "source": [
    "# $P_4 = \\frac{Specific ~ Outcome} {Total ~ Number ~ of ~ Outcomes} =  \\frac {1}{6}$"
   ]
  },
  {
   "cell_type": "markdown",
   "metadata": {},
   "source": [
    "Now, what about odds ? The odds of landing a 4 is"
   ]
  },
  {
   "cell_type": "markdown",
   "metadata": {},
   "source": [
    "# $Odds_4 = \\frac{Probability ~ of ~ 4}{Probability ~ of ~ Everything ~ but ~ 4} = \\frac{P_4}{1-P_4}$"
   ]
  },
  {
   "cell_type": "markdown",
   "metadata": {},
   "source": [
    "$ where \\hspace{0.5cm} P_4 = \\frac {1}{6} $"
   ]
  },
  {
   "cell_type": "markdown",
   "metadata": {},
   "source": [
    "So, when we substitute p into the odds equation, it becomes"
   ]
  },
  {
   "cell_type": "markdown",
   "metadata": {},
   "source": [
    "# $ odds = \\frac {\\frac{1}{6}}{(1-\\frac{1}{6})} = \\frac{1}{5} = 0.2 $"
   ]
  },
  {
   "cell_type": "markdown",
   "metadata": {},
   "source": [
    "OK. Now that we understand **Probability** and **Odds**, let's get to the **log** of odds. "
   ]
  },
  {
   "cell_type": "markdown",
   "metadata": {},
   "source": [
    "# $ log (odds ) = log ( \\frac{P}{1-P}) $"
   ]
  },
  {
   "cell_type": "markdown",
   "metadata": {},
   "source": [
    "How exactly is the logistic regression similar to linear regression ? Like so."
   ]
  },
  {
   "cell_type": "markdown",
   "metadata": {},
   "source": [
    "# $log ( \\frac{P}{1-P}) = m + a_1 X_1 + a_2 X_2 + a_3 X_3 .. $"
   ]
  },
  {
   "cell_type": "markdown",
   "metadata": {},
   "source": [
    "Where the predictor ( log of odds ) varies between ( -&infin; to +&infin; ). "
   ]
  },
  {
   "cell_type": "markdown",
   "metadata": {},
   "source": [
    "To understand this better, let's plot the log of odds between a probabilty value of 0 and 1. "
   ]
  },
  {
   "cell_type": "code",
   "execution_count": 29,
   "metadata": {},
   "outputs": [],
   "source": [
    "x = runif ( 100, min = 0.1, max = 0.9)\n",
    "x = sort ( x )\n",
    "y = log ( x / (1-x))"
   ]
  },
  {
   "cell_type": "code",
   "execution_count": 30,
   "metadata": {},
   "outputs": [
    {
     "data": {
      "image/png": "[encoded data removed]",
      "text/plain": [
       "plot without title"
      ]
     },
     "metadata": {
      "image/png": {
       "height": 420,
       "width": 420
      },
      "text/plain": {
       "height": 420,
       "width": 420
      }
     },
     "output_type": "display_data"
    }
   ],
   "source": [
    "# plt.plot(x,y)\n",
    "# plt.grid()\n",
    "\n",
    "plot ( x, y , type=\"l\")\n",
    "grid(5, 5, lwd = 2)"
   ]
  },
  {
   "cell_type": "markdown",
   "metadata": {},
   "source": [
    "This is the logistic regression curve. It maps a probability value ( 0 to 1 ) to a number ( -&infin; to +&infin; ).  However, we are not looking for a continous variable, right ? The predictor we are looking for is a categorical variable - in our case, we said we would be able to predict this based on probability. \n",
    "\n",
    "- p >= 0.5 - Category 1\n",
    "- p < 0.5  - Category 2\n",
    "\n",
    "In order to calculate those probabilities, we would have to calculate the inverse function of the **logit** function. "
   ]
  },
  {
   "cell_type": "markdown",
   "metadata": {},
   "source": [
    "<hr>"
   ]
  },
  {
   "cell_type": "markdown",
   "metadata": {},
   "source": [
    "#### sigmoid function"
   ]
  },
  {
   "cell_type": "markdown",
   "metadata": {},
   "source": [
    "The inverse of the logit curve is the *inverse-logit* or **sigmoid** function ( or **expit** function). The **sigmoid** function transforms the numbers ( -&infin; to +&infin; ) back to values between 0 and 1. Here is the formula for the **sigmoid** function."
   ]
  },
  {
   "cell_type": "markdown",
   "metadata": {},
   "source": [
    "# $sigmoid_x = \\frac{1}{1+e^{\\text{-x}}}$"
   ]
  },
  {
   "cell_type": "code",
   "execution_count": 34,
   "metadata": {},
   "outputs": [
    {
     "data": {
      "image/png": "[encoded data removed]",
      "text/plain": [
       "plot without title"
      ]
     },
     "metadata": {
      "image/png": {
       "height": 420,
       "width": 420
      },
      "text/plain": {
       "height": 420,
       "width": 420
      }
     },
     "output_type": "display_data"
    }
   ],
   "source": [
    "x_new = y\n",
    "y_new = exp(x_new) / (1 + exp(x_new))\n",
    "\n",
    "plot (x_new, y_new, type=\"l\")\n",
    "grid(5, 5, lwd = 2)"
   ]
  },
  {
   "cell_type": "markdown",
   "metadata": {},
   "source": [
    "Essentially, if we flip the logit function 90<sup>0</sup>, you get the sigmoid function."
   ]
  },
  {
   "cell_type": "markdown",
   "metadata": {},
   "source": [
    "<img src=\"./pics/logit.png\"/> <img src=\"./pics/sigmoid.png\"/>"
   ]
  },
  {
   "cell_type": "markdown",
   "metadata": {},
   "source": [
    "> Here is the trick - As long as we are able to find a curve like the one below, although the target (predictor) is a value between 0 and 1 ( probabilities), we can say that all values below 0.5 ( half way mark ) belongs to one category and the remaining ( values above 0.5 ) belong to the next category. This is the essence of logistic regression. "
   ]
  },
  {
   "cell_type": "markdown",
   "metadata": {},
   "source": [
    "<img src=\"./pics/setosa-vs-virginica.jpg\"/>"
   ]
  },
  {
   "cell_type": "markdown",
   "metadata": {},
   "source": [
    "<hr>"
   ]
  },
  {
   "cell_type": "markdown",
   "metadata": {},
   "source": [
    "### Implementation"
   ]
  },
  {
   "cell_type": "markdown",
   "metadata": {},
   "source": [
    "Let's try to implement the logistic regression function in R step by step. "
   ]
  },
  {
   "cell_type": "markdown",
   "metadata": {},
   "source": [
    "#### Data & Modeling"
   ]
  },
  {
   "cell_type": "markdown",
   "metadata": {},
   "source": [
    "Just to keep the same example going, let's try to fit the sepal length data to try and predict the species as either _Setosa_ or _Versicolor_."
   ]
  },
  {
   "cell_type": "code",
   "execution_count": 81,
   "metadata": {},
   "outputs": [
    {
     "name": "stderr",
     "output_type": "stream",
     "text": [
      "Warning message:\n",
      "\"glm.fit: algorithm did not converge\"\n",
      "Warning message:\n",
      "\"glm.fit: fitted probabilities numerically 0 or 1 occurred\"\n"
     ]
    }
   ],
   "source": [
    "model = glm(Species ~ Sepal.Length + Sepal.Width, \n",
    "            data=iris_data, \n",
    "            family=binomial(link=\"logit\"))"
   ]
  },
  {
   "cell_type": "code",
   "execution_count": 82,
   "metadata": {},
   "outputs": [],
   "source": [
    "y_pred = predict(model, iris_data, type=\"response\") "
   ]
  },
  {
   "cell_type": "code",
   "execution_count": 83,
   "metadata": {
    "collapsed": true,
    "jupyter": {
     "outputs_hidden": true
    }
   },
   "outputs": [
    {
     "data": {
      "text/html": [
       "<style>\n",
       ".dl-inline {width: auto; margin:0; padding: 0}\n",
       ".dl-inline>dt, .dl-inline>dd {float: none; width: auto; display: inline-block}\n",
       ".dl-inline>dt::after {content: \":\\0020\"; padding-right: .5ex}\n",
       ".dl-inline>dt:not(:first-of-type) {padding-left: .5ex}\n",
       "</style><dl class=dl-inline><dt>1</dt><dd>2.22044604925031e-16</dd><dt>2</dt><dd>2.22044604925031e-16</dd><dt>3</dt><dd>2.22044604925031e-16</dd><dt>4</dt><dd>2.22044604925031e-16</dd><dt>5</dt><dd>2.22044604925031e-16</dd><dt>6</dt><dd>2.22044604925031e-16</dd><dt>7</dt><dd>2.22044604925031e-16</dd><dt>8</dt><dd>2.22044604925031e-16</dd><dt>9</dt><dd>2.22044604925031e-16</dd><dt>10</dt><dd>2.22044604925031e-16</dd><dt>11</dt><dd>2.22044604925031e-16</dd><dt>12</dt><dd>2.22044604925031e-16</dd><dt>13</dt><dd>2.22044604925031e-16</dd><dt>14</dt><dd>2.22044604925031e-16</dd><dt>15</dt><dd>2.22044604925031e-16</dd><dt>16</dt><dd>2.22044604925031e-16</dd><dt>17</dt><dd>2.22044604925031e-16</dd><dt>18</dt><dd>2.22044604925031e-16</dd><dt>19</dt><dd>7.94264732123352e-13</dd><dt>20</dt><dd>2.22044604925031e-16</dd><dt>21</dt><dd>7.2365355113674e-11</dd><dt>22</dt><dd>2.22044604925031e-16</dd><dt>23</dt><dd>2.22044604925031e-16</dd><dt>24</dt><dd>2.22044604925031e-16</dd><dt>25</dt><dd>2.22044604925031e-16</dd><dt>26</dt><dd>2.22044604925031e-16</dd><dt>27</dt><dd>2.22044604925031e-16</dd><dt>28</dt><dd>2.22044604925031e-16</dd><dt>29</dt><dd>2.22044604925031e-16</dd><dt>30</dt><dd>2.22044604925031e-16</dd><dt>31</dt><dd>2.22044604925031e-16</dd><dt>32</dt><dd>7.2365355113674e-11</dd><dt>33</dt><dd>2.22044604925031e-16</dd><dt>34</dt><dd>2.22044604925031e-16</dd><dt>35</dt><dd>2.22044604925031e-16</dd><dt>36</dt><dd>2.22044604925031e-16</dd><dt>37</dt><dd>6.31794371395771e-10</dd><dt>38</dt><dd>2.22044604925031e-16</dd><dt>39</dt><dd>2.22044604925031e-16</dd><dt>40</dt><dd>2.22044604925031e-16</dd><dt>41</dt><dd>2.22044604925031e-16</dd><dt>42</dt><dd>9.0266451369787e-10</dd><dt>43</dt><dd>2.22044604925031e-16</dd><dt>44</dt><dd>2.22044604925031e-16</dd><dt>45</dt><dd>2.22044604925031e-16</dd><dt>46</dt><dd>2.22044604925031e-16</dd><dt>47</dt><dd>2.22044604925031e-16</dd><dt>48</dt><dd>2.22044604925031e-16</dd><dt>49</dt><dd>2.22044604925031e-16</dd><dt>50</dt><dd>2.22044604925031e-16</dd><dt>51</dt><dd>1</dd><dt>52</dt><dd>1</dd><dt>53</dt><dd>1</dd><dt>54</dt><dd>1</dd><dt>55</dt><dd>1</dd><dt>56</dt><dd>1</dd><dt>57</dt><dd>1</dd><dt>58</dt><dd>0.999999999144556</dd><dt>59</dt><dd>1</dd><dt>60</dt><dd>0.999999999998715</dd><dt>61</dt><dd>1</dd><dt>62</dt><dd>1</dd><dt>63</dt><dd>1</dd><dt>64</dt><dd>1</dd><dt>65</dt><dd>1</dd><dt>66</dt><dd>1</dd><dt>67</dt><dd>1</dd><dt>68</dt><dd>1</dd><dt>69</dt><dd>1</dd><dt>70</dt><dd>1</dd><dt>71</dt><dd>1</dd><dt>72</dt><dd>1</dd><dt>73</dt><dd>1</dd><dt>74</dt><dd>1</dd><dt>75</dt><dd>1</dd><dt>76</dt><dd>1</dd><dt>77</dt><dd>1</dd><dt>78</dt><dd>1</dd><dt>79</dt><dd>1</dd><dt>80</dt><dd>1</dd><dt>81</dt><dd>1</dd><dt>82</dt><dd>1</dd><dt>83</dt><dd>1</dd><dt>84</dt><dd>1</dd><dt>85</dt><dd>0.999999998977491</dd><dt>86</dt><dd>1</dd><dt>87</dt><dd>1</dd><dt>88</dt><dd>1</dd><dt>89</dt><dd>1</dd><dt>90</dt><dd>1</dd><dt>91</dt><dd>1</dd><dt>92</dt><dd>1</dd><dt>93</dt><dd>1</dd><dt>94</dt><dd>1</dd><dt>95</dt><dd>1</dd><dt>96</dt><dd>1</dd><dt>97</dt><dd>1</dd><dt>98</dt><dd>1</dd><dt>99</dt><dd>1</dd><dt>100</dt><dd>1</dd></dl>\n"
      ],
      "text/latex": [
       "\\begin{description*}\n",
       "\\item[1] 2.22044604925031e-16\n",
       "\\item[2] 2.22044604925031e-16\n",
       "\\item[3] 2.22044604925031e-16\n",
       "\\item[4] 2.22044604925031e-16\n",
       "\\item[5] 2.22044604925031e-16\n",
       "\\item[6] 2.22044604925031e-16\n",
       "\\item[7] 2.22044604925031e-16\n",
       "\\item[8] 2.22044604925031e-16\n",
       "\\item[9] 2.22044604925031e-16\n",
       "\\item[10] 2.22044604925031e-16\n",
       "\\item[11] 2.22044604925031e-16\n",
       "\\item[12] 2.22044604925031e-16\n",
       "\\item[13] 2.22044604925031e-16\n",
       "\\item[14] 2.22044604925031e-16\n",
       "\\item[15] 2.22044604925031e-16\n",
       "\\item[16] 2.22044604925031e-16\n",
       "\\item[17] 2.22044604925031e-16\n",
       "\\item[18] 2.22044604925031e-16\n",
       "\\item[19] 7.94264732123352e-13\n",
       "\\item[20] 2.22044604925031e-16\n",
       "\\item[21] 7.2365355113674e-11\n",
       "\\item[22] 2.22044604925031e-16\n",
       "\\item[23] 2.22044604925031e-16\n",
       "\\item[24] 2.22044604925031e-16\n",
       "\\item[25] 2.22044604925031e-16\n",
       "\\item[26] 2.22044604925031e-16\n",
       "\\item[27] 2.22044604925031e-16\n",
       "\\item[28] 2.22044604925031e-16\n",
       "\\item[29] 2.22044604925031e-16\n",
       "\\item[30] 2.22044604925031e-16\n",
       "\\item[31] 2.22044604925031e-16\n",
       "\\item[32] 7.2365355113674e-11\n",
       "\\item[33] 2.22044604925031e-16\n",
       "\\item[34] 2.22044604925031e-16\n",
       "\\item[35] 2.22044604925031e-16\n",
       "\\item[36] 2.22044604925031e-16\n",
       "\\item[37] 6.31794371395771e-10\n",
       "\\item[38] 2.22044604925031e-16\n",
       "\\item[39] 2.22044604925031e-16\n",
       "\\item[40] 2.22044604925031e-16\n",
       "\\item[41] 2.22044604925031e-16\n",
       "\\item[42] 9.0266451369787e-10\n",
       "\\item[43] 2.22044604925031e-16\n",
       "\\item[44] 2.22044604925031e-16\n",
       "\\item[45] 2.22044604925031e-16\n",
       "\\item[46] 2.22044604925031e-16\n",
       "\\item[47] 2.22044604925031e-16\n",
       "\\item[48] 2.22044604925031e-16\n",
       "\\item[49] 2.22044604925031e-16\n",
       "\\item[50] 2.22044604925031e-16\n",
       "\\item[51] 1\n",
       "\\item[52] 1\n",
       "\\item[53] 1\n",
       "\\item[54] 1\n",
       "\\item[55] 1\n",
       "\\item[56] 1\n",
       "\\item[57] 1\n",
       "\\item[58] 0.999999999144556\n",
       "\\item[59] 1\n",
       "\\item[60] 0.999999999998715\n",
       "\\item[61] 1\n",
       "\\item[62] 1\n",
       "\\item[63] 1\n",
       "\\item[64] 1\n",
       "\\item[65] 1\n",
       "\\item[66] 1\n",
       "\\item[67] 1\n",
       "\\item[68] 1\n",
       "\\item[69] 1\n",
       "\\item[70] 1\n",
       "\\item[71] 1\n",
       "\\item[72] 1\n",
       "\\item[73] 1\n",
       "\\item[74] 1\n",
       "\\item[75] 1\n",
       "\\item[76] 1\n",
       "\\item[77] 1\n",
       "\\item[78] 1\n",
       "\\item[79] 1\n",
       "\\item[80] 1\n",
       "\\item[81] 1\n",
       "\\item[82] 1\n",
       "\\item[83] 1\n",
       "\\item[84] 1\n",
       "\\item[85] 0.999999998977491\n",
       "\\item[86] 1\n",
       "\\item[87] 1\n",
       "\\item[88] 1\n",
       "\\item[89] 1\n",
       "\\item[90] 1\n",
       "\\item[91] 1\n",
       "\\item[92] 1\n",
       "\\item[93] 1\n",
       "\\item[94] 1\n",
       "\\item[95] 1\n",
       "\\item[96] 1\n",
       "\\item[97] 1\n",
       "\\item[98] 1\n",
       "\\item[99] 1\n",
       "\\item[100] 1\n",
       "\\end{description*}\n"
      ],
      "text/markdown": [
       "1\n",
       ":   2.22044604925031e-162\n",
       ":   2.22044604925031e-163\n",
       ":   2.22044604925031e-164\n",
       ":   2.22044604925031e-165\n",
       ":   2.22044604925031e-166\n",
       ":   2.22044604925031e-167\n",
       ":   2.22044604925031e-168\n",
       ":   2.22044604925031e-169\n",
       ":   2.22044604925031e-1610\n",
       ":   2.22044604925031e-1611\n",
       ":   2.22044604925031e-1612\n",
       ":   2.22044604925031e-1613\n",
       ":   2.22044604925031e-1614\n",
       ":   2.22044604925031e-1615\n",
       ":   2.22044604925031e-1616\n",
       ":   2.22044604925031e-1617\n",
       ":   2.22044604925031e-1618\n",
       ":   2.22044604925031e-1619\n",
       ":   7.94264732123352e-1320\n",
       ":   2.22044604925031e-1621\n",
       ":   7.2365355113674e-1122\n",
       ":   2.22044604925031e-1623\n",
       ":   2.22044604925031e-1624\n",
       ":   2.22044604925031e-1625\n",
       ":   2.22044604925031e-1626\n",
       ":   2.22044604925031e-1627\n",
       ":   2.22044604925031e-1628\n",
       ":   2.22044604925031e-1629\n",
       ":   2.22044604925031e-1630\n",
       ":   2.22044604925031e-1631\n",
       ":   2.22044604925031e-1632\n",
       ":   7.2365355113674e-1133\n",
       ":   2.22044604925031e-1634\n",
       ":   2.22044604925031e-1635\n",
       ":   2.22044604925031e-1636\n",
       ":   2.22044604925031e-1637\n",
       ":   6.31794371395771e-1038\n",
       ":   2.22044604925031e-1639\n",
       ":   2.22044604925031e-1640\n",
       ":   2.22044604925031e-1641\n",
       ":   2.22044604925031e-1642\n",
       ":   9.0266451369787e-1043\n",
       ":   2.22044604925031e-1644\n",
       ":   2.22044604925031e-1645\n",
       ":   2.22044604925031e-1646\n",
       ":   2.22044604925031e-1647\n",
       ":   2.22044604925031e-1648\n",
       ":   2.22044604925031e-1649\n",
       ":   2.22044604925031e-1650\n",
       ":   2.22044604925031e-1651\n",
       ":   152\n",
       ":   153\n",
       ":   154\n",
       ":   155\n",
       ":   156\n",
       ":   157\n",
       ":   158\n",
       ":   0.99999999914455659\n",
       ":   160\n",
       ":   0.99999999999871561\n",
       ":   162\n",
       ":   163\n",
       ":   164\n",
       ":   165\n",
       ":   166\n",
       ":   167\n",
       ":   168\n",
       ":   169\n",
       ":   170\n",
       ":   171\n",
       ":   172\n",
       ":   173\n",
       ":   174\n",
       ":   175\n",
       ":   176\n",
       ":   177\n",
       ":   178\n",
       ":   179\n",
       ":   180\n",
       ":   181\n",
       ":   182\n",
       ":   183\n",
       ":   184\n",
       ":   185\n",
       ":   0.99999999897749186\n",
       ":   187\n",
       ":   188\n",
       ":   189\n",
       ":   190\n",
       ":   191\n",
       ":   192\n",
       ":   193\n",
       ":   194\n",
       ":   195\n",
       ":   196\n",
       ":   197\n",
       ":   198\n",
       ":   199\n",
       ":   1100\n",
       ":   1\n",
       "\n"
      ],
      "text/plain": [
       "           1            2            3            4            5            6 \n",
       "2.220446e-16 2.220446e-16 2.220446e-16 2.220446e-16 2.220446e-16 2.220446e-16 \n",
       "           7            8            9           10           11           12 \n",
       "2.220446e-16 2.220446e-16 2.220446e-16 2.220446e-16 2.220446e-16 2.220446e-16 \n",
       "          13           14           15           16           17           18 \n",
       "2.220446e-16 2.220446e-16 2.220446e-16 2.220446e-16 2.220446e-16 2.220446e-16 \n",
       "          19           20           21           22           23           24 \n",
       "7.942647e-13 2.220446e-16 7.236536e-11 2.220446e-16 2.220446e-16 2.220446e-16 \n",
       "          25           26           27           28           29           30 \n",
       "2.220446e-16 2.220446e-16 2.220446e-16 2.220446e-16 2.220446e-16 2.220446e-16 \n",
       "          31           32           33           34           35           36 \n",
       "2.220446e-16 7.236536e-11 2.220446e-16 2.220446e-16 2.220446e-16 2.220446e-16 \n",
       "          37           38           39           40           41           42 \n",
       "6.317944e-10 2.220446e-16 2.220446e-16 2.220446e-16 2.220446e-16 9.026645e-10 \n",
       "          43           44           45           46           47           48 \n",
       "2.220446e-16 2.220446e-16 2.220446e-16 2.220446e-16 2.220446e-16 2.220446e-16 \n",
       "          49           50           51           52           53           54 \n",
       "2.220446e-16 2.220446e-16 1.000000e+00 1.000000e+00 1.000000e+00 1.000000e+00 \n",
       "          55           56           57           58           59           60 \n",
       "1.000000e+00 1.000000e+00 1.000000e+00 1.000000e+00 1.000000e+00 1.000000e+00 \n",
       "          61           62           63           64           65           66 \n",
       "1.000000e+00 1.000000e+00 1.000000e+00 1.000000e+00 1.000000e+00 1.000000e+00 \n",
       "          67           68           69           70           71           72 \n",
       "1.000000e+00 1.000000e+00 1.000000e+00 1.000000e+00 1.000000e+00 1.000000e+00 \n",
       "          73           74           75           76           77           78 \n",
       "1.000000e+00 1.000000e+00 1.000000e+00 1.000000e+00 1.000000e+00 1.000000e+00 \n",
       "          79           80           81           82           83           84 \n",
       "1.000000e+00 1.000000e+00 1.000000e+00 1.000000e+00 1.000000e+00 1.000000e+00 \n",
       "          85           86           87           88           89           90 \n",
       "1.000000e+00 1.000000e+00 1.000000e+00 1.000000e+00 1.000000e+00 1.000000e+00 \n",
       "          91           92           93           94           95           96 \n",
       "1.000000e+00 1.000000e+00 1.000000e+00 1.000000e+00 1.000000e+00 1.000000e+00 \n",
       "          97           98           99          100 \n",
       "1.000000e+00 1.000000e+00 1.000000e+00 1.000000e+00 "
      ]
     },
     "metadata": {},
     "output_type": "display_data"
    }
   ],
   "source": [
    "y_pred"
   ]
  },
  {
   "cell_type": "markdown",
   "metadata": {},
   "source": [
    "These are probability values. We need to convert them to the actual factors (setosa & versicolor), because, we are dealing with just 2 classes. We can just use a simple **ifelse ( )** syntax to convert all values > 0.5 to a versicolor and < 0.5 to a setosa."
   ]
  },
  {
   "cell_type": "code",
   "execution_count": 91,
   "metadata": {},
   "outputs": [],
   "source": [
    "y_pred_levels = as.factor(ifelse(y_pred>0.5,\"versicolor\",\"setosa\"))"
   ]
  },
  {
   "cell_type": "code",
   "execution_count": 89,
   "metadata": {
    "collapsed": true,
    "jupyter": {
     "outputs_hidden": true
    }
   },
   "outputs": [
    {
     "data": {
      "text/html": [
       "<style>\n",
       ".dl-inline {width: auto; margin:0; padding: 0}\n",
       ".dl-inline>dt, .dl-inline>dd {float: none; width: auto; display: inline-block}\n",
       ".dl-inline>dt::after {content: \":\\0020\"; padding-right: .5ex}\n",
       ".dl-inline>dt:not(:first-of-type) {padding-left: .5ex}\n",
       "</style><dl class=dl-inline><dt>1</dt><dd>setosa</dd><dt>2</dt><dd>setosa</dd><dt>3</dt><dd>setosa</dd><dt>4</dt><dd>setosa</dd><dt>5</dt><dd>setosa</dd><dt>6</dt><dd>setosa</dd><dt>7</dt><dd>setosa</dd><dt>8</dt><dd>setosa</dd><dt>9</dt><dd>setosa</dd><dt>10</dt><dd>setosa</dd><dt>11</dt><dd>setosa</dd><dt>12</dt><dd>setosa</dd><dt>13</dt><dd>setosa</dd><dt>14</dt><dd>setosa</dd><dt>15</dt><dd>setosa</dd><dt>16</dt><dd>setosa</dd><dt>17</dt><dd>setosa</dd><dt>18</dt><dd>setosa</dd><dt>19</dt><dd>setosa</dd><dt>20</dt><dd>setosa</dd><dt>21</dt><dd>setosa</dd><dt>22</dt><dd>setosa</dd><dt>23</dt><dd>setosa</dd><dt>24</dt><dd>setosa</dd><dt>25</dt><dd>setosa</dd><dt>26</dt><dd>setosa</dd><dt>27</dt><dd>setosa</dd><dt>28</dt><dd>setosa</dd><dt>29</dt><dd>setosa</dd><dt>30</dt><dd>setosa</dd><dt>31</dt><dd>setosa</dd><dt>32</dt><dd>setosa</dd><dt>33</dt><dd>setosa</dd><dt>34</dt><dd>setosa</dd><dt>35</dt><dd>setosa</dd><dt>36</dt><dd>setosa</dd><dt>37</dt><dd>setosa</dd><dt>38</dt><dd>setosa</dd><dt>39</dt><dd>setosa</dd><dt>40</dt><dd>setosa</dd><dt>41</dt><dd>setosa</dd><dt>42</dt><dd>setosa</dd><dt>43</dt><dd>setosa</dd><dt>44</dt><dd>setosa</dd><dt>45</dt><dd>setosa</dd><dt>46</dt><dd>setosa</dd><dt>47</dt><dd>setosa</dd><dt>48</dt><dd>setosa</dd><dt>49</dt><dd>setosa</dd><dt>50</dt><dd>setosa</dd><dt>51</dt><dd>versicolor</dd><dt>52</dt><dd>versicolor</dd><dt>53</dt><dd>versicolor</dd><dt>54</dt><dd>versicolor</dd><dt>55</dt><dd>versicolor</dd><dt>56</dt><dd>versicolor</dd><dt>57</dt><dd>versicolor</dd><dt>58</dt><dd>versicolor</dd><dt>59</dt><dd>versicolor</dd><dt>60</dt><dd>versicolor</dd><dt>61</dt><dd>versicolor</dd><dt>62</dt><dd>versicolor</dd><dt>63</dt><dd>versicolor</dd><dt>64</dt><dd>versicolor</dd><dt>65</dt><dd>versicolor</dd><dt>66</dt><dd>versicolor</dd><dt>67</dt><dd>versicolor</dd><dt>68</dt><dd>versicolor</dd><dt>69</dt><dd>versicolor</dd><dt>70</dt><dd>versicolor</dd><dt>71</dt><dd>versicolor</dd><dt>72</dt><dd>versicolor</dd><dt>73</dt><dd>versicolor</dd><dt>74</dt><dd>versicolor</dd><dt>75</dt><dd>versicolor</dd><dt>76</dt><dd>versicolor</dd><dt>77</dt><dd>versicolor</dd><dt>78</dt><dd>versicolor</dd><dt>79</dt><dd>versicolor</dd><dt>80</dt><dd>versicolor</dd><dt>81</dt><dd>versicolor</dd><dt>82</dt><dd>versicolor</dd><dt>83</dt><dd>versicolor</dd><dt>84</dt><dd>versicolor</dd><dt>85</dt><dd>versicolor</dd><dt>86</dt><dd>versicolor</dd><dt>87</dt><dd>versicolor</dd><dt>88</dt><dd>versicolor</dd><dt>89</dt><dd>versicolor</dd><dt>90</dt><dd>versicolor</dd><dt>91</dt><dd>versicolor</dd><dt>92</dt><dd>versicolor</dd><dt>93</dt><dd>versicolor</dd><dt>94</dt><dd>versicolor</dd><dt>95</dt><dd>versicolor</dd><dt>96</dt><dd>versicolor</dd><dt>97</dt><dd>versicolor</dd><dt>98</dt><dd>versicolor</dd><dt>99</dt><dd>versicolor</dd><dt>100</dt><dd>versicolor</dd></dl>\n",
       "\n",
       "<details>\n",
       "\t<summary style=display:list-item;cursor:pointer>\n",
       "\t\t<strong>Levels</strong>:\n",
       "\t</summary>\n",
       "\t<style>\n",
       "\t.list-inline {list-style: none; margin:0; padding: 0}\n",
       "\t.list-inline>li {display: inline-block}\n",
       "\t.list-inline>li:not(:last-child)::after {content: \"\\00b7\"; padding: 0 .5ex}\n",
       "\t</style>\n",
       "\t<ol class=list-inline><li>'setosa'</li><li>'versicolor'</li></ol>\n",
       "</details>"
      ],
      "text/latex": [
       "\\begin{description*}\n",
       "\\item[1] setosa\n",
       "\\item[2] setosa\n",
       "\\item[3] setosa\n",
       "\\item[4] setosa\n",
       "\\item[5] setosa\n",
       "\\item[6] setosa\n",
       "\\item[7] setosa\n",
       "\\item[8] setosa\n",
       "\\item[9] setosa\n",
       "\\item[10] setosa\n",
       "\\item[11] setosa\n",
       "\\item[12] setosa\n",
       "\\item[13] setosa\n",
       "\\item[14] setosa\n",
       "\\item[15] setosa\n",
       "\\item[16] setosa\n",
       "\\item[17] setosa\n",
       "\\item[18] setosa\n",
       "\\item[19] setosa\n",
       "\\item[20] setosa\n",
       "\\item[21] setosa\n",
       "\\item[22] setosa\n",
       "\\item[23] setosa\n",
       "\\item[24] setosa\n",
       "\\item[25] setosa\n",
       "\\item[26] setosa\n",
       "\\item[27] setosa\n",
       "\\item[28] setosa\n",
       "\\item[29] setosa\n",
       "\\item[30] setosa\n",
       "\\item[31] setosa\n",
       "\\item[32] setosa\n",
       "\\item[33] setosa\n",
       "\\item[34] setosa\n",
       "\\item[35] setosa\n",
       "\\item[36] setosa\n",
       "\\item[37] setosa\n",
       "\\item[38] setosa\n",
       "\\item[39] setosa\n",
       "\\item[40] setosa\n",
       "\\item[41] setosa\n",
       "\\item[42] setosa\n",
       "\\item[43] setosa\n",
       "\\item[44] setosa\n",
       "\\item[45] setosa\n",
       "\\item[46] setosa\n",
       "\\item[47] setosa\n",
       "\\item[48] setosa\n",
       "\\item[49] setosa\n",
       "\\item[50] setosa\n",
       "\\item[51] versicolor\n",
       "\\item[52] versicolor\n",
       "\\item[53] versicolor\n",
       "\\item[54] versicolor\n",
       "\\item[55] versicolor\n",
       "\\item[56] versicolor\n",
       "\\item[57] versicolor\n",
       "\\item[58] versicolor\n",
       "\\item[59] versicolor\n",
       "\\item[60] versicolor\n",
       "\\item[61] versicolor\n",
       "\\item[62] versicolor\n",
       "\\item[63] versicolor\n",
       "\\item[64] versicolor\n",
       "\\item[65] versicolor\n",
       "\\item[66] versicolor\n",
       "\\item[67] versicolor\n",
       "\\item[68] versicolor\n",
       "\\item[69] versicolor\n",
       "\\item[70] versicolor\n",
       "\\item[71] versicolor\n",
       "\\item[72] versicolor\n",
       "\\item[73] versicolor\n",
       "\\item[74] versicolor\n",
       "\\item[75] versicolor\n",
       "\\item[76] versicolor\n",
       "\\item[77] versicolor\n",
       "\\item[78] versicolor\n",
       "\\item[79] versicolor\n",
       "\\item[80] versicolor\n",
       "\\item[81] versicolor\n",
       "\\item[82] versicolor\n",
       "\\item[83] versicolor\n",
       "\\item[84] versicolor\n",
       "\\item[85] versicolor\n",
       "\\item[86] versicolor\n",
       "\\item[87] versicolor\n",
       "\\item[88] versicolor\n",
       "\\item[89] versicolor\n",
       "\\item[90] versicolor\n",
       "\\item[91] versicolor\n",
       "\\item[92] versicolor\n",
       "\\item[93] versicolor\n",
       "\\item[94] versicolor\n",
       "\\item[95] versicolor\n",
       "\\item[96] versicolor\n",
       "\\item[97] versicolor\n",
       "\\item[98] versicolor\n",
       "\\item[99] versicolor\n",
       "\\item[100] versicolor\n",
       "\\end{description*}\n",
       "\n",
       "\\emph{Levels}: \\begin{enumerate*}\n",
       "\\item 'setosa'\n",
       "\\item 'versicolor'\n",
       "\\end{enumerate*}\n"
      ],
      "text/markdown": [
       "1\n",
       ":   setosa2\n",
       ":   setosa3\n",
       ":   setosa4\n",
       ":   setosa5\n",
       ":   setosa6\n",
       ":   setosa7\n",
       ":   setosa8\n",
       ":   setosa9\n",
       ":   setosa10\n",
       ":   setosa11\n",
       ":   setosa12\n",
       ":   setosa13\n",
       ":   setosa14\n",
       ":   setosa15\n",
       ":   setosa16\n",
       ":   setosa17\n",
       ":   setosa18\n",
       ":   setosa19\n",
       ":   setosa20\n",
       ":   setosa21\n",
       ":   setosa22\n",
       ":   setosa23\n",
       ":   setosa24\n",
       ":   setosa25\n",
       ":   setosa26\n",
       ":   setosa27\n",
       ":   setosa28\n",
       ":   setosa29\n",
       ":   setosa30\n",
       ":   setosa31\n",
       ":   setosa32\n",
       ":   setosa33\n",
       ":   setosa34\n",
       ":   setosa35\n",
       ":   setosa36\n",
       ":   setosa37\n",
       ":   setosa38\n",
       ":   setosa39\n",
       ":   setosa40\n",
       ":   setosa41\n",
       ":   setosa42\n",
       ":   setosa43\n",
       ":   setosa44\n",
       ":   setosa45\n",
       ":   setosa46\n",
       ":   setosa47\n",
       ":   setosa48\n",
       ":   setosa49\n",
       ":   setosa50\n",
       ":   setosa51\n",
       ":   versicolor52\n",
       ":   versicolor53\n",
       ":   versicolor54\n",
       ":   versicolor55\n",
       ":   versicolor56\n",
       ":   versicolor57\n",
       ":   versicolor58\n",
       ":   versicolor59\n",
       ":   versicolor60\n",
       ":   versicolor61\n",
       ":   versicolor62\n",
       ":   versicolor63\n",
       ":   versicolor64\n",
       ":   versicolor65\n",
       ":   versicolor66\n",
       ":   versicolor67\n",
       ":   versicolor68\n",
       ":   versicolor69\n",
       ":   versicolor70\n",
       ":   versicolor71\n",
       ":   versicolor72\n",
       ":   versicolor73\n",
       ":   versicolor74\n",
       ":   versicolor75\n",
       ":   versicolor76\n",
       ":   versicolor77\n",
       ":   versicolor78\n",
       ":   versicolor79\n",
       ":   versicolor80\n",
       ":   versicolor81\n",
       ":   versicolor82\n",
       ":   versicolor83\n",
       ":   versicolor84\n",
       ":   versicolor85\n",
       ":   versicolor86\n",
       ":   versicolor87\n",
       ":   versicolor88\n",
       ":   versicolor89\n",
       ":   versicolor90\n",
       ":   versicolor91\n",
       ":   versicolor92\n",
       ":   versicolor93\n",
       ":   versicolor94\n",
       ":   versicolor95\n",
       ":   versicolor96\n",
       ":   versicolor97\n",
       ":   versicolor98\n",
       ":   versicolor99\n",
       ":   versicolor100\n",
       ":   versicolor\n",
       "\n",
       "\n",
       "**Levels**: 1. 'setosa'\n",
       "2. 'versicolor'\n",
       "\n",
       "\n"
      ],
      "text/plain": [
       "         1          2          3          4          5          6          7 \n",
       "    setosa     setosa     setosa     setosa     setosa     setosa     setosa \n",
       "         8          9         10         11         12         13         14 \n",
       "    setosa     setosa     setosa     setosa     setosa     setosa     setosa \n",
       "        15         16         17         18         19         20         21 \n",
       "    setosa     setosa     setosa     setosa     setosa     setosa     setosa \n",
       "        22         23         24         25         26         27         28 \n",
       "    setosa     setosa     setosa     setosa     setosa     setosa     setosa \n",
       "        29         30         31         32         33         34         35 \n",
       "    setosa     setosa     setosa     setosa     setosa     setosa     setosa \n",
       "        36         37         38         39         40         41         42 \n",
       "    setosa     setosa     setosa     setosa     setosa     setosa     setosa \n",
       "        43         44         45         46         47         48         49 \n",
       "    setosa     setosa     setosa     setosa     setosa     setosa     setosa \n",
       "        50         51         52         53         54         55         56 \n",
       "    setosa versicolor versicolor versicolor versicolor versicolor versicolor \n",
       "        57         58         59         60         61         62         63 \n",
       "versicolor versicolor versicolor versicolor versicolor versicolor versicolor \n",
       "        64         65         66         67         68         69         70 \n",
       "versicolor versicolor versicolor versicolor versicolor versicolor versicolor \n",
       "        71         72         73         74         75         76         77 \n",
       "versicolor versicolor versicolor versicolor versicolor versicolor versicolor \n",
       "        78         79         80         81         82         83         84 \n",
       "versicolor versicolor versicolor versicolor versicolor versicolor versicolor \n",
       "        85         86         87         88         89         90         91 \n",
       "versicolor versicolor versicolor versicolor versicolor versicolor versicolor \n",
       "        92         93         94         95         96         97         98 \n",
       "versicolor versicolor versicolor versicolor versicolor versicolor versicolor \n",
       "        99        100 \n",
       "versicolor versicolor \n",
       "Levels: setosa versicolor"
      ]
     },
     "metadata": {},
     "output_type": "display_data"
    }
   ],
   "source": [
    "y_pred_levels"
   ]
  },
  {
   "cell_type": "code",
   "execution_count": 90,
   "metadata": {},
   "outputs": [
    {
     "name": "stderr",
     "output_type": "stream",
     "text": [
      "Warning message in levels(reference) != levels(data):\n",
      "\"longer object length is not a multiple of shorter object length\"\n",
      "Warning message in confusionMatrix.default(y_pred_levels, iris_data[, 5]):\n",
      "\"Levels are not in the same order for reference and data. Refactoring data to match.\"\n"
     ]
    },
    {
     "data": {
      "text/plain": [
       "Confusion Matrix and Statistics\n",
       "\n",
       "            Reference\n",
       "Prediction   setosa versicolor virginica\n",
       "  setosa         50          0         0\n",
       "  versicolor      0         50         0\n",
       "  virginica       0          0         0\n",
       "\n",
       "Overall Statistics\n",
       "                                     \n",
       "               Accuracy : 1          \n",
       "                 95% CI : (0.9638, 1)\n",
       "    No Information Rate : 0.5        \n",
       "    P-Value [Acc > NIR] : < 2.2e-16  \n",
       "                                     \n",
       "                  Kappa : 1          \n",
       "                                     \n",
       " Mcnemar's Test P-Value : NA         \n",
       "\n",
       "Statistics by Class:\n",
       "\n",
       "                     Class: setosa Class: versicolor Class: virginica\n",
       "Sensitivity                    1.0               1.0               NA\n",
       "Specificity                    1.0               1.0                1\n",
       "Pos Pred Value                 1.0               1.0               NA\n",
       "Neg Pred Value                 1.0               1.0               NA\n",
       "Prevalence                     0.5               0.5                0\n",
       "Detection Rate                 0.5               0.5                0\n",
       "Detection Prevalence           0.5               0.5                0\n",
       "Balanced Accuracy              1.0               1.0               NA"
      ]
     },
     "metadata": {},
     "output_type": "display_data"
    }
   ],
   "source": [
    "library(caret)\n",
    "\n",
    "cm = confusionMatrix(y_pred_levels,iris_data[,5])\n",
    "cm"
   ]
  },
  {
   "cell_type": "markdown",
   "metadata": {},
   "source": [
    "<hr>"
   ]
  },
  {
   "cell_type": "markdown",
   "metadata": {},
   "source": [
    "#### Evaluation"
   ]
  },
  {
   "cell_type": "markdown",
   "metadata": {},
   "source": [
    "Let's split up the data into training and test data and model it. This time let's do the full iris dataset. Since there are 3 Species to be predicted, we cannot use glm with a \"binomial\" family algorithm. Let's use another library called **nnet**. As usual, to evaluate categorical target data, we use a confusion matrix. "
   ]
  },
  {
   "cell_type": "code",
   "execution_count": 96,
   "metadata": {},
   "outputs": [],
   "source": [
    "library(nnet)"
   ]
  },
  {
   "cell_type": "code",
   "execution_count": 97,
   "metadata": {},
   "outputs": [],
   "source": [
    "index = sample(1:nrow(iris),nrow(iris)*.6)\n",
    "train = iris[index,]\n",
    "test  = iris[-index,]"
   ]
  },
  {
   "cell_type": "code",
   "execution_count": 102,
   "metadata": {},
   "outputs": [
    {
     "name": "stdout",
     "output_type": "stream",
     "text": [
      "# weights:  18 (10 variable)\n",
      "initial  value 98.875106 \n",
      "iter  10 value 7.527405\n",
      "iter  20 value 4.213464\n",
      "iter  30 value 4.125418\n",
      "iter  40 value 4.003594\n",
      "iter  50 value 3.829428\n",
      "iter  60 value 3.788216\n",
      "iter  70 value 3.701266\n",
      "iter  80 value 3.673134\n",
      "iter  90 value 3.569860\n",
      "iter 100 value 3.560928\n",
      "final  value 3.560928 \n",
      "stopped after 100 iterations\n"
     ]
    }
   ],
   "source": [
    "model = multinom(Species~.,data = train)"
   ]
  },
  {
   "cell_type": "code",
   "execution_count": 103,
   "metadata": {},
   "outputs": [],
   "source": [
    "pred = predict(model,test)"
   ]
  },
  {
   "cell_type": "markdown",
   "metadata": {},
   "source": [
    "As usual, to evaluate categorical target data, we use a confusion matrix. "
   ]
  },
  {
   "cell_type": "code",
   "execution_count": 104,
   "metadata": {},
   "outputs": [
    {
     "data": {
      "text/plain": [
       "Confusion Matrix and Statistics\n",
       "\n",
       "            Reference\n",
       "Prediction   setosa versicolor virginica\n",
       "  setosa         15          0         0\n",
       "  versicolor      1         22         2\n",
       "  virginica       0          1        19\n",
       "\n",
       "Overall Statistics\n",
       "                                         \n",
       "               Accuracy : 0.9333         \n",
       "                 95% CI : (0.838, 0.9815)\n",
       "    No Information Rate : 0.3833         \n",
       "    P-Value [Acc > NIR] : < 2.2e-16      \n",
       "                                         \n",
       "                  Kappa : 0.8985         \n",
       "                                         \n",
       " Mcnemar's Test P-Value : NA             \n",
       "\n",
       "Statistics by Class:\n",
       "\n",
       "                     Class: setosa Class: versicolor Class: virginica\n",
       "Sensitivity                 0.9375            0.9565           0.9048\n",
       "Specificity                 1.0000            0.9189           0.9744\n",
       "Pos Pred Value              1.0000            0.8800           0.9500\n",
       "Neg Pred Value              0.9778            0.9714           0.9500\n",
       "Prevalence                  0.2667            0.3833           0.3500\n",
       "Detection Rate              0.2500            0.3667           0.3167\n",
       "Detection Prevalence        0.2500            0.4167           0.3333\n",
       "Balanced Accuracy           0.9688            0.9377           0.9396"
      ]
     },
     "metadata": {},
     "output_type": "display_data"
    }
   ],
   "source": [
    "library(e1071)\n",
    "\n",
    "cm = confusionMatrix(pred, as.factor(test$Species))\n",
    "cm"
   ]
  },
  {
   "cell_type": "markdown",
   "metadata": {},
   "source": [
    "That's a 84% score. "
   ]
  },
  {
   "cell_type": "markdown",
   "metadata": {},
   "source": [
    "<hr>"
   ]
  },
  {
   "cell_type": "markdown",
   "metadata": {},
   "source": [
    "### Optimization"
   ]
  },
  {
   "cell_type": "markdown",
   "metadata": {},
   "source": [
    "Let's plot the logistic regression curve for the test data set."
   ]
  },
  {
   "cell_type": "markdown",
   "metadata": {},
   "source": [
    "<img src=\"./pics/tp-fp.png\"/>"
   ]
  },
  {
   "cell_type": "markdown",
   "metadata": {},
   "source": [
    "As you can see, still there are quite a bit of mis-classifications. All the **false negatives** and **false positives** in the plot above are examples of mis-classification. Irrespective of the algorithm used to calculate the fit, there is only so much that can be done in increasing the classification accuracy given the data as-is. \n",
    "\n",
    "However, there is a specific optimization that can be done - and that is to specifically increase accuracy of one segment of the confusion matrix at the expense of the other segments. For example, if you look at a visual of the confusion matrix for our dataset."
   ]
  },
  {
   "cell_type": "markdown",
   "metadata": {},
   "source": [
    "<img src=\"./pics/confusion-matrix-visual.png\"/>"
   ]
  },
  {
   "cell_type": "markdown",
   "metadata": {},
   "source": [
    "For this dataset, classifying the species as \"setosa\" is positive and \"versi-color\" as negative.\n",
    "\n",
    "- setosa - positive\n",
    "- versi-color - negative"
   ]
  },
  {
   "cell_type": "markdown",
   "metadata": {},
   "source": [
    "Let's actuall calculate the accuracy values. Say the confusion matrix looks like this."
   ]
  },
  {
   "cell_type": "raw",
   "metadata": {},
   "source": [
    "[[11  1]\n",
    " [ 1 12]]"
   ]
  },
  {
   "cell_type": "code",
   "execution_count": 109,
   "metadata": {},
   "outputs": [
    {
     "name": "stdout",
     "output_type": "stream",
     "text": [
      "True Positive =  0.9166667 \n",
      "False Positive =  0.08333333 \n",
      "True Negative =  0.9230769 \n",
      "False Negative =  0.07692308 \n"
     ]
    }
   ],
   "source": [
    "tp = (11) / (11 + 1)\n",
    "fp = (1)  / (11 + 1)\n",
    "fn = (1)  / (1 + 12)\n",
    "tn = (12) / (12 + 1)\n",
    "\n",
    "cat (\"True Positive = \", tp, \"\\n\")\n",
    "cat (\"False Positive = \", fp, \"\\n\")\n",
    "cat (\"True Negative = \", tn, \"\\n\")\n",
    "cat (\"False Negative = \", fn, \"\\n\")"
   ]
  },
  {
   "cell_type": "markdown",
   "metadata": {},
   "source": [
    "<img src=\"./pics/confusion-matrix-probabilities.png\"/>"
   ]
  },
  {
   "cell_type": "markdown",
   "metadata": {},
   "source": [
    "What if we want to predict 100% of setosa ( or a much more accurate classification than 0.9 ). Of course, like we discussed earlier, it will come at a cost. However, there is a usecase for this scenario. For example, if getting a particular classification right is extremely important, then we focus more on that particular classification than the others. Have you seen the Brad Pitt's movie \"World War Z\" ? A plague emerges all around the world and an asylum is set up in Israel with a high wall. However, when you enter the wall, they make absolutely sure that you do not have the plague. Say, if you have the plague and if you call that as positive, then essentially you maximize the green box in the picture above.\n",
    "\n",
    "Or another example would be, if you were to diagonize cancer patients, you would rather want to increase the odds of predicting a cancer patient if he/she really has it (True positive). Even it it comes at a cost of wrongly classifying a non-cancer patient as positive ( false positive ). The former can save a life while the later will just cost the company a patient. "
   ]
  },
  {
   "cell_type": "markdown",
   "metadata": {},
   "source": [
    "Unfortunately, there is no such parameter that we can pass to the **LogisticRegression** object. However, it does help us with the probabilities that is has predicted."
   ]
  },
  {
   "cell_type": "code",
   "execution_count": 28,
   "metadata": {},
   "outputs": [],
   "source": [
    "p = model.predict_proba(X_test[:,0].reshape(-1,1))\n",
    "p = p[:,1]"
   ]
  },
  {
   "cell_type": "markdown",
   "metadata": {},
   "source": [
    "Once we have the probabilities, we can set a new threshold and say that all values above a particular probability value be set to 1 and all others (below that value) be set to 0. "
   ]
  },
  {
   "cell_type": "code",
   "execution_count": 29,
   "metadata": {},
   "outputs": [],
   "source": [
    "from sklearn.preprocessing import Binarizer\n",
    "\n",
    "b = Binarizer(0.47)\n",
    "new_classification = b.fit_transform(p.reshape(-1,1))"
   ]
  },
  {
   "cell_type": "markdown",
   "metadata": {},
   "source": [
    "Here is the old confusion matrix. "
   ]
  },
  {
   "cell_type": "code",
   "execution_count": 30,
   "metadata": {},
   "outputs": [
    {
     "name": "stdout",
     "output_type": "stream",
     "text": [
      "[[11  1]\n",
      " [ 1 12]]\n",
      "True Positive =  0.9166666666666666\n",
      "False Positive =  0.08333333333333333\n",
      "True Negative =  0.07692307692307693\n",
      "False Negative =  0.9230769230769231\n"
     ]
    }
   ],
   "source": [
    "cm = confusion_matrix(y_test, y_predict)\n",
    "print ( cm )\n",
    "\n",
    "tp = float(cm[0,0]) / float(cm[0,0] + cm[1,0])\n",
    "fp = float(cm[1,0]) / float(cm[0,0] + cm[1,0])\n",
    "tn = float(cm[0,1]) / float(cm[0,1] + cm[1,1])\n",
    "fn = float(cm[1,1]) / float(cm[1,1] + cm[0,1])\n",
    "\n",
    "print (\"True Positive = \", tp)\n",
    "print (\"False Positive = \", fp)\n",
    "print (\"True Negative = \", tn)\n",
    "print (\"False Negative = \", fn)"
   ]
  },
  {
   "cell_type": "markdown",
   "metadata": {},
   "source": [
    "And here is the new confusion matrix with the transformed threshold values."
   ]
  },
  {
   "cell_type": "code",
   "execution_count": 31,
   "metadata": {},
   "outputs": [
    {
     "name": "stdout",
     "output_type": "stream",
     "text": [
      "[[ 5  7]\n",
      " [ 0 13]]\n",
      "True Positive =  1.0\n",
      "False Positive =  0.0\n",
      "True Negative =  0.35\n",
      "False Negative =  0.65\n"
     ]
    }
   ],
   "source": [
    "new_cm = confusion_matrix(y_test, new_classification)\n",
    "print ( new_cm )\n",
    "cm = new_cm \n",
    "\n",
    "tp = float(cm[0,0]) / float(cm[0,0] + cm[1,0])\n",
    "fp = float(cm[1,0]) / float(cm[0,0] + cm[1,0])\n",
    "tn = float(cm[0,1]) / float(cm[0,1] + cm[1,1])\n",
    "fn = float(cm[1,1]) / float(cm[1,1] + cm[0,1])\n",
    "\n",
    "print (\"True Positive = \", tp)\n",
    "print (\"False Positive = \", fp)\n",
    "print (\"True Negative = \", tn)\n",
    "print (\"False Negative = \", fn)"
   ]
  },
  {
   "cell_type": "markdown",
   "metadata": {},
   "source": [
    "<img src=\"./pics/confusion_matrix_after_new_threshold.png\"/>"
   ]
  },
  {
   "cell_type": "markdown",
   "metadata": {},
   "source": [
    "We are able to increase the \"setosa\" species much more predictably. Of course, the threshold value for cut-off should have to be decided in a much more robust way ( after a bit of trail and error ) based on many more sets of training/test sets rather than just one. You should be able to do it using a wrapper program that repeatedly does the split, modeling and optimization until you find the best threshold that most accurately predicts the true positive."
   ]
  },
  {
   "cell_type": "markdown",
   "metadata": {},
   "source": [
    "<hr>"
   ]
  },
  {
   "cell_type": "markdown",
   "metadata": {},
   "source": [
    "### Evaluation"
   ]
  },
  {
   "cell_type": "markdown",
   "metadata": {},
   "source": [
    "#### ROC Curve"
   ]
  },
  {
   "cell_type": "markdown",
   "metadata": {},
   "source": [
    "Receiver Operating Characteristics - also called ROC Curve is a measure of how good the classification is. Scikit Learn has an easy way to create ROC curve and calculate the area under the ROC curve. First off, let's start with a classifier like Logistic Regression and let it predict all the probabilities (thresholds). "
   ]
  },
  {
   "cell_type": "markdown",
   "metadata": {},
   "source": [
    "**Step 1** - Get the data"
   ]
  },
  {
   "cell_type": "code",
   "execution_count": 12,
   "metadata": {},
   "outputs": [],
   "source": [
    "from sklearn import datasets\n",
    "\n",
    "iris = datasets.load_iris()\n",
    "\n",
    "# Get only the setosa and versicolor data\n",
    "iris_data = iris.data[0:100,:]\n",
    "iris_target = iris.target[0:100]"
   ]
  },
  {
   "cell_type": "markdown",
   "metadata": {},
   "source": [
    "**Step 2** - Model the data using a classifier"
   ]
  },
  {
   "cell_type": "code",
   "execution_count": 32,
   "metadata": {},
   "outputs": [
    {
     "data": {
      "text/plain": [
       "LogisticRegression(C=100000.0, class_weight=None, dual=False,\n",
       "          fit_intercept=True, intercept_scaling=1, max_iter=100,\n",
       "          multi_class='warn', n_jobs=None, penalty='l2', random_state=None,\n",
       "          solver='lbfgs', tol=0.0001, verbose=0, warm_start=False)"
      ]
     },
     "execution_count": 32,
     "metadata": {},
     "output_type": "execute_result"
    }
   ],
   "source": [
    "# split the data into train and test datasets\n",
    "from sklearn.model_selection import train_test_split\n",
    "\n",
    "X_train, X_test, y_train, y_test = train_test_split (iris_data[:,0], iris_target)\n",
    "\n",
    "# Model the data using Logistic Regression\n",
    "from sklearn import linear_model\n",
    "\n",
    "model = linear_model.LogisticRegression(C=1e5, solver='lbfgs')\n",
    "model.fit(iris_data[:,0].reshape(-1,1), iris_target)"
   ]
  },
  {
   "cell_type": "markdown",
   "metadata": {},
   "source": [
    "**Step 3** - Use *roc_curve* function to create the True Positive Rate and False positive Rate."
   ]
  },
  {
   "cell_type": "code",
   "execution_count": 15,
   "metadata": {},
   "outputs": [],
   "source": [
    "from sklearn.metrics import roc_curve, auc\n",
    "\n",
    "probabilities = model.predict_proba(X_test.reshape(-1,1))[:,1]\n",
    "fpr, tpr, thresholds = roc_curve(y_test, probabilities)"
   ]
  },
  {
   "cell_type": "markdown",
   "metadata": {},
   "source": [
    "**Step 4** - Plot the ROC curve"
   ]
  },
  {
   "cell_type": "code",
   "execution_count": 27,
   "metadata": {},
   "outputs": [
    {
     "data": {
      "text/plain": [
       "Text(0.3, 0.8, 'ROC Curve')"
      ]
     },
     "execution_count": 27,
     "metadata": {},
     "output_type": "execute_result"
    },
    {
     "data": {
      "image/png": "[encoded data removed]",
      "text/plain": [
       "<Figure size 432x288 with 1 Axes>"
      ]
     },
     "metadata": {
      "needs_background": "light"
     },
     "output_type": "display_data"
    }
   ],
   "source": [
    "import matplotlib.pyplot as plt\n",
    "%matplotlib inline\n",
    "\n",
    "plt.plot(fpr,tpr)\n",
    "plt.plot([0,1],[0,1],color=\"black\",linestyle=\"--\")\n",
    "\n",
    "plt.xlabel(\"False Positive Rate - FPR\")\n",
    "plt.ylabel(\"True Positive Rate - TPR \")\n",
    "plt.title(\"Receiver Operating Characteristics - ROC Curve\")\n",
    "plt.text(0.6,0.5,\"Baseline\")\n",
    "plt.text(0.3,0.8,\"ROC Curve\")"
   ]
  },
  {
   "cell_type": "markdown",
   "metadata": {},
   "source": [
    "**Step 5** - Calculate _Area under the Curve_"
   ]
  },
  {
   "cell_type": "code",
   "execution_count": 31,
   "metadata": {},
   "outputs": [
    {
     "data": {
      "text/plain": [
       "0.9097222222222223"
      ]
     },
     "execution_count": 31,
     "metadata": {},
     "output_type": "execute_result"
    }
   ],
   "source": [
    "from sklearn.metrics import roc_auc_score\n",
    "\n",
    "roc_auc_score(y_test, probabilities)"
   ]
  },
  {
   "cell_type": "markdown",
   "metadata": {},
   "source": [
    "### Reference"
   ]
  },
  {
   "cell_type": "markdown",
   "metadata": {},
   "source": [
    "- <a href=\"https://scikit-learn.org/stable/modules/linear_model.html#logistic-regression\"> Scikit Learn Implementation details of Logistic Regression </a>\n",
    "\n",
    "- <a href=\"https://ajaytech.co/roc-curve\"> Receiver Operating Characteristics (ROC) Curve from scratch </a>"
   ]
  },
  {
   "cell_type": "code",
   "execution_count": null,
   "metadata": {},
   "outputs": [],
   "source": []
  }
 ],
 "metadata": {
  "kernelspec": {
   "display_name": "R",
   "language": "R",
   "name": "ir"
  },
  "language_info": {
   "codemirror_mode": "r",
   "file_extension": ".r",
   "mimetype": "text/x-r-source",
   "name": "R",
   "pygments_lexer": "r",
   "version": "3.6.2"
  }
 },
 "nbformat": 4,
 "nbformat_minor": 4
}
