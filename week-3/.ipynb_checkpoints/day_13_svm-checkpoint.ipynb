{
 "cells": [
  {
   "cell_type": "markdown",
   "metadata": {},
   "source": [
    "Notebook is copyright &copy; of <a href=\"https://ajaytech.co\">Ajay Tech</a>"
   ]
  },
  {
   "cell_type": "markdown",
   "metadata": {},
   "source": [
    "# Support Vector Machines"
   ]
  },
  {
   "cell_type": "markdown",
   "metadata": {},
   "source": [
    "## Contents"
   ]
  },
  {
   "cell_type": "markdown",
   "metadata": {},
   "source": [
    "- What is SVM\n",
    "- Support Vectors\n",
    "- Kernels\n",
    "- Hyperplane\n",
    "- Performance Tuning\n",
    "  - Cost\n",
    "  - kernel\n",
    "  - gamma\n",
    "- SVM for Regression"
   ]
  },
  {
   "cell_type": "markdown",
   "metadata": {},
   "source": [
    "<hr>"
   ]
  },
  {
   "cell_type": "markdown",
   "metadata": {},
   "source": [
    "The name sounds very complicated - and true to its name, the concept is a bit involved ( in terms of its math ). Luckily, the implementation of the algorithm (either in R or in Python) takes care of all the complexity for us. So, all we have to focus is on the basic concepts, what it can do for us and some of the tuning parameters. Let's get straight into it. \n"
   ]
  },
  {
   "cell_type": "markdown",
   "metadata": {},
   "source": [
    "<hr>"
   ]
  },
  {
   "cell_type": "markdown",
   "metadata": {},
   "source": [
    "### What is SVM"
   ]
  },
  {
   "cell_type": "markdown",
   "metadata": {},
   "source": [
    "Let's try and understand SVM from a layman's perspective. Imagine two Domino's Franchises in a city - Say one is in zip code 98001 and the other is in 98201. Say these are the only franchises across all the zip codes starting 98001 to 98300. Practically, I don't think you can \"not find\" a Domino's shop across such large distance, but just play along for a bit.\n",
    "\n"
   ]
  },
  {
   "cell_type": "markdown",
   "metadata": {},
   "source": [
    "<img src=\"./pics/svm_classification_zip_codes_1.jpg\"/>"
   ]
  },
  {
   "cell_type": "markdown",
   "metadata": {},
   "source": [
    "If a call came in from a zip code say 98002, probably the call should be routed to Franchise 1. Why ? proximity to 98001 zip code. Similarly, if a call came in from the zip code 98202, it should be routed to Franchise 2 - again distance is the key. Essentially, this is how KNN works, right ? If you have not learn't K Nearest Neighbor ( KNN ) , I suggest you learn KNN in R before you proceed further. If you insist on not doing it, that's fine too.\n"
   ]
  },
  {
   "cell_type": "markdown",
   "metadata": {},
   "source": [
    "What is SVM trying to solve that KNN isn't ? Well, they can solve the same problems, probably with the same level of accuracy ( depending on the dataset ), but they take very different approaches. For example,\n",
    "\n"
   ]
  },
  {
   "cell_type": "markdown",
   "metadata": {},
   "source": [
    "- KNN is a lazy learning algorithm. Meaning - based on the training data, KNN does not determine any parameters. It just uses the data at run time ( when you start giving it the test data ) by computing distances on the training data on the fly. This is time consuming.\n",
    "- While computing the distances and sorting them, performance is an issue - especially on a large dataset ( Sorting large dataset is mathematically performance intensive )\n",
    "- KNN is very sensitive to outliers.\n",
    "- In higher dimensions ( more predictors ), KNN suffers from performance and accuracy issues.\n"
   ]
  },
  {
   "cell_type": "markdown",
   "metadata": {},
   "source": [
    "<hr>"
   ]
  },
  {
   "cell_type": "markdown",
   "metadata": {},
   "source": [
    "#### SVM is eager leaning (not lazy learning)"
   ]
  },
  {
   "cell_type": "markdown",
   "metadata": {},
   "source": [
    "Unlike KNN which is a lazy learning algorithm, SVM actually LEARNS from the training data and can instantly give answers to the test data. Let's look at the pizza problem.\n",
    "\n"
   ]
  },
  {
   "cell_type": "markdown",
   "metadata": {},
   "source": [
    "<img src=\"./pics/svm_classification_franchise_2.jpg\"/>"
   ]
  },
  {
   "cell_type": "markdown",
   "metadata": {},
   "source": [
    "What we want to do here is essentially draw a line and say that all zip codes to the top should be routed from Franchise 1 and all zip codes to the bottom should be routed from Franchise 2. This is unlike KNN where the distances are calculated on the fly. In SVM, we are somehow able to draw a line and once that is done, no more distance calculation and sorting are required. But, how does SVM draw the line ? Based on distances of course, but unlike KNN, SVM uses the training data to determine parameters and remember those parameters ( In this case the straight line )\n"
   ]
  },
  {
   "cell_type": "markdown",
   "metadata": {},
   "source": [
    "<img src=\"./pics/hyperplane_svm.jpg\"/>"
   ]
  },
  {
   "cell_type": "markdown",
   "metadata": {},
   "source": [
    "This line is basically based off of \"centering\" itself between the closest points on either side. Let's take the iris dataset and code this to get a better picture.\n"
   ]
  },
  {
   "cell_type": "markdown",
   "metadata": {},
   "source": [
    "<hr>"
   ]
  },
  {
   "cell_type": "markdown",
   "metadata": {},
   "source": [
    "### Case 1 - Linear separation possible in 2D"
   ]
  },
  {
   "cell_type": "markdown",
   "metadata": {},
   "source": [
    "As you should know by now, the iris dataset comprises of 4 predictors and 1 response variable. Here is a sample. Just to simplify things, let's drop the 3rd and 4th columns ( Petals ) and just focus on Sepals. Let's make this more simple, by removing one of the species in the bottom half of the picture."
   ]
  },
  {
   "cell_type": "code",
   "execution_count": 12,
   "metadata": {},
   "outputs": [],
   "source": [
    "iris_sepal = iris[1:100,c(1,2,5)]"
   ]
  },
  {
   "cell_type": "markdown",
   "metadata": {},
   "source": [
    "If we plot this, we should be clearly able to separate the setosa species from the others based on a simple straight line.\n",
    "\n"
   ]
  },
  {
   "cell_type": "code",
   "execution_count": 13,
   "metadata": {},
   "outputs": [
    {
     "data": {
      "image/png": "[encoded data removed]",
      "text/plain": [
       "plot without title"
      ]
     },
     "metadata": {
      "image/png": {
       "height": 420,
       "width": 420
      },
      "text/plain": {
       "height": 420,
       "width": 420
      }
     },
     "output_type": "display_data"
    }
   ],
   "source": [
    "plot ( iris_sepal$Sepal.Length, iris_sepal$Sepal.Width, \n",
    "       col = iris_sepal$Species,\n",
    "       pch = 19)\n",
    "lines ( c(4.5,6.5),c(2.2,4.5) , col = \"orange\", lty = 1, lwd = 5)\n"
   ]
  },
  {
   "cell_type": "markdown",
   "metadata": {},
   "source": [
    "This is very much similar to the pizza example - right ? Let't fit this with **svm**.\n",
    "\n"
   ]
  },
  {
   "cell_type": "code",
   "execution_count": 15,
   "metadata": {},
   "outputs": [],
   "source": [
    "library(e1071)\n",
    "model = svm ( Species ~ Sepal.Length + Sepal.Width , data = iris_sepal)"
   ]
  },
  {
   "cell_type": "code",
   "execution_count": 17,
   "metadata": {},
   "outputs": [],
   "source": [
    "y_pred  = predict(model, iris_sepal)"
   ]
  },
  {
   "cell_type": "code",
   "execution_count": 19,
   "metadata": {},
   "outputs": [
    {
     "data": {
      "text/plain": [
       "Confusion Matrix and Statistics\n",
       "\n",
       "            Reference\n",
       "Prediction   setosa versicolor virginica\n",
       "  setosa         49          0         0\n",
       "  versicolor      1         50         0\n",
       "  virginica       0          0         0\n",
       "\n",
       "Overall Statistics\n",
       "                                          \n",
       "               Accuracy : 0.99            \n",
       "                 95% CI : (0.9455, 0.9997)\n",
       "    No Information Rate : 0.5             \n",
       "    P-Value [Acc > NIR] : < 2.2e-16       \n",
       "                                          \n",
       "                  Kappa : 0.98            \n",
       "                                          \n",
       " Mcnemar's Test P-Value : NA              \n",
       "\n",
       "Statistics by Class:\n",
       "\n",
       "                     Class: setosa Class: versicolor Class: virginica\n",
       "Sensitivity                 0.9800            1.0000               NA\n",
       "Specificity                 1.0000            0.9800                1\n",
       "Pos Pred Value              1.0000            0.9804               NA\n",
       "Neg Pred Value              0.9804            1.0000               NA\n",
       "Prevalence                  0.5000            0.5000                0\n",
       "Detection Rate              0.4900            0.5000                0\n",
       "Detection Prevalence        0.4900            0.5100                0\n",
       "Balanced Accuracy           0.9900            0.9900               NA"
      ]
     },
     "metadata": {},
     "output_type": "display_data"
    }
   ],
   "source": [
    "library(caret)\n",
    "\n",
    "cm = confusionMatrix(y_pred,iris_sepal$Species)\n",
    "cm"
   ]
  },
  {
   "cell_type": "markdown",
   "metadata": {},
   "source": [
    "That's a 100% accuracy which is to be expected anyway (as we can visually see a straight line clearly separating the data points)."
   ]
  },
  {
   "cell_type": "code",
   "execution_count": 25,
   "metadata": {},
   "outputs": [
    {
     "data": {
      "text/html": [
       "<style>\n",
       ".list-inline {list-style: none; margin:0; padding: 0}\n",
       ".list-inline>li {display: inline-block}\n",
       ".list-inline>li:not(:last-child)::after {content: \"\\00b7\"; padding: 0 .5ex}\n",
       "</style>\n",
       "<ol class=list-inline><li>2</li><li>9</li><li>15</li><li>16</li><li>21</li><li>26</li><li>32</li><li>37</li><li>42</li><li>46</li><li>51</li><li>58</li><li>60</li><li>61</li><li>69</li><li>71</li><li>85</li><li>86</li><li>89</li></ol>\n"
      ],
      "text/latex": [
       "\\begin{enumerate*}\n",
       "\\item 2\n",
       "\\item 9\n",
       "\\item 15\n",
       "\\item 16\n",
       "\\item 21\n",
       "\\item 26\n",
       "\\item 32\n",
       "\\item 37\n",
       "\\item 42\n",
       "\\item 46\n",
       "\\item 51\n",
       "\\item 58\n",
       "\\item 60\n",
       "\\item 61\n",
       "\\item 69\n",
       "\\item 71\n",
       "\\item 85\n",
       "\\item 86\n",
       "\\item 89\n",
       "\\end{enumerate*}\n"
      ],
      "text/markdown": [
       "1. 2\n",
       "2. 9\n",
       "3. 15\n",
       "4. 16\n",
       "5. 21\n",
       "6. 26\n",
       "7. 32\n",
       "8. 37\n",
       "9. 42\n",
       "10. 46\n",
       "11. 51\n",
       "12. 58\n",
       "13. 60\n",
       "14. 61\n",
       "15. 69\n",
       "16. 71\n",
       "17. 85\n",
       "18. 86\n",
       "19. 89\n",
       "\n",
       "\n"
      ],
      "text/plain": [
       " [1]  2  9 15 16 21 26 32 37 42 46 51 58 60 61 69 71 85 86 89"
      ]
     },
     "metadata": {},
     "output_type": "display_data"
    }
   ],
   "source": [
    "model$index"
   ]
  },
  {
   "cell_type": "code",
   "execution_count": 27,
   "metadata": {},
   "outputs": [
    {
     "data": {
      "image/png": "[encoded data removed]",
      "text/plain": [
       "plot without title"
      ]
     },
     "metadata": {
      "image/png": {
       "height": 420,
       "width": 420
      },
      "text/plain": {
       "height": 420,
       "width": 420
      }
     },
     "output_type": "display_data"
    }
   ],
   "source": [
    "plot ( iris_sepal$Sepal.Length, iris_sepal$Sepal.Width, \n",
    "       col = iris_sepal$Species,\n",
    "       pch = 19)\n",
    "lines ( c(4.5,6.5),c(2.2,4.5) , col = \"orange\", lty = 1, lwd = 5)\n",
    "\n",
    "points ( iris_sepal[model$index, 1], iris_sepal[model$index, 2], pch = 8, col = \"purple\")\n"
   ]
  },
  {
   "cell_type": "markdown",
   "metadata": {},
   "source": [
    "Ths straight line is basically centering itself based on the points that the kernel has identified as **support vectors** - shown in the plot above with **+** marks."
   ]
  },
  {
   "cell_type": "code",
   "execution_count": 30,
   "metadata": {},
   "outputs": [
    {
     "data": {
      "text/html": [
       "2"
      ],
      "text/latex": [
       "2"
      ],
      "text/markdown": [
       "2"
      ],
      "text/plain": [
       "[1] 2"
      ]
     },
     "metadata": {},
     "output_type": "display_data"
    }
   ],
   "source": [
    "model$kernel\n",
    "\n",
    "# 1 - Linear Kernel\n",
    "# 2 - Polynomial Kernel\n",
    "# 3 - Radial Basis Kernel\n",
    "# 4 - Sigmoid Kernel"
   ]
  },
  {
   "cell_type": "markdown",
   "metadata": {},
   "source": [
    "<hr>"
   ]
  },
  {
   "cell_type": "markdown",
   "metadata": {},
   "source": [
    "### Case 2 - Clear Linear Separation not possible in 2D"
   ]
  },
  {
   "cell_type": "markdown",
   "metadata": {},
   "source": [
    "The previous example was very simple. Let's take a more complicated example. One where SVM shines.\n",
    "\n"
   ]
  },
  {
   "cell_type": "markdown",
   "metadata": {},
   "source": [
    "<img src=\"./pics/svm_urban-sub-urban.jpg\"/>"
   ]
  },
  {
   "cell_type": "markdown",
   "metadata": {},
   "source": [
    "Say each point is identified by a GPS location. Now, given a new location, can you classify it as urban or sub-urban ? Of course, you can use KNN for this. However, there is going to be a bit of an overlap - and of course the issues that we discussed earlier. SVM could potentially be an alternative.Let's see how.\n",
    "\n"
   ]
  },
  {
   "cell_type": "markdown",
   "metadata": {},
   "source": [
    "Of course in this case linear modeling does not work - for the simple reason that the boundary is non-linear. So, how does SVM solve the problem ? Here goes.. Don't be scared.\n",
    "\n"
   ]
  },
  {
   "cell_type": "markdown",
   "metadata": {},
   "source": [
    "> SVM projects the data into higher dimensional space to achieve linear separation. SVM essentially converts a non-linearly separable space into linearly separable space. "
   ]
  },
  {
   "cell_type": "markdown",
   "metadata": {},
   "source": [
    "I know, that's a lot to grasp. Let's break it down visually."
   ]
  },
  {
   "cell_type": "markdown",
   "metadata": {},
   "source": [
    "Let's imagine an A4 sheet of paper. and start to pull the corners of the paper upward. Imagine all the GPS data points on the A4 sheet of paper. and when we pull the corners upward and look at the whole paper sideways, what you see is a visual like this."
   ]
  },
  {
   "cell_type": "markdown",
   "metadata": {},
   "source": [
    "<img src=\"./pics/svm_project_into_higher_dimensions.jpg\"/>"
   ]
  },
  {
   "cell_type": "markdown",
   "metadata": {},
   "source": [
    "The corners are being pulled in the \"z\" direction. The urban homes are in the center of the paper and the sub-urban homes are on the edges. Since you are pulling the edges on the z-axis, the sub-urban homes are higher up on the z axis than the urban homes.\n",
    "\n"
   ]
  },
  {
   "cell_type": "markdown",
   "metadata": {},
   "source": [
    "<img src=\"./pics/pull_corners_a4-Paper.jpg\"/>"
   ]
  },
  {
   "cell_type": "markdown",
   "metadata": {},
   "source": [
    "<img src=\"./pics/svm_data_points_center_edges.jpg\"/>"
   ]
  },
  {
   "cell_type": "markdown",
   "metadata": {},
   "source": [
    "Now, we can just draw a plan that clearly separates the sub-urban homes from the urban homes as shown below.\n",
    "\n"
   ]
  },
  {
   "cell_type": "markdown",
   "metadata": {},
   "source": [
    "<img src=\"./pics/svm_hyperplane.jpg\"/>"
   ]
  },
  {
   "cell_type": "markdown",
   "metadata": {},
   "source": [
    "If you look at this picture from the top ( looking in the z-axis direction from the top ), you would be able to visualize a picture like this.\n",
    "\n"
   ]
  },
  {
   "cell_type": "markdown",
   "metadata": {},
   "source": [
    "What is more important is the nature of the plane. Although the separating boundary between the points is a jagged circle, the separating plane is just a square plane that achieves linear separation between the two datasets based on the z- distance. Essentially, a non-linearly separable problem just became linearly separable ( in the z-axis ) by projecting the points into the 3rd dimension ( z-axis ). This is called as a Hyper plane - which we are going to talk about next.\n",
    "\n"
   ]
  },
  {
   "cell_type": "markdown",
   "metadata": {},
   "source": [
    "<hr>"
   ]
  },
  {
   "cell_type": "markdown",
   "metadata": {},
   "source": [
    "#### Significant overlap in the 2D space"
   ]
  },
  {
   "cell_type": "markdown",
   "metadata": {},
   "source": [
    "Some times even if we project the data into a 3rd dimension ( or higher dimension ) there might not be a clear separation of data. We can very well see it in our simple iris datase for the other species - Virginica and Versicolor - These are very interspersed.\n",
    "\n"
   ]
  },
  {
   "cell_type": "code",
   "execution_count": 42,
   "metadata": {},
   "outputs": [
    {
     "data": {
      "image/png": "[encoded data removed]",
      "text/plain": [
       "plot without title"
      ]
     },
     "metadata": {
      "image/png": {
       "height": 420,
       "width": 420
      },
      "text/plain": {
       "height": 420,
       "width": 420
      }
     },
     "output_type": "display_data"
    }
   ],
   "source": [
    "iris_sepal = iris[51:150,]\n",
    "plot ( iris_sepal$Sepal.Length, iris_sepal$Sepal.Width, \n",
    "       col = iris_sepal$Species,\n",
    "       pch = 19)"
   ]
  },
  {
   "cell_type": "markdown",
   "metadata": {},
   "source": [
    "SVM will still be able to do a decent job with the separation. Let's code it.\n",
    "\n"
   ]
  },
  {
   "cell_type": "code",
   "execution_count": 36,
   "metadata": {},
   "outputs": [],
   "source": [
    "library(e1071)\n",
    "model = svm ( Species ~ Sepal.Length + Sepal.Width , data = iris_sepal)"
   ]
  },
  {
   "cell_type": "code",
   "execution_count": 37,
   "metadata": {},
   "outputs": [],
   "source": [
    "y_pred  = predict(model, iris_sepal)"
   ]
  },
  {
   "cell_type": "code",
   "execution_count": 38,
   "metadata": {},
   "outputs": [
    {
     "data": {
      "text/plain": [
       "Confusion Matrix and Statistics\n",
       "\n",
       "            Reference\n",
       "Prediction   setosa versicolor virginica\n",
       "  setosa          0          0         0\n",
       "  versicolor      0         34        10\n",
       "  virginica       0         16        40\n",
       "\n",
       "Overall Statistics\n",
       "                                          \n",
       "               Accuracy : 0.74            \n",
       "                 95% CI : (0.6427, 0.8226)\n",
       "    No Information Rate : 0.5             \n",
       "    P-Value [Acc > NIR] : 8.337e-07       \n",
       "                                          \n",
       "                  Kappa : 0.48            \n",
       "                                          \n",
       " Mcnemar's Test P-Value : NA              \n",
       "\n",
       "Statistics by Class:\n",
       "\n",
       "                     Class: setosa Class: versicolor Class: virginica\n",
       "Sensitivity                     NA            0.6800           0.8000\n",
       "Specificity                      1            0.8000           0.6800\n",
       "Pos Pred Value                  NA            0.7727           0.7143\n",
       "Neg Pred Value                  NA            0.7143           0.7727\n",
       "Prevalence                       0            0.5000           0.5000\n",
       "Detection Rate                   0            0.3400           0.4000\n",
       "Detection Prevalence             0            0.4400           0.5600\n",
       "Balanced Accuracy               NA            0.7400           0.7400"
      ]
     },
     "metadata": {},
     "output_type": "display_data"
    }
   ],
   "source": [
    "library(caret)\n",
    "\n",
    "cm = confusionMatrix(y_pred,iris_sepal$Species)\n",
    "cm"
   ]
  },
  {
   "cell_type": "code",
   "execution_count": 43,
   "metadata": {},
   "outputs": [
    {
     "data": {
      "image/png": "[encoded data removed]",
      "text/plain": [
       "plot without title"
      ]
     },
     "metadata": {
      "image/png": {
       "height": 420,
       "width": 420
      },
      "text/plain": {
       "height": 420,
       "width": 420
      }
     },
     "output_type": "display_data"
    }
   ],
   "source": [
    "plot ( iris_sepal$Sepal.Length, iris_sepal$Sepal.Width, \n",
    "       col = iris_sepal$Species,\n",
    "       pch = 19)\n",
    "\n",
    "# these are the support vectors\n",
    "points ( iris_sepal[model$index, 1], iris_sepal[model$index, 2], pch = 8, col = \"purple\")"
   ]
  },
  {
   "cell_type": "markdown",
   "metadata": {},
   "source": [
    "That's an accuracy score of 73% - not bad, given the overlap. To plot the decision line/curve though, we need to take the help of the meshgrid. What we are essentially doing is create a mesh of data that spans the entire x-y axis. Technically, it is called as a **meshgrid**. We can use the readymade function **meshgrid ( )** from the **pracma** library."
   ]
  },
  {
   "cell_type": "code",
   "execution_count": 148,
   "metadata": {},
   "outputs": [],
   "source": [
    "mgrid = function ( x, y, l = 100 ) {\n",
    "    library(pracma) # needed to create a meshgrid\n",
    "\n",
    "    x = seq(from = min(x), to = max(x), length = l)\n",
    "    y = seq(from = min(y), to = max(y), length = l)\n",
    "    \n",
    "    mg = meshgrid(x = x, y = y)    \n",
    "    \n",
    "    return ( mg )\n",
    "}"
   ]
  },
  {
   "cell_type": "markdown",
   "metadata": {},
   "source": [
    "If we plot the data, this is how it looks. "
   ]
  },
  {
   "cell_type": "code",
   "execution_count": 149,
   "metadata": {},
   "outputs": [
    {
     "data": {
      "image/png": "[encoded data removed]",
      "text/plain": [
       "plot without title"
      ]
     },
     "metadata": {
      "image/png": {
       "height": 420,
       "width": 420
      },
      "text/plain": {
       "height": 420,
       "width": 420
      }
     },
     "output_type": "display_data"
    }
   ],
   "source": [
    "mg = mgrid ( iris_sepal$Sepal.Length, iris_sepal$Sepal.Width )\n",
    "plot ( mg$X, mg$Y )"
   ]
  },
  {
   "cell_type": "markdown",
   "metadata": {},
   "source": [
    "It is essentially a grid of all possible points. We just convert this matrix to a dataframe. "
   ]
  },
  {
   "cell_type": "code",
   "execution_count": 151,
   "metadata": {},
   "outputs": [],
   "source": [
    "df_mg = data.frame ( Sepal.Length  = list(as.vector(mg$X)), Sepal.Width = list(as.vector(mg$Y)) )"
   ]
  },
  {
   "cell_type": "code",
   "execution_count": 152,
   "metadata": {},
   "outputs": [
    {
     "data": {
      "text/html": [
       "<table>\n",
       "<caption>A data.frame: 6 × 2</caption>\n",
       "<thead>\n",
       "\t<tr><th></th><th scope=col>Sepal.Length</th><th scope=col>Sepal.Width</th></tr>\n",
       "\t<tr><th></th><th scope=col>&lt;dbl&gt;</th><th scope=col>&lt;dbl&gt;</th></tr>\n",
       "</thead>\n",
       "<tbody>\n",
       "\t<tr><th scope=row>1</th><td>4.9</td><td>2.000000</td></tr>\n",
       "\t<tr><th scope=row>2</th><td>4.9</td><td>2.018182</td></tr>\n",
       "\t<tr><th scope=row>3</th><td>4.9</td><td>2.036364</td></tr>\n",
       "\t<tr><th scope=row>4</th><td>4.9</td><td>2.054545</td></tr>\n",
       "\t<tr><th scope=row>5</th><td>4.9</td><td>2.072727</td></tr>\n",
       "\t<tr><th scope=row>6</th><td>4.9</td><td>2.090909</td></tr>\n",
       "</tbody>\n",
       "</table>\n"
      ],
      "text/latex": [
       "A data.frame: 6 × 2\n",
       "\\begin{tabular}{r|ll}\n",
       "  & Sepal.Length & Sepal.Width\\\\\n",
       "  & <dbl> & <dbl>\\\\\n",
       "\\hline\n",
       "\t1 & 4.9 & 2.000000\\\\\n",
       "\t2 & 4.9 & 2.018182\\\\\n",
       "\t3 & 4.9 & 2.036364\\\\\n",
       "\t4 & 4.9 & 2.054545\\\\\n",
       "\t5 & 4.9 & 2.072727\\\\\n",
       "\t6 & 4.9 & 2.090909\\\\\n",
       "\\end{tabular}\n"
      ],
      "text/markdown": [
       "\n",
       "A data.frame: 6 × 2\n",
       "\n",
       "| <!--/--> | Sepal.Length &lt;dbl&gt; | Sepal.Width &lt;dbl&gt; |\n",
       "|---|---|---|\n",
       "| 1 | 4.9 | 2.000000 |\n",
       "| 2 | 4.9 | 2.018182 |\n",
       "| 3 | 4.9 | 2.036364 |\n",
       "| 4 | 4.9 | 2.054545 |\n",
       "| 5 | 4.9 | 2.072727 |\n",
       "| 6 | 4.9 | 2.090909 |\n",
       "\n"
      ],
      "text/plain": [
       "  Sepal.Length Sepal.Width\n",
       "1 4.9          2.000000   \n",
       "2 4.9          2.018182   \n",
       "3 4.9          2.036364   \n",
       "4 4.9          2.054545   \n",
       "5 4.9          2.072727   \n",
       "6 4.9          2.090909   "
      ]
     },
     "metadata": {},
     "output_type": "display_data"
    }
   ],
   "source": [
    "names(df_mg) = c(\"Sepal.Length\", \"Sepal.Width\")\n",
    "head(df_mg)"
   ]
  },
  {
   "cell_type": "markdown",
   "metadata": {},
   "source": [
    "Now that we have the grid of data in a dataframe, let's predict all the points based on the model. "
   ]
  },
  {
   "cell_type": "code",
   "execution_count": 153,
   "metadata": {},
   "outputs": [],
   "source": [
    "y_pred  = predict(model, newdata = df_mg)"
   ]
  },
  {
   "cell_type": "code",
   "execution_count": 160,
   "metadata": {},
   "outputs": [
    {
     "data": {
      "image/png": "[encoded data removed]",
      "text/plain": [
       "plot without title"
      ]
     },
     "metadata": {
      "image/png": {
       "height": 420,
       "width": 420
      },
      "text/plain": {
       "height": 420,
       "width": 420
      }
     },
     "output_type": "display_data"
    }
   ],
   "source": [
    "plot ( df_mg$Sepal.Length, df_mg$Sepal.Width, col = y_pred)\n",
    "\n",
    "# these are the actual data points\n",
    "points ( iris_sepal$Sepal.Length, iris_sepal$Sepal.Width, \n",
    "       col = iris_sepal$Species,\n",
    "       pch = 19)\n",
    "# these are the support vectors\n",
    "points ( iris_sepal[model$index, 1], iris_sepal[model$index, 2], pch = 8, col = \"purple\")"
   ]
  },
  {
   "cell_type": "markdown",
   "metadata": {},
   "source": [
    "This is based on a **linear kernel**. There are a couple more options for specifying the kernel. Scikit learn by default provides the following kernels in SVM. \n",
    "\n",
    "- linear\n",
    "- rbf - Radial Basis Function\n",
    "- poly - Polynomial\n"
   ]
  },
  {
   "cell_type": "markdown",
   "metadata": {},
   "source": [
    "Let's actually try all of these to see how well the separator works. "
   ]
  },
  {
   "cell_type": "code",
   "execution_count": 168,
   "metadata": {},
   "outputs": [
    {
     "data": {
      "image/png": "[encoded data removed]",
      "text/plain": [
       "plot without title"
      ]
     },
     "metadata": {
      "image/png": {
       "height": 420,
       "width": 420
      },
      "text/plain": {
       "height": 420,
       "width": 420
      }
     },
     "output_type": "display_data"
    }
   ],
   "source": [
    "library(e1071)\n",
    "model = svm ( Species ~ Sepal.Length + Sepal.Width , \n",
    "              data = iris_sepal, \n",
    "              kernel = \"linear\")\n",
    "y_pred  = predict(model, newdata = df_mg)\n",
    "plot ( df_mg$Sepal.Length, df_mg$Sepal.Width, col = y_pred, sub = \"Kernel = Linear\")\n",
    "\n",
    "# these are the actual data points\n",
    "points ( iris_sepal$Sepal.Length, iris_sepal$Sepal.Width, \n",
    "       col = iris_sepal$Species,\n",
    "       pch = 19)\n",
    "# these are the support vectors\n",
    "points ( iris_sepal[model$index, 1], iris_sepal[model$index, 2], pch = 8, col = \"purple\")"
   ]
  },
  {
   "cell_type": "code",
   "execution_count": 167,
   "metadata": {},
   "outputs": [
    {
     "data": {
      "image/png": "[encoded data removed]",
      "text/plain": [
       "plot without title"
      ]
     },
     "metadata": {
      "image/png": {
       "height": 420,
       "width": 420
      },
      "text/plain": {
       "height": 420,
       "width": 420
      }
     },
     "output_type": "display_data"
    }
   ],
   "source": [
    "library(e1071)\n",
    "model = svm ( Species ~ Sepal.Length + Sepal.Width , \n",
    "              data = iris_sepal, \n",
    "              kernel = \"polynomial\")\n",
    "y_pred  = predict(model, newdata = df_mg)\n",
    "plot ( df_mg$Sepal.Length, df_mg$Sepal.Width, col = y_pred, sub = \"Kernel = Polynomial\")\n",
    "\n",
    "# these are the actual data points\n",
    "points ( iris_sepal$Sepal.Length, iris_sepal$Sepal.Width, \n",
    "       col = iris_sepal$Species,\n",
    "       pch = 19)\n",
    "# these are the support vectors\n",
    "points ( iris_sepal[model$index, 1], iris_sepal[model$index, 2], pch = 8, col = \"purple\")"
   ]
  },
  {
   "cell_type": "code",
   "execution_count": 166,
   "metadata": {},
   "outputs": [
    {
     "data": {
      "image/png": "[encoded data removed]",
      "text/plain": [
       "plot without title"
      ]
     },
     "metadata": {
      "image/png": {
       "height": 420,
       "width": 420
      },
      "text/plain": {
       "height": 420,
       "width": 420
      }
     },
     "output_type": "display_data"
    }
   ],
   "source": [
    "library(e1071)\n",
    "model = svm ( Species ~ Sepal.Length + Sepal.Width , \n",
    "              data = iris_sepal, \n",
    "              kernel = \"radial\")\n",
    "y_pred  = predict(model, newdata = df_mg)\n",
    "plot ( df_mg$Sepal.Length, df_mg$Sepal.Width, col = y_pred, sub = \"Kernel = Radial\")\n",
    "\n",
    "# these are the actual data points\n",
    "points ( iris_sepal$Sepal.Length, iris_sepal$Sepal.Width, \n",
    "       col = iris_sepal$Species,\n",
    "       pch = 19)\n",
    "# these are the support vectors\n",
    "points ( iris_sepal[model$index, 1], iris_sepal[model$index, 2], pch = 8, col = \"purple\")"
   ]
  },
  {
   "cell_type": "markdown",
   "metadata": {},
   "source": [
    "Here is how the different SVM kernels compare."
   ]
  },
  {
   "cell_type": "markdown",
   "metadata": {},
   "source": [
    "<img src=\"./pics/classification-boundaries.png\"/>"
   ]
  },
  {
   "cell_type": "markdown",
   "metadata": {},
   "source": [
    "As you can see, there are a lot of support vectors this time ( + symbols in the plot above ) as the separating plane is pretty non-linear even in higher dimensional space. How did SVM do this ?\n",
    "\n"
   ]
  },
  {
   "cell_type": "markdown",
   "metadata": {},
   "source": [
    "<hr>"
   ]
  },
  {
   "cell_type": "markdown",
   "metadata": {},
   "source": [
    "### Hyperplane"
   ]
  },
  {
   "cell_type": "markdown",
   "metadata": {},
   "source": [
    "To understand how SVM has done this, we have to first understand what a Hyperplane is. You see this word thrown out a lot in SVM. We cannot visualize hyperplane beyond 3 dimensions. However, a hyperplane is a (n-1) dimensional space in a n dimensional space. For example,\n",
    "\n"
   ]
  },
  {
   "cell_type": "markdown",
   "metadata": {},
   "source": [
    "- a line ( 1-D ) is a hyperplane in a 2-D space.\n",
    "- a 2-D plane is a hyperplane in a 3-D space.\n"
   ]
  },
  {
   "cell_type": "markdown",
   "metadata": {},
   "source": [
    "It basically separates the space into 2 halves. I am over-simplifying it, but you get the idea.\n",
    "\n"
   ]
  },
  {
   "cell_type": "markdown",
   "metadata": {},
   "source": [
    "> By projecting the data into a higher dimensional space SVM is able to derive a hyper plane that does a clear separation of the data points. This is the crux of the math behind SVM. \n"
   ]
  },
  {
   "cell_type": "markdown",
   "metadata": {},
   "source": [
    "<hr>"
   ]
  },
  {
   "cell_type": "markdown",
   "metadata": {},
   "source": [
    "### Performance Tuning"
   ]
  },
  {
   "cell_type": "markdown",
   "metadata": {},
   "source": [
    "There are basically 3 parameters for performance tuning. We have already seen one of them - the **kernel**. We will talk about the remaining two now. "
   ]
  },
  {
   "cell_type": "markdown",
   "metadata": {},
   "source": [
    "#### Cost"
   ]
  },
  {
   "cell_type": "markdown",
   "metadata": {},
   "source": [
    "This parameter controls the balance between Accuracy and Stability. Outliers are good examples to illustrate this. Look at the picture below.\n",
    "\n"
   ]
  },
  {
   "cell_type": "markdown",
   "metadata": {},
   "source": [
    "<img src=\"./pics/svm_outlier.jpg\"/>"
   ]
  },
  {
   "cell_type": "markdown",
   "metadata": {},
   "source": [
    "Because of an outlier in the setosa species, SVM is trying to fit it to the hyper plane. In all probability it is an outlier. This \"over-fit\" could result in the model de-stabilizing to make the model more accurate. Basically, you have to tell the model to go easy on data points like that. This is where the cost function comes in. What does a cost function do ? If we lower the costs function, more support vectors are included, resulting in a stable fit.\n",
    "\n"
   ]
  },
  {
   "cell_type": "markdown",
   "metadata": {},
   "source": [
    "<img src=\"./pics/svm_outlier_c_value.jpg\"/>"
   ]
  },
  {
   "cell_type": "markdown",
   "metadata": {},
   "source": [
    "**Low Cost** - A lower cost value ( say c = 0.1 ) will result in more support vectors being included in determining the line. So, the outlier ( in green ) is basically ignored. This is also called \"soft margin\" and this avoids over-fitting.\n",
    "\n"
   ]
  },
  {
   "cell_type": "markdown",
   "metadata": {},
   "source": [
    "**High Cost** - A higher cost value ( say c = 1 or 10 ) will try to accomodate the outlier ( bold, green dot in the picture above ) and it adjusts the hyper plane accordingly. This is also called \"hard margin\" and results in over-fit ( crisper and narrower fit ).\n",
    "\n"
   ]
  },
  {
   "cell_type": "code",
   "execution_count": 183,
   "metadata": {},
   "outputs": [
    {
     "data": {
      "image/png": "[encoded data removed]",
      "text/plain": [
       "plot without title"
      ]
     },
     "metadata": {
      "image/png": {
       "height": 420,
       "width": 420
      },
      "text/plain": {
       "height": 420,
       "width": 420
      }
     },
     "output_type": "display_data"
    }
   ],
   "source": [
    "library(e1071)\n",
    "model = svm ( Species ~ Sepal.Length + Sepal.Width , \n",
    "              data = iris_sepal, \n",
    "              cost = 0.1)\n",
    "y_pred  = predict(model, newdata = df_mg)\n",
    "plot ( df_mg$Sepal.Length, df_mg$Sepal.Width, col = y_pred, sub = \"cost = 1\")\n",
    "\n",
    "# these are the actual data points\n",
    "points ( iris_sepal$Sepal.Length, iris_sepal$Sepal.Width, \n",
    "       col = iris_sepal$Species,\n",
    "       pch = 19)\n",
    "# these are the support vectors\n",
    "points ( iris_sepal[model$index, 1], iris_sepal[model$index, 2], pch = 8, col = \"purple\")"
   ]
  },
  {
   "cell_type": "markdown",
   "metadata": {},
   "source": [
    "A more visual example would illustrate this better."
   ]
  },
  {
   "cell_type": "markdown",
   "metadata": {},
   "source": [
    "<img src=\"./pics/c-value-svm.png\"/>"
   ]
  },
  {
   "cell_type": "markdown",
   "metadata": {},
   "source": [
    "Here is an implementation of the same iris dataset with different Cost function (C value) for Radial Basis function kernel."
   ]
  },
  {
   "cell_type": "markdown",
   "metadata": {},
   "source": [
    "<img src=\"./pics/cost-functions.png\"/>"
   ]
  },
  {
   "cell_type": "markdown",
   "metadata": {},
   "source": [
    "<hr>"
   ]
  },
  {
   "cell_type": "markdown",
   "metadata": {},
   "source": [
    "#### Kernel"
   ]
  },
  {
   "cell_type": "markdown",
   "metadata": {},
   "source": [
    "This is the heart of the SVM algorithm. Always think of SVM as a linear classification in higher dimensional space. When data is linearly separable, we don't even need SVM - Simple linear regression would do. The \"kernel\" is a mathematical function that is used to project the data to higher dimensional space. Mathematically, this is done using dot products and there are many types of kernel functions - polynomial, linear, radial, sigmoid etc. Luckily, we wouldn't have to learn all that math. The SVM algorithm chooses the kernel for us automatically. If you look at the model itself, you will understand what type of kernel was used in doing the classification.\n",
    "\n"
   ]
  },
  {
   "cell_type": "markdown",
   "metadata": {},
   "source": [
    "This is a parameter that is rarely touched. But since this is the core of the hyperplane transformation, we have to understand the type of kernel that is being used.\n",
    "\n"
   ]
  },
  {
   "cell_type": "markdown",
   "metadata": {},
   "source": [
    "<hr>"
   ]
  },
  {
   "cell_type": "markdown",
   "metadata": {},
   "source": [
    "#### Gamma - γ"
   ]
  },
  {
   "cell_type": "markdown",
   "metadata": {},
   "source": [
    "Gamma is a parameter that is used in non-linear kernel transformations. A large gamma (γ) will result in high bias and low variance and a small value will result in low bias and high variance. If you understand the gamma parameter, you would have to understand the formula used in a non-linear transform like a radial basis function. You can leave it for now.\n",
    "\n"
   ]
  },
  {
   "cell_type": "markdown",
   "metadata": {},
   "source": [
    "These parameters ( cost, kernel, gamma ) are called Hyper Parameters.\n",
    "\n"
   ]
  },
  {
   "cell_type": "markdown",
   "metadata": {},
   "source": [
    "<hr>"
   ]
  },
  {
   "cell_type": "markdown",
   "metadata": {},
   "source": [
    "### SVM for Regression"
   ]
  },
  {
   "cell_type": "markdown",
   "metadata": {},
   "source": [
    "Just with most classification models, SVM can also be used for regression. Let's quickly do a comparison between a regular linear model and SVM. This is to just prove that\n",
    "\n"
   ]
  },
  {
   "cell_type": "markdown",
   "metadata": {},
   "source": [
    "- SVM can do regression ( as well as classification )\n"
   ]
  },
  {
   "cell_type": "markdown",
   "metadata": {},
   "source": [
    "Let's take the Boston Housing data set."
   ]
  },
  {
   "cell_type": "code",
   "execution_count": 187,
   "metadata": {},
   "outputs": [],
   "source": [
    "library(mlbench)\n",
    "data(BostonHousing)"
   ]
  },
  {
   "cell_type": "markdown",
   "metadata": {},
   "source": [
    "We know from Introduction to Linear Regression in Python that one of the variables LSTAT has a linear relationship with the target (predictor) - MEDV (Median house price). "
   ]
  },
  {
   "cell_type": "code",
   "execution_count": 189,
   "metadata": {},
   "outputs": [
    {
     "data": {
      "image/png": "[encoded data removed]",
      "text/plain": [
       "plot without title"
      ]
     },
     "metadata": {
      "image/png": {
       "height": 420,
       "width": 420
      },
      "text/plain": {
       "height": 420,
       "width": 420
      }
     },
     "output_type": "display_data"
    }
   ],
   "source": [
    "plot ( BostonHousing$lstat, BostonHousing$medv,\n",
    "       xlab = \"LSTAT - Lower Stata Population\",\n",
    "       ylab = \"MEDV - Median Housing Price\",\n",
    "       pch  = 19,\n",
    "       col  = \"blue\")\n"
   ]
  },
  {
   "cell_type": "markdown",
   "metadata": {},
   "source": [
    "In this case the correlation is negative, but that's fine. Let's try to fit a linear model first and then compare it with SVM.\n"
   ]
  },
  {
   "cell_type": "code",
   "execution_count": 191,
   "metadata": {},
   "outputs": [],
   "source": [
    "model_lin = lm ( medv ~ lstat, data = BostonHousing)\n",
    "y_pred_lin = predict (model_lin, newdata = BostonHousing)"
   ]
  },
  {
   "cell_type": "code",
   "execution_count": 197,
   "metadata": {},
   "outputs": [],
   "source": [
    "model_svm = svm ( medv ~ lstat, data = BostonHousing)\n",
    "y_pred_svm = predict ( model_svm, newdata = BostonHousing)"
   ]
  },
  {
   "cell_type": "code",
   "execution_count": 203,
   "metadata": {},
   "outputs": [
    {
     "data": {
      "image/png": "[encoded data removed]",
      "text/plain": [
       "plot without title"
      ]
     },
     "metadata": {
      "image/png": {
       "height": 420,
       "width": 420
      },
      "text/plain": {
       "height": 420,
       "width": 420
      }
     },
     "output_type": "display_data"
    }
   ],
   "source": [
    "plot ( BostonHousing$lstat, BostonHousing$medv, pch = 19, col = \"blue\")\n",
    "points ( BostonHousing$lstat, y_pred_svm, col = \"red\", lty = 1, lwd = 5)\n",
    "points ( BostonHousing$lstat, y_pred_lin, col = \"orange\", lty = 1, lwd = 5)\n",
    "\n",
    "legend ( \"topright\", legend = c(\"SVM Prediction\", \"Linear Predictor\"), col = c(\"red\",\"orange\"), lty = 1, lwd = 5)"
   ]
  }
 ],
 "metadata": {
  "kernelspec": {
   "display_name": "R",
   "language": "R",
   "name": "ir"
  },
  "language_info": {
   "codemirror_mode": "r",
   "file_extension": ".r",
   "mimetype": "text/x-r-source",
   "name": "R",
   "pygments_lexer": "r",
   "version": "3.6.2"
  }
 },
 "nbformat": 4,
 "nbformat_minor": 4
}
