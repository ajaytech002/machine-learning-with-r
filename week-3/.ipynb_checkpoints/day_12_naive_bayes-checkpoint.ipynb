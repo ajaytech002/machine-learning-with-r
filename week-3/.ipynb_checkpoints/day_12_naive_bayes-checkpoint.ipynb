{
 "cells": [
  {
   "cell_type": "markdown",
   "metadata": {},
   "source": [
    "Notebook is copyright &copy; of <a href=\"https://ajaytech.co\"> Ajay Tech </a>"
   ]
  },
  {
   "cell_type": "markdown",
   "metadata": {},
   "source": [
    "# Naive Bayes Classifier"
   ]
  },
  {
   "cell_type": "markdown",
   "metadata": {},
   "source": [
    "## Contents"
   ]
  },
  {
   "cell_type": "markdown",
   "metadata": {},
   "source": [
    "- What is Naive Bayes\n",
    "- Bayes Theorem & Conditional Probability\n",
    "- Naive Bayes Theorem\n",
    "- Example - Classify Fruits based on characteristics\n",
    "- Example - Classify Messages as Spam or Ham\n",
    "  - Get dataset\n",
    "  - EDA\n",
    "  - Simple data engineering\n",
    "  - Sparse Matrix format\n",
    "  - What is a Corpus\n",
    "  - Training and test datasets\n",
    "  - Data modeling\n",
    "  - Verify results\n",
    "- Challenge - Classify Congressman as Democrat or Republican\n",
    "- Naive Bayes on Continuous variable."
   ]
  },
  {
   "cell_type": "markdown",
   "metadata": {},
   "source": [
    "<hr>"
   ]
  },
  {
   "cell_type": "markdown",
   "metadata": {},
   "source": [
    "### What is Naive Bayes"
   ]
  },
  {
   "cell_type": "markdown",
   "metadata": {},
   "source": [
    "Say you get an email like so,\n",
    "\n",
    "**From** : njlotterries1234@gmail.com <br>\n",
    "**Subject** : You won Lottery <br>\n",
    "**Body** : Congratulations !!! You won a lottery of 5 Million dollars. Click here to claim.. <br>\n",
    "\n",
    "\n",
    "\n"
   ]
  },
  {
   "cell_type": "markdown",
   "metadata": {},
   "source": [
    "What do you think of this ? Is this a spam e-mail or not ? In all probability this is spam. How do you know it ? Well, you look at the index words - words like \"lottery\" , \"viagra\" , \"free\", \"money back\". When you see these words, generally you tend to classify that message as spam. This is exactly how Naive Bayes works. Let's formalize our understanding a bit by going a bit deeper."
   ]
  },
  {
   "cell_type": "markdown",
   "metadata": {},
   "source": [
    "<hr>"
   ]
  },
  {
   "cell_type": "markdown",
   "metadata": {},
   "source": [
    "### Bayes Theorem & Conditional Probability"
   ]
  },
  {
   "cell_type": "markdown",
   "metadata": {},
   "source": [
    "Before we get into \"Naive\" Bayes, we have to first understand **Bayes** theorem. To understand Bayes theorem, we have to first understand something called _Conditional Probability_. What exactly is it ?"
   ]
  },
  {
   "cell_type": "markdown",
   "metadata": {},
   "source": [
    "Say there is a standard deck of cards and you draw a card at random. \n",
    "\n"
   ]
  },
  {
   "cell_type": "markdown",
   "metadata": {},
   "source": [
    "- What is the probability that it is a red card ?"
   ]
  },
  {
   "cell_type": "markdown",
   "metadata": {},
   "source": [
    "<img src=\"./pics/probability_red_card.png\" style=\"background:white\"/> "
   ]
  },
  {
   "cell_type": "markdown",
   "metadata": {},
   "source": [
    "- What is the probability that it is a face card, given that it is a red card ?"
   ]
  },
  {
   "cell_type": "markdown",
   "metadata": {},
   "source": [
    "<img src=\"./pics/probability_red_card_face_card.png\" style=\"background:white\"/>"
   ]
  },
  {
   "cell_type": "markdown",
   "metadata": {},
   "source": [
    "This is called conditional probability. Bayes theorem is an alternate way to compute the same thing."
   ]
  },
  {
   "cell_type": "markdown",
   "metadata": {},
   "source": [
    "<img src=\"./pics/bayes_formula.png\"/>"
   ]
  },
  {
   "cell_type": "markdown",
   "metadata": {},
   "source": [
    "Now, let's calculate each one of these probabilities."
   ]
  },
  {
   "cell_type": "markdown",
   "metadata": {},
   "source": [
    "- Probability of face card P(A)"
   ]
  },
  {
   "cell_type": "markdown",
   "metadata": {},
   "source": [
    "<img src=\"./pics/probability_face_card.png\"/>"
   ]
  },
  {
   "cell_type": "markdown",
   "metadata": {},
   "source": [
    "- Probability of a red card\n",
    "\n"
   ]
  },
  {
   "cell_type": "markdown",
   "metadata": {},
   "source": [
    "<img src=\"./pics/p_red.png\"/>"
   ]
  },
  {
   "cell_type": "markdown",
   "metadata": {},
   "source": [
    "- Probability of a red card , given it is a face card."
   ]
  },
  {
   "cell_type": "markdown",
   "metadata": {},
   "source": [
    "<img src=\"./pics/p_red_face.png\"/>"
   ]
  },
  {
   "cell_type": "markdown",
   "metadata": {},
   "source": [
    "- And finally, we calculate the probability of a face card, given its a red card P ( face | red )"
   ]
  },
  {
   "cell_type": "markdown",
   "metadata": {},
   "source": [
    "<img src=\"./pics/p_face_red.png\"/>"
   ]
  },
  {
   "cell_type": "markdown",
   "metadata": {},
   "source": [
    "What did we achieve here ? Looks like we have made things more complicated, right ? I agree with you. In fact, this formula is not all that useful in machine learning. But there is an assumption that makes this formula extraordinarily useful in ML. Let's go back to the email example.\n",
    "\n"
   ]
  },
  {
   "cell_type": "markdown",
   "metadata": {},
   "source": [
    "<img src=\"./pics/p_spam.png\"/>"
   ]
  },
  {
   "cell_type": "markdown",
   "metadata": {},
   "source": [
    "Again, not very useful. To calculate the probability of \"You won lottery\" is very arbitrary. You cannot calculate the probability of occurrence of all different phrases or combination of words. The next time around / the subject line might say \"Congratulations!! You won lottery\" -which is slightly different from ' 'You won lottery\" . Point being, you cannot possibly Calculate all different combination of words that could result from the use of all different words in the English dictionary. \n",
    "\n"
   ]
  },
  {
   "cell_type": "markdown",
   "metadata": {},
   "source": [
    "<hr>"
   ]
  },
  {
   "cell_type": "markdown",
   "metadata": {},
   "source": [
    "### Naive Bayes"
   ]
  },
  {
   "cell_type": "markdown",
   "metadata": {},
   "source": [
    "This is where the Bayes theorem becomes **Naive** . Let's revisit the formula again.\n",
    "\n"
   ]
  },
  {
   "cell_type": "markdown",
   "metadata": {},
   "source": [
    "<img src=\"./pics/p_spam_revisirt.png\"/>"
   ]
  },
  {
   "cell_type": "markdown",
   "metadata": {},
   "source": [
    "The probability of the word \"You\" occurring in the email is independent of the Lord ' \"Won\" occurring. eg.,\n",
    "\n"
   ]
  },
  {
   "cell_type": "markdown",
   "metadata": {},
   "source": [
    "- Do you have the paper with **you** ?\n",
    "- we have won the **contract**"
   ]
  },
  {
   "cell_type": "markdown",
   "metadata": {},
   "source": [
    "These Sentences are completely independent. When we break down the event into the respective independent events, probability can be Simplified as follows. \n"
   ]
  },
  {
   "cell_type": "markdown",
   "metadata": {},
   "source": [
    "<img src=\"./pics/p_you_won_lottery.png\"/>"
   ]
  },
  {
   "cell_type": "markdown",
   "metadata": {},
   "source": [
    "This is actually a \"Naive\" assumption - because in reality, there is some level of overlap. Meaning, when you mention the word \"lottery\", you almost always use the word \"win\" or some variant-like ''won'\" or \"winning\" . However, this is where ML is lucky. Even with the naive assumption, results are pretty good with text classification in real life. Let's apply the simplification to the Bayes theorem once again.\n",
    "\n"
   ]
  },
  {
   "cell_type": "markdown",
   "metadata": {},
   "source": [
    "<img src=\"./pics/p_spam_revisit.png\"/>"
   ]
  },
  {
   "cell_type": "markdown",
   "metadata": {},
   "source": [
    "With a bit of naivety, this formula became so much more useful. In fact, it makes it so useful that Naive Bayes is almost exclusively used for most text classification tasks. Let's explore this example with some rough data - just believable, made-up data. \n",
    "\n"
   ]
  },
  {
   "cell_type": "markdown",
   "metadata": {},
   "source": [
    "- Probability of \"You won lottery\" being spam."
   ]
  },
  {
   "cell_type": "markdown",
   "metadata": {},
   "source": [
    "<img src=\"./pics/data_made_up.png\"/>"
   ]
  },
  {
   "cell_type": "markdown",
   "metadata": {},
   "source": [
    "- Probability of \"You won spam\" as NOT spam. "
   ]
  },
  {
   "cell_type": "markdown",
   "metadata": {},
   "source": [
    "<img src=\"./pics/you_won_lottery_not_spam.png\"/>"
   ]
  },
  {
   "cell_type": "markdown",
   "metadata": {},
   "source": [
    "So, the probability of this phrase not being spam is 1.51. \n",
    "\n"
   ]
  },
  {
   "cell_type": "markdown",
   "metadata": {},
   "source": [
    "<img src=\"./pics/p_not_spam_vs_spam.png\"/>"
   ]
  },
  {
   "cell_type": "markdown",
   "metadata": {},
   "source": [
    "Pretty effective, right? Especially given the simplification. Calculating the probability of the individual words is easy. The heart of this algorithm is, given any sentence, this algorithm can break it down into it's components (words) and based on the \"spamminess\" of each of the words, the entire sentence can be classified as spam or not.\n",
    "\n"
   ]
  },
  {
   "cell_type": "markdown",
   "metadata": {},
   "source": [
    "All we are trying to do in Naive Bayes, is to break down a complicated problem into its components. Once the component is classified, essentially the bigger piece is classified as well.\n",
    "\n",
    "\n"
   ]
  },
  {
   "cell_type": "markdown",
   "metadata": {},
   "source": [
    "It is like solving a jigsaw puzzle. How do you solve one typically ? You look for smaller puzzles to solve. Say this is a picture of a car - you start to look for smaller components of the car, like a tire, a windshield and solve for each of these separately. Once you got the pieces figured out, all you have to do is to put them in order. Naive Bayes works more or less like this.\n",
    "\n",
    "\n",
    "\n"
   ]
  },
  {
   "cell_type": "markdown",
   "metadata": {},
   "source": [
    "<img src=\"./pics/solve_jigsaw_puzzle.png\"/>"
   ]
  },
  {
   "cell_type": "markdown",
   "metadata": {},
   "source": [
    "<hr>"
   ]
  },
  {
   "cell_type": "markdown",
   "metadata": {},
   "source": [
    "### Classify fruits based on Characteristics"
   ]
  },
  {
   "cell_type": "markdown",
   "metadata": {},
   "source": [
    "Now that we understand the basics of Naive Bayes, let's create a simple dataset and solve it in excel. The purpose behind this exercise is to get familiar with Naive Bayes calculation using a smaller dataset. This is going to solidify our understanding a bit further, before we dive into more complicated examples.\n",
    "\n"
   ]
  },
  {
   "cell_type": "markdown",
   "metadata": {},
   "source": [
    "<img src=\"./pics/fruits_characteristics.png\"/>"
   ]
  },
  {
   "cell_type": "markdown",
   "metadata": {},
   "source": [
    "Solve the fruits dataset in excel"
   ]
  },
  {
   "cell_type": "markdown",
   "metadata": {},
   "source": [
    "$P_{apple} = 3/9 = 0.333$ <br>\n",
    "$P_{grape} = 3/9 = 0.333$ <br>\n",
    "$P_{melon} = 3/9 = 0.333$\n",
    "\n",
    "\n"
   ]
  },
  {
   "cell_type": "markdown",
   "metadata": {},
   "source": [
    "The probability of each of the characteristics - round, large, small etc, can be calculated as below.\n"
   ]
  },
  {
   "cell_type": "markdown",
   "metadata": {},
   "source": [
    "<img src=\"./pics/p_round_large.png\"/>"
   ]
  },
  {
   "cell_type": "markdown",
   "metadata": {},
   "source": [
    "Now, let's move on to the individual conditional probabilities. For example, what is the probability that a fruit is round, given that it is an apple ? In all the cases of Apple, the fruit is always round.\n",
    "\n"
   ]
  },
  {
   "cell_type": "markdown",
   "metadata": {},
   "source": [
    "<img src=\"./pics/p_round_apple.png\"/>"
   ]
  },
  {
   "cell_type": "markdown",
   "metadata": {},
   "source": [
    "However, what is the probability that a fruit is red, given that its an apple ? one out of three apples are red.\n",
    "\n"
   ]
  },
  {
   "cell_type": "markdown",
   "metadata": {},
   "source": [
    "<img src=\"./pics/red_apple.png\"/>"
   ]
  },
  {
   "cell_type": "markdown",
   "metadata": {},
   "source": [
    "Like that, we keep calculating the conditional probabilities of all the individual characteristics. Think of this like calculating the probability of each individual word being spam or not.\n",
    "\n"
   ]
  },
  {
   "cell_type": "markdown",
   "metadata": {},
   "source": [
    "<img src=\"./pics/all_3.png\"/>"
   ]
  },
  {
   "cell_type": "markdown",
   "metadata": {},
   "source": [
    "Time to test our data. Let's say, we want to calculate the probability of a fruit being an Apple, if it is round and large. All we have to do is plug the numbers.\n",
    "\n"
   ]
  },
  {
   "cell_type": "markdown",
   "metadata": {},
   "source": [
    "<img src=\"./pics/p_apple_round_large.png\"/>"
   ]
  },
  {
   "cell_type": "markdown",
   "metadata": {},
   "source": [
    "What is the probability that a fruit is an apple, if it is round, large and smooth ?\n",
    "\n"
   ]
  },
  {
   "cell_type": "markdown",
   "metadata": {},
   "source": [
    "<img src=\"./pics/p_apple_round_large_smooth.png\"/>"
   ]
  },
  {
   "cell_type": "markdown",
   "metadata": {},
   "source": [
    "Based on our little dataset, we are not doing too bad. let's do the opposite now. What is the probability of a fruit being a grape, given that it is round, large and smooth ?\n",
    "\n"
   ]
  },
  {
   "cell_type": "markdown",
   "metadata": {},
   "source": [
    "<img src=\"./pics/p_grape_round_large_smooth_green.png\"/>"
   ]
  },
  {
   "cell_type": "markdown",
   "metadata": {},
   "source": [
    "Makes sense, right ? grape is never \"large\". Hence the probability of a fruit being a grape if it is \"large\" is relatively small - 16 %.\n",
    "\n"
   ]
  },
  {
   "cell_type": "markdown",
   "metadata": {},
   "source": [
    "<hr>"
   ]
  },
  {
   "cell_type": "markdown",
   "metadata": {},
   "source": [
    "#### Solve the fruits dataset in Python"
   ]
  },
  {
   "cell_type": "code",
   "execution_count": 3,
   "metadata": {},
   "outputs": [],
   "source": [
    "library(e1071)\n",
    "\n",
    "fruits = read.csv(\"./data/fruits.csv\")"
   ]
  },
  {
   "cell_type": "code",
   "execution_count": 4,
   "metadata": {},
   "outputs": [
    {
     "data": {
      "text/html": [
       "<table>\n",
       "<caption>A data.frame: 9 × 11</caption>\n",
       "<thead>\n",
       "\t<tr><th scope=col>fruit</th><th scope=col>round</th><th scope=col>large</th><th scope=col>small</th><th scope=col>red</th><th scope=col>green</th><th scope=col>black</th><th scope=col>golden</th><th scope=col>yellow</th><th scope=col>smooth</th><th scope=col>rough</th></tr>\n",
       "\t<tr><th scope=col>&lt;fct&gt;</th><th scope=col>&lt;fct&gt;</th><th scope=col>&lt;fct&gt;</th><th scope=col>&lt;fct&gt;</th><th scope=col>&lt;fct&gt;</th><th scope=col>&lt;fct&gt;</th><th scope=col>&lt;fct&gt;</th><th scope=col>&lt;fct&gt;</th><th scope=col>&lt;fct&gt;</th><th scope=col>&lt;fct&gt;</th><th scope=col>&lt;fct&gt;</th></tr>\n",
       "</thead>\n",
       "<tbody>\n",
       "\t<tr><td>apple</td><td>yes</td><td>yes</td><td>no </td><td>yes</td><td>no </td><td>no </td><td>no </td><td>no </td><td>yes</td><td>no </td></tr>\n",
       "\t<tr><td>apple</td><td>yes</td><td>yes</td><td>no </td><td>no </td><td>yes</td><td>no </td><td>no </td><td>no </td><td>yes</td><td>no </td></tr>\n",
       "\t<tr><td>apple</td><td>yes</td><td>yes</td><td>no </td><td>no </td><td>no </td><td>no </td><td>yes</td><td>no </td><td>yes</td><td>no </td></tr>\n",
       "\t<tr><td>grape</td><td>yes</td><td>no </td><td>yes</td><td>yes</td><td>no </td><td>no </td><td>no </td><td>no </td><td>yes</td><td>no </td></tr>\n",
       "\t<tr><td>grape</td><td>yes</td><td>no </td><td>yes</td><td>no </td><td>yes</td><td>no </td><td>no </td><td>no </td><td>yes</td><td>no </td></tr>\n",
       "\t<tr><td>grape</td><td>yes</td><td>no </td><td>yes</td><td>no </td><td>no </td><td>yes</td><td>no </td><td>no </td><td>yes</td><td>no </td></tr>\n",
       "\t<tr><td>melon</td><td>yes</td><td>yes</td><td>no </td><td>no </td><td>yes</td><td>no </td><td>no </td><td>no </td><td>yes</td><td>no </td></tr>\n",
       "\t<tr><td>melon</td><td>yes</td><td>yes</td><td>no </td><td>no </td><td>no </td><td>no </td><td>yes</td><td>no </td><td>no </td><td>yes</td></tr>\n",
       "\t<tr><td>melon</td><td>yes</td><td>yes</td><td>no </td><td>no </td><td>no </td><td>no </td><td>no </td><td>yes</td><td>no </td><td>yes</td></tr>\n",
       "</tbody>\n",
       "</table>\n"
      ],
      "text/latex": [
       "A data.frame: 9 × 11\n",
       "\\begin{tabular}{lllllllllll}\n",
       " fruit & round & large & small & red & green & black & golden & yellow & smooth & rough\\\\\n",
       " <fct> & <fct> & <fct> & <fct> & <fct> & <fct> & <fct> & <fct> & <fct> & <fct> & <fct>\\\\\n",
       "\\hline\n",
       "\t apple & yes & yes & no  & yes & no  & no  & no  & no  & yes & no \\\\\n",
       "\t apple & yes & yes & no  & no  & yes & no  & no  & no  & yes & no \\\\\n",
       "\t apple & yes & yes & no  & no  & no  & no  & yes & no  & yes & no \\\\\n",
       "\t grape & yes & no  & yes & yes & no  & no  & no  & no  & yes & no \\\\\n",
       "\t grape & yes & no  & yes & no  & yes & no  & no  & no  & yes & no \\\\\n",
       "\t grape & yes & no  & yes & no  & no  & yes & no  & no  & yes & no \\\\\n",
       "\t melon & yes & yes & no  & no  & yes & no  & no  & no  & yes & no \\\\\n",
       "\t melon & yes & yes & no  & no  & no  & no  & yes & no  & no  & yes\\\\\n",
       "\t melon & yes & yes & no  & no  & no  & no  & no  & yes & no  & yes\\\\\n",
       "\\end{tabular}\n"
      ],
      "text/markdown": [
       "\n",
       "A data.frame: 9 × 11\n",
       "\n",
       "| fruit &lt;fct&gt; | round &lt;fct&gt; | large &lt;fct&gt; | small &lt;fct&gt; | red &lt;fct&gt; | green &lt;fct&gt; | black &lt;fct&gt; | golden &lt;fct&gt; | yellow &lt;fct&gt; | smooth &lt;fct&gt; | rough &lt;fct&gt; |\n",
       "|---|---|---|---|---|---|---|---|---|---|---|\n",
       "| apple | yes | yes | no  | yes | no  | no  | no  | no  | yes | no  |\n",
       "| apple | yes | yes | no  | no  | yes | no  | no  | no  | yes | no  |\n",
       "| apple | yes | yes | no  | no  | no  | no  | yes | no  | yes | no  |\n",
       "| grape | yes | no  | yes | yes | no  | no  | no  | no  | yes | no  |\n",
       "| grape | yes | no  | yes | no  | yes | no  | no  | no  | yes | no  |\n",
       "| grape | yes | no  | yes | no  | no  | yes | no  | no  | yes | no  |\n",
       "| melon | yes | yes | no  | no  | yes | no  | no  | no  | yes | no  |\n",
       "| melon | yes | yes | no  | no  | no  | no  | yes | no  | no  | yes |\n",
       "| melon | yes | yes | no  | no  | no  | no  | no  | yes | no  | yes |\n",
       "\n"
      ],
      "text/plain": [
       "  fruit round large small red green black golden yellow smooth rough\n",
       "1 apple yes   yes   no    yes no    no    no     no     yes    no   \n",
       "2 apple yes   yes   no    no  yes   no    no     no     yes    no   \n",
       "3 apple yes   yes   no    no  no    no    yes    no     yes    no   \n",
       "4 grape yes   no    yes   yes no    no    no     no     yes    no   \n",
       "5 grape yes   no    yes   no  yes   no    no     no     yes    no   \n",
       "6 grape yes   no    yes   no  no    yes   no     no     yes    no   \n",
       "7 melon yes   yes   no    no  yes   no    no     no     yes    no   \n",
       "8 melon yes   yes   no    no  no    no    yes    no     no     yes  \n",
       "9 melon yes   yes   no    no  no    no    no     yes    no     yes  "
      ]
     },
     "metadata": {},
     "output_type": "display_data"
    }
   ],
   "source": [
    "fruits"
   ]
  },
  {
   "cell_type": "code",
   "execution_count": 6,
   "metadata": {},
   "outputs": [],
   "source": [
    "model = naiveBayes(fruit ~ . , data = fruits)  "
   ]
  },
  {
   "cell_type": "code",
   "execution_count": 12,
   "metadata": {},
   "outputs": [],
   "source": [
    "pred = predict ( model , fruits[,2:11 ])"
   ]
  },
  {
   "cell_type": "code",
   "execution_count": 13,
   "metadata": {},
   "outputs": [
    {
     "data": {
      "text/html": [
       "<style>\n",
       ".list-inline {list-style: none; margin:0; padding: 0}\n",
       ".list-inline>li {display: inline-block}\n",
       ".list-inline>li:not(:last-child)::after {content: \"\\00b7\"; padding: 0 .5ex}\n",
       "</style>\n",
       "<ol class=list-inline><li>apple</li><li>apple</li><li>apple</li><li>grape</li><li>grape</li><li>grape</li><li>apple</li><li>melon</li><li>melon</li></ol>\n",
       "\n",
       "<details>\n",
       "\t<summary style=display:list-item;cursor:pointer>\n",
       "\t\t<strong>Levels</strong>:\n",
       "\t</summary>\n",
       "\t<style>\n",
       "\t.list-inline {list-style: none; margin:0; padding: 0}\n",
       "\t.list-inline>li {display: inline-block}\n",
       "\t.list-inline>li:not(:last-child)::after {content: \"\\00b7\"; padding: 0 .5ex}\n",
       "\t</style>\n",
       "\t<ol class=list-inline><li>'apple'</li><li>'grape'</li><li>'melon'</li></ol>\n",
       "</details>"
      ],
      "text/latex": [
       "\\begin{enumerate*}\n",
       "\\item apple\n",
       "\\item apple\n",
       "\\item apple\n",
       "\\item grape\n",
       "\\item grape\n",
       "\\item grape\n",
       "\\item apple\n",
       "\\item melon\n",
       "\\item melon\n",
       "\\end{enumerate*}\n",
       "\n",
       "\\emph{Levels}: \\begin{enumerate*}\n",
       "\\item 'apple'\n",
       "\\item 'grape'\n",
       "\\item 'melon'\n",
       "\\end{enumerate*}\n"
      ],
      "text/markdown": [
       "1. apple\n",
       "2. apple\n",
       "3. apple\n",
       "4. grape\n",
       "5. grape\n",
       "6. grape\n",
       "7. apple\n",
       "8. melon\n",
       "9. melon\n",
       "\n",
       "\n",
       "\n",
       "**Levels**: 1. 'apple'\n",
       "2. 'grape'\n",
       "3. 'melon'\n",
       "\n",
       "\n"
      ],
      "text/plain": [
       "[1] apple apple apple grape grape grape apple melon melon\n",
       "Levels: apple grape melon"
      ]
     },
     "metadata": {},
     "output_type": "display_data"
    }
   ],
   "source": [
    "pred"
   ]
  },
  {
   "cell_type": "code",
   "execution_count": 16,
   "metadata": {},
   "outputs": [
    {
     "data": {
      "text/plain": [
       "       \n",
       "pred    apple grape melon\n",
       "  apple     3     0     1\n",
       "  grape     0     3     0\n",
       "  melon     0     0     2"
      ]
     },
     "metadata": {},
     "output_type": "display_data"
    }
   ],
   "source": [
    "table(pred, fruits[,1])"
   ]
  },
  {
   "cell_type": "markdown",
   "metadata": {},
   "source": [
    "That's not bad, given such a small set of characteristics. Let's actually get the confusion matrix to get the accuracy percentage. "
   ]
  },
  {
   "cell_type": "code",
   "execution_count": 19,
   "metadata": {},
   "outputs": [
    {
     "data": {
      "text/plain": [
       "Confusion Matrix and Statistics\n",
       "\n",
       "          Reference\n",
       "Prediction apple grape melon\n",
       "     apple     3     0     1\n",
       "     grape     0     3     0\n",
       "     melon     0     0     2\n",
       "\n",
       "Overall Statistics\n",
       "                                          \n",
       "               Accuracy : 0.8889          \n",
       "                 95% CI : (0.5175, 0.9972)\n",
       "    No Information Rate : 0.3333          \n",
       "    P-Value [Acc > NIR] : 0.0009653       \n",
       "                                          \n",
       "                  Kappa : 0.8333          \n",
       "                                          \n",
       " Mcnemar's Test P-Value : NA              \n",
       "\n",
       "Statistics by Class:\n",
       "\n",
       "                     Class: apple Class: grape Class: melon\n",
       "Sensitivity                1.0000       1.0000       0.6667\n",
       "Specificity                0.8333       1.0000       1.0000\n",
       "Pos Pred Value             0.7500       1.0000       1.0000\n",
       "Neg Pred Value             1.0000       1.0000       0.8571\n",
       "Prevalence                 0.3333       0.3333       0.3333\n",
       "Detection Rate             0.3333       0.3333       0.2222\n",
       "Detection Prevalence       0.4444       0.3333       0.2222\n",
       "Balanced Accuracy          0.9167       1.0000       0.8333"
      ]
     },
     "metadata": {},
     "output_type": "display_data"
    }
   ],
   "source": [
    "library(caret)\n",
    "\n",
    "cm = confusionMatrix(pred,as.factor(fruits[,1]))\n",
    "cm"
   ]
  },
  {
   "cell_type": "markdown",
   "metadata": {},
   "source": [
    "That's an accuracy of almost 90%. We are not very far off, given our dataset is pretty small. The one place where we went wrong is in classify a melon wrongly as an apple. If we compared the predictions vs the actuals, we can see that we went wrong with the 7th entry ( a melon being mis-classified as an apple )"
   ]
  },
  {
   "cell_type": "code",
   "execution_count": 22,
   "metadata": {},
   "outputs": [
    {
     "data": {
      "text/html": [
       "<table>\n",
       "<caption>A data.frame: 9 × 2</caption>\n",
       "<thead>\n",
       "\t<tr><th scope=col>predict</th><th scope=col>actual</th></tr>\n",
       "\t<tr><th scope=col>&lt;fct&gt;</th><th scope=col>&lt;fct&gt;</th></tr>\n",
       "</thead>\n",
       "<tbody>\n",
       "\t<tr><td>apple</td><td>apple</td></tr>\n",
       "\t<tr><td>apple</td><td>apple</td></tr>\n",
       "\t<tr><td>apple</td><td>apple</td></tr>\n",
       "\t<tr><td>grape</td><td>grape</td></tr>\n",
       "\t<tr><td>grape</td><td>grape</td></tr>\n",
       "\t<tr><td>grape</td><td>grape</td></tr>\n",
       "\t<tr><td>apple</td><td>melon</td></tr>\n",
       "\t<tr><td>melon</td><td>melon</td></tr>\n",
       "\t<tr><td>melon</td><td>melon</td></tr>\n",
       "</tbody>\n",
       "</table>\n"
      ],
      "text/latex": [
       "A data.frame: 9 × 2\n",
       "\\begin{tabular}{ll}\n",
       " predict & actual\\\\\n",
       " <fct> & <fct>\\\\\n",
       "\\hline\n",
       "\t apple & apple\\\\\n",
       "\t apple & apple\\\\\n",
       "\t apple & apple\\\\\n",
       "\t grape & grape\\\\\n",
       "\t grape & grape\\\\\n",
       "\t grape & grape\\\\\n",
       "\t apple & melon\\\\\n",
       "\t melon & melon\\\\\n",
       "\t melon & melon\\\\\n",
       "\\end{tabular}\n"
      ],
      "text/markdown": [
       "\n",
       "A data.frame: 9 × 2\n",
       "\n",
       "| predict &lt;fct&gt; | actual &lt;fct&gt; |\n",
       "|---|---|\n",
       "| apple | apple |\n",
       "| apple | apple |\n",
       "| apple | apple |\n",
       "| grape | grape |\n",
       "| grape | grape |\n",
       "| grape | grape |\n",
       "| apple | melon |\n",
       "| melon | melon |\n",
       "| melon | melon |\n",
       "\n"
      ],
      "text/plain": [
       "  predict actual\n",
       "1 apple   apple \n",
       "2 apple   apple \n",
       "3 apple   apple \n",
       "4 grape   grape \n",
       "5 grape   grape \n",
       "6 grape   grape \n",
       "7 apple   melon \n",
       "8 melon   melon \n",
       "9 melon   melon "
      ]
     },
     "metadata": {},
     "output_type": "display_data"
    }
   ],
   "source": [
    "predict = pred\n",
    "actual = fruits[,1]\n",
    "\n",
    "data.frame(predict,actual)"
   ]
  },
  {
   "cell_type": "markdown",
   "metadata": {},
   "source": [
    "Let's check out the actual entry.\n",
    "\n"
   ]
  },
  {
   "cell_type": "markdown",
   "metadata": {},
   "source": [
    "<img src=\"./pics/entries_comparision.png\"/>"
   ]
  },
  {
   "cell_type": "markdown",
   "metadata": {},
   "source": [
    "As you can see, the entry for melon ( watermelon ) coincides in its data points to the green apple. How could this happen ? This is because of an oversimplification with regards to size. We only have 2 sizes - small and large. However, both the apple and water melon are large ( and round and smooth ). And that's why the NB algorithm got it wrong. If we had an extra size characteristic ( say XL ), that would have solved this problem."
   ]
  },
  {
   "cell_type": "markdown",
   "metadata": {},
   "source": [
    "<hr>"
   ]
  },
  {
   "cell_type": "markdown",
   "metadata": {},
   "source": [
    "### Classify messages as Spam"
   ]
  },
  {
   "cell_type": "markdown",
   "metadata": {},
   "source": [
    "Now that we understood the basics of Naive Bayes along with a simple example in excel and R, we can proceed to solve the problem that we started with - To classify a message as spam or not."
   ]
  },
  {
   "cell_type": "markdown",
   "metadata": {},
   "source": [
    "<hr>"
   ]
  },
  {
   "cell_type": "markdown",
   "metadata": {},
   "source": [
    "**Step 1** - Get the dataset <br>\n",
    "There is a simple SMS ( text message ) dataset available at <a href=\"https://www.kaggle.com/uciml/sms-spam-collection-dataset\">kaggle</a> or at the <a href=\"https://archive.ics.uci.edu/ml/datasets/sms+spam+collection\">UCI ML datesets</a>. You can also download the file from <a href=\"https://github.com/ajaytech002/DataScience_Python/blob/master/week_3_ml_algorithms/data/spam.csv\">Ajay Tech's github page</a>.  Download the zip file and open it in excel as a tab delimited format. Each of these messages have been classified as either spam or ham ( ham is just a technical word for \"non-spam\" ). Open the dataset in excel as a tab-delimited format and give column names ( if not available already ).\n",
    "\n"
   ]
  },
  {
   "cell_type": "markdown",
   "metadata": {},
   "source": [
    "**Step 2** - Read the dataset into R"
   ]
  },
  {
   "cell_type": "code",
   "execution_count": 13,
   "metadata": {},
   "outputs": [],
   "source": [
    "data = read.csv(\"./data/spam.csv\", encoding='ISO-8859-1')"
   ]
  },
  {
   "cell_type": "code",
   "execution_count": 14,
   "metadata": {},
   "outputs": [
    {
     "data": {
      "text/html": [
       "<table>\n",
       "<caption>A data.frame: 6 × 5</caption>\n",
       "<thead>\n",
       "\t<tr><th></th><th scope=col>class</th><th scope=col>message</th><th scope=col>X</th><th scope=col>X.1</th><th scope=col>X.2</th></tr>\n",
       "\t<tr><th></th><th scope=col>&lt;fct&gt;</th><th scope=col>&lt;fct&gt;</th><th scope=col>&lt;fct&gt;</th><th scope=col>&lt;fct&gt;</th><th scope=col>&lt;fct&gt;</th></tr>\n",
       "</thead>\n",
       "<tbody>\n",
       "\t<tr><th scope=row>1</th><td>ham </td><td>Go until jurong point, crazy.. Available only in bugis n great world la e buffet... Cine there got amore wat...                                            </td><td></td><td></td><td></td></tr>\n",
       "\t<tr><th scope=row>2</th><td>ham </td><td>Ok lar... Joking wif u oni...                                                                                                                              </td><td></td><td></td><td></td></tr>\n",
       "\t<tr><th scope=row>3</th><td>spam</td><td>Free entry in 2 a wkly comp to win FA Cup final tkts 21st May 2005. Text FA to 87121 to receive entry question(std txt rate)T&amp;C's apply 08452810075over18's</td><td></td><td></td><td></td></tr>\n",
       "\t<tr><th scope=row>4</th><td>ham </td><td>U dun say so early hor... U c already then say...                                                                                                          </td><td></td><td></td><td></td></tr>\n",
       "\t<tr><th scope=row>5</th><td>ham </td><td>Nah I don't think he goes to usf, he lives around here though                                                                                              </td><td></td><td></td><td></td></tr>\n",
       "\t<tr><th scope=row>6</th><td>spam</td><td>FreeMsg Hey there darling it's been 3 week's now and no word back! I'd like some fun you up for it still? Tb ok! XxX std chgs to send, £1.50 to rcv        </td><td></td><td></td><td></td></tr>\n",
       "</tbody>\n",
       "</table>\n"
      ],
      "text/latex": [
       "A data.frame: 6 × 5\n",
       "\\begin{tabular}{r|lllll}\n",
       "  & class & message & X & X.1 & X.2\\\\\n",
       "  & <fct> & <fct> & <fct> & <fct> & <fct>\\\\\n",
       "\\hline\n",
       "\t1 & ham  & Go until jurong point, crazy.. Available only in bugis n great world la e buffet... Cine there got amore wat...                                             &  &  & \\\\\n",
       "\t2 & ham  & Ok lar... Joking wif u oni...                                                                                                                               &  &  & \\\\\n",
       "\t3 & spam & Free entry in 2 a wkly comp to win FA Cup final tkts 21st May 2005. Text FA to 87121 to receive entry question(std txt rate)T\\&C's apply 08452810075over18's &  &  & \\\\\n",
       "\t4 & ham  & U dun say so early hor... U c already then say...                                                                                                           &  &  & \\\\\n",
       "\t5 & ham  & Nah I don't think he goes to usf, he lives around here though                                                                                               &  &  & \\\\\n",
       "\t6 & spam & FreeMsg Hey there darling it's been 3 week's now and no word back! I'd like some fun you up for it still? Tb ok! XxX std chgs to send, £1.50 to rcv         &  &  & \\\\\n",
       "\\end{tabular}\n"
      ],
      "text/markdown": [
       "\n",
       "A data.frame: 6 × 5\n",
       "\n",
       "| <!--/--> | class &lt;fct&gt; | message &lt;fct&gt; | X &lt;fct&gt; | X.1 &lt;fct&gt; | X.2 &lt;fct&gt; |\n",
       "|---|---|---|---|---|---|\n",
       "| 1 | ham  | Go until jurong point, crazy.. Available only in bugis n great world la e buffet... Cine there got amore wat...                                             | <!----> | <!----> | <!----> |\n",
       "| 2 | ham  | Ok lar... Joking wif u oni...                                                                                                                               | <!----> | <!----> | <!----> |\n",
       "| 3 | spam | Free entry in 2 a wkly comp to win FA Cup final tkts 21st May 2005. Text FA to 87121 to receive entry question(std txt rate)T&amp;C's apply 08452810075over18's | <!----> | <!----> | <!----> |\n",
       "| 4 | ham  | U dun say so early hor... U c already then say...                                                                                                           | <!----> | <!----> | <!----> |\n",
       "| 5 | ham  | Nah I don't think he goes to usf, he lives around here though                                                                                               | <!----> | <!----> | <!----> |\n",
       "| 6 | spam | FreeMsg Hey there darling it's been 3 week's now and no word back! I'd like some fun you up for it still? Tb ok! XxX std chgs to send, £1.50 to rcv         | <!----> | <!----> | <!----> |\n",
       "\n"
      ],
      "text/plain": [
       "  class\n",
       "1 ham  \n",
       "2 ham  \n",
       "3 spam \n",
       "4 ham  \n",
       "5 ham  \n",
       "6 spam \n",
       "  message                                                                                                                                                    \n",
       "1 Go until jurong point, crazy.. Available only in bugis n great world la e buffet... Cine there got amore wat...                                            \n",
       "2 Ok lar... Joking wif u oni...                                                                                                                              \n",
       "3 Free entry in 2 a wkly comp to win FA Cup final tkts 21st May 2005. Text FA to 87121 to receive entry question(std txt rate)T&C's apply 08452810075over18's\n",
       "4 U dun say so early hor... U c already then say...                                                                                                          \n",
       "5 Nah I don't think he goes to usf, he lives around here though                                                                                              \n",
       "6 FreeMsg Hey there darling it's been 3 week's now and no word back! I'd like some fun you up for it still? Tb ok! XxX std chgs to send, £1.50 to rcv        \n",
       "  X X.1 X.2\n",
       "1          \n",
       "2          \n",
       "3          \n",
       "4          \n",
       "5          \n",
       "6          "
      ]
     },
     "metadata": {},
     "output_type": "display_data"
    }
   ],
   "source": [
    "head(data)"
   ]
  },
  {
   "cell_type": "code",
   "execution_count": 15,
   "metadata": {},
   "outputs": [],
   "source": [
    "data = data[,c(1,2)]"
   ]
  },
  {
   "cell_type": "code",
   "execution_count": 16,
   "metadata": {},
   "outputs": [
    {
     "data": {
      "text/html": [
       "<table>\n",
       "<caption>A data.frame: 6 × 2</caption>\n",
       "<thead>\n",
       "\t<tr><th></th><th scope=col>class</th><th scope=col>message</th></tr>\n",
       "\t<tr><th></th><th scope=col>&lt;fct&gt;</th><th scope=col>&lt;fct&gt;</th></tr>\n",
       "</thead>\n",
       "<tbody>\n",
       "\t<tr><th scope=row>1</th><td>ham </td><td>Go until jurong point, crazy.. Available only in bugis n great world la e buffet... Cine there got amore wat...                                            </td></tr>\n",
       "\t<tr><th scope=row>2</th><td>ham </td><td>Ok lar... Joking wif u oni...                                                                                                                              </td></tr>\n",
       "\t<tr><th scope=row>3</th><td>spam</td><td>Free entry in 2 a wkly comp to win FA Cup final tkts 21st May 2005. Text FA to 87121 to receive entry question(std txt rate)T&amp;C's apply 08452810075over18's</td></tr>\n",
       "\t<tr><th scope=row>4</th><td>ham </td><td>U dun say so early hor... U c already then say...                                                                                                          </td></tr>\n",
       "\t<tr><th scope=row>5</th><td>ham </td><td>Nah I don't think he goes to usf, he lives around here though                                                                                              </td></tr>\n",
       "\t<tr><th scope=row>6</th><td>spam</td><td>FreeMsg Hey there darling it's been 3 week's now and no word back! I'd like some fun you up for it still? Tb ok! XxX std chgs to send, £1.50 to rcv        </td></tr>\n",
       "</tbody>\n",
       "</table>\n"
      ],
      "text/latex": [
       "A data.frame: 6 × 2\n",
       "\\begin{tabular}{r|ll}\n",
       "  & class & message\\\\\n",
       "  & <fct> & <fct>\\\\\n",
       "\\hline\n",
       "\t1 & ham  & Go until jurong point, crazy.. Available only in bugis n great world la e buffet... Cine there got amore wat...                                            \\\\\n",
       "\t2 & ham  & Ok lar... Joking wif u oni...                                                                                                                              \\\\\n",
       "\t3 & spam & Free entry in 2 a wkly comp to win FA Cup final tkts 21st May 2005. Text FA to 87121 to receive entry question(std txt rate)T\\&C's apply 08452810075over18's\\\\\n",
       "\t4 & ham  & U dun say so early hor... U c already then say...                                                                                                          \\\\\n",
       "\t5 & ham  & Nah I don't think he goes to usf, he lives around here though                                                                                              \\\\\n",
       "\t6 & spam & FreeMsg Hey there darling it's been 3 week's now and no word back! I'd like some fun you up for it still? Tb ok! XxX std chgs to send, £1.50 to rcv        \\\\\n",
       "\\end{tabular}\n"
      ],
      "text/markdown": [
       "\n",
       "A data.frame: 6 × 2\n",
       "\n",
       "| <!--/--> | class &lt;fct&gt; | message &lt;fct&gt; |\n",
       "|---|---|---|\n",
       "| 1 | ham  | Go until jurong point, crazy.. Available only in bugis n great world la e buffet... Cine there got amore wat...                                             |\n",
       "| 2 | ham  | Ok lar... Joking wif u oni...                                                                                                                               |\n",
       "| 3 | spam | Free entry in 2 a wkly comp to win FA Cup final tkts 21st May 2005. Text FA to 87121 to receive entry question(std txt rate)T&amp;C's apply 08452810075over18's |\n",
       "| 4 | ham  | U dun say so early hor... U c already then say...                                                                                                           |\n",
       "| 5 | ham  | Nah I don't think he goes to usf, he lives around here though                                                                                               |\n",
       "| 6 | spam | FreeMsg Hey there darling it's been 3 week's now and no word back! I'd like some fun you up for it still? Tb ok! XxX std chgs to send, £1.50 to rcv         |\n",
       "\n"
      ],
      "text/plain": [
       "  class\n",
       "1 ham  \n",
       "2 ham  \n",
       "3 spam \n",
       "4 ham  \n",
       "5 ham  \n",
       "6 spam \n",
       "  message                                                                                                                                                    \n",
       "1 Go until jurong point, crazy.. Available only in bugis n great world la e buffet... Cine there got amore wat...                                            \n",
       "2 Ok lar... Joking wif u oni...                                                                                                                              \n",
       "3 Free entry in 2 a wkly comp to win FA Cup final tkts 21st May 2005. Text FA to 87121 to receive entry question(std txt rate)T&C's apply 08452810075over18's\n",
       "4 U dun say so early hor... U c already then say...                                                                                                          \n",
       "5 Nah I don't think he goes to usf, he lives around here though                                                                                              \n",
       "6 FreeMsg Hey there darling it's been 3 week's now and no word back! I'd like some fun you up for it still? Tb ok! XxX std chgs to send, £1.50 to rcv        "
      ]
     },
     "metadata": {},
     "output_type": "display_data"
    }
   ],
   "source": [
    "head(data)"
   ]
  },
  {
   "cell_type": "markdown",
   "metadata": {},
   "source": [
    "<hr>"
   ]
  },
  {
   "cell_type": "markdown",
   "metadata": {},
   "source": [
    "**Step 3** - Simple EDA"
   ]
  },
  {
   "cell_type": "markdown",
   "metadata": {},
   "source": [
    "- How many messages are there in the dataset ?"
   ]
  },
  {
   "cell_type": "code",
   "execution_count": 17,
   "metadata": {},
   "outputs": [
    {
     "data": {
      "text/html": [
       "5572"
      ],
      "text/latex": [
       "5572"
      ],
      "text/markdown": [
       "5572"
      ],
      "text/plain": [
       "[1] 5572"
      ]
     },
     "metadata": {},
     "output_type": "display_data"
    }
   ],
   "source": [
    "nrow(data)"
   ]
  },
  {
   "cell_type": "markdown",
   "metadata": {},
   "source": [
    "- Out of them, count the occurances of spam vs ham(non-spam)"
   ]
  },
  {
   "cell_type": "code",
   "execution_count": 18,
   "metadata": {},
   "outputs": [
    {
     "data": {
      "text/html": [
       "<style>\n",
       ".dl-inline {width: auto; margin:0; padding: 0}\n",
       ".dl-inline>dt, .dl-inline>dd {float: none; width: auto; display: inline-block}\n",
       ".dl-inline>dt::after {content: \":\\0020\"; padding-right: .5ex}\n",
       ".dl-inline>dt:not(:first-of-type) {padding-left: .5ex}\n",
       "</style><dl class=dl-inline><dt>ham</dt><dd>4825</dd><dt>spam</dt><dd>747</dd></dl>\n"
      ],
      "text/latex": [
       "\\begin{description*}\n",
       "\\item[ham] 4825\n",
       "\\item[spam] 747\n",
       "\\end{description*}\n"
      ],
      "text/markdown": [
       "ham\n",
       ":   4825spam\n",
       ":   747\n",
       "\n"
      ],
      "text/plain": [
       " ham spam \n",
       "4825  747 "
      ]
     },
     "metadata": {},
     "output_type": "display_data"
    }
   ],
   "source": [
    "summary(data$class)"
   ]
  },
  {
   "cell_type": "markdown",
   "metadata": {},
   "source": [
    "- What percentage of this is spam ?"
   ]
  },
  {
   "cell_type": "code",
   "execution_count": 19,
   "metadata": {},
   "outputs": [
    {
     "data": {
      "text/html": [
       "<strong>spam:</strong> 15.4818652849741"
      ],
      "text/latex": [
       "\\textbf{spam:} 15.4818652849741"
      ],
      "text/markdown": [
       "**spam:** 15.4818652849741"
      ],
      "text/plain": [
       "    spam \n",
       "15.48187 "
      ]
     },
     "metadata": {},
     "output_type": "display_data"
    }
   ],
   "source": [
    "summary(data$class)[\"spam\"] / summary(data$class)[\"ham\"] * 100"
   ]
  },
  {
   "cell_type": "markdown",
   "metadata": {},
   "source": [
    "15 % of the messages are spam. "
   ]
  },
  {
   "cell_type": "markdown",
   "metadata": {},
   "source": [
    "<hr>"
   ]
  },
  {
   "cell_type": "markdown",
   "metadata": {},
   "source": [
    "**Step 4** - Feature Engineering"
   ]
  },
  {
   "cell_type": "markdown",
   "metadata": {},
   "source": [
    "Just like we converted the fruits dataset's feature values from \"yes\" or \"no\" to a 1 or 0 , Naive Bayes (or for that matter most ML algorithms) need the feature data to be numeric in nature. In order to do it, we have to use some techniques from Natural language processing. "
   ]
  },
  {
   "cell_type": "markdown",
   "metadata": {},
   "source": [
    "- Tokenize the message (into words) and create a sparse matrix"
   ]
  },
  {
   "cell_type": "markdown",
   "metadata": {},
   "source": [
    "This process basically splits the sentence (message) to it's individual words. Let's see a sample before we tokenize the entire dataset. "
   ]
  },
  {
   "cell_type": "markdown",
   "metadata": {},
   "source": [
    "<img src=\"./pics/sparse-matrix-example.png\"/>"
   ]
  },
  {
   "cell_type": "markdown",
   "metadata": {},
   "source": [
    "Now, let's do the same on our real messages dataset."
   ]
  },
  {
   "cell_type": "code",
   "execution_count": 20,
   "metadata": {},
   "outputs": [
    {
     "name": "stdout",
     "output_type": "stream",
     "text": [
      "<<SimpleCorpus>>\n",
      "Metadata:  corpus specific: 1, document level (indexed): 0\n",
      "Content:  documents: 5572\n"
     ]
    }
   ],
   "source": [
    "library(tm)\n",
    "message_corpus = Corpus(VectorSource(data$message))\n",
    "print ( message_corpus)"
   ]
  },
  {
   "cell_type": "code",
   "execution_count": 21,
   "metadata": {},
   "outputs": [],
   "source": [
    "message_dtm <- DocumentTermMatrix(message_corpus)"
   ]
  },
  {
   "cell_type": "markdown",
   "metadata": {},
   "source": [
    "Document term matrix (DTM) is in a binary format. So, we can't just print it out using indices. Instead, we use the **inspect ( )** function."
   ]
  },
  {
   "cell_type": "code",
   "execution_count": 22,
   "metadata": {},
   "outputs": [
    {
     "name": "stdout",
     "output_type": "stream",
     "text": [
      "<<DocumentTermMatrix (documents: 10, terms: 20)>>\n",
      "Non-/sparse entries: 21/179\n",
      "Sparsity           : 90%\n",
      "Maximal term length: 19\n",
      "Weighting          : term frequency (tf)\n",
      "Sample             :\n",
      "    Terms\n",
      "Docs amore available buffet... bugis cine crazy.. got great jurong there\n",
      "  1      1         1         1     1    1       1   1     1      1     1\n",
      "  10     0         0         0     0    0       0   0     0      0     0\n",
      "  2      0         0         0     0    0       0   0     0      0     0\n",
      "  3      0         0         0     0    0       0   0     0      0     0\n",
      "  4      0         0         0     0    0       0   0     0      0     0\n",
      "  5      0         0         0     0    0       0   0     0      0     0\n",
      "  6      0         0         0     0    0       0   0     0      0     1\n",
      "  7      0         0         0     0    0       0   0     0      0     0\n",
      "  8      0         0         0     0    0       0   0     0      0     0\n",
      "  9      0         0         0     0    0       0   0     0      0     0\n"
     ]
    }
   ],
   "source": [
    "inspect(message_dtm[1:10,1:20])"
   ]
  },
  {
   "cell_type": "markdown",
   "metadata": {},
   "source": [
    "<hr>"
   ]
  },
  {
   "cell_type": "markdown",
   "metadata": {},
   "source": [
    "**Step 5** - Train/Test data split"
   ]
  },
  {
   "cell_type": "markdown",
   "metadata": {},
   "source": [
    "Before we use the DTM as-is, we have to convert the 0,1's to Factors - like a Yes and No. This is becuase Naive Bayes works well with Factors. Let's write a small functiont that converts all values greater than 0 to a Yes and otherwise to No."
   ]
  },
  {
   "cell_type": "code",
   "execution_count": 23,
   "metadata": {},
   "outputs": [],
   "source": [
    "counts_to_factor = function(x){\n",
    "  x = ifelse(x > 0, 1, 0)\n",
    "  x = factor(x, levels = c(0,1), labels = c(\"No\", \"Yes\"))\n",
    "  return (x)\n",
    "}"
   ]
  },
  {
   "cell_type": "markdown",
   "metadata": {},
   "source": [
    "Before we apply this function to the DTM, let's split the data into training and test datasets."
   ]
  },
  {
   "cell_type": "code",
   "execution_count": 24,
   "metadata": {},
   "outputs": [],
   "source": [
    "index = sample(1:nrow(data),nrow(data)*.8)\n",
    "train = data[index,2]\n",
    "test = data[-index,2]\n",
    "\n",
    "msg_cor_train      = Corpus(VectorSource(data[train,]$message))\n",
    "msg_train_dtm      = DocumentTermMatrix(msg_cor_train)\n",
    "msg_train_dtm      = apply(msg_train_dtm, MARGIN = 2, counts_to_factor)\n",
    "msg_class_train    = data$class[train]\n",
    "\n",
    "\n",
    "msg_cor_test       = Corpus(VectorSource(data[test,]$message))\n",
    "msg_test_dtm       = DocumentTermMatrix(msg_cor_test)\n",
    "msg_test_dtm       = apply(msg_test_dtm, MARGIN = 2, counts_to_factor)\n",
    "msg_class_test     = data$class[test]"
   ]
  },
  {
   "cell_type": "code",
   "execution_count": 25,
   "metadata": {},
   "outputs": [
    {
     "data": {
      "text/html": [
       "<table>\n",
       "<caption>A matrix: 6 × 5 of type chr</caption>\n",
       "<thead>\n",
       "\t<tr><th></th><th scope=col>2wks</th><th scope=col>87077</th><th scope=col>87077:</th><th scope=col>club</th><th scope=col>free</th></tr>\n",
       "</thead>\n",
       "<tbody>\n",
       "\t<tr><th scope=row>1</th><td>Yes</td><td>Yes</td><td>Yes</td><td>Yes</td><td>Yes</td></tr>\n",
       "\t<tr><th scope=row>2</th><td>No </td><td>No </td><td>No </td><td>No </td><td>No </td></tr>\n",
       "\t<tr><th scope=row>3</th><td>No </td><td>No </td><td>No </td><td>No </td><td>No </td></tr>\n",
       "\t<tr><th scope=row>4</th><td>No </td><td>No </td><td>No </td><td>No </td><td>No </td></tr>\n",
       "\t<tr><th scope=row>5</th><td>No </td><td>No </td><td>No </td><td>No </td><td>No </td></tr>\n",
       "\t<tr><th scope=row>6</th><td>No </td><td>No </td><td>No </td><td>No </td><td>No </td></tr>\n",
       "</tbody>\n",
       "</table>\n"
      ],
      "text/latex": [
       "A matrix: 6 × 5 of type chr\n",
       "\\begin{tabular}{r|lllll}\n",
       "  & 2wks & 87077 & 87077: & club & free\\\\\n",
       "\\hline\n",
       "\t1 & Yes & Yes & Yes & Yes & Yes\\\\\n",
       "\t2 & No  & No  & No  & No  & No \\\\\n",
       "\t3 & No  & No  & No  & No  & No \\\\\n",
       "\t4 & No  & No  & No  & No  & No \\\\\n",
       "\t5 & No  & No  & No  & No  & No \\\\\n",
       "\t6 & No  & No  & No  & No  & No \\\\\n",
       "\\end{tabular}\n"
      ],
      "text/markdown": [
       "\n",
       "A matrix: 6 × 5 of type chr\n",
       "\n",
       "| <!--/--> | 2wks | 87077 | 87077: | club | free |\n",
       "|---|---|---|---|---|---|\n",
       "| 1 | Yes | Yes | Yes | Yes | Yes |\n",
       "| 2 | No  | No  | No  | No  | No  |\n",
       "| 3 | No  | No  | No  | No  | No  |\n",
       "| 4 | No  | No  | No  | No  | No  |\n",
       "| 5 | No  | No  | No  | No  | No  |\n",
       "| 6 | No  | No  | No  | No  | No  |\n",
       "\n"
      ],
      "text/plain": [
       "    Terms\n",
       "Docs 2wks 87077 87077: club free\n",
       "   1 Yes  Yes   Yes    Yes  Yes \n",
       "   2 No   No    No     No   No  \n",
       "   3 No   No    No     No   No  \n",
       "   4 No   No    No     No   No  \n",
       "   5 No   No    No     No   No  \n",
       "   6 No   No    No     No   No  "
      ]
     },
     "metadata": {},
     "output_type": "display_data"
    }
   ],
   "source": [
    "head(msg_train_dtm[,1:5])"
   ]
  },
  {
   "cell_type": "code",
   "execution_count": 26,
   "metadata": {},
   "outputs": [],
   "source": [
    "msg_train_df = as.data.frame(as.matrix(msg_train_dtm))\n",
    "msg_test_df  = as.data.frame(as.matrix(msg_test_dtm))"
   ]
  },
  {
   "cell_type": "code",
   "execution_count": 14,
   "metadata": {
    "collapsed": true,
    "jupyter": {
     "outputs_hidden": true
    }
   },
   "outputs": [
    {
     "data": {
      "text/html": [
       "<table>\n",
       "<caption>A data.frame: 6 × 8479</caption>\n",
       "<thead>\n",
       "\t<tr><th></th><th scope=col>been</th><th scope=col>curtsey?</th><th scope=col>have</th><th scope=col>practising</th><th scope=col>you</th><th scope=col>your</th><th scope=col>off.</th><th scope=col>pissed</th><th scope=col>pretty</th><th scope=col>whatever,</th><th scope=col>...</th><th scope=col>not..tel</th><th scope=col>clearer..</th><th scope=col>sections</th><th scope=col>above</th><th scope=col>da..al</th><th scope=col>coins</th><th scope=col>factory</th><th scope=col>chart</th><th scope=col>heroes,</th><th scope=col>tips</th></tr>\n",
       "\t<tr><th></th><th scope=col>&lt;dbl&gt;</th><th scope=col>&lt;dbl&gt;</th><th scope=col>&lt;dbl&gt;</th><th scope=col>&lt;dbl&gt;</th><th scope=col>&lt;dbl&gt;</th><th scope=col>&lt;dbl&gt;</th><th scope=col>&lt;dbl&gt;</th><th scope=col>&lt;dbl&gt;</th><th scope=col>&lt;dbl&gt;</th><th scope=col>&lt;dbl&gt;</th><th scope=col>...</th><th scope=col>&lt;dbl&gt;</th><th scope=col>&lt;dbl&gt;</th><th scope=col>&lt;dbl&gt;</th><th scope=col>&lt;dbl&gt;</th><th scope=col>&lt;dbl&gt;</th><th scope=col>&lt;dbl&gt;</th><th scope=col>&lt;dbl&gt;</th><th scope=col>&lt;dbl&gt;</th><th scope=col>&lt;dbl&gt;</th><th scope=col>&lt;dbl&gt;</th></tr>\n",
       "</thead>\n",
       "<tbody>\n",
       "\t<tr><th scope=row>1</th><td>1</td><td>1</td><td>1</td><td>1</td><td>1</td><td>1</td><td>0</td><td>0</td><td>0</td><td>0</td><td>...</td><td>0</td><td>0</td><td>0</td><td>0</td><td>0</td><td>0</td><td>0</td><td>0</td><td>0</td><td>0</td></tr>\n",
       "\t<tr><th scope=row>2</th><td>0</td><td>0</td><td>0</td><td>0</td><td>0</td><td>0</td><td>1</td><td>1</td><td>1</td><td>1</td><td>...</td><td>0</td><td>0</td><td>0</td><td>0</td><td>0</td><td>0</td><td>0</td><td>0</td><td>0</td><td>0</td></tr>\n",
       "\t<tr><th scope=row>3</th><td>0</td><td>0</td><td>0</td><td>0</td><td>0</td><td>0</td><td>0</td><td>0</td><td>0</td><td>0</td><td>...</td><td>0</td><td>0</td><td>0</td><td>0</td><td>0</td><td>0</td><td>0</td><td>0</td><td>0</td><td>0</td></tr>\n",
       "\t<tr><th scope=row>4</th><td>0</td><td>0</td><td>0</td><td>0</td><td>0</td><td>1</td><td>0</td><td>0</td><td>0</td><td>0</td><td>...</td><td>0</td><td>0</td><td>0</td><td>0</td><td>0</td><td>0</td><td>0</td><td>0</td><td>0</td><td>0</td></tr>\n",
       "\t<tr><th scope=row>5</th><td>0</td><td>0</td><td>0</td><td>0</td><td>0</td><td>0</td><td>0</td><td>0</td><td>0</td><td>0</td><td>...</td><td>0</td><td>0</td><td>0</td><td>0</td><td>0</td><td>0</td><td>0</td><td>0</td><td>0</td><td>0</td></tr>\n",
       "\t<tr><th scope=row>6</th><td>0</td><td>0</td><td>0</td><td>0</td><td>3</td><td>1</td><td>0</td><td>0</td><td>0</td><td>0</td><td>...</td><td>0</td><td>0</td><td>0</td><td>0</td><td>0</td><td>0</td><td>0</td><td>0</td><td>0</td><td>0</td></tr>\n",
       "</tbody>\n",
       "</table>\n"
      ],
      "text/latex": [
       "A data.frame: 6 × 8479\n",
       "\\begin{tabular}{r|lllllllllllllllllllll}\n",
       "  & been & curtsey? & have & practising & you & your & off. & pissed & pretty & whatever, & ... & not..tel & clearer.. & sections & above & da..al & coins & factory & chart & heroes, & tips\\\\\n",
       "  & <dbl> & <dbl> & <dbl> & <dbl> & <dbl> & <dbl> & <dbl> & <dbl> & <dbl> & <dbl> & ... & <dbl> & <dbl> & <dbl> & <dbl> & <dbl> & <dbl> & <dbl> & <dbl> & <dbl> & <dbl>\\\\\n",
       "\\hline\n",
       "\t1 & 1 & 1 & 1 & 1 & 1 & 1 & 0 & 0 & 0 & 0 & ... & 0 & 0 & 0 & 0 & 0 & 0 & 0 & 0 & 0 & 0\\\\\n",
       "\t2 & 0 & 0 & 0 & 0 & 0 & 0 & 1 & 1 & 1 & 1 & ... & 0 & 0 & 0 & 0 & 0 & 0 & 0 & 0 & 0 & 0\\\\\n",
       "\t3 & 0 & 0 & 0 & 0 & 0 & 0 & 0 & 0 & 0 & 0 & ... & 0 & 0 & 0 & 0 & 0 & 0 & 0 & 0 & 0 & 0\\\\\n",
       "\t4 & 0 & 0 & 0 & 0 & 0 & 1 & 0 & 0 & 0 & 0 & ... & 0 & 0 & 0 & 0 & 0 & 0 & 0 & 0 & 0 & 0\\\\\n",
       "\t5 & 0 & 0 & 0 & 0 & 0 & 0 & 0 & 0 & 0 & 0 & ... & 0 & 0 & 0 & 0 & 0 & 0 & 0 & 0 & 0 & 0\\\\\n",
       "\t6 & 0 & 0 & 0 & 0 & 3 & 1 & 0 & 0 & 0 & 0 & ... & 0 & 0 & 0 & 0 & 0 & 0 & 0 & 0 & 0 & 0\\\\\n",
       "\\end{tabular}\n"
      ],
      "text/markdown": [
       "\n",
       "A data.frame: 6 × 8479\n",
       "\n",
       "| <!--/--> | been &lt;dbl&gt; | curtsey? &lt;dbl&gt; | have &lt;dbl&gt; | practising &lt;dbl&gt; | you &lt;dbl&gt; | your &lt;dbl&gt; | off. &lt;dbl&gt; | pissed &lt;dbl&gt; | pretty &lt;dbl&gt; | whatever, &lt;dbl&gt; | ... ... | not..tel &lt;dbl&gt; | clearer.. &lt;dbl&gt; | sections &lt;dbl&gt; | above &lt;dbl&gt; | da..al &lt;dbl&gt; | coins &lt;dbl&gt; | factory &lt;dbl&gt; | chart &lt;dbl&gt; | heroes, &lt;dbl&gt; | tips &lt;dbl&gt; |\n",
       "|---|---|---|---|---|---|---|---|---|---|---|---|---|---|---|---|---|---|---|---|---|---|\n",
       "| 1 | 1 | 1 | 1 | 1 | 1 | 1 | 0 | 0 | 0 | 0 | ... | 0 | 0 | 0 | 0 | 0 | 0 | 0 | 0 | 0 | 0 |\n",
       "| 2 | 0 | 0 | 0 | 0 | 0 | 0 | 1 | 1 | 1 | 1 | ... | 0 | 0 | 0 | 0 | 0 | 0 | 0 | 0 | 0 | 0 |\n",
       "| 3 | 0 | 0 | 0 | 0 | 0 | 0 | 0 | 0 | 0 | 0 | ... | 0 | 0 | 0 | 0 | 0 | 0 | 0 | 0 | 0 | 0 |\n",
       "| 4 | 0 | 0 | 0 | 0 | 0 | 1 | 0 | 0 | 0 | 0 | ... | 0 | 0 | 0 | 0 | 0 | 0 | 0 | 0 | 0 | 0 |\n",
       "| 5 | 0 | 0 | 0 | 0 | 0 | 0 | 0 | 0 | 0 | 0 | ... | 0 | 0 | 0 | 0 | 0 | 0 | 0 | 0 | 0 | 0 |\n",
       "| 6 | 0 | 0 | 0 | 0 | 3 | 1 | 0 | 0 | 0 | 0 | ... | 0 | 0 | 0 | 0 | 0 | 0 | 0 | 0 | 0 | 0 |\n",
       "\n"
      ],
      "text/plain": [
       "  been curtsey? have practising you your off. pissed pretty whatever, ...\n",
       "1 1    1        1    1          1   1    0    0      0      0         ...\n",
       "2 0    0        0    0          0   0    1    1      1      1         ...\n",
       "3 0    0        0    0          0   0    0    0      0      0         ...\n",
       "4 0    0        0    0          0   1    0    0      0      0         ...\n",
       "5 0    0        0    0          0   0    0    0      0      0         ...\n",
       "6 0    0        0    0          3   1    0    0      0      0         ...\n",
       "  not..tel clearer.. sections above da..al coins factory chart heroes, tips\n",
       "1 0        0         0        0     0      0     0       0     0       0   \n",
       "2 0        0         0        0     0      0     0       0     0       0   \n",
       "3 0        0         0        0     0      0     0       0     0       0   \n",
       "4 0        0         0        0     0      0     0       0     0       0   \n",
       "5 0        0         0        0     0      0     0       0     0       0   \n",
       "6 0        0         0        0     0      0     0       0     0       0   "
      ]
     },
     "metadata": {},
     "output_type": "display_data"
    }
   ],
   "source": [
    "head(msg_train_df)"
   ]
  },
  {
   "cell_type": "markdown",
   "metadata": {},
   "source": [
    "<hr>"
   ]
  },
  {
   "cell_type": "markdown",
   "metadata": {},
   "source": [
    "**Step 6** - Model the data"
   ]
  },
  {
   "cell_type": "code",
   "execution_count": 27,
   "metadata": {},
   "outputs": [],
   "source": [
    "library(e1071)\n",
    "model = naiveBayes(msg_train_dtm, msg_class_train)"
   ]
  },
  {
   "cell_type": "markdown",
   "metadata": {},
   "source": [
    "<hr>"
   ]
  },
  {
   "cell_type": "markdown",
   "metadata": {},
   "source": [
    "**Step 7** - Evaluate the model"
   ]
  },
  {
   "cell_type": "code",
   "execution_count": 29,
   "metadata": {},
   "outputs": [],
   "source": [
    "pred = predict(model, msg_test_dtm)"
   ]
  },
  {
   "cell_type": "code",
   "execution_count": 30,
   "metadata": {},
   "outputs": [
    {
     "data": {
      "text/plain": [
       "              pred\n",
       "msg_class_test ham spam\n",
       "          ham  950   13\n",
       "          spam  18  134"
      ]
     },
     "metadata": {},
     "output_type": "display_data"
    }
   ],
   "source": [
    "table(msg_class_test, pred)"
   ]
  },
  {
   "cell_type": "markdown",
   "metadata": {},
   "source": [
    "Measure the accuracy using the confusion matrix from the caret library."
   ]
  },
  {
   "cell_type": "code",
   "execution_count": 71,
   "metadata": {},
   "outputs": [
    {
     "data": {
      "text/plain": [
       "Confusion Matrix and Statistics\n",
       "\n",
       "          Reference\n",
       "Prediction  ham spam\n",
       "      ham  2385   46\n",
       "      spam   12  343\n",
       "                                          \n",
       "               Accuracy : 0.9792          \n",
       "                 95% CI : (0.9732, 0.9842)\n",
       "    No Information Rate : 0.8604          \n",
       "    P-Value [Acc > NIR] : < 2.2e-16       \n",
       "                                          \n",
       "                  Kappa : 0.9101          \n",
       "                                          \n",
       " Mcnemar's Test P-Value : 1.47e-05        \n",
       "                                          \n",
       "            Sensitivity : 0.9950          \n",
       "            Specificity : 0.8817          \n",
       "         Pos Pred Value : 0.9811          \n",
       "         Neg Pred Value : 0.9662          \n",
       "             Prevalence : 0.8604          \n",
       "         Detection Rate : 0.8561          \n",
       "   Detection Prevalence : 0.8726          \n",
       "      Balanced Accuracy : 0.9384          \n",
       "                                          \n",
       "       'Positive' Class : ham             \n",
       "                                          "
      ]
     },
     "metadata": {},
     "output_type": "display_data"
    }
   ],
   "source": [
    "library(caret)\n",
    "\n",
    "cm = confusionMatrix(pred,msg_class_test)\n",
    "cm"
   ]
  },
  {
   "cell_type": "markdown",
   "metadata": {},
   "source": [
    "There is scope for a ton of optimization here like\n",
    "- convert all characters to lower case\n",
    "- remove punctuation\n",
    "- remove stop words \n",
    "etc <br>\n",
    "\n",
    "But that is a subject for another day. Here we will just focus on learning the Naive Bayes algorithm."
   ]
  },
  {
   "cell_type": "markdown",
   "metadata": {},
   "source": [
    "<hr>"
   ]
  },
  {
   "cell_type": "markdown",
   "metadata": {},
   "source": [
    "### Challenge"
   ]
  },
  {
   "cell_type": "markdown",
   "metadata": {},
   "source": [
    "Let's solve another problem in Naive Bayes. Load up a dataset called house-votes-84.csv from the data folder. The data set should look like this."
   ]
  },
  {
   "cell_type": "markdown",
   "metadata": {},
   "source": [
    "<img src=\"./pics/house-votes-snapshot.png\"/>"
   ]
  },
  {
   "cell_type": "markdown",
   "metadata": {},
   "source": [
    "These are the results from Congressmen in the US, voting a Yes ( for ) or No (Against ) on 16 different issues. Instead of putting names, the class column identifies the congressmen as either a Republican or a Democrat."
   ]
  },
  {
   "cell_type": "markdown",
   "metadata": {},
   "source": [
    "**Task** - Identify the congressmen as either a Democrat or Republican based on his voting pattern."
   ]
  },
  {
   "cell_type": "markdown",
   "metadata": {},
   "source": [
    "<hr>"
   ]
  },
  {
   "cell_type": "markdown",
   "metadata": {},
   "source": [
    "**solution** - This problem is almost exactly similar to the fruits data we started with at the beginning of leaning Naive Bayes."
   ]
  },
  {
   "cell_type": "code",
   "execution_count": 42,
   "metadata": {},
   "outputs": [
    {
     "data": {
      "text/html": [
       "<table>\n",
       "<caption>A data.frame: 6 × 17</caption>\n",
       "<thead>\n",
       "\t<tr><th></th><th scope=col>Class</th><th scope=col>V1</th><th scope=col>V2</th><th scope=col>V3</th><th scope=col>V4</th><th scope=col>V5</th><th scope=col>V6</th><th scope=col>V7</th><th scope=col>V8</th><th scope=col>V9</th><th scope=col>V10</th><th scope=col>V11</th><th scope=col>V12</th><th scope=col>V13</th><th scope=col>V14</th><th scope=col>V15</th><th scope=col>V16</th></tr>\n",
       "\t<tr><th></th><th scope=col>&lt;fct&gt;</th><th scope=col>&lt;fct&gt;</th><th scope=col>&lt;fct&gt;</th><th scope=col>&lt;fct&gt;</th><th scope=col>&lt;fct&gt;</th><th scope=col>&lt;fct&gt;</th><th scope=col>&lt;fct&gt;</th><th scope=col>&lt;fct&gt;</th><th scope=col>&lt;fct&gt;</th><th scope=col>&lt;fct&gt;</th><th scope=col>&lt;fct&gt;</th><th scope=col>&lt;fct&gt;</th><th scope=col>&lt;fct&gt;</th><th scope=col>&lt;fct&gt;</th><th scope=col>&lt;fct&gt;</th><th scope=col>&lt;fct&gt;</th><th scope=col>&lt;fct&gt;</th></tr>\n",
       "</thead>\n",
       "<tbody>\n",
       "\t<tr><th scope=row>1</th><td>republican</td><td>n </td><td>y</td><td>n</td><td>y </td><td>y </td><td>y</td><td>n</td><td>n</td><td>n</td><td>y</td><td>NA</td><td>y </td><td>y</td><td>y</td><td>n</td><td>y </td></tr>\n",
       "\t<tr><th scope=row>2</th><td>republican</td><td>n </td><td>y</td><td>n</td><td>y </td><td>y </td><td>y</td><td>n</td><td>n</td><td>n</td><td>n</td><td>n </td><td>y </td><td>y</td><td>y</td><td>n</td><td>NA</td></tr>\n",
       "\t<tr><th scope=row>3</th><td>democrat  </td><td>NA</td><td>y</td><td>y</td><td>NA</td><td>y </td><td>y</td><td>n</td><td>n</td><td>n</td><td>n</td><td>y </td><td>n </td><td>y</td><td>y</td><td>n</td><td>n </td></tr>\n",
       "\t<tr><th scope=row>4</th><td>democrat  </td><td>n </td><td>y</td><td>y</td><td>n </td><td>NA</td><td>y</td><td>n</td><td>n</td><td>n</td><td>n</td><td>y </td><td>n </td><td>y</td><td>n</td><td>n</td><td>y </td></tr>\n",
       "\t<tr><th scope=row>5</th><td>democrat  </td><td>y </td><td>y</td><td>y</td><td>n </td><td>y </td><td>y</td><td>n</td><td>n</td><td>n</td><td>n</td><td>y </td><td>NA</td><td>y</td><td>y</td><td>y</td><td>y </td></tr>\n",
       "\t<tr><th scope=row>6</th><td>democrat  </td><td>n </td><td>y</td><td>y</td><td>n </td><td>y </td><td>y</td><td>n</td><td>n</td><td>n</td><td>n</td><td>n </td><td>n </td><td>y</td><td>y</td><td>y</td><td>y </td></tr>\n",
       "</tbody>\n",
       "</table>\n"
      ],
      "text/latex": [
       "A data.frame: 6 × 17\n",
       "\\begin{tabular}{r|lllllllllllllllll}\n",
       "  & Class & V1 & V2 & V3 & V4 & V5 & V6 & V7 & V8 & V9 & V10 & V11 & V12 & V13 & V14 & V15 & V16\\\\\n",
       "  & <fct> & <fct> & <fct> & <fct> & <fct> & <fct> & <fct> & <fct> & <fct> & <fct> & <fct> & <fct> & <fct> & <fct> & <fct> & <fct> & <fct>\\\\\n",
       "\\hline\n",
       "\t1 & republican & n  & y & n & y  & y  & y & n & n & n & y & NA & y  & y & y & n & y \\\\\n",
       "\t2 & republican & n  & y & n & y  & y  & y & n & n & n & n & n  & y  & y & y & n & NA\\\\\n",
       "\t3 & democrat   & NA & y & y & NA & y  & y & n & n & n & n & y  & n  & y & y & n & n \\\\\n",
       "\t4 & democrat   & n  & y & y & n  & NA & y & n & n & n & n & y  & n  & y & n & n & y \\\\\n",
       "\t5 & democrat   & y  & y & y & n  & y  & y & n & n & n & n & y  & NA & y & y & y & y \\\\\n",
       "\t6 & democrat   & n  & y & y & n  & y  & y & n & n & n & n & n  & n  & y & y & y & y \\\\\n",
       "\\end{tabular}\n"
      ],
      "text/markdown": [
       "\n",
       "A data.frame: 6 × 17\n",
       "\n",
       "| <!--/--> | Class &lt;fct&gt; | V1 &lt;fct&gt; | V2 &lt;fct&gt; | V3 &lt;fct&gt; | V4 &lt;fct&gt; | V5 &lt;fct&gt; | V6 &lt;fct&gt; | V7 &lt;fct&gt; | V8 &lt;fct&gt; | V9 &lt;fct&gt; | V10 &lt;fct&gt; | V11 &lt;fct&gt; | V12 &lt;fct&gt; | V13 &lt;fct&gt; | V14 &lt;fct&gt; | V15 &lt;fct&gt; | V16 &lt;fct&gt; |\n",
       "|---|---|---|---|---|---|---|---|---|---|---|---|---|---|---|---|---|---|\n",
       "| 1 | republican | n  | y | n | y  | y  | y | n | n | n | y | NA | y  | y | y | n | y  |\n",
       "| 2 | republican | n  | y | n | y  | y  | y | n | n | n | n | n  | y  | y | y | n | NA |\n",
       "| 3 | democrat   | NA | y | y | NA | y  | y | n | n | n | n | y  | n  | y | y | n | n  |\n",
       "| 4 | democrat   | n  | y | y | n  | NA | y | n | n | n | n | y  | n  | y | n | n | y  |\n",
       "| 5 | democrat   | y  | y | y | n  | y  | y | n | n | n | n | y  | NA | y | y | y | y  |\n",
       "| 6 | democrat   | n  | y | y | n  | y  | y | n | n | n | n | n  | n  | y | y | y | y  |\n",
       "\n"
      ],
      "text/plain": [
       "  Class      V1 V2 V3 V4 V5 V6 V7 V8 V9 V10 V11 V12 V13 V14 V15 V16\n",
       "1 republican n  y  n  y  y  y  n  n  n  y   NA  y   y   y   n   y  \n",
       "2 republican n  y  n  y  y  y  n  n  n  n   n   y   y   y   n   NA \n",
       "3 democrat   NA y  y  NA y  y  n  n  n  n   y   n   y   y   n   n  \n",
       "4 democrat   n  y  y  n  NA y  n  n  n  n   y   n   y   n   n   y  \n",
       "5 democrat   y  y  y  n  y  y  n  n  n  n   y   NA  y   y   y   y  \n",
       "6 democrat   n  y  y  n  y  y  n  n  n  n   n   n   y   y   y   y  "
      ]
     },
     "metadata": {},
     "output_type": "display_data"
    },
    {
     "data": {
      "text/plain": [
       "            \n",
       "pred         democrat republican\n",
       "  democrat        121          5\n",
       "  republican       21         71"
      ]
     },
     "metadata": {},
     "output_type": "display_data"
    },
    {
     "name": "stdout",
     "output_type": "stream",
     "text": [
      "Confusion Matrix and Statistics\n",
      "\n",
      "            Reference\n",
      "Prediction   democrat republican\n",
      "  democrat        121          5\n",
      "  republican       21         71\n",
      "                                          \n",
      "               Accuracy : 0.8807          \n",
      "                 95% CI : (0.8301, 0.9206)\n",
      "    No Information Rate : 0.6514          \n",
      "    P-Value [Acc > NIR] : 1.002e-14       \n",
      "                                          \n",
      "                  Kappa : 0.7496          \n",
      "                                          \n",
      " Mcnemar's Test P-Value : 0.003264        \n",
      "                                          \n",
      "            Sensitivity : 0.8521          \n",
      "            Specificity : 0.9342          \n",
      "         Pos Pred Value : 0.9603          \n",
      "         Neg Pred Value : 0.7717          \n",
      "             Prevalence : 0.6514          \n",
      "         Detection Rate : 0.5550          \n",
      "   Detection Prevalence : 0.5780          \n",
      "      Balanced Accuracy : 0.8932          \n",
      "                                          \n",
      "       'Positive' Class : democrat        \n",
      "                                          \n"
     ]
    }
   ],
   "source": [
    "# 1. Import the dataset\n",
    "library(mlbench)\n",
    "\n",
    "data(HouseVotes84, package = \"mlbench\")\n",
    "\n",
    "data = HouseVotes84\n",
    "head(data)\n",
    "\n",
    "# 2. train/test split\n",
    "index = sample(1:nrow(data),nrow(data)*.8)\n",
    "train = data[index,]\n",
    "test = data[-index,]\n",
    "\n",
    "# 3. model the data\n",
    "model = naiveBayes(Class ~ ., data = train)\n",
    "\n",
    "# 4. predict the data\n",
    "pred = predict(model, test)\n",
    "\n",
    "# 5. Accuracy\n",
    "table(pred, test$Class)\n",
    "\n",
    "library(caret)\n",
    "\n",
    "cm = confusionMatrix(pred,test$Class)\n",
    "print (cm)"
   ]
  },
  {
   "cell_type": "markdown",
   "metadata": {},
   "source": [
    "<hr>"
   ]
  },
  {
   "cell_type": "markdown",
   "metadata": {},
   "source": [
    "### Challenge - IMDB review Sentiment Analysis"
   ]
  },
  {
   "cell_type": "markdown",
   "metadata": {},
   "source": [
    "Similar to the SPAM/HAM problem, we can also predict if an IMDB review is positive or negative based on the words in it. "
   ]
  },
  {
   "cell_type": "code",
   "execution_count": 31,
   "metadata": {},
   "outputs": [],
   "source": [
    "# step 1 - Read the data file\n",
    "library(\"xlsx\")\n",
    "data = read.xlsx(\"./data/imdb-reviews-sentiment.xlsx\", sheetIndex = 1,  header=TRUE)\n",
    "\n",
    "# step 2 - Create a DTM based on the text data\n",
    "library(tm)\n",
    "message_corpus = Corpus(VectorSource(data$review))\n",
    "message_dtm <- DocumentTermMatrix(message_corpus)\n",
    "\n",
    "# step 3 - function to convert the integers to \"Yes\" or \"No\" factors in the DTM\n",
    "counts_to_factor = function(x){\n",
    "  x = ifelse(x > 0, 1, 0)\n",
    "  x = factor(x, levels = c(0,1), labels = c(\"No\", \"Yes\"))\n",
    "  return (x)\n",
    "}"
   ]
  },
  {
   "cell_type": "code",
   "execution_count": 42,
   "metadata": {},
   "outputs": [],
   "source": [
    "# step 4 - Split the DTMs to Train and test data and convert the integers to factors for \"Yes\" and \"No\"\n",
    "index = sample(1:nrow(data),nrow(data)*.8)\n",
    "train = data[index,2]\n",
    "test = data[-index,2]\n",
    "\n",
    "msg_cor_train      = Corpus(VectorSource(data[train,]$review))\n",
    "msg_train_dtm      = DocumentTermMatrix(msg_cor_train)\n",
    "msg_train_dtm      = apply(msg_train_dtm, MARGIN = 2, counts_to_factor)\n",
    "msg_class_train    = data$sentiment[train]\n",
    "\n",
    "\n",
    "msg_cor_test       = Corpus(VectorSource(data[test,]$review))\n",
    "msg_test_dtm       = DocumentTermMatrix(msg_cor_test)\n",
    "msg_test_dtm       = apply(msg_test_dtm, MARGIN = 2, counts_to_factor)\n",
    "msg_class_test     = data$sentiment[test]"
   ]
  },
  {
   "cell_type": "code",
   "execution_count": 44,
   "metadata": {},
   "outputs": [],
   "source": [
    "# step 4 - model the data using Naive Bayes\n",
    "library(e1071)\n",
    "model = naiveBayes(msg_train_dtm, msg_class_train)\n",
    "\n",
    "#step 4- predict the results from the model using the test data\n",
    "pred = predict(model, msg_test_dtm)"
   ]
  },
  {
   "cell_type": "code",
   "execution_count": 46,
   "metadata": {},
   "outputs": [
    {
     "name": "stdout",
     "output_type": "stream",
     "text": [
      "Confusion Matrix and Statistics\n",
      "\n",
      "          Reference\n",
      "Prediction negative positive\n",
      "  negative        0        0\n",
      "  positive        0     2000\n",
      "                                     \n",
      "               Accuracy : 1          \n",
      "                 95% CI : (0.9982, 1)\n",
      "    No Information Rate : 1          \n",
      "    P-Value [Acc > NIR] : 1          \n",
      "                                     \n",
      "                  Kappa : NaN        \n",
      "                                     \n",
      " Mcnemar's Test P-Value : NA         \n",
      "                                     \n",
      "            Sensitivity : NA         \n",
      "            Specificity :  1         \n",
      "         Pos Pred Value : NA         \n",
      "         Neg Pred Value : NA         \n",
      "             Prevalence :  0         \n",
      "         Detection Rate :  0         \n",
      "   Detection Prevalence :  0         \n",
      "      Balanced Accuracy : NA         \n",
      "                                     \n",
      "       'Positive' Class : negative   \n",
      "                                     \n"
     ]
    }
   ],
   "source": [
    "# step 6 - get the accuracy from confusion matrix.\n",
    "library(caret)\n",
    "cm = confusionMatrix(pred,data$sentiment[test])\n",
    "print (cm)"
   ]
  },
  {
   "cell_type": "markdown",
   "metadata": {},
   "source": [
    "<hr>"
   ]
  },
  {
   "cell_type": "markdown",
   "metadata": {},
   "source": [
    "### Naive Bayes on continuous variables\n"
   ]
  },
  {
   "cell_type": "markdown",
   "metadata": {},
   "source": [
    "So far, we have seen Naive Bayes work on factor variables. Does NB ever work on continous variables ? Yes, it does - ofcourse with discretized version of those variables ( Think of binning a normal distribution ). The key assumption there would be that the variable has a normal distribution. For example, think of the iris dataset - is the \"Sepal length\" of setosa species normally distributed ? Let's find out.\n",
    "\n"
   ]
  },
  {
   "cell_type": "code",
   "execution_count": 79,
   "metadata": {},
   "outputs": [],
   "source": [
    "from sklearn import datasets\n",
    "\n",
    "iris = datasets.load_iris()\n",
    "\n",
    "iris_data    = iris.data\n",
    "iris_target  = iris.target"
   ]
  },
  {
   "cell_type": "code",
   "execution_count": 92,
   "metadata": {},
   "outputs": [
    {
     "data": {
      "text/plain": [
       "<matplotlib.axes._subplots.AxesSubplot at 0x147cca70>"
      ]
     },
     "execution_count": 92,
     "metadata": {},
     "output_type": "execute_result"
    },
    {
     "data": {
      "image/png": "[encoded data removed]",
      "text/plain": [
       "<Figure size 432x288 with 1 Axes>"
      ]
     },
     "metadata": {
      "needs_background": "light"
     },
     "output_type": "display_data"
    }
   ],
   "source": [
    "# matplotlib does not have the ability to plot the kernel density function\n",
    "import matplotlib.pyplot as plt\n",
    "# So, we are using seaborn instead\n",
    "import seaborn as sns\n",
    "%matplotlib inline\n",
    "\n",
    "# You can check from these curves that Sepal data is normally distributed, but\n",
    "# the petal data is not. Try them on one by one.\n",
    "\n",
    "sns.distplot(iris_data[:,0], hist=True, kde=True)\n",
    "sns.distplot(iris_data[:,1], hist=True, kde=True)\n",
    "sns.distplot(iris_data[:,2], hist=True, kde=True)\n",
    "sns.distplot(iris_data[:,3], hist=True, kde=True)"
   ]
  },
  {
   "cell_type": "markdown",
   "metadata": {},
   "source": [
    "Only the Sepal data is normally distributed. Ideally, we should just be using the sepal data ( Sepal Length and Sepal Width ). However, let's just use all of these and see what happens. As an exercise, try using just the sepal data and check for the accuracy. "
   ]
  },
  {
   "cell_type": "code",
   "execution_count": 107,
   "metadata": {},
   "outputs": [
    {
     "name": "stdout",
     "output_type": "stream",
     "text": [
      "Predicted  0   1   2  All\n",
      "Actual                   \n",
      "0          6   0   0    6\n",
      "1          0  11   1   12\n",
      "2          0   1  11   12\n",
      "All        6  12  12   30\n",
      "[[ 6  0  0]\n",
      " [ 0 11  1]\n",
      " [ 0  1 11]]\n",
      "0.9333333333333333\n"
     ]
    }
   ],
   "source": [
    "# 1. train/test split\n",
    "from sklearn.model_selection import train_test_split\n",
    "\n",
    "X_train, X_test, y_train, y_test = train_test_split(iris_data , iris_target, test_size=0.2)  \n",
    "\n",
    "# 2. Naive Bayes modeling\n",
    "from sklearn.naive_bayes import MultinomialNB\n",
    "\n",
    "model = MultinomialNB().fit(X_train, y_train)  \n",
    "\n",
    "# 3. Predict data\n",
    "y_predict = model.predict(X_test)\n",
    "\n",
    "# 4. Create a confusion matrix to check accuracy\n",
    "print ( pd.crosstab(y_test, y_predict,rownames=['Actual'], colnames=['Predicted'],  margins=True) )\n",
    "\n",
    "# 5. Print the accuracy score\n",
    "from sklearn.metrics import confusion_matrix, accuracy_score\n",
    "\n",
    "print ( confusion_matrix(y_test, y_predict) )\n",
    "print ( accuracy_score(y_test,y_predict))\n"
   ]
  },
  {
   "cell_type": "markdown",
   "metadata": {},
   "source": [
    "That's pretty accurate as well , isn't it ? In fact even though one of the assumptions (all the variables should be independent of each other ) is wrong, Naive Bayes still outperforms some other classification algorithms."
   ]
  },
  {
   "cell_type": "markdown",
   "metadata": {},
   "source": [
    "- The priors ( Probability of a \"Setosa\" occuring or a \"Virginica\" occuring .. ) is 0.33 ( a third ) - which we know.\n",
    "- How about the conditional probabilities ? This is where it gets tricky for continuous variables. You cannot have conditional probabilities for each of the values ( as the number can get infinite ). So, in case of a normal distribution, an approximation is applied based on the following formula."
   ]
  },
  {
   "cell_type": "markdown",
   "metadata": {},
   "source": [
    "<img src=\"./pics/conditional_probability.png\"/>"
   ]
  },
  {
   "cell_type": "markdown",
   "metadata": {},
   "source": [
    "where μ is the mean and σ is the variance"
   ]
  }
 ],
 "metadata": {
  "kernelspec": {
   "display_name": "R",
   "language": "R",
   "name": "ir"
  },
  "language_info": {
   "codemirror_mode": "r",
   "file_extension": ".r",
   "mimetype": "text/x-r-source",
   "name": "R",
   "pygments_lexer": "r",
   "version": "3.6.2"
  }
 },
 "nbformat": 4,
 "nbformat_minor": 4
}
